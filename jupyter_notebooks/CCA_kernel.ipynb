{
 "cells": [
  {
   "cell_type": "markdown",
   "id": "a12e7271",
   "metadata": {},
   "source": [
    "# 0. About\n",
    "\n",
    "This notebook is to test when facing non-linear correlation in the datasets, if kernel CCA would handle it better."
   ]
  },
  {
   "cell_type": "code",
   "execution_count": 1,
   "id": "947ffd91",
   "metadata": {},
   "outputs": [],
   "source": [
    "import numpy as np\n",
    "from matplotlib import pyplot as plt\n",
    "import seaborn as sns\n",
    "import pandas as pd\n",
    "import scipy\n",
    "import warnings\n",
    "\n",
    "import sklearn\n",
    "from sklearn.pipeline import Pipeline\n",
    "from sklearn.preprocessing import StandardScaler\n",
    "# from sklearn.decomposition import PCA\n",
    "from sklearn.model_selection import train_test_split, cross_validate\n",
    "from sklearn.model_selection import RepeatedKFold, GridSearchCV\n",
    "from sklearn.linear_model import LinearRegression\n",
    "# from sklearn.cross_decomposition import CCA, PLSCanonical\n",
    "from sklearn.utils import Bunch\n",
    "\n",
    "from cca_zoo.models import CCA as cz_CCA\n",
    "from cca_zoo.models import KCCA as cz_KCCA\n",
    "from cca_zoo.model_selection import GridSearchCV as cz_GridSearchCV\n",
    "\n",
    "rs_num = 14\n",
    "rng = np.random.default_rng(rs_num)\n",
    "\n",
    "sklearn.set_config(display=\"diagram\")\n",
    "\n",
    "%matplotlib inline"
   ]
  },
  {
   "cell_type": "markdown",
   "id": "053cffb4",
   "metadata": {},
   "source": [
    "# 1. Dataset Construction"
   ]
  },
  {
   "cell_type": "code",
   "execution_count": 2,
   "id": "1988e062",
   "metadata": {},
   "outputs": [],
   "source": [
    "sample_num = 1000\n",
    "X_dimension_num = 7\n",
    "Y_dimension_num = 8\n",
    "\n",
    "# construct X\n",
    "X = rng.normal(loc=0.0, scale=1.0, size=(sample_num, X_dimension_num))\n",
    "\n",
    "# construct noise\n",
    "xi_1 = rng.normal(loc=0, scale=np.sqrt(0.4), size=(sample_num, ))\n",
    "xi_2 = rng.normal(loc=0, scale=np.sqrt(0.2), size=(sample_num, ))\n",
    "xi_3 = rng.normal(loc=0, scale=np.sqrt(0.3), size=(sample_num, ))\n",
    "\n",
    "# construct Y\n",
    "Y = rng.normal(loc=0.0, scale=1.0, size=(sample_num, Y_dimension_num))\n",
    "Y[:, 0] = np.exp(X[:, 2]) + xi_1\n",
    "Y[:, 1] = np.power(X[:, 0], 3) + xi_2\n",
    "Y[:, 2] = -X[:, 3] + xi_3"
   ]
  },
  {
   "cell_type": "code",
   "execution_count": 3,
   "id": "8c378d17",
   "metadata": {},
   "outputs": [],
   "source": [
    "# some numbers for validation\n",
    "n_splits = 5\n",
    "n_repeats = 5"
   ]
  },
  {
   "cell_type": "code",
   "execution_count": 4,
   "id": "1c6c5e0e",
   "metadata": {},
   "outputs": [],
   "source": [
    "# split dataset into training and testing\n",
    "[X_train, X_test, Y_train, Y_test] = train_test_split(\n",
    "    X, Y, test_size=0.20, random_state=rs_num\n",
    ")"
   ]
  },
  {
   "cell_type": "markdown",
   "id": "bc155703",
   "metadata": {},
   "source": [
    "# 2. Baseline"
   ]
  },
  {
   "cell_type": "code",
   "execution_count": 5,
   "id": "31e9bea2",
   "metadata": {},
   "outputs": [],
   "source": [
    "baseline_bunch = Bunch()\n",
    "baseline_bunch.name = 'baseline'\n",
    "\n",
    "baseline_bunch.pipeline = Pipeline(\n",
    "    [\n",
    "        ('scaler', StandardScaler()), \n",
    "        ('lr', LinearRegression())\n",
    "    ]\n",
    ")\n",
    "\n",
    "baseline_bunch.cv_scores = cross_validate(\n",
    "    baseline_bunch.pipeline, X_train, Y_train, \n",
    "    cv=RepeatedKFold(n_splits=5, n_repeats=5, random_state=rs_num)\n",
    ")['test_score']\n",
    "\n",
    "# also train on the whole training dataset, and see the score on the test dataset\n",
    "baseline_bunch.pipeline.fit(X_train, Y_train)\n",
    "\n",
    "# modal evaluation on the test dataset\n",
    "baseline_bunch.eval_score = baseline_bunch.pipeline.score(X_test, Y_test)"
   ]
  },
  {
   "cell_type": "markdown",
   "id": "4c402235",
   "metadata": {},
   "source": [
    "# 3. Linear CCA"
   ]
  },
  {
   "cell_type": "code",
   "execution_count": 6,
   "id": "e1aeb173",
   "metadata": {},
   "outputs": [],
   "source": [
    "# we need to define the scoring method with customized scoring function\n",
    "# ref: https://github.com/jameschapman19/cca_zoo/issues/150\n",
    "def scoring_func(estimator, views):\n",
    "    return np.mean(estimator.score(views))"
   ]
  },
  {
   "cell_type": "code",
   "execution_count": 7,
   "id": "bdd36262",
   "metadata": {},
   "outputs": [],
   "source": [
    "cca_linear_bunch = Bunch()\n",
    "cca_linear_bunch.name = 'linear cca'\n",
    "\n",
    "# grid search for components number (or latent dimensions)\n",
    "cca_linear_bunch.n_components_arr = np.arange(1, np.min([X_dimension_num, Y_dimension_num])+1)\n",
    "\n",
    "cca_linear_bunch.best_estimator = cz_GridSearchCV(\n",
    "    cz_CCA(random_state=rs_num), \n",
    "    param_grid={'latent_dims': cca_linear_bunch.n_components_arr}, \n",
    "    scoring=scoring_func, \n",
    "    cv=RepeatedKFold(n_splits=n_splits, n_repeats=n_repeats, random_state=rs_num)\n",
    ").fit([X_train, Y_train]).best_estimator_\n",
    "\n",
    "# also update the name\n",
    "cca_linear_bunch.name += '\\n(n={})'.format(cca_linear_bunch.best_estimator.latent_dims)"
   ]
  },
  {
   "cell_type": "markdown",
   "id": "fc46575f",
   "metadata": {},
   "source": [
    "Now we can do the cross-validation to see the model performance."
   ]
  },
  {
   "cell_type": "code",
   "execution_count": 8,
   "id": "9a32266e",
   "metadata": {},
   "outputs": [],
   "source": [
    "# create a customized cross-validation method\n",
    "def custom_cv(validator, X, Y, fit_n_score_func, *args):\n",
    "    # note: normally X and Y are already training datasets\n",
    "    \n",
    "    # construct score array\n",
    "    score_arr = np.zeros((validator.get_n_splits(), ))\n",
    "    \n",
    "    # fit and validate\n",
    "    ii = 0\n",
    "    for train_ind, test_ind in validator.split(X):\n",
    "        # slicing arrays\n",
    "        X_train, X_test = X[train_ind], X[test_ind]\n",
    "        Y_train, Y_test = Y[train_ind], Y[test_ind]\n",
    "        \n",
    "        # train the model and get the score\n",
    "        score_arr[ii] = fit_n_score_func(X_train, X_test, Y_train, Y_test, *args)\n",
    "        ii += 1\n",
    "    \n",
    "    return score_arr"
   ]
  },
  {
   "cell_type": "code",
   "execution_count": 9,
   "id": "e2fc3aee",
   "metadata": {},
   "outputs": [],
   "source": [
    "# create a customized pipeline\n",
    "def linear_cca_fit_n_score(X_train, X_test, Y_train, Y_test, cz_cca):\n",
    "    # fitting the model\n",
    "    cz_cca.fit([X_train, Y_train])\n",
    "    \n",
    "    # transform the model\n",
    "    Xc_train, Yc_train = cz_cca.transform([X_train, Y_train])\n",
    "    Xc_test, Yc_test = cz_cca.transform([X_test, Y_test])\n",
    "    \n",
    "    # train with linear regression and get a score\n",
    "    return LinearRegression().fit(Xc_train, Yc_train).score(Xc_test, Yc_test)"
   ]
  },
  {
   "cell_type": "code",
   "execution_count": 10,
   "id": "1100d77b",
   "metadata": {},
   "outputs": [],
   "source": [
    "# cross validation\n",
    "cca_linear_bunch.cv_scores = custom_cv(\n",
    "    RepeatedKFold(n_splits=n_splits, n_repeats=n_repeats, random_state=rs_num), \n",
    "    X_train, Y_train, \n",
    "    linear_cca_fit_n_score, \n",
    "    cca_linear_bunch.best_estimator\n",
    ")\n",
    "\n",
    "# also evaluate the model via test dataset\n",
    "cca_linear_bunch.eval_score = linear_cca_fit_n_score(\n",
    "    X_train, X_test, Y_train, Y_test, \n",
    "    cca_linear_bunch.best_estimator\n",
    ")"
   ]
  },
  {
   "cell_type": "markdown",
   "id": "b42cb565",
   "metadata": {},
   "source": [
    "# 4. Kernel CCA\n",
    "\n",
    "For kernel selections: https://scikit-learn.org/stable/modules/metrics.html\n",
    "\n",
    "You can also use customized kernel function.\n"
   ]
  },
  {
   "cell_type": "code",
   "execution_count": 11,
   "id": "298e416a",
   "metadata": {},
   "outputs": [],
   "source": [
    "kcca_bunch = Bunch()\n",
    "kcca_bunch.name = 'kernel cca'\n",
    "\n",
    "kcca_bunch.n_components_arr = np.arange(1, np.min([X_dimension_num, Y_dimension_num])+1)\n",
    "kcca_bunch.gamma1_list = [3*i for i in np.logspace(-2, 1, 3)] # variance\n",
    "kcca_bunch.gamma2_list = [3*i for i in np.logspace(-2, 1, 3)] # variance\n",
    "kcca_bunch.c1_list = [0.95*i for i in np.logspace(-2, 0, 3)] # regularization\n",
    "kcca_bunch.c2_list = [0.95*i for i in np.logspace(-2, 0, 3)] # regularization\n",
    "kcca_bunch.param_grid = {\n",
    "    'kernel': ['rbf', 'linear'], \n",
    "    'latent_dims': kcca_bunch.n_components_arr, \n",
    "    'gamma': [kcca_bunch.gamma1_list, kcca_bunch.gamma2_list], \n",
    "    'c': [kcca_bunch.c1_list, kcca_bunch.c2_list]\n",
    "}\n",
    "\n",
    "# fitting and searching\n",
    "kcca_bunch.best_estimator = cz_GridSearchCV(\n",
    "    cz_KCCA(kernel='rbf', random_state=rs_num), \n",
    "    param_grid=kcca_bunch.param_grid, \n",
    "    scoring=scoring_func, \n",
    "    cv=RepeatedKFold(n_splits=n_splits, n_repeats=n_repeats, random_state=rs_num)\n",
    ").fit([X_train, Y_train]).best_estimator_"
   ]
  },
  {
   "cell_type": "code",
   "execution_count": 12,
   "id": "a31ac09b",
   "metadata": {},
   "outputs": [],
   "source": [
    "# create a customized pipeline\n",
    "def kernel_cca_fit_n_score(X_train, X_test, Y_train, Y_test, cz_kcca):\n",
    "    # fitting the model\n",
    "    cz_kcca.fit([X_train, Y_train])\n",
    "    \n",
    "    # transform the model\n",
    "    Xc_train, Yc_train = cz_kcca.transform([X_train, Y_train])\n",
    "    Xc_test, Yc_test = cz_kcca.transform([X_test, Y_test])\n",
    "    \n",
    "    # train with linear regression and get a score\n",
    "    return LinearRegression().fit(Xc_train, Yc_train).score(Xc_test, Yc_test)"
   ]
  },
  {
   "cell_type": "code",
   "execution_count": 13,
   "id": "2ae70ea5",
   "metadata": {},
   "outputs": [],
   "source": [
    "# cross validation\n",
    "kcca_bunch.cv_scores = custom_cv(\n",
    "    RepeatedKFold(n_splits=n_splits, n_repeats=n_repeats, random_state=rs_num), \n",
    "    X_train, Y_train, \n",
    "    kernel_cca_fit_n_score, \n",
    "    kcca_bunch.best_estimator, \n",
    ")\n",
    "\n",
    "# also evaluate the model via test dataset\n",
    "kcca_bunch.eval_score = kernel_cca_fit_n_score(\n",
    "    X_train, X_test, Y_train, Y_test, \n",
    "    kcca_bunch.best_estimator\n",
    ")"
   ]
  },
  {
   "cell_type": "code",
   "execution_count": 14,
   "id": "d0f49d55",
   "metadata": {},
   "outputs": [
    {
     "data": {
      "image/png": "[encoded data removed]",
      "text/plain": [
       "<Figure size 640x480 with 1 Axes>"
      ]
     },
     "metadata": {},
     "output_type": "display_data"
    }
   ],
   "source": [
    "# put everything in one list\n",
    "bunch_list_all = [\n",
    "    baseline_bunch, \n",
    "    cca_linear_bunch, \n",
    "    kcca_bunch\n",
    "]\n",
    "\n",
    "# visualize model evaluation\n",
    "viz_labels = []\n",
    "viz_boxplots = []\n",
    "viz_eval_scores = []\n",
    "viz_eval_scores_pos = []\n",
    "\n",
    "for i, bunch in enumerate(bunch_list_all):\n",
    "    viz_labels.append(bunch.name)\n",
    "    viz_boxplots.append(bunch.cv_scores)\n",
    "    viz_eval_scores.append(bunch.eval_score)\n",
    "    viz_eval_scores_pos.append(i+1)\n",
    "\n",
    "# visualization\n",
    "fig, ax = plt.subplots()\n",
    "\n",
    "ax.boxplot(\n",
    "    viz_boxplots, \n",
    "    labels=viz_labels\n",
    ")\n",
    "ax.scatter(\n",
    "    viz_eval_scores_pos, \n",
    "    viz_eval_scores,  \n",
    "    fc='none',\n",
    "    ec='blue', \n",
    "    marker='^', \n",
    "    label='scores on test dataset'\n",
    ")\n",
    "\n",
    "ax.set(\n",
    "    ylabel='Scores', \n",
    "    title='RepeatedKFold CV\\n'+'X_dim: {}, Y_dim: {}'.format(\n",
    "        X_dimension_num, Y_dimension_num\n",
    "    )\n",
    ")\n",
    "ax.set_xticklabels(viz_labels, rotation=0)\n",
    "ax.legend(\n",
    "    loc='upper center',\n",
    "    bbox_to_anchor=(0.5, -0.15),\n",
    "    fancybox=True,\n",
    "    shadow=True,\n",
    "    ncol=2,\n",
    "    fontsize='small'\n",
    ")\n",
    "\n",
    "plt.tight_layout()"
   ]
  },
  {
   "cell_type": "code",
   "execution_count": 15,
   "id": "fe49dccd",
   "metadata": {},
   "outputs": [
    {
     "name": "stdout",
     "output_type": "stream",
     "text": [
      "with parameters:\n",
      "{'c': [0.0095, 0.0095], 'centre': True, 'coef0': [1, 1], 'copy_data': True, 'degree': [1, 1], 'eps': 0.001, 'gamma': [0.03, 0.03], 'kernel': ['linear', 'linear'], 'kernel_params': None, 'latent_dims': 1, 'random_state': RandomState(MT19937) at 0x18EAA0D6A40, 'scale': True}\n"
     ]
    }
   ],
   "source": [
    "kcca_bunch.best_estimator_df = pd.DataFrame(index=['X', 'Y'])\n",
    "kcca_bunch.best_estimator_df['kernels'] = kcca_bunch.best_estimator.kernel\n",
    "kcca_bunch.best_estimator_df['reg c'] = kcca_bunch.best_estimator.c\n",
    "kcca_bunch.best_estimator_df['gamma'] = kcca_bunch.best_estimator.gamma\n",
    "\n",
    "print('with parameters:')\n",
    "print(kcca_bunch.best_estimator.get_params())"
   ]
  },
  {
   "cell_type": "code",
   "execution_count": null,
   "id": "1e03ba6a",
   "metadata": {},
   "outputs": [],
   "source": []
  }
 ],
 "metadata": {
  "kernelspec": {
   "display_name": "Python 3 (ipykernel)",
   "language": "python",
   "name": "python3"
  },
  "language_info": {
   "codemirror_mode": {
    "name": "ipython",
    "version": 3
   },
   "file_extension": ".py",
   "mimetype": "text/x-python",
   "name": "python",
   "nbconvert_exporter": "python",
   "pygments_lexer": "ipython3",
   "version": "3.8.13"
  }
 },
 "nbformat": 4,
 "nbformat_minor": 5
}
