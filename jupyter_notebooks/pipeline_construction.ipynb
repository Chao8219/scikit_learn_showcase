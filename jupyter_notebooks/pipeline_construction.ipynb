{
 "cells": [
  {
   "cell_type": "markdown",
   "id": "dc709adc",
   "metadata": {},
   "source": [
    "# 0. About\n",
    "\n",
    "This notebook is to test out the construction of the pipeline, and to see if we chain everything correctly."
   ]
  },
  {
   "cell_type": "code",
   "execution_count": 1,
   "id": "44b52e1a",
   "metadata": {},
   "outputs": [],
   "source": [
    "import numpy as np\n",
    "from matplotlib import pyplot as plt\n",
    "import sklearn\n",
    "from sklearn.decomposition import PCA\n",
    "from sklearn.preprocessing import StandardScaler\n",
    "from sklearn.pipeline import Pipeline\n",
    "from sklearn.gaussian_process import GaussianProcessRegressor\n",
    "from sklearn.gaussian_process.kernels import RBF, ConstantKernel, WhiteKernel\n",
    "from sklearn.base import BaseEstimator, TransformerMixin\n",
    "from sklearn.model_selection import train_test_split\n",
    "from sklearn.model_selection import cross_validate, RepeatedKFold, GridSearchCV\n",
    "\n",
    "import pandas as pd\n",
    "import seaborn as sns\n",
    "from sklearn.datasets import make_regression\n",
    "import scipy\n",
    "import warnings\n",
    "\n",
    "rs_num = 42\n",
    "sklearn.set_config(display=\"diagram\")"
   ]
  },
  {
   "cell_type": "code",
   "execution_count": 2,
   "id": "e2ab1e67",
   "metadata": {},
   "outputs": [],
   "source": [
    "X, y = make_regression(\n",
    "    n_samples=400, n_features=15, n_informative=3, \n",
    "    effective_rank=1, tail_strength=0.2, \n",
    "    n_targets=1, random_state=rs_num\n",
    ")\n",
    "\n",
    "[X_train, X_test, y_train, y_test] = train_test_split(X, y, random_state=rs_num)"
   ]
  },
  {
   "cell_type": "markdown",
   "id": "2e7dc1c1",
   "metadata": {},
   "source": [
    "# 1. Manually Put Everything Together\n",
    "\n",
    "We can apply the following transformations:\n",
    "1. Standardization\n",
    "2. PCA with scree plot threshold, which requires a customized Transformer\n",
    "\n",
    "For the estimator, we can use the Gaussian Process regression."
   ]
  },
  {
   "cell_type": "code",
   "execution_count": 3,
   "id": "a69740ce",
   "metadata": {},
   "outputs": [],
   "source": [
    "\"\"\"\n",
    "Ref: \n",
    "1. For inherit the GPR class:\n",
    "    https://stackoverflow.com/questions/62376164/\n",
    "    how-to-change-max-iter-in-optimize-function-used-by-sklearn-gaussian-process-reg\n",
    "2. For modifiying the __init__:\n",
    "    https://stackoverflow.com/questions/40025406/inherit-from-scikit-learns-lassocv-model\n",
    "\"\"\"\n",
    "\n",
    "class MyGPR(GaussianProcessRegressor):\n",
    "    def __init__(\n",
    "        self, \n",
    "        kernel=None, \n",
    "        *, \n",
    "        alpha=1e-10, \n",
    "        optimizer=\"fmin_l_bfgs_b\", \n",
    "        n_restarts_optimizer=0, \n",
    "        normalize_y=False, \n",
    "        copy_X_train=True, \n",
    "        random_state=None, \n",
    "        max_iter=1e5, \n",
    "        **kwargs\n",
    "    ):\n",
    "        self.max_iter = max_iter\n",
    "        super().__init__(\n",
    "            kernel=kernel, \n",
    "            alpha=alpha, \n",
    "            optimizer=optimizer, \n",
    "            n_restarts_optimizer=n_restarts_optimizer, \n",
    "            normalize_y=normalize_y, \n",
    "            copy_X_train=copy_X_train, \n",
    "            random_state=random_state, \n",
    "            **kwargs\n",
    "        )\n",
    "    \n",
    "    def _constrained_optimization(self, obj_func, initial_theta, bounds):\n",
    "        if self.optimizer == \"fmin_l_bfgs_b\":\n",
    "            opt_res = scipy.optimize.minimize(\n",
    "                obj_func, \n",
    "                initial_theta, \n",
    "                method=\"L-BFGS-B\", \n",
    "                jac=True, \n",
    "                bounds=bounds, \n",
    "                options={'maxiter': self.max_iter}\n",
    "            )\n",
    "            sklearn.utils.optimize._check_optimize_result(\"lbfgs\", opt_res)\n",
    "            theta_opt, func_min = opt_res.x, opt_res.fun\n",
    "        elif callable(self.optimizer):\n",
    "            theta_opt, func_min = self.optimizer(\n",
    "                obj_func, initial_theta, bounds=bounds\n",
    "            )\n",
    "        else:\n",
    "            raise ValueError(\"Unknown optimizer %s.\" % self.optimizer)\n",
    "        return theta_opt, func_min\n"
   ]
  },
  {
   "cell_type": "code",
   "execution_count": 4,
   "id": "194b0817",
   "metadata": {},
   "outputs": [
    {
     "data": {
      "text/html": [
       "<style>#sk-container-id-1 {color: black;background-color: white;}#sk-container-id-1 pre{padding: 0;}#sk-container-id-1 div.sk-toggleable {background-color: white;}#sk-container-id-1 label.sk-toggleable__label {cursor: pointer;display: block;width: 100%;margin-bottom: 0;padding: 0.3em;box-sizing: border-box;text-align: center;}#sk-container-id-1 label.sk-toggleable__label-arrow:before {content: \"▸\";float: left;margin-right: 0.25em;color: #696969;}#sk-container-id-1 label.sk-toggleable__label-arrow:hover:before {color: black;}#sk-container-id-1 div.sk-estimator:hover label.sk-toggleable__label-arrow:before {color: black;}#sk-container-id-1 div.sk-toggleable__content {max-height: 0;max-width: 0;overflow: hidden;text-align: left;background-color: #f0f8ff;}#sk-container-id-1 div.sk-toggleable__content pre {margin: 0.2em;color: black;border-radius: 0.25em;background-color: #f0f8ff;}#sk-container-id-1 input.sk-toggleable__control:checked~div.sk-toggleable__content {max-height: 200px;max-width: 100%;overflow: auto;}#sk-container-id-1 input.sk-toggleable__control:checked~label.sk-toggleable__label-arrow:before {content: \"▾\";}#sk-container-id-1 div.sk-estimator input.sk-toggleable__control:checked~label.sk-toggleable__label {background-color: #d4ebff;}#sk-container-id-1 div.sk-label input.sk-toggleable__control:checked~label.sk-toggleable__label {background-color: #d4ebff;}#sk-container-id-1 input.sk-hidden--visually {border: 0;clip: rect(1px 1px 1px 1px);clip: rect(1px, 1px, 1px, 1px);height: 1px;margin: -1px;overflow: hidden;padding: 0;position: absolute;width: 1px;}#sk-container-id-1 div.sk-estimator {font-family: monospace;background-color: #f0f8ff;border: 1px dotted black;border-radius: 0.25em;box-sizing: border-box;margin-bottom: 0.5em;}#sk-container-id-1 div.sk-estimator:hover {background-color: #d4ebff;}#sk-container-id-1 div.sk-parallel-item::after {content: \"\";width: 100%;border-bottom: 1px solid gray;flex-grow: 1;}#sk-container-id-1 div.sk-label:hover label.sk-toggleable__label {background-color: #d4ebff;}#sk-container-id-1 div.sk-serial::before {content: \"\";position: absolute;border-left: 1px solid gray;box-sizing: border-box;top: 0;bottom: 0;left: 50%;z-index: 0;}#sk-container-id-1 div.sk-serial {display: flex;flex-direction: column;align-items: center;background-color: white;padding-right: 0.2em;padding-left: 0.2em;position: relative;}#sk-container-id-1 div.sk-item {position: relative;z-index: 1;}#sk-container-id-1 div.sk-parallel {display: flex;align-items: stretch;justify-content: center;background-color: white;position: relative;}#sk-container-id-1 div.sk-item::before, #sk-container-id-1 div.sk-parallel-item::before {content: \"\";position: absolute;border-left: 1px solid gray;box-sizing: border-box;top: 0;bottom: 0;left: 50%;z-index: -1;}#sk-container-id-1 div.sk-parallel-item {display: flex;flex-direction: column;z-index: 1;position: relative;background-color: white;}#sk-container-id-1 div.sk-parallel-item:first-child::after {align-self: flex-end;width: 50%;}#sk-container-id-1 div.sk-parallel-item:last-child::after {align-self: flex-start;width: 50%;}#sk-container-id-1 div.sk-parallel-item:only-child::after {width: 0;}#sk-container-id-1 div.sk-dashed-wrapped {border: 1px dashed gray;margin: 0 0.4em 0.5em 0.4em;box-sizing: border-box;padding-bottom: 0.4em;background-color: white;}#sk-container-id-1 div.sk-label label {font-family: monospace;font-weight: bold;display: inline-block;line-height: 1.2em;}#sk-container-id-1 div.sk-label-container {text-align: center;}#sk-container-id-1 div.sk-container {/* jupyter's `normalize.less` sets `[hidden] { display: none; }` but bootstrap.min.css set `[hidden] { display: none !important; }` so we also need the `!important` here to be able to override the default hidden behavior on the sphinx rendered scikit-learn.org. See: https://github.com/scikit-learn/scikit-learn/issues/21755 */display: inline-block !important;position: relative;}#sk-container-id-1 div.sk-text-repr-fallback {display: none;}</style><div id=\"sk-container-id-1\" class=\"sk-top-container\"><div class=\"sk-text-repr-fallback\"><pre>MyGPR(kernel=1**2 * RBF(length_scale=1), n_restarts_optimizer=9,\n",
       "      random_state=42)</pre><b>In a Jupyter environment, please rerun this cell to show the HTML representation or trust the notebook. <br />On GitHub, the HTML representation is unable to render, please try loading this page with nbviewer.org.</b></div><div class=\"sk-container\" hidden><div class=\"sk-item\"><div class=\"sk-estimator sk-toggleable\"><input class=\"sk-toggleable__control sk-hidden--visually\" id=\"sk-estimator-id-1\" type=\"checkbox\" checked><label for=\"sk-estimator-id-1\" class=\"sk-toggleable__label sk-toggleable__label-arrow\">MyGPR</label><div class=\"sk-toggleable__content\"><pre>MyGPR(kernel=1**2 * RBF(length_scale=1), n_restarts_optimizer=9,\n",
       "      random_state=42)</pre></div></div></div></div></div>"
      ],
      "text/plain": [
       "MyGPR(kernel=1**2 * RBF(length_scale=1), n_restarts_optimizer=9,\n",
       "      random_state=42)"
      ]
     },
     "execution_count": 4,
     "metadata": {},
     "output_type": "execute_result"
    }
   ],
   "source": [
    "# standardization\n",
    "manual_scaler = StandardScaler().fit(X_train)\n",
    "X_train_scaled = manual_scaler.transform(X_train)\n",
    "X_test_scaled = manual_scaler.transform(X_test)\n",
    "\n",
    "# PCA\n",
    "manual_pca = PCA(n_components=0.95).fit(X_train_scaled)\n",
    "X_train_scaled_pca = manual_pca.transform(X_train_scaled)\n",
    "X_test_scaled_pca = manual_pca.transform(X_test_scaled)\n",
    "\n",
    "# GPR\n",
    "manual_kernel = ConstantKernel(constant_value=1)*RBF(length_scale=1)\n",
    "manual_gpr = MyGPR(\n",
    "    kernel=manual_kernel, n_restarts_optimizer=9, random_state=rs_num\n",
    ")\n",
    "manual_gpr.fit(X_train_scaled_pca, y_train)"
   ]
  },
  {
   "cell_type": "markdown",
   "id": "9c3158e1",
   "metadata": {},
   "source": [
    "Now with everything ready, we can apply GPR repeated 5-fold cross-validation."
   ]
  },
  {
   "cell_type": "code",
   "execution_count": 5,
   "id": "20affde0",
   "metadata": {},
   "outputs": [],
   "source": [
    "manual_gpr_scores_train = cross_validate(\n",
    "    manual_gpr, X_train_scaled_pca, y_train, \n",
    "    cv=RepeatedKFold(n_splits=5, n_repeats=5, random_state=rs_num)\n",
    ")"
   ]
  },
  {
   "cell_type": "markdown",
   "id": "4e6a2d2f",
   "metadata": {},
   "source": [
    "Also we can see how the models would behave over the test dataset."
   ]
  },
  {
   "cell_type": "code",
   "execution_count": 6,
   "id": "e41ac631",
   "metadata": {},
   "outputs": [],
   "source": [
    "manual_gpr_scores_test = manual_gpr.score(X_test_scaled_pca, y_test)"
   ]
  },
  {
   "cell_type": "markdown",
   "id": "274fb874",
   "metadata": {},
   "source": [
    "# 2. Chain Everything Together with Pipeline"
   ]
  },
  {
   "cell_type": "code",
   "execution_count": 7,
   "id": "6432ff78",
   "metadata": {
    "scrolled": true
   },
   "outputs": [
    {
     "data": {
      "text/html": [
       "<style>#sk-container-id-2 {color: black;background-color: white;}#sk-container-id-2 pre{padding: 0;}#sk-container-id-2 div.sk-toggleable {background-color: white;}#sk-container-id-2 label.sk-toggleable__label {cursor: pointer;display: block;width: 100%;margin-bottom: 0;padding: 0.3em;box-sizing: border-box;text-align: center;}#sk-container-id-2 label.sk-toggleable__label-arrow:before {content: \"▸\";float: left;margin-right: 0.25em;color: #696969;}#sk-container-id-2 label.sk-toggleable__label-arrow:hover:before {color: black;}#sk-container-id-2 div.sk-estimator:hover label.sk-toggleable__label-arrow:before {color: black;}#sk-container-id-2 div.sk-toggleable__content {max-height: 0;max-width: 0;overflow: hidden;text-align: left;background-color: #f0f8ff;}#sk-container-id-2 div.sk-toggleable__content pre {margin: 0.2em;color: black;border-radius: 0.25em;background-color: #f0f8ff;}#sk-container-id-2 input.sk-toggleable__control:checked~div.sk-toggleable__content {max-height: 200px;max-width: 100%;overflow: auto;}#sk-container-id-2 input.sk-toggleable__control:checked~label.sk-toggleable__label-arrow:before {content: \"▾\";}#sk-container-id-2 div.sk-estimator input.sk-toggleable__control:checked~label.sk-toggleable__label {background-color: #d4ebff;}#sk-container-id-2 div.sk-label input.sk-toggleable__control:checked~label.sk-toggleable__label {background-color: #d4ebff;}#sk-container-id-2 input.sk-hidden--visually {border: 0;clip: rect(1px 1px 1px 1px);clip: rect(1px, 1px, 1px, 1px);height: 1px;margin: -1px;overflow: hidden;padding: 0;position: absolute;width: 1px;}#sk-container-id-2 div.sk-estimator {font-family: monospace;background-color: #f0f8ff;border: 1px dotted black;border-radius: 0.25em;box-sizing: border-box;margin-bottom: 0.5em;}#sk-container-id-2 div.sk-estimator:hover {background-color: #d4ebff;}#sk-container-id-2 div.sk-parallel-item::after {content: \"\";width: 100%;border-bottom: 1px solid gray;flex-grow: 1;}#sk-container-id-2 div.sk-label:hover label.sk-toggleable__label {background-color: #d4ebff;}#sk-container-id-2 div.sk-serial::before {content: \"\";position: absolute;border-left: 1px solid gray;box-sizing: border-box;top: 0;bottom: 0;left: 50%;z-index: 0;}#sk-container-id-2 div.sk-serial {display: flex;flex-direction: column;align-items: center;background-color: white;padding-right: 0.2em;padding-left: 0.2em;position: relative;}#sk-container-id-2 div.sk-item {position: relative;z-index: 1;}#sk-container-id-2 div.sk-parallel {display: flex;align-items: stretch;justify-content: center;background-color: white;position: relative;}#sk-container-id-2 div.sk-item::before, #sk-container-id-2 div.sk-parallel-item::before {content: \"\";position: absolute;border-left: 1px solid gray;box-sizing: border-box;top: 0;bottom: 0;left: 50%;z-index: -1;}#sk-container-id-2 div.sk-parallel-item {display: flex;flex-direction: column;z-index: 1;position: relative;background-color: white;}#sk-container-id-2 div.sk-parallel-item:first-child::after {align-self: flex-end;width: 50%;}#sk-container-id-2 div.sk-parallel-item:last-child::after {align-self: flex-start;width: 50%;}#sk-container-id-2 div.sk-parallel-item:only-child::after {width: 0;}#sk-container-id-2 div.sk-dashed-wrapped {border: 1px dashed gray;margin: 0 0.4em 0.5em 0.4em;box-sizing: border-box;padding-bottom: 0.4em;background-color: white;}#sk-container-id-2 div.sk-label label {font-family: monospace;font-weight: bold;display: inline-block;line-height: 1.2em;}#sk-container-id-2 div.sk-label-container {text-align: center;}#sk-container-id-2 div.sk-container {/* jupyter's `normalize.less` sets `[hidden] { display: none; }` but bootstrap.min.css set `[hidden] { display: none !important; }` so we also need the `!important` here to be able to override the default hidden behavior on the sphinx rendered scikit-learn.org. See: https://github.com/scikit-learn/scikit-learn/issues/21755 */display: inline-block !important;position: relative;}#sk-container-id-2 div.sk-text-repr-fallback {display: none;}</style><div id=\"sk-container-id-2\" class=\"sk-top-container\"><div class=\"sk-text-repr-fallback\"><pre>Pipeline(steps=[(&#x27;scaler&#x27;, StandardScaler()),\n",
       "                (&#x27;pca&#x27;, PCA(n_components=0.95, random_state=42)),\n",
       "                (&#x27;gpr&#x27;,\n",
       "                 MyGPR(kernel=1**2 * RBF(length_scale=1),\n",
       "                       n_restarts_optimizer=9, random_state=42))])</pre><b>In a Jupyter environment, please rerun this cell to show the HTML representation or trust the notebook. <br />On GitHub, the HTML representation is unable to render, please try loading this page with nbviewer.org.</b></div><div class=\"sk-container\" hidden><div class=\"sk-item sk-dashed-wrapped\"><div class=\"sk-label-container\"><div class=\"sk-label sk-toggleable\"><input class=\"sk-toggleable__control sk-hidden--visually\" id=\"sk-estimator-id-2\" type=\"checkbox\" ><label for=\"sk-estimator-id-2\" class=\"sk-toggleable__label sk-toggleable__label-arrow\">Pipeline</label><div class=\"sk-toggleable__content\"><pre>Pipeline(steps=[(&#x27;scaler&#x27;, StandardScaler()),\n",
       "                (&#x27;pca&#x27;, PCA(n_components=0.95, random_state=42)),\n",
       "                (&#x27;gpr&#x27;,\n",
       "                 MyGPR(kernel=1**2 * RBF(length_scale=1),\n",
       "                       n_restarts_optimizer=9, random_state=42))])</pre></div></div></div><div class=\"sk-serial\"><div class=\"sk-item\"><div class=\"sk-estimator sk-toggleable\"><input class=\"sk-toggleable__control sk-hidden--visually\" id=\"sk-estimator-id-3\" type=\"checkbox\" ><label for=\"sk-estimator-id-3\" class=\"sk-toggleable__label sk-toggleable__label-arrow\">StandardScaler</label><div class=\"sk-toggleable__content\"><pre>StandardScaler()</pre></div></div></div><div class=\"sk-item\"><div class=\"sk-estimator sk-toggleable\"><input class=\"sk-toggleable__control sk-hidden--visually\" id=\"sk-estimator-id-4\" type=\"checkbox\" ><label for=\"sk-estimator-id-4\" class=\"sk-toggleable__label sk-toggleable__label-arrow\">PCA</label><div class=\"sk-toggleable__content\"><pre>PCA(n_components=0.95, random_state=42)</pre></div></div></div><div class=\"sk-item\"><div class=\"sk-estimator sk-toggleable\"><input class=\"sk-toggleable__control sk-hidden--visually\" id=\"sk-estimator-id-5\" type=\"checkbox\" ><label for=\"sk-estimator-id-5\" class=\"sk-toggleable__label sk-toggleable__label-arrow\">MyGPR</label><div class=\"sk-toggleable__content\"><pre>MyGPR(kernel=1**2 * RBF(length_scale=1), n_restarts_optimizer=9,\n",
       "      random_state=42)</pre></div></div></div></div></div></div></div>"
      ],
      "text/plain": [
       "Pipeline(steps=[('scaler', StandardScaler()),\n",
       "                ('pca', PCA(n_components=0.95, random_state=42)),\n",
       "                ('gpr',\n",
       "                 MyGPR(kernel=1**2 * RBF(length_scale=1),\n",
       "                       n_restarts_optimizer=9, random_state=42))])"
      ]
     },
     "execution_count": 7,
     "metadata": {},
     "output_type": "execute_result"
    }
   ],
   "source": [
    "gpr_pipeline = Pipeline(\n",
    "    [('scaler', StandardScaler()), \n",
    "     ('pca', PCA(n_components=0.95, random_state=rs_num)), \n",
    "     ('gpr', \n",
    "      MyGPR(\n",
    "          kernel=ConstantKernel(constant_value=1)*RBF(length_scale=1), \n",
    "          n_restarts_optimizer=9, \n",
    "          random_state=rs_num, \n",
    "          max_iter=1e5\n",
    "      )\n",
    "     )]\n",
    ")\n",
    "gpr_pipeline.fit(X_train, y_train)"
   ]
  },
  {
   "cell_type": "markdown",
   "id": "34b4e631",
   "metadata": {},
   "source": [
    "Now do the 5-fold cross-validation."
   ]
  },
  {
   "cell_type": "code",
   "execution_count": 8,
   "id": "ba4b8d8f",
   "metadata": {},
   "outputs": [],
   "source": [
    "pipeline_scores_train = cross_validate(\n",
    "    gpr_pipeline, X_train, y_train, \n",
    "    cv=RepeatedKFold(n_splits=5, n_repeats=5, random_state=rs_num)\n",
    ")"
   ]
  },
  {
   "cell_type": "markdown",
   "id": "f99981c7",
   "metadata": {},
   "source": [
    "Also we can see how the models would behave over the test dataset."
   ]
  },
  {
   "cell_type": "code",
   "execution_count": 9,
   "id": "489a03bf",
   "metadata": {},
   "outputs": [],
   "source": [
    "pipeline_scores_test = gpr_pipeline.score(X_test, y_test)"
   ]
  },
  {
   "cell_type": "markdown",
   "id": "af89feba",
   "metadata": {},
   "source": [
    "# 3. Compare Two Results"
   ]
  },
  {
   "cell_type": "code",
   "execution_count": 10,
   "id": "92ebafbb",
   "metadata": {},
   "outputs": [
    {
     "data": {
      "image/png": "[encoded data removed]",
      "text/plain": [
       "<Figure size 432x288 with 1 Axes>"
      ]
     },
     "metadata": {
      "needs_background": "light"
     },
     "output_type": "display_data"
    }
   ],
   "source": [
    "fig, ax = plt.subplots()\n",
    "\n",
    "ax.boxplot(\n",
    "    [manual_gpr_scores_train['test_score'], pipeline_scores_train['test_score']], \n",
    "    labels=['Manual Scores', 'Pipeline Scores']\n",
    ")\n",
    "ax.scatter(\n",
    "    [1.0, 2.0], \n",
    "    [manual_gpr_scores_test, pipeline_scores_test], \n",
    "    fc='none',\n",
    "    ec='blue', \n",
    "    label='scores on test dataset'\n",
    ")\n",
    "\n",
    "ax.legend(loc='lower center')\n",
    "plt.tight_layout()"
   ]
  },
  {
   "cell_type": "markdown",
   "id": "cf126c21",
   "metadata": {},
   "source": [
    "# 4. Use Pipeline with Grid Search\n",
    "\n",
    "The idea is to use grid search method on the pipeline to find the best parameter for models."
   ]
  },
  {
   "cell_type": "code",
   "execution_count": 11,
   "id": "e632af74",
   "metadata": {},
   "outputs": [],
   "source": [
    "# make an list for the possible component number we may try\n",
    "component_num_list = [None, 0.99, 0.95, 0.90, 0.85, 0.80]\n",
    "\n",
    "# make a list for the possible kernels we can use for GPR\n",
    "kernel_list = [\n",
    "    RBF(length_scale=1.0), \n",
    "    ConstantKernel(constant_value=1)*RBF(length_scale=1.0), \n",
    "    ConstantKernel(constant_value=1)*RBF(length_scale=1.0)+WhiteKernel()\n",
    "]"
   ]
  },
  {
   "cell_type": "code",
   "execution_count": 12,
   "id": "55dfd92a",
   "metadata": {},
   "outputs": [
    {
     "name": "stdout",
     "output_type": "stream",
     "text": [
      "Done\n"
     ]
    }
   ],
   "source": [
    "# ignore warnings for some bad optimization\n",
    "warnings.filterwarnings('ignore')\n",
    "\n",
    "# construct pipeline\n",
    "gpr_pipeline = Pipeline(\n",
    "    [\n",
    "        ('scaler', StandardScaler()), \n",
    "        ('pca', PCA(random_state=rs_num)), \n",
    "        ('gpr', \n",
    "         MyGPR(\n",
    "             random_state=rs_num, \n",
    "             max_iter=1e6\n",
    "         )\n",
    "        )\n",
    "    ]\n",
    ")\n",
    "\n",
    "# define grid space\n",
    "gpr_param_grid = [\n",
    "    {\n",
    "        'pca__n_components': component_num_list, \n",
    "        'gpr__kernel': kernel_list\n",
    "    }\n",
    "]\n",
    "\n",
    "# construct grid search cv\n",
    "gpr_gscv = GridSearchCV(\n",
    "    gpr_pipeline, param_grid=gpr_param_grid, \n",
    "    cv=RepeatedKFold(n_splits=5, n_repeats=5, random_state=rs_num)\n",
    ")\n",
    "\n",
    "# training and searching\n",
    "gpr_gscv.fit(X_train, y_train)\n",
    "print('Done')\n",
    "\n",
    "# reset warnings\n",
    "warnings.resetwarnings()"
   ]
  },
  {
   "cell_type": "code",
   "execution_count": 13,
   "id": "7295c9cb",
   "metadata": {},
   "outputs": [],
   "source": [
    "cv_results_df = pd.DataFrame(gpr_gscv.cv_results_)\n",
    "\n",
    "split_scores_arr = np.zeros((gpr_gscv.cv_results_['rank_test_score'].size, gpr_gscv.n_splits_))\n",
    "\n",
    "for i_split in range(gpr_gscv.n_splits_):\n",
    "    split_scores_arr[:, i_split] = gpr_gscv.cv_results_['split'+str(i_split)+'_test_score']"
   ]
  },
  {
   "cell_type": "code",
   "execution_count": 14,
   "id": "48245661",
   "metadata": {},
   "outputs": [
    {
     "name": "stdout",
     "output_type": "stream",
     "text": [
      "The best Grid No. selected is: 13\n",
      " ->> with estimator: \n",
      "Pipeline(steps=[('scaler', StandardScaler()), ('pca', PCA(random_state=42)),\n",
      "                ('gpr',\n",
      "                 MyGPR(kernel=1**2 * RBF(length_scale=1) + WhiteKernel(noise_level=1),\n",
      "                       max_iter=1000000.0, random_state=42))])\n"
     ]
    },
    {
     "data": {
      "image/png": "[encoded data removed]",
      "text/plain": [
       "<Figure size 576x288 with 1 Axes>"
      ]
     },
     "metadata": {
      "needs_background": "light"
     },
     "output_type": "display_data"
    }
   ],
   "source": [
    "fig, ax = plt.subplots(figsize=(8, 4))\n",
    "\n",
    "ax.boxplot(split_scores_arr.T)\n",
    "\n",
    "ax.set_title('Grid Search CV Test Scores over GPR on Training Dataset')\n",
    "ax.set_ylabel('Test Scores')\n",
    "ax.set_xlabel('Grid No.')\n",
    "\n",
    "plt.tight_layout()\n",
    "\n",
    "print('The best Grid No. selected is: '+str(gpr_gscv.best_index_+1))\n",
    "print(' ->> with estimator: ')\n",
    "print(gpr_gscv.best_estimator_)"
   ]
  },
  {
   "cell_type": "markdown",
   "id": "13773946",
   "metadata": {},
   "source": [
    "# 5. Use the Best Estimator"
   ]
  },
  {
   "cell_type": "code",
   "execution_count": 17,
   "id": "9551c7e6",
   "metadata": {},
   "outputs": [],
   "source": [
    "warnings.filterwarnings('ignore')\n",
    "\n",
    "best_pipeline = gpr_gscv.best_estimator_\n",
    "best_pipeline.fit(X_train, y_train)\n",
    "\n",
    "# also do cv\n",
    "best_pipeline_scores_train = cross_validate(\n",
    "    best_pipeline, X_train, y_train, \n",
    "    cv=RepeatedKFold(n_splits=5, n_repeats=5, random_state=rs_num)\n",
    ")\n",
    "\n",
    "# also see the performance on the test dataset\n",
    "best_pipeline_scores_test = best_pipeline.score(X_test, y_test)\n",
    "\n",
    "warnings.resetwarnings()"
   ]
  },
  {
   "cell_type": "code",
   "execution_count": 18,
   "id": "f3aef3bd",
   "metadata": {},
   "outputs": [
    {
     "data": {
      "image/png": "[encoded data removed]",
      "text/plain": [
       "<Figure size 432x288 with 1 Axes>"
      ]
     },
     "metadata": {
      "needs_background": "light"
     },
     "output_type": "display_data"
    }
   ],
   "source": [
    "# visualization of the comparison\n",
    "fig, ax = plt.subplots()\n",
    "\n",
    "ax.boxplot(\n",
    "    [pipeline_scores_train['test_score'], best_pipeline_scores_train['test_score']], \n",
    "    labels=['Original Scores', 'Best Scores']\n",
    ")\n",
    "ax.scatter(\n",
    "    [1.0, 2.0], \n",
    "    [pipeline_scores_test, best_pipeline_scores_test], \n",
    "    fc='none',\n",
    "    ec='blue', \n",
    "    label='scores on test dataset'\n",
    ")\n",
    "\n",
    "ax.legend(loc='lower center')\n",
    "plt.tight_layout()"
   ]
  },
  {
   "cell_type": "code",
   "execution_count": null,
   "id": "c653bfad",
   "metadata": {},
   "outputs": [],
   "source": []
  }
 ],
 "metadata": {
  "kernelspec": {
   "display_name": "Python 3 (ipykernel)",
   "language": "python",
   "name": "python3"
  },
  "language_info": {
   "codemirror_mode": {
    "name": "ipython",
    "version": 3
   },
   "file_extension": ".py",
   "mimetype": "text/x-python",
   "name": "python",
   "nbconvert_exporter": "python",
   "pygments_lexer": "ipython3",
   "version": "3.8.13"
  }
 },
 "nbformat": 4,
 "nbformat_minor": 5
}
