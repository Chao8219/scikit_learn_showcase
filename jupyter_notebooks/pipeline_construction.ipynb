{
 "cells": [
  {
   "cell_type": "markdown",
   "id": "dc709adc",
   "metadata": {},
   "source": [
    "# 0. About\n",
    "\n",
    "This notebook is to test out the construction of the pipeline, and to see if we chain everything correctly."
   ]
  },
  {
   "cell_type": "code",
   "execution_count": 1,
   "id": "44b52e1a",
   "metadata": {},
   "outputs": [],
   "source": [
    "import numpy as np\n",
    "from matplotlib import pyplot as plt\n",
    "from sklearn.decomposition import PCA\n",
    "from sklearn.preprocessing import StandardScaler\n",
    "from sklearn.pipeline import Pipeline\n",
    "from sklearn.model_selection import cross_validate\n",
    "from sklearn.gaussian_process import GaussianProcessRegressor\n",
    "from sklearn.gaussian_process.kernels import RBF, ConstantKernel\n",
    "from sklearn.base import BaseEstimator, TransformerMixin\n",
    "from sklearn.model_selection import train_test_split\n",
    "from sklearn.model_selection import RepeatedKFold\n",
    "from sklearn import set_config\n",
    "import pandas as pd\n",
    "import seaborn as sns\n",
    "from sklearn.datasets import make_regression\n",
    "\n",
    "rs_num = 42\n",
    "set_config(display=\"diagram\")"
   ]
  },
  {
   "cell_type": "code",
   "execution_count": 2,
   "id": "e2ab1e67",
   "metadata": {},
   "outputs": [],
   "source": [
    "X, y = make_regression(\n",
    "    n_samples=400, n_features=15, n_informative=3, \n",
    "    effective_rank=1, tail_strength=0.2, \n",
    "    n_targets=1, random_state=rs_num\n",
    ")\n",
    "\n",
    "[X_train, X_test, y_train, y_test] = train_test_split(X, y, random_state=rs_num)"
   ]
  },
  {
   "cell_type": "markdown",
   "id": "2e7dc1c1",
   "metadata": {},
   "source": [
    "# 1. Manually Put Everything Together\n",
    "\n",
    "We can apply the following transformations:\n",
    "1. Standardization\n",
    "2. PCA with scree plot threshold, which requires a customized Transformer\n",
    "\n",
    "For the estimator, we can use the Gaussian Process regression."
   ]
  },
  {
   "cell_type": "code",
   "execution_count": 3,
   "id": "a69740ce",
   "metadata": {},
   "outputs": [],
   "source": [
    "class MyGPR(GaussianProcessRegressor):\n",
    "    def __init__(\n",
    "        self, \n",
    "        kernel=None, \n",
    "        *, \n",
    "        alpha=1e-10, \n",
    "        optimizer=\"fmin_l_bfgs_b\", \n",
    "        n_restarts_optimizer=0, \n",
    "        normalize_y=False, \n",
    "        copy_X_train=True, \n",
    "        random_state=None, \n",
    "        **kwargs\n",
    "    ):\n",
    "        super().__init__(\n",
    "            kernel=kernel, \n",
    "            alpha=alpha, \n",
    "            optimizer=optimizer, \n",
    "            n_restarts_optimizer=n_restarts_optimizer, \n",
    "            normalize_y=normalize_y, \n",
    "            copy_X_train=copy_X_train, \n",
    "            random_state=random_state, \n",
    "            **kwargs\n",
    "        )\n",
    "        \n",
    "    def fit(self, X, y):\n",
    "        self.set_params(kernel=ConstantKernel(constant_value=1)*RBF(length_scale=np.ones((X.shape[1], ))))\n",
    "        super().fit(X, y)\n",
    "        return self"
   ]
  },
  {
   "cell_type": "code",
   "execution_count": 4,
   "id": "194b0817",
   "metadata": {},
   "outputs": [
    {
     "data": {
      "text/html": [
       "<style>#sk-023cdf20-c364-4dc3-8604-a2e6b2c2e03e {color: black;background-color: white;}#sk-023cdf20-c364-4dc3-8604-a2e6b2c2e03e pre{padding: 0;}#sk-023cdf20-c364-4dc3-8604-a2e6b2c2e03e div.sk-toggleable {background-color: white;}#sk-023cdf20-c364-4dc3-8604-a2e6b2c2e03e label.sk-toggleable__label {cursor: pointer;display: block;width: 100%;margin-bottom: 0;padding: 0.3em;box-sizing: border-box;text-align: center;}#sk-023cdf20-c364-4dc3-8604-a2e6b2c2e03e label.sk-toggleable__label-arrow:before {content: \"▸\";float: left;margin-right: 0.25em;color: #696969;}#sk-023cdf20-c364-4dc3-8604-a2e6b2c2e03e label.sk-toggleable__label-arrow:hover:before {color: black;}#sk-023cdf20-c364-4dc3-8604-a2e6b2c2e03e div.sk-estimator:hover label.sk-toggleable__label-arrow:before {color: black;}#sk-023cdf20-c364-4dc3-8604-a2e6b2c2e03e div.sk-toggleable__content {max-height: 0;max-width: 0;overflow: hidden;text-align: left;background-color: #f0f8ff;}#sk-023cdf20-c364-4dc3-8604-a2e6b2c2e03e div.sk-toggleable__content pre {margin: 0.2em;color: black;border-radius: 0.25em;background-color: #f0f8ff;}#sk-023cdf20-c364-4dc3-8604-a2e6b2c2e03e input.sk-toggleable__control:checked~div.sk-toggleable__content {max-height: 200px;max-width: 100%;overflow: auto;}#sk-023cdf20-c364-4dc3-8604-a2e6b2c2e03e input.sk-toggleable__control:checked~label.sk-toggleable__label-arrow:before {content: \"▾\";}#sk-023cdf20-c364-4dc3-8604-a2e6b2c2e03e div.sk-estimator input.sk-toggleable__control:checked~label.sk-toggleable__label {background-color: #d4ebff;}#sk-023cdf20-c364-4dc3-8604-a2e6b2c2e03e div.sk-label input.sk-toggleable__control:checked~label.sk-toggleable__label {background-color: #d4ebff;}#sk-023cdf20-c364-4dc3-8604-a2e6b2c2e03e input.sk-hidden--visually {border: 0;clip: rect(1px 1px 1px 1px);clip: rect(1px, 1px, 1px, 1px);height: 1px;margin: -1px;overflow: hidden;padding: 0;position: absolute;width: 1px;}#sk-023cdf20-c364-4dc3-8604-a2e6b2c2e03e div.sk-estimator {font-family: monospace;background-color: #f0f8ff;border: 1px dotted black;border-radius: 0.25em;box-sizing: border-box;margin-bottom: 0.5em;}#sk-023cdf20-c364-4dc3-8604-a2e6b2c2e03e div.sk-estimator:hover {background-color: #d4ebff;}#sk-023cdf20-c364-4dc3-8604-a2e6b2c2e03e div.sk-parallel-item::after {content: \"\";width: 100%;border-bottom: 1px solid gray;flex-grow: 1;}#sk-023cdf20-c364-4dc3-8604-a2e6b2c2e03e div.sk-label:hover label.sk-toggleable__label {background-color: #d4ebff;}#sk-023cdf20-c364-4dc3-8604-a2e6b2c2e03e div.sk-serial::before {content: \"\";position: absolute;border-left: 1px solid gray;box-sizing: border-box;top: 2em;bottom: 0;left: 50%;}#sk-023cdf20-c364-4dc3-8604-a2e6b2c2e03e div.sk-serial {display: flex;flex-direction: column;align-items: center;background-color: white;padding-right: 0.2em;padding-left: 0.2em;}#sk-023cdf20-c364-4dc3-8604-a2e6b2c2e03e div.sk-item {z-index: 1;}#sk-023cdf20-c364-4dc3-8604-a2e6b2c2e03e div.sk-parallel {display: flex;align-items: stretch;justify-content: center;background-color: white;}#sk-023cdf20-c364-4dc3-8604-a2e6b2c2e03e div.sk-parallel::before {content: \"\";position: absolute;border-left: 1px solid gray;box-sizing: border-box;top: 2em;bottom: 0;left: 50%;}#sk-023cdf20-c364-4dc3-8604-a2e6b2c2e03e div.sk-parallel-item {display: flex;flex-direction: column;position: relative;background-color: white;}#sk-023cdf20-c364-4dc3-8604-a2e6b2c2e03e div.sk-parallel-item:first-child::after {align-self: flex-end;width: 50%;}#sk-023cdf20-c364-4dc3-8604-a2e6b2c2e03e div.sk-parallel-item:last-child::after {align-self: flex-start;width: 50%;}#sk-023cdf20-c364-4dc3-8604-a2e6b2c2e03e div.sk-parallel-item:only-child::after {width: 0;}#sk-023cdf20-c364-4dc3-8604-a2e6b2c2e03e div.sk-dashed-wrapped {border: 1px dashed gray;margin: 0 0.4em 0.5em 0.4em;box-sizing: border-box;padding-bottom: 0.4em;background-color: white;position: relative;}#sk-023cdf20-c364-4dc3-8604-a2e6b2c2e03e div.sk-label label {font-family: monospace;font-weight: bold;background-color: white;display: inline-block;line-height: 1.2em;}#sk-023cdf20-c364-4dc3-8604-a2e6b2c2e03e div.sk-label-container {position: relative;z-index: 2;text-align: center;}#sk-023cdf20-c364-4dc3-8604-a2e6b2c2e03e div.sk-container {/* jupyter's `normalize.less` sets `[hidden] { display: none; }` but bootstrap.min.css set `[hidden] { display: none !important; }` so we also need the `!important` here to be able to override the default hidden behavior on the sphinx rendered scikit-learn.org. See: https://github.com/scikit-learn/scikit-learn/issues/21755 */display: inline-block !important;position: relative;}#sk-023cdf20-c364-4dc3-8604-a2e6b2c2e03e div.sk-text-repr-fallback {display: none;}</style><div id=\"sk-023cdf20-c364-4dc3-8604-a2e6b2c2e03e\" class=\"sk-top-container\"><div class=\"sk-text-repr-fallback\"><pre>GaussianProcessRegressor(kernel=1**2 * RBF(length_scale=[1, 1, 1, 1, 1, 1, 1]),\n",
       "                         n_restarts_optimizer=9, random_state=42)</pre><b>Please rerun this cell to show the HTML repr or trust the notebook.</b></div><div class=\"sk-container\" hidden><div class=\"sk-item sk-dashed-wrapped\"><div class=\"sk-label-container\"><div class=\"sk-label sk-toggleable\"><input class=\"sk-toggleable__control sk-hidden--visually\" id=\"b7e2f399-010a-476f-8f8c-58d42a88a8ec\" type=\"checkbox\" ><label for=\"b7e2f399-010a-476f-8f8c-58d42a88a8ec\" class=\"sk-toggleable__label sk-toggleable__label-arrow\">GaussianProcessRegressor</label><div class=\"sk-toggleable__content\"><pre>GaussianProcessRegressor(kernel=1**2 * RBF(length_scale=[1, 1, 1, 1, 1, 1, 1]),\n",
       "                         n_restarts_optimizer=9, random_state=42)</pre></div></div></div><div class=\"sk-parallel\"><div class=\"sk-parallel-item\"><div class=\"sk-item\"><div class=\"sk-serial\"><div class=\"sk-item sk-dashed-wrapped\"><div class=\"sk-parallel\"><div class=\"sk-parallel-item\"><div class=\"sk-item\"><div class=\"sk-serial\"><div class=\"sk-item\"><div class=\"sk-estimator sk-toggleable\"><input class=\"sk-toggleable__control sk-hidden--visually\" id=\"ead1fe62-c233-4cb4-ba46-14d15a908f2d\" type=\"checkbox\" ><label for=\"ead1fe62-c233-4cb4-ba46-14d15a908f2d\" class=\"sk-toggleable__label sk-toggleable__label-arrow\">ConstantKernel</label><div class=\"sk-toggleable__content\"><pre>1**2</pre></div></div></div></div></div></div><div class=\"sk-parallel-item\"><div class=\"sk-item\"><div class=\"sk-serial\"><div class=\"sk-item\"><div class=\"sk-estimator sk-toggleable\"><input class=\"sk-toggleable__control sk-hidden--visually\" id=\"f263dd49-4d64-4f88-9d96-658208a65698\" type=\"checkbox\" ><label for=\"f263dd49-4d64-4f88-9d96-658208a65698\" class=\"sk-toggleable__label sk-toggleable__label-arrow\">RBF</label><div class=\"sk-toggleable__content\"><pre>RBF(length_scale=[1, 1, 1, 1, 1, 1, 1])</pre></div></div></div></div></div></div></div></div></div></div></div></div></div></div></div>"
      ],
      "text/plain": [
       "GaussianProcessRegressor(kernel=1**2 * RBF(length_scale=[1, 1, 1, 1, 1, 1, 1]),\n",
       "                         n_restarts_optimizer=9, random_state=42)"
      ]
     },
     "execution_count": 4,
     "metadata": {},
     "output_type": "execute_result"
    }
   ],
   "source": [
    "# standardization\n",
    "manual_scaler = StandardScaler().fit(X_train)\n",
    "X_train_scaled = manual_scaler.transform(X_train)\n",
    "\n",
    "# PCA\n",
    "manual_tpca = PCA(n_components=0.95).fit(X_train_scaled)\n",
    "X_train_scaled_pca = manual_tpca.transform(X_train_scaled)\n",
    "\n",
    "# GPR\n",
    "manual_kernel = ConstantKernel(constant_value=1)*RBF(length_scale=np.ones((manual_tpca.n_components_, )))\n",
    "manual_gpr = GaussianProcessRegressor(\n",
    "    kernel=manual_kernel, n_restarts_optimizer=9, random_state=rs_num\n",
    ")\n",
    "manual_gpr.fit(X_train_scaled_pca, y_train)"
   ]
  },
  {
   "cell_type": "markdown",
   "id": "9c3158e1",
   "metadata": {},
   "source": [
    "Now with everything ready, we can apply GPR repeated 5-fold cross-validation."
   ]
  },
  {
   "cell_type": "code",
   "execution_count": 5,
   "id": "20affde0",
   "metadata": {},
   "outputs": [],
   "source": [
    "manual_cv = RepeatedKFold(n_splits=5, n_repeats=5, random_state=rs_num)\n",
    "manual_gpr_scores = cross_validate(\n",
    "    manual_gpr, X_train_scaled_pca, y_train, cv=manual_cv\n",
    ")"
   ]
  },
  {
   "cell_type": "markdown",
   "id": "274fb874",
   "metadata": {},
   "source": [
    "# 2. Chain Everything Together with Pipeline"
   ]
  },
  {
   "cell_type": "code",
   "execution_count": 6,
   "id": "6432ff78",
   "metadata": {
    "scrolled": true
   },
   "outputs": [
    {
     "data": {
      "text/html": [
       "<style>#sk-46ebeae4-be93-4da5-9707-6ca93f3a96dc {color: black;background-color: white;}#sk-46ebeae4-be93-4da5-9707-6ca93f3a96dc pre{padding: 0;}#sk-46ebeae4-be93-4da5-9707-6ca93f3a96dc div.sk-toggleable {background-color: white;}#sk-46ebeae4-be93-4da5-9707-6ca93f3a96dc label.sk-toggleable__label {cursor: pointer;display: block;width: 100%;margin-bottom: 0;padding: 0.3em;box-sizing: border-box;text-align: center;}#sk-46ebeae4-be93-4da5-9707-6ca93f3a96dc label.sk-toggleable__label-arrow:before {content: \"▸\";float: left;margin-right: 0.25em;color: #696969;}#sk-46ebeae4-be93-4da5-9707-6ca93f3a96dc label.sk-toggleable__label-arrow:hover:before {color: black;}#sk-46ebeae4-be93-4da5-9707-6ca93f3a96dc div.sk-estimator:hover label.sk-toggleable__label-arrow:before {color: black;}#sk-46ebeae4-be93-4da5-9707-6ca93f3a96dc div.sk-toggleable__content {max-height: 0;max-width: 0;overflow: hidden;text-align: left;background-color: #f0f8ff;}#sk-46ebeae4-be93-4da5-9707-6ca93f3a96dc div.sk-toggleable__content pre {margin: 0.2em;color: black;border-radius: 0.25em;background-color: #f0f8ff;}#sk-46ebeae4-be93-4da5-9707-6ca93f3a96dc input.sk-toggleable__control:checked~div.sk-toggleable__content {max-height: 200px;max-width: 100%;overflow: auto;}#sk-46ebeae4-be93-4da5-9707-6ca93f3a96dc input.sk-toggleable__control:checked~label.sk-toggleable__label-arrow:before {content: \"▾\";}#sk-46ebeae4-be93-4da5-9707-6ca93f3a96dc div.sk-estimator input.sk-toggleable__control:checked~label.sk-toggleable__label {background-color: #d4ebff;}#sk-46ebeae4-be93-4da5-9707-6ca93f3a96dc div.sk-label input.sk-toggleable__control:checked~label.sk-toggleable__label {background-color: #d4ebff;}#sk-46ebeae4-be93-4da5-9707-6ca93f3a96dc input.sk-hidden--visually {border: 0;clip: rect(1px 1px 1px 1px);clip: rect(1px, 1px, 1px, 1px);height: 1px;margin: -1px;overflow: hidden;padding: 0;position: absolute;width: 1px;}#sk-46ebeae4-be93-4da5-9707-6ca93f3a96dc div.sk-estimator {font-family: monospace;background-color: #f0f8ff;border: 1px dotted black;border-radius: 0.25em;box-sizing: border-box;margin-bottom: 0.5em;}#sk-46ebeae4-be93-4da5-9707-6ca93f3a96dc div.sk-estimator:hover {background-color: #d4ebff;}#sk-46ebeae4-be93-4da5-9707-6ca93f3a96dc div.sk-parallel-item::after {content: \"\";width: 100%;border-bottom: 1px solid gray;flex-grow: 1;}#sk-46ebeae4-be93-4da5-9707-6ca93f3a96dc div.sk-label:hover label.sk-toggleable__label {background-color: #d4ebff;}#sk-46ebeae4-be93-4da5-9707-6ca93f3a96dc div.sk-serial::before {content: \"\";position: absolute;border-left: 1px solid gray;box-sizing: border-box;top: 2em;bottom: 0;left: 50%;}#sk-46ebeae4-be93-4da5-9707-6ca93f3a96dc div.sk-serial {display: flex;flex-direction: column;align-items: center;background-color: white;padding-right: 0.2em;padding-left: 0.2em;}#sk-46ebeae4-be93-4da5-9707-6ca93f3a96dc div.sk-item {z-index: 1;}#sk-46ebeae4-be93-4da5-9707-6ca93f3a96dc div.sk-parallel {display: flex;align-items: stretch;justify-content: center;background-color: white;}#sk-46ebeae4-be93-4da5-9707-6ca93f3a96dc div.sk-parallel::before {content: \"\";position: absolute;border-left: 1px solid gray;box-sizing: border-box;top: 2em;bottom: 0;left: 50%;}#sk-46ebeae4-be93-4da5-9707-6ca93f3a96dc div.sk-parallel-item {display: flex;flex-direction: column;position: relative;background-color: white;}#sk-46ebeae4-be93-4da5-9707-6ca93f3a96dc div.sk-parallel-item:first-child::after {align-self: flex-end;width: 50%;}#sk-46ebeae4-be93-4da5-9707-6ca93f3a96dc div.sk-parallel-item:last-child::after {align-self: flex-start;width: 50%;}#sk-46ebeae4-be93-4da5-9707-6ca93f3a96dc div.sk-parallel-item:only-child::after {width: 0;}#sk-46ebeae4-be93-4da5-9707-6ca93f3a96dc div.sk-dashed-wrapped {border: 1px dashed gray;margin: 0 0.4em 0.5em 0.4em;box-sizing: border-box;padding-bottom: 0.4em;background-color: white;position: relative;}#sk-46ebeae4-be93-4da5-9707-6ca93f3a96dc div.sk-label label {font-family: monospace;font-weight: bold;background-color: white;display: inline-block;line-height: 1.2em;}#sk-46ebeae4-be93-4da5-9707-6ca93f3a96dc div.sk-label-container {position: relative;z-index: 2;text-align: center;}#sk-46ebeae4-be93-4da5-9707-6ca93f3a96dc div.sk-container {/* jupyter's `normalize.less` sets `[hidden] { display: none; }` but bootstrap.min.css set `[hidden] { display: none !important; }` so we also need the `!important` here to be able to override the default hidden behavior on the sphinx rendered scikit-learn.org. See: https://github.com/scikit-learn/scikit-learn/issues/21755 */display: inline-block !important;position: relative;}#sk-46ebeae4-be93-4da5-9707-6ca93f3a96dc div.sk-text-repr-fallback {display: none;}</style><div id=\"sk-46ebeae4-be93-4da5-9707-6ca93f3a96dc\" class=\"sk-top-container\"><div class=\"sk-text-repr-fallback\"><pre>Pipeline(steps=[(&#x27;scaler&#x27;, StandardScaler()),\n",
       "                (&#x27;pca&#x27;, PCA(n_components=0.95, random_state=42)),\n",
       "                (&#x27;gpr&#x27;,\n",
       "                 MyGPR(kernel=1**2 * RBF(length_scale=[1, 1, 1, 1, 1, 1, 1]),\n",
       "                       n_restarts_optimizer=9, random_state=42))])</pre><b>Please rerun this cell to show the HTML repr or trust the notebook.</b></div><div class=\"sk-container\" hidden><div class=\"sk-item sk-dashed-wrapped\"><div class=\"sk-label-container\"><div class=\"sk-label sk-toggleable\"><input class=\"sk-toggleable__control sk-hidden--visually\" id=\"631dd7dd-6298-4c92-9155-3a3b0fd8476b\" type=\"checkbox\" ><label for=\"631dd7dd-6298-4c92-9155-3a3b0fd8476b\" class=\"sk-toggleable__label sk-toggleable__label-arrow\">Pipeline</label><div class=\"sk-toggleable__content\"><pre>Pipeline(steps=[(&#x27;scaler&#x27;, StandardScaler()),\n",
       "                (&#x27;pca&#x27;, PCA(n_components=0.95, random_state=42)),\n",
       "                (&#x27;gpr&#x27;,\n",
       "                 MyGPR(kernel=1**2 * RBF(length_scale=[1, 1, 1, 1, 1, 1, 1]),\n",
       "                       n_restarts_optimizer=9, random_state=42))])</pre></div></div></div><div class=\"sk-serial\"><div class=\"sk-item\"><div class=\"sk-estimator sk-toggleable\"><input class=\"sk-toggleable__control sk-hidden--visually\" id=\"ea7f1726-ddd1-4211-b60f-7e5a9300841b\" type=\"checkbox\" ><label for=\"ea7f1726-ddd1-4211-b60f-7e5a9300841b\" class=\"sk-toggleable__label sk-toggleable__label-arrow\">StandardScaler</label><div class=\"sk-toggleable__content\"><pre>StandardScaler()</pre></div></div></div><div class=\"sk-item\"><div class=\"sk-estimator sk-toggleable\"><input class=\"sk-toggleable__control sk-hidden--visually\" id=\"8d603ebd-4dd4-4c97-9e94-512957ebdec7\" type=\"checkbox\" ><label for=\"8d603ebd-4dd4-4c97-9e94-512957ebdec7\" class=\"sk-toggleable__label sk-toggleable__label-arrow\">PCA</label><div class=\"sk-toggleable__content\"><pre>PCA(n_components=0.95, random_state=42)</pre></div></div></div><div class=\"sk-item sk-dashed-wrapped\"><div class=\"sk-label-container\"><div class=\"sk-label sk-toggleable\"><input class=\"sk-toggleable__control sk-hidden--visually\" id=\"d08293be-7701-45d6-939c-78cf0cbb37e5\" type=\"checkbox\" ><label for=\"d08293be-7701-45d6-939c-78cf0cbb37e5\" class=\"sk-toggleable__label sk-toggleable__label-arrow\">gpr: MyGPR</label><div class=\"sk-toggleable__content\"><pre>MyGPR(kernel=1**2 * RBF(length_scale=[1, 1, 1, 1, 1, 1, 1]),\n",
       "      n_restarts_optimizer=9, random_state=42)</pre></div></div></div><div class=\"sk-parallel\"><div class=\"sk-parallel-item\"><div class=\"sk-item\"><div class=\"sk-serial\"><div class=\"sk-item sk-dashed-wrapped\"><div class=\"sk-parallel\"><div class=\"sk-parallel-item\"><div class=\"sk-item\"><div class=\"sk-serial\"><div class=\"sk-item\"><div class=\"sk-estimator sk-toggleable\"><input class=\"sk-toggleable__control sk-hidden--visually\" id=\"31e334ec-22cb-4ead-bb28-0c1ef2eda7ec\" type=\"checkbox\" ><label for=\"31e334ec-22cb-4ead-bb28-0c1ef2eda7ec\" class=\"sk-toggleable__label sk-toggleable__label-arrow\">ConstantKernel</label><div class=\"sk-toggleable__content\"><pre>1**2</pre></div></div></div></div></div></div><div class=\"sk-parallel-item\"><div class=\"sk-item\"><div class=\"sk-serial\"><div class=\"sk-item\"><div class=\"sk-estimator sk-toggleable\"><input class=\"sk-toggleable__control sk-hidden--visually\" id=\"e6a0881d-dae5-4e39-b155-5a93811e783f\" type=\"checkbox\" ><label for=\"e6a0881d-dae5-4e39-b155-5a93811e783f\" class=\"sk-toggleable__label sk-toggleable__label-arrow\">RBF</label><div class=\"sk-toggleable__content\"><pre>RBF(length_scale=[1, 1, 1, 1, 1, 1, 1])</pre></div></div></div></div></div></div></div></div></div></div></div></div></div></div></div></div></div>"
      ],
      "text/plain": [
       "Pipeline(steps=[('scaler', StandardScaler()),\n",
       "                ('pca', PCA(n_components=0.95, random_state=42)),\n",
       "                ('gpr',\n",
       "                 MyGPR(kernel=1**2 * RBF(length_scale=[1, 1, 1, 1, 1, 1, 1]),\n",
       "                       n_restarts_optimizer=9, random_state=42))])"
      ]
     },
     "execution_count": 6,
     "metadata": {},
     "output_type": "execute_result"
    }
   ],
   "source": [
    "gpr_pipeline = Pipeline(\n",
    "    [('scaler', StandardScaler()), \n",
    "     ('pca', PCA(n_components=0.95, random_state=rs_num)), \n",
    "     ('gpr', \n",
    "      MyGPR(\n",
    "          kernel=ConstantKernel(constant_value=1)*RBF(length_scale=np.ones((10, ))), \n",
    "          n_restarts_optimizer=9, random_state=rs_num)\n",
    "     )]\n",
    ")\n",
    "gpr_pipeline.fit(X_train, y_train)"
   ]
  },
  {
   "cell_type": "code",
   "execution_count": null,
   "id": "078a56ba",
   "metadata": {},
   "outputs": [],
   "source": []
  },
  {
   "cell_type": "markdown",
   "id": "34b4e631",
   "metadata": {},
   "source": [
    "Now do the 5-fold cross-validation."
   ]
  },
  {
   "cell_type": "code",
   "execution_count": 7,
   "id": "ba4b8d8f",
   "metadata": {},
   "outputs": [],
   "source": [
    "pipeline_cv = RepeatedKFold(n_splits=5, n_repeats=5, random_state=rs_num)\n",
    "pipeline_scores = cross_validate(gpr_pipeline, X_train, y_train, cv=pipeline_cv)"
   ]
  },
  {
   "cell_type": "markdown",
   "id": "af89feba",
   "metadata": {},
   "source": [
    "# 3. Compare Two Results"
   ]
  },
  {
   "cell_type": "code",
   "execution_count": 8,
   "id": "92ebafbb",
   "metadata": {},
   "outputs": [
    {
     "data": {
      "image/png": "[encoded data removed]",
      "text/plain": [
       "<Figure size 432x288 with 1 Axes>"
      ]
     },
     "metadata": {
      "needs_background": "light"
     },
     "output_type": "display_data"
    }
   ],
   "source": [
    "fig, ax = plt.subplots()\n",
    "\n",
    "ax.boxplot(\n",
    "    [manual_gpr_scores['test_score'], pipeline_scores['test_score']], \n",
    "    labels=['Manual Scores', 'Pipeline Scores']\n",
    ")\n",
    "\n",
    "plt.tight_layout()"
   ]
  },
  {
   "cell_type": "code",
   "execution_count": null,
   "id": "3e55fecd",
   "metadata": {},
   "outputs": [],
   "source": []
  },
  {
   "cell_type": "code",
   "execution_count": null,
   "id": "e632af74",
   "metadata": {},
   "outputs": [],
   "source": []
  },
  {
   "cell_type": "code",
   "execution_count": null,
   "id": "55dfd92a",
   "metadata": {},
   "outputs": [],
   "source": []
  }
 ],
 "metadata": {
  "kernelspec": {
   "display_name": "Python 3 (ipykernel)",
   "language": "python",
   "name": "python3"
  },
  "language_info": {
   "codemirror_mode": {
    "name": "ipython",
    "version": 3
   },
   "file_extension": ".py",
   "mimetype": "text/x-python",
   "name": "python",
   "nbconvert_exporter": "python",
   "pygments_lexer": "ipython3",
   "version": "3.8.12"
  }
 },
 "nbformat": 4,
 "nbformat_minor": 5
}
