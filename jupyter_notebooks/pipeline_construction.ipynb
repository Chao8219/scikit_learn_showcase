{
 "cells": [
  {
   "cell_type": "markdown",
   "id": "69dedd90",
   "metadata": {},
   "source": [
    "# 0. About\n",
    "\n",
    "This notebook is to test out the construction of the pipeline, and to see if we chain everything correctly."
   ]
  },
  {
   "cell_type": "code",
   "execution_count": 1,
   "id": "8451af97",
   "metadata": {},
   "outputs": [],
   "source": [
    "import numpy as np\n",
    "from matplotlib import pyplot as plt\n",
    "from sklearn.decomposition import PCA\n",
    "from sklearn.preprocessing import StandardScaler\n",
    "from sklearn.pipeline import Pipeline\n",
    "from sklearn.model_selection import cross_validate\n",
    "from sklearn.gaussian_process import GaussianProcessRegressor\n",
    "from sklearn.gaussian_process.kernels import RBF, ConstantKernel\n",
    "from sklearn.base import BaseEstimator, TransformerMixin\n",
    "from sklearn.model_selection import train_test_split\n",
    "from sklearn.model_selection import RepeatedKFold\n",
    "from sklearn import set_config\n",
    "import pandas as pd\n",
    "import seaborn as sns\n",
    "from sklearn.datasets import make_regression\n",
    "\n",
    "rs_num = 42\n",
    "set_config(display=\"diagram\")"
   ]
  },
  {
   "cell_type": "code",
   "execution_count": 2,
   "id": "ae09de92",
   "metadata": {},
   "outputs": [],
   "source": [
    "X, y = make_regression(\n",
    "    n_samples=400, n_features=15, n_informative=3, \n",
    "    effective_rank=1, tail_strength=0.2, \n",
    "    n_targets=1, random_state=rs_num\n",
    ")\n",
    "\n",
    "[X_train, X_test, y_train, y_test] = train_test_split(X, y, random_state=rs_num)"
   ]
  },
  {
   "cell_type": "markdown",
   "id": "f34b0099",
   "metadata": {},
   "source": [
    "# 1. Manually Put Everything Together\n",
    "\n",
    "We can apply the following transformations:\n",
    "1. Standardization\n",
    "2. PCA with scree plot threshold, which requires a customized Transformer\n",
    "\n",
    "For the estimator, we can use the Gaussian Process regression."
   ]
  },
  {
   "cell_type": "code",
   "execution_count": 3,
   "id": "7005895a",
   "metadata": {},
   "outputs": [],
   "source": [
    "class MyGPR(GaussianProcessRegressor):\n",
    "    def __init__(\n",
    "        self, \n",
    "        kernel=None, \n",
    "        *, \n",
    "        alpha=1e-10, \n",
    "        optimizer=\"fmin_l_bfgs_b\", \n",
    "        n_restarts_optimizer=0, \n",
    "        normalize_y=False, \n",
    "        copy_X_train=True, \n",
    "        random_state=None, \n",
    "        **kwargs\n",
    "    ):\n",
    "        super().__init__(\n",
    "            kernel=kernel, \n",
    "            alpha=alpha, \n",
    "            optimizer=optimizer, \n",
    "            n_restarts_optimizer=n_restarts_optimizer, \n",
    "            normalize_y=normalize_y, \n",
    "            copy_X_train=copy_X_train, \n",
    "            random_state=random_state, \n",
    "            **kwargs\n",
    "        )\n",
    "        \n",
    "    def fit(self, X, y):\n",
    "        self.set_params(kernel=ConstantKernel(constant_value=1)*RBF(length_scale=np.ones((X.shape[1], ))))\n",
    "        super().fit(X, y)\n",
    "        return self"
   ]
  },
  {
   "cell_type": "code",
   "execution_count": 4,
   "id": "7d10beab",
   "metadata": {},
   "outputs": [
    {
     "data": {
      "text/html": [
       "<style>#sk-f2a9de68-4011-47e8-9fa2-3b11d1032a34 {color: black;background-color: white;}#sk-f2a9de68-4011-47e8-9fa2-3b11d1032a34 pre{padding: 0;}#sk-f2a9de68-4011-47e8-9fa2-3b11d1032a34 div.sk-toggleable {background-color: white;}#sk-f2a9de68-4011-47e8-9fa2-3b11d1032a34 label.sk-toggleable__label {cursor: pointer;display: block;width: 100%;margin-bottom: 0;padding: 0.3em;box-sizing: border-box;text-align: center;}#sk-f2a9de68-4011-47e8-9fa2-3b11d1032a34 label.sk-toggleable__label-arrow:before {content: \"▸\";float: left;margin-right: 0.25em;color: #696969;}#sk-f2a9de68-4011-47e8-9fa2-3b11d1032a34 label.sk-toggleable__label-arrow:hover:before {color: black;}#sk-f2a9de68-4011-47e8-9fa2-3b11d1032a34 div.sk-estimator:hover label.sk-toggleable__label-arrow:before {color: black;}#sk-f2a9de68-4011-47e8-9fa2-3b11d1032a34 div.sk-toggleable__content {max-height: 0;max-width: 0;overflow: hidden;text-align: left;background-color: #f0f8ff;}#sk-f2a9de68-4011-47e8-9fa2-3b11d1032a34 div.sk-toggleable__content pre {margin: 0.2em;color: black;border-radius: 0.25em;background-color: #f0f8ff;}#sk-f2a9de68-4011-47e8-9fa2-3b11d1032a34 input.sk-toggleable__control:checked~div.sk-toggleable__content {max-height: 200px;max-width: 100%;overflow: auto;}#sk-f2a9de68-4011-47e8-9fa2-3b11d1032a34 input.sk-toggleable__control:checked~label.sk-toggleable__label-arrow:before {content: \"▾\";}#sk-f2a9de68-4011-47e8-9fa2-3b11d1032a34 div.sk-estimator input.sk-toggleable__control:checked~label.sk-toggleable__label {background-color: #d4ebff;}#sk-f2a9de68-4011-47e8-9fa2-3b11d1032a34 div.sk-label input.sk-toggleable__control:checked~label.sk-toggleable__label {background-color: #d4ebff;}#sk-f2a9de68-4011-47e8-9fa2-3b11d1032a34 input.sk-hidden--visually {border: 0;clip: rect(1px 1px 1px 1px);clip: rect(1px, 1px, 1px, 1px);height: 1px;margin: -1px;overflow: hidden;padding: 0;position: absolute;width: 1px;}#sk-f2a9de68-4011-47e8-9fa2-3b11d1032a34 div.sk-estimator {font-family: monospace;background-color: #f0f8ff;border: 1px dotted black;border-radius: 0.25em;box-sizing: border-box;margin-bottom: 0.5em;}#sk-f2a9de68-4011-47e8-9fa2-3b11d1032a34 div.sk-estimator:hover {background-color: #d4ebff;}#sk-f2a9de68-4011-47e8-9fa2-3b11d1032a34 div.sk-parallel-item::after {content: \"\";width: 100%;border-bottom: 1px solid gray;flex-grow: 1;}#sk-f2a9de68-4011-47e8-9fa2-3b11d1032a34 div.sk-label:hover label.sk-toggleable__label {background-color: #d4ebff;}#sk-f2a9de68-4011-47e8-9fa2-3b11d1032a34 div.sk-serial::before {content: \"\";position: absolute;border-left: 1px solid gray;box-sizing: border-box;top: 2em;bottom: 0;left: 50%;}#sk-f2a9de68-4011-47e8-9fa2-3b11d1032a34 div.sk-serial {display: flex;flex-direction: column;align-items: center;background-color: white;padding-right: 0.2em;padding-left: 0.2em;}#sk-f2a9de68-4011-47e8-9fa2-3b11d1032a34 div.sk-item {z-index: 1;}#sk-f2a9de68-4011-47e8-9fa2-3b11d1032a34 div.sk-parallel {display: flex;align-items: stretch;justify-content: center;background-color: white;}#sk-f2a9de68-4011-47e8-9fa2-3b11d1032a34 div.sk-parallel::before {content: \"\";position: absolute;border-left: 1px solid gray;box-sizing: border-box;top: 2em;bottom: 0;left: 50%;}#sk-f2a9de68-4011-47e8-9fa2-3b11d1032a34 div.sk-parallel-item {display: flex;flex-direction: column;position: relative;background-color: white;}#sk-f2a9de68-4011-47e8-9fa2-3b11d1032a34 div.sk-parallel-item:first-child::after {align-self: flex-end;width: 50%;}#sk-f2a9de68-4011-47e8-9fa2-3b11d1032a34 div.sk-parallel-item:last-child::after {align-self: flex-start;width: 50%;}#sk-f2a9de68-4011-47e8-9fa2-3b11d1032a34 div.sk-parallel-item:only-child::after {width: 0;}#sk-f2a9de68-4011-47e8-9fa2-3b11d1032a34 div.sk-dashed-wrapped {border: 1px dashed gray;margin: 0 0.4em 0.5em 0.4em;box-sizing: border-box;padding-bottom: 0.4em;background-color: white;position: relative;}#sk-f2a9de68-4011-47e8-9fa2-3b11d1032a34 div.sk-label label {font-family: monospace;font-weight: bold;background-color: white;display: inline-block;line-height: 1.2em;}#sk-f2a9de68-4011-47e8-9fa2-3b11d1032a34 div.sk-label-container {position: relative;z-index: 2;text-align: center;}#sk-f2a9de68-4011-47e8-9fa2-3b11d1032a34 div.sk-container {/* jupyter's `normalize.less` sets `[hidden] { display: none; }` but bootstrap.min.css set `[hidden] { display: none !important; }` so we also need the `!important` here to be able to override the default hidden behavior on the sphinx rendered scikit-learn.org. See: https://github.com/scikit-learn/scikit-learn/issues/21755 */display: inline-block !important;position: relative;}#sk-f2a9de68-4011-47e8-9fa2-3b11d1032a34 div.sk-text-repr-fallback {display: none;}</style><div id=\"sk-f2a9de68-4011-47e8-9fa2-3b11d1032a34\" class=\"sk-top-container\"><div class=\"sk-text-repr-fallback\"><pre>GaussianProcessRegressor(kernel=1**2 * RBF(length_scale=[1, 1, 1, 1, 1, 1, 1]),\n",
       "                         n_restarts_optimizer=9, random_state=42)</pre><b>Please rerun this cell to show the HTML repr or trust the notebook.</b></div><div class=\"sk-container\" hidden><div class=\"sk-item sk-dashed-wrapped\"><div class=\"sk-label-container\"><div class=\"sk-label sk-toggleable\"><input class=\"sk-toggleable__control sk-hidden--visually\" id=\"5c54ba42-7e8d-4f47-9004-b65389dd2480\" type=\"checkbox\" ><label for=\"5c54ba42-7e8d-4f47-9004-b65389dd2480\" class=\"sk-toggleable__label sk-toggleable__label-arrow\">GaussianProcessRegressor</label><div class=\"sk-toggleable__content\"><pre>GaussianProcessRegressor(kernel=1**2 * RBF(length_scale=[1, 1, 1, 1, 1, 1, 1]),\n",
       "                         n_restarts_optimizer=9, random_state=42)</pre></div></div></div><div class=\"sk-parallel\"><div class=\"sk-parallel-item\"><div class=\"sk-item\"><div class=\"sk-serial\"><div class=\"sk-item sk-dashed-wrapped\"><div class=\"sk-parallel\"><div class=\"sk-parallel-item\"><div class=\"sk-item\"><div class=\"sk-serial\"><div class=\"sk-item\"><div class=\"sk-estimator sk-toggleable\"><input class=\"sk-toggleable__control sk-hidden--visually\" id=\"e56c7dbc-4693-44db-ad76-0bff46a8e50d\" type=\"checkbox\" ><label for=\"e56c7dbc-4693-44db-ad76-0bff46a8e50d\" class=\"sk-toggleable__label sk-toggleable__label-arrow\">ConstantKernel</label><div class=\"sk-toggleable__content\"><pre>1**2</pre></div></div></div></div></div></div><div class=\"sk-parallel-item\"><div class=\"sk-item\"><div class=\"sk-serial\"><div class=\"sk-item\"><div class=\"sk-estimator sk-toggleable\"><input class=\"sk-toggleable__control sk-hidden--visually\" id=\"756479ab-c230-4af4-91ac-c0a1b59c8c5a\" type=\"checkbox\" ><label for=\"756479ab-c230-4af4-91ac-c0a1b59c8c5a\" class=\"sk-toggleable__label sk-toggleable__label-arrow\">RBF</label><div class=\"sk-toggleable__content\"><pre>RBF(length_scale=[1, 1, 1, 1, 1, 1, 1])</pre></div></div></div></div></div></div></div></div></div></div></div></div></div></div></div>"
      ],
      "text/plain": [
       "GaussianProcessRegressor(kernel=1**2 * RBF(length_scale=[1, 1, 1, 1, 1, 1, 1]),\n",
       "                         n_restarts_optimizer=9, random_state=42)"
      ]
     },
     "execution_count": 4,
     "metadata": {},
     "output_type": "execute_result"
    }
   ],
   "source": [
    "# standardization\n",
    "manual_scaler = StandardScaler().fit(X_train)\n",
    "X_train_scaled = manual_scaler.transform(X_train)\n",
    "\n",
    "# PCA\n",
    "manual_tpca = PCA(n_components=0.95).fit(X_train_scaled)\n",
    "X_train_scaled_pca = manual_tpca.transform(X_train_scaled)\n",
    "\n",
    "# GPR\n",
    "manual_kernel = ConstantKernel(constant_value=1)*RBF(length_scale=np.ones((manual_tpca.n_components_, )))\n",
    "manual_gpr = GaussianProcessRegressor(\n",
    "    kernel=manual_kernel, n_restarts_optimizer=9, random_state=rs_num\n",
    ")\n",
    "manual_gpr.fit(X_train_scaled_pca, y_train)"
   ]
  },
  {
   "cell_type": "markdown",
   "id": "1f643491",
   "metadata": {},
   "source": [
    "Now with everything ready, we can apply GPR repeated 5-fold cross-validation."
   ]
  },
  {
   "cell_type": "code",
   "execution_count": 5,
   "id": "f4743327",
   "metadata": {},
   "outputs": [],
   "source": [
    "manual_cv = RepeatedKFold(n_splits=5, n_repeats=2, random_state=rs_num)\n",
    "manual_gpr_scores = cross_validate(\n",
    "    manual_gpr, X_train_scaled_pca, y_train, cv=manual_cv\n",
    ")"
   ]
  },
  {
   "cell_type": "markdown",
   "id": "f1307805",
   "metadata": {},
   "source": [
    "# 2. Chain Everything Together with Pipeline"
   ]
  },
  {
   "cell_type": "code",
   "execution_count": null,
   "id": "fb723dfc",
   "metadata": {
    "scrolled": true
   },
   "outputs": [],
   "source": [
    "gpr_pipeline = Pipeline(\n",
    "    [('scaler', StandardScaler()), \n",
    "     ('pca', PCA(n_components=0.95, random_state=rs_num)), \n",
    "     ('gpr', \n",
    "      MyGPR(kernel=ConstantKernel(constant_value=1)*RBF(length_scale=np.ones((10, ))), \n",
    "      n_restarts_optimizer=9, random_state=rs_num))]\n",
    ")\n",
    "gpr_pipeline.fit(X_train, y_train)"
   ]
  },
  {
   "cell_type": "code",
   "execution_count": null,
   "id": "6636a0a6",
   "metadata": {},
   "outputs": [],
   "source": []
  },
  {
   "cell_type": "markdown",
   "id": "132bc32c",
   "metadata": {},
   "source": [
    "Now do the 5-fold cross-validation."
   ]
  },
  {
   "cell_type": "code",
   "execution_count": null,
   "id": "4e099868",
   "metadata": {},
   "outputs": [],
   "source": [
    "pipeline_cv = RepeatedKFold(n_splits=5, n_repeats=2, random_state=rs_num)\n",
    "pipeline_scores = cross_validate(gpr_pipeline, X_train, y_train, cv=pipeline_cv)"
   ]
  },
  {
   "cell_type": "markdown",
   "id": "96e6f2bb",
   "metadata": {},
   "source": [
    "# 3. Compare Two Results"
   ]
  },
  {
   "cell_type": "code",
   "execution_count": null,
   "id": "b4cd8cba",
   "metadata": {},
   "outputs": [],
   "source": [
    "fig, ax = plt.subplots()\n",
    "\n",
    "ax.boxplot(\n",
    "    [manual_gpr_scores['test_score'], pipeline_scores['test_score']], \n",
    "    labels=['Manual Scores', 'Pipeline Scores']\n",
    ")\n",
    "\n",
    "plt.tight_layout()"
   ]
  },
  {
   "cell_type": "code",
   "execution_count": null,
   "id": "93cc1c63",
   "metadata": {},
   "outputs": [],
   "source": []
  },
  {
   "cell_type": "code",
   "execution_count": null,
   "id": "42c9ec5b",
   "metadata": {},
   "outputs": [],
   "source": []
  },
  {
   "cell_type": "code",
   "execution_count": null,
   "id": "b63f5231",
   "metadata": {},
   "outputs": [],
   "source": []
  }
 ],
 "metadata": {
  "kernelspec": {
   "display_name": "Python 3 (ipykernel)",
   "language": "python",
   "name": "python3"
  },
  "language_info": {
   "codemirror_mode": {
    "name": "ipython",
    "version": 3
   },
   "file_extension": ".py",
   "mimetype": "text/x-python",
   "name": "python",
   "nbconvert_exporter": "python",
   "pygments_lexer": "ipython3",
   "version": "3.8.12"
  }
 },
 "nbformat": 4,
 "nbformat_minor": 5
}
