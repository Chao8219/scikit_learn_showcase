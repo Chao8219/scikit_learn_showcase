{
 "cells": [
  {
   "cell_type": "code",
   "execution_count": 1,
   "id": "7a3570a6",
   "metadata": {},
   "outputs": [],
   "source": [
    "import numpy as np\n",
    "from matplotlib import pyplot as plt\n",
    "import seaborn as sns\n",
    "import pandas as pd\n",
    "import scipy\n",
    "import warnings\n",
    "\n",
    "import sklearn\n",
    "from sklearn.pipeline import Pipeline\n",
    "from sklearn.preprocessing import StandardScaler\n",
    "from sklearn.decomposition import PCA\n",
    "from sklearn.model_selection import train_test_split, cross_validate\n",
    "from sklearn.model_selection import RepeatedKFold, GridSearchCV\n",
    "from sklearn.linear_model import LinearRegression\n",
    "from sklearn.cross_decomposition import CCA, PLSCanonical\n",
    "\n",
    "rs_num = 14\n",
    "rng = np.random.default_rng(rs_num)\n",
    "\n",
    "sklearn.set_config(display=\"diagram\")"
   ]
  },
  {
   "cell_type": "markdown",
   "id": "b745bf73",
   "metadata": {},
   "source": [
    "# 1. Dataset Construction"
   ]
  },
  {
   "cell_type": "code",
   "execution_count": 2,
   "id": "5d7c46df",
   "metadata": {},
   "outputs": [],
   "source": [
    "sample_num = 300\n",
    "X_dimension_num = 4\n",
    "Y_dimension_num = 3\n",
    "\n",
    "# construct X\n",
    "x1 = rng.normal(loc=0.0, scale=1.0, size=(sample_num, 1))\n",
    "x2 = rng.normal(loc=0.0, scale=1.0, size=(sample_num, 1))\n",
    "x3 = rng.normal(loc=0.0, scale=1.0, size=(sample_num, 1))\n",
    "x4 = rng.normal(loc=0.0, scale=1.0, size=(sample_num, 1))\n",
    "\n",
    "X = np.zeros((sample_num, X_dimension_num))\n",
    "X[:, 0] = x1.reshape(-1, )\n",
    "X[:, 1] = x2.reshape(-1, )\n",
    "X[:, 2] = x3.reshape(-1, )\n",
    "X[:, 3] = x4.reshape(-1, )\n",
    "\n",
    "# noise\n",
    "xi_1 = rng.normal(loc=0, scale=np.sqrt(0.2), size=x3.shape)\n",
    "xi_2 = rng.normal(loc=0, scale=np.sqrt(0.4), size=x1.shape)\n",
    "xi_3 = rng.normal(loc=0, scale=np.sqrt(0.3), size=x4.shape)\n",
    "\n",
    "# contruct Y\n",
    "y1 = x3 + xi_1\n",
    "y2 = x1 + xi_2\n",
    "y3 = -x4 + xi_3\n",
    "\n",
    "Y = np.zeros((sample_num, Y_dimension_num))\n",
    "Y[:, 0] = y1.reshape(-1, )\n",
    "Y[:, 1] = y2.reshape(-1, )\n",
    "Y[:, 2] = y3.reshape(-1, )"
   ]
  },
  {
   "cell_type": "markdown",
   "id": "27ca4aec",
   "metadata": {},
   "source": [
    "Split the dataset into training and testing datasets:"
   ]
  },
  {
   "cell_type": "code",
   "execution_count": 3,
   "id": "a9fd5426",
   "metadata": {},
   "outputs": [],
   "source": [
    "[X_train, X_test, Y_train, Y_test] = train_test_split(X, Y, test_size=0.20, random_state=rs_num)"
   ]
  },
  {
   "cell_type": "markdown",
   "id": "9174498b",
   "metadata": {},
   "source": [
    "Standardize two matrices:"
   ]
  },
  {
   "cell_type": "code",
   "execution_count": 4,
   "id": "84dc4f05",
   "metadata": {},
   "outputs": [],
   "source": [
    "# standardization of two matrices\n",
    "X_train_scaler = StandardScaler().fit(X_train)\n",
    "X_train_standardized = X_train_scaler.transform(X_train)\n",
    "X_test_standardized = X_train_scaler.transform(X_test)\n",
    "\n",
    "Y_train_scaler = StandardScaler().fit(Y_train)\n",
    "Y_train_standardized = Y_train_scaler.transform(Y_train)\n",
    "Y_test_standardized = Y_train_scaler.transform(Y_test)"
   ]
  },
  {
   "cell_type": "code",
   "execution_count": null,
   "id": "0b1b85ef",
   "metadata": {},
   "outputs": [],
   "source": []
  },
  {
   "cell_type": "markdown",
   "id": "37b46a12",
   "metadata": {},
   "source": [
    "We can also get a baseline model evaluation through linear regression."
   ]
  },
  {
   "cell_type": "code",
   "execution_count": 5,
   "id": "5be76d96",
   "metadata": {},
   "outputs": [
    {
     "data": {
      "text/html": [
       "<style>#sk-container-id-1 {color: black;background-color: white;}#sk-container-id-1 pre{padding: 0;}#sk-container-id-1 div.sk-toggleable {background-color: white;}#sk-container-id-1 label.sk-toggleable__label {cursor: pointer;display: block;width: 100%;margin-bottom: 0;padding: 0.3em;box-sizing: border-box;text-align: center;}#sk-container-id-1 label.sk-toggleable__label-arrow:before {content: \"▸\";float: left;margin-right: 0.25em;color: #696969;}#sk-container-id-1 label.sk-toggleable__label-arrow:hover:before {color: black;}#sk-container-id-1 div.sk-estimator:hover label.sk-toggleable__label-arrow:before {color: black;}#sk-container-id-1 div.sk-toggleable__content {max-height: 0;max-width: 0;overflow: hidden;text-align: left;background-color: #f0f8ff;}#sk-container-id-1 div.sk-toggleable__content pre {margin: 0.2em;color: black;border-radius: 0.25em;background-color: #f0f8ff;}#sk-container-id-1 input.sk-toggleable__control:checked~div.sk-toggleable__content {max-height: 200px;max-width: 100%;overflow: auto;}#sk-container-id-1 input.sk-toggleable__control:checked~label.sk-toggleable__label-arrow:before {content: \"▾\";}#sk-container-id-1 div.sk-estimator input.sk-toggleable__control:checked~label.sk-toggleable__label {background-color: #d4ebff;}#sk-container-id-1 div.sk-label input.sk-toggleable__control:checked~label.sk-toggleable__label {background-color: #d4ebff;}#sk-container-id-1 input.sk-hidden--visually {border: 0;clip: rect(1px 1px 1px 1px);clip: rect(1px, 1px, 1px, 1px);height: 1px;margin: -1px;overflow: hidden;padding: 0;position: absolute;width: 1px;}#sk-container-id-1 div.sk-estimator {font-family: monospace;background-color: #f0f8ff;border: 1px dotted black;border-radius: 0.25em;box-sizing: border-box;margin-bottom: 0.5em;}#sk-container-id-1 div.sk-estimator:hover {background-color: #d4ebff;}#sk-container-id-1 div.sk-parallel-item::after {content: \"\";width: 100%;border-bottom: 1px solid gray;flex-grow: 1;}#sk-container-id-1 div.sk-label:hover label.sk-toggleable__label {background-color: #d4ebff;}#sk-container-id-1 div.sk-serial::before {content: \"\";position: absolute;border-left: 1px solid gray;box-sizing: border-box;top: 0;bottom: 0;left: 50%;z-index: 0;}#sk-container-id-1 div.sk-serial {display: flex;flex-direction: column;align-items: center;background-color: white;padding-right: 0.2em;padding-left: 0.2em;position: relative;}#sk-container-id-1 div.sk-item {position: relative;z-index: 1;}#sk-container-id-1 div.sk-parallel {display: flex;align-items: stretch;justify-content: center;background-color: white;position: relative;}#sk-container-id-1 div.sk-item::before, #sk-container-id-1 div.sk-parallel-item::before {content: \"\";position: absolute;border-left: 1px solid gray;box-sizing: border-box;top: 0;bottom: 0;left: 50%;z-index: -1;}#sk-container-id-1 div.sk-parallel-item {display: flex;flex-direction: column;z-index: 1;position: relative;background-color: white;}#sk-container-id-1 div.sk-parallel-item:first-child::after {align-self: flex-end;width: 50%;}#sk-container-id-1 div.sk-parallel-item:last-child::after {align-self: flex-start;width: 50%;}#sk-container-id-1 div.sk-parallel-item:only-child::after {width: 0;}#sk-container-id-1 div.sk-dashed-wrapped {border: 1px dashed gray;margin: 0 0.4em 0.5em 0.4em;box-sizing: border-box;padding-bottom: 0.4em;background-color: white;}#sk-container-id-1 div.sk-label label {font-family: monospace;font-weight: bold;display: inline-block;line-height: 1.2em;}#sk-container-id-1 div.sk-label-container {text-align: center;}#sk-container-id-1 div.sk-container {/* jupyter's `normalize.less` sets `[hidden] { display: none; }` but bootstrap.min.css set `[hidden] { display: none !important; }` so we also need the `!important` here to be able to override the default hidden behavior on the sphinx rendered scikit-learn.org. See: https://github.com/scikit-learn/scikit-learn/issues/21755 */display: inline-block !important;position: relative;}#sk-container-id-1 div.sk-text-repr-fallback {display: none;}</style><div id=\"sk-container-id-1\" class=\"sk-top-container\"><div class=\"sk-text-repr-fallback\"><pre>Pipeline(steps=[(&#x27;scaler&#x27;, StandardScaler()), (&#x27;lr&#x27;, LinearRegression())])</pre><b>In a Jupyter environment, please rerun this cell to show the HTML representation or trust the notebook. <br />On GitHub, the HTML representation is unable to render, please try loading this page with nbviewer.org.</b></div><div class=\"sk-container\" hidden><div class=\"sk-item sk-dashed-wrapped\"><div class=\"sk-label-container\"><div class=\"sk-label sk-toggleable\"><input class=\"sk-toggleable__control sk-hidden--visually\" id=\"sk-estimator-id-1\" type=\"checkbox\" ><label for=\"sk-estimator-id-1\" class=\"sk-toggleable__label sk-toggleable__label-arrow\">Pipeline</label><div class=\"sk-toggleable__content\"><pre>Pipeline(steps=[(&#x27;scaler&#x27;, StandardScaler()), (&#x27;lr&#x27;, LinearRegression())])</pre></div></div></div><div class=\"sk-serial\"><div class=\"sk-item\"><div class=\"sk-estimator sk-toggleable\"><input class=\"sk-toggleable__control sk-hidden--visually\" id=\"sk-estimator-id-2\" type=\"checkbox\" ><label for=\"sk-estimator-id-2\" class=\"sk-toggleable__label sk-toggleable__label-arrow\">StandardScaler</label><div class=\"sk-toggleable__content\"><pre>StandardScaler()</pre></div></div></div><div class=\"sk-item\"><div class=\"sk-estimator sk-toggleable\"><input class=\"sk-toggleable__control sk-hidden--visually\" id=\"sk-estimator-id-3\" type=\"checkbox\" ><label for=\"sk-estimator-id-3\" class=\"sk-toggleable__label sk-toggleable__label-arrow\">LinearRegression</label><div class=\"sk-toggleable__content\"><pre>LinearRegression()</pre></div></div></div></div></div></div></div>"
      ],
      "text/plain": [
       "Pipeline(steps=[('scaler', StandardScaler()), ('lr', LinearRegression())])"
      ]
     },
     "execution_count": 5,
     "metadata": {},
     "output_type": "execute_result"
    }
   ],
   "source": [
    "pipeline_baseline = Pipeline(\n",
    "    [\n",
    "        ('scaler', StandardScaler()), \n",
    "        ('lr', LinearRegression())\n",
    "    ]\n",
    ")\n",
    "\n",
    "cv_scores_baseline = cross_validate(\n",
    "    pipeline_baseline, X_train, Y_train, \n",
    "    cv=RepeatedKFold(n_splits=5, n_repeats=5, random_state=rs_num)\n",
    ")['test_score']\n",
    "\n",
    "# also train on the whole training dataset, and see the score on the test dataset\n",
    "pipeline_baseline.fit(X_train, Y_train)"
   ]
  },
  {
   "cell_type": "code",
   "execution_count": 36,
   "id": "ac9b8072",
   "metadata": {},
   "outputs": [
    {
     "data": {
      "image/png": "[encoded data removed]",
      "text/plain": [
       "<Figure size 432x288 with 1 Axes>"
      ]
     },
     "metadata": {
      "needs_background": "light"
     },
     "output_type": "display_data"
    }
   ],
   "source": [
    "# visualize model evaluation\n",
    "viz_labels = ['baseline']\n",
    "\n",
    "fig, ax = plt.subplots()\n",
    "\n",
    "ax.boxplot(\n",
    "    [cv_scores_baseline], labels=viz_labels\n",
    ")\n",
    "ax.scatter(\n",
    "    [1], \n",
    "    [pipeline_baseline.score(X_test, Y_test)], \n",
    "    fc='none',\n",
    "    ec='blue', \n",
    "    marker='^', \n",
    "    label='scores on test dataset'\n",
    ")\n",
    "\n",
    "ax.set(ylabel='Scores', title='RepeatedKFold CV')\n",
    "ax.set_xticklabels(viz_labels, rotation=45)\n",
    "ax.legend(\n",
    "    loc='upper center',\n",
    "    bbox_to_anchor=(0.5, -0.22),\n",
    "    fancybox=True,\n",
    "    shadow=True,\n",
    "    ncol=2,\n",
    "    fontsize='small'\n",
    ")\n",
    "\n",
    "plt.tight_layout()"
   ]
  },
  {
   "cell_type": "markdown",
   "id": "5edd5aac",
   "metadata": {},
   "source": [
    "# 2. CCA via sklearn CCA"
   ]
  },
  {
   "cell_type": "code",
   "execution_count": 7,
   "id": "f3a7ed1c",
   "metadata": {},
   "outputs": [],
   "source": [
    "# create a customized cross-validation method\n",
    "def custom_cv(validator, X, Y, fit_n_score_func, *args):\n",
    "    # note: normally X and Y are already training datasets\n",
    "    \n",
    "    # construct score array\n",
    "    score_arr = np.zeros((validator.get_n_splits(), ))\n",
    "    \n",
    "    # fit and validate\n",
    "    ii = 0\n",
    "    for train_ind, test_ind in validator.split(X):\n",
    "        # slicing arrays\n",
    "        X_train, X_test = X[train_ind], X[test_ind]\n",
    "        Y_train, Y_test = Y[train_ind], Y[test_ind]\n",
    "        \n",
    "        # train the model and get the score\n",
    "        score_arr[ii] = fit_n_score_func(X_train, X_test, Y_train, Y_test, *args)\n",
    "        ii += 1\n",
    "    \n",
    "    return score_arr"
   ]
  },
  {
   "cell_type": "code",
   "execution_count": 8,
   "id": "8cbf4013",
   "metadata": {},
   "outputs": [],
   "source": [
    "# create a customized pipeline\n",
    "def sklearn_cca_fit_n_score(X_train, X_test, Y_train, Y_test, n_components, max_iter, tol):\n",
    "    # fitting the model\n",
    "    cca = CCA(n_components=n_components, max_iter=max_iter, tol=tol).fit(X_train, Y_train)\n",
    "    \n",
    "    # transform the model\n",
    "    Xc_train, Yc_train = cca.transform(X_train, Y_train)\n",
    "    Xc_test, Yc_test = cca.transform(X_test, Y_test)\n",
    "    \n",
    "    # train with linear regression and get a score\n",
    "    return LinearRegression().fit(Xc_train, Yc_train).score(Xc_test, Yc_test)"
   ]
  },
  {
   "cell_type": "code",
   "execution_count": 9,
   "id": "e8ed56d4",
   "metadata": {},
   "outputs": [],
   "source": [
    "rkf_sklearn = RepeatedKFold(n_splits=5, n_repeats=5, random_state=rs_num)\n",
    "n_components = np.min([X_dimension_num, Y_dimension_num])\n",
    "max_iter = int(1e12)\n",
    "tol = 1e-12"
   ]
  },
  {
   "cell_type": "code",
   "execution_count": 11,
   "id": "2ced68c1",
   "metadata": {},
   "outputs": [
    {
     "name": "stdout",
     "output_type": "stream",
     "text": [
      "Pre-standardization makes 8.20e-14 total difference on X\n",
      "Pre-standardization makes 8.18e-14 total difference on Y\n"
     ]
    }
   ],
   "source": [
    "# manuallly chain them together\n",
    "cca_sklearn = CCA(\n",
    "    n_components=n_components, \n",
    "    max_iter=max_iter, \n",
    "    tol=tol\n",
    ").fit(X_train, Y_train)\n",
    "\n",
    "# note: X and Y will be standardized\n",
    "Xc_train_sklearn, Yc_train_sklearn = cca_sklearn.transform(X_train, Y_train)\n",
    "Xc_test_sklearn, Yc_test_sklearn = cca_sklearn.transform(X_test, Y_test)\n",
    "\n",
    "# calculate canonical correlation\n",
    "cc_sklearn = np.corrcoef(\n",
    "    Xc_train_sklearn.T, Yc_train_sklearn.T\n",
    ").diagonal(offset=n_components)\n",
    "\n",
    "# also compare if pre-standardization would make a difference\n",
    "check_Xc_train_sklearn, check_Yc_train_sklearn = CCA(\n",
    "    n_components=n_components, \n",
    "    max_iter=max_iter, \n",
    "    tol=tol\n",
    ").fit_transform(X_train_standardized, Y_train_standardized)\n",
    "\n",
    "print(\n",
    "    'Pre-standardization makes {:.2e} total difference on X'.format(\n",
    "        np.linalg.norm(check_Xc_train_sklearn-Xc_train_sklearn)\n",
    "    )\n",
    ")\n",
    "print(\n",
    "    'Pre-standardization makes {:.2e} total difference on Y'.format(\n",
    "        np.linalg.norm(check_Yc_train_sklearn-Yc_train_sklearn)\n",
    "    )\n",
    ")"
   ]
  },
  {
   "cell_type": "markdown",
   "id": "1c569edb",
   "metadata": {},
   "source": [
    "Now we can similarly apply the same Linear Regression on the transformed datasets."
   ]
  },
  {
   "cell_type": "code",
   "execution_count": 12,
   "id": "91453560",
   "metadata": {},
   "outputs": [],
   "source": [
    "cv_scores_sklearn = custom_cv(\n",
    "    rkf_sklearn, X_train, Y_train, \n",
    "    sklearn_cca_fit_n_score, \n",
    "    n_components, max_iter, tol\n",
    ")\n",
    "\n",
    "# also evaluate them manually\n",
    "eval_score_sklearn = sklearn_cca_fit_n_score(\n",
    "    X_train, X_test, Y_train, Y_test, \n",
    "    n_components, max_iter, tol\n",
    ")"
   ]
  },
  {
   "cell_type": "code",
   "execution_count": 35,
   "id": "55735b29",
   "metadata": {},
   "outputs": [
    {
     "data": {
      "image/png": "[encoded data removed]",
      "text/plain": [
       "<Figure size 432x288 with 1 Axes>"
      ]
     },
     "metadata": {
      "needs_background": "light"
     },
     "output_type": "display_data"
    }
   ],
   "source": [
    "# visualize model evaluation\n",
    "viz_labels = ['baseline', 'sklearn']\n",
    "\n",
    "fig, ax = plt.subplots()\n",
    "\n",
    "ax.boxplot(\n",
    "    [cv_scores_baseline, cv_scores_sklearn], \n",
    "    labels=viz_labels\n",
    ")\n",
    "ax.scatter(\n",
    "    [1, 2], \n",
    "    [pipeline_baseline.score(X_test, Y_test), eval_score_sklearn], \n",
    "    fc='none',\n",
    "    ec='blue', \n",
    "    marker='^', \n",
    "    label='scores on test dataset'\n",
    ")\n",
    "\n",
    "ax.set(ylabel='Scores', title='RepeatedKFold CV')\n",
    "ax.set_xticklabels(viz_labels, rotation=45)\n",
    "ax.legend(\n",
    "    loc='upper center',\n",
    "    bbox_to_anchor=(0.5, -0.22),\n",
    "    fancybox=True,\n",
    "    shadow=True,\n",
    "    ncol=2,\n",
    "    fontsize='small'\n",
    ")\n",
    "\n",
    "plt.tight_layout()"
   ]
  },
  {
   "cell_type": "code",
   "execution_count": null,
   "id": "ca7c023b",
   "metadata": {},
   "outputs": [],
   "source": []
  },
  {
   "cell_type": "markdown",
   "id": "f6bc8b56",
   "metadata": {},
   "source": [
    "# 3. CCA via Standard Eigenvalue Problem"
   ]
  },
  {
   "cell_type": "code",
   "execution_count": 14,
   "id": "1e45f10e",
   "metadata": {},
   "outputs": [
    {
     "name": "stdout",
     "output_type": "stream",
     "text": [
      "The canonical correlation is:\n",
      "[0.91048651 0.80452823 0.86642529]\n"
     ]
    }
   ],
   "source": [
    "# compute joint covariance matrix\n",
    "C = np.cov(X_train_standardized.T, Y_train_standardized.T, ddof=0)\n",
    "\n",
    "Cxx = C[0:X_dimension_num, 0:X_dimension_num]\n",
    "Cxy = C[0:X_dimension_num, X_dimension_num:]\n",
    "Cyy = C[X_dimension_num:, X_dimension_num:]\n",
    "\n",
    "C_compute = np.linalg.multi_dot(\n",
    "    [np.linalg.inv(Cyy), Cxy.T, np.linalg.inv(Cxx), Cxy]\n",
    ")\n",
    "\n",
    "[eig_val, eig_vec] = np.linalg.eig(C_compute)\n",
    "\n",
    "# Y matrix weights\n",
    "wy = eig_vec\n",
    "\n",
    "canonical_correlation_arr = np.sqrt(eig_val)\n",
    "print('The canonical correlation is:')\n",
    "print(canonical_correlation_arr)\n",
    "\n",
    "wx = np.linalg.multi_dot([np.linalg.inv(Cxx), Cxy, wy])/canonical_correlation_arr"
   ]
  },
  {
   "cell_type": "code",
   "execution_count": 15,
   "id": "e71ff589",
   "metadata": {},
   "outputs": [],
   "source": [
    "# sort by canonical correlation\n",
    "cc_argind = canonical_correlation_arr.argsort()\n",
    "cc_arr_sorted = canonical_correlation_arr[cc_argind[::-1]]\n",
    "wx_sorted = wx[:, cc_argind[::-1]]\n",
    "wy_sorted = wy[:, cc_argind[::-1]]"
   ]
  },
  {
   "cell_type": "code",
   "execution_count": 16,
   "id": "4afaeef3",
   "metadata": {},
   "outputs": [
    {
     "name": "stdout",
     "output_type": "stream",
     "text": [
      "Canonical Correlation calculated by Standard Eigenvalue Problem:\n",
      "[0.91048651 0.86642529 0.80452823]\n",
      "\n",
      "Canonical Correlation calculated by sklearn CCA:\n",
      "[0.91048651 0.86642529 0.80452823]\n"
     ]
    }
   ],
   "source": [
    "print('Canonical Correlation calculated by Standard Eigenvalue Problem:')\n",
    "print(cc_arr_sorted)\n",
    "print('')\n",
    "print('Canonical Correlation calculated by sklearn CCA:')\n",
    "print(cc_sklearn)"
   ]
  },
  {
   "cell_type": "code",
   "execution_count": 17,
   "id": "4947f844",
   "metadata": {},
   "outputs": [
    {
     "name": "stdout",
     "output_type": "stream",
     "text": [
      "Weight vector w_x calculated by Standard Eigenvalue Problem:\n",
      "[[-0.10185969 -0.23970984  0.93366329]\n",
      " [ 0.04420503  0.01218802 -0.07242301]\n",
      " [-0.99097395  0.18065651 -0.14774114]\n",
      " [-0.09693603 -0.93487307 -0.3524133 ]]\n",
      "\n",
      "Weight vector w_x calculated by sklearn CCA:\n",
      "[[ 0.10166669  0.2512014   0.95903829]\n",
      " [-0.04412212 -0.01529023 -0.07699841]\n",
      " [ 0.98911949 -0.12042806 -0.07641433]\n",
      " [ 0.09674585  0.96029222 -0.26168234]]\n"
     ]
    }
   ],
   "source": [
    "print('Weight vector w_x calculated by Standard Eigenvalue Problem:')\n",
    "print(wx_sorted)\n",
    "print('')\n",
    "print('Weight vector w_x calculated by sklearn CCA:')\n",
    "print(cca_sklearn.x_weights_)"
   ]
  },
  {
   "cell_type": "code",
   "execution_count": 18,
   "id": "31de8b8f",
   "metadata": {},
   "outputs": [
    {
     "name": "stdout",
     "output_type": "stream",
     "text": [
      "Weight vector w_y calculated by Standard Eigenvalue Problem:\n",
      "[[-0.98695911  0.1985678  -0.18571926]\n",
      " [-0.11429969 -0.26796202  0.93281165]\n",
      " [ 0.11334591  0.9427445   0.3088216 ]]\n",
      "\n",
      "Weight vector w_y calculated by sklearn CCA:\n",
      "[[ 0.98696035 -0.14106983 -0.077515  ]\n",
      " [ 0.11429728  0.27512491  0.95459018]\n",
      " [-0.11333757 -0.95100241  0.28766127]]\n"
     ]
    }
   ],
   "source": [
    "print('Weight vector w_y calculated by Standard Eigenvalue Problem:')\n",
    "print(wy_sorted)\n",
    "print('')\n",
    "print('Weight vector w_y calculated by sklearn CCA:')\n",
    "print(cca_sklearn.y_weights_)"
   ]
  },
  {
   "cell_type": "markdown",
   "id": "6106e3ac",
   "metadata": {},
   "source": [
    "Now we can see how well this method handles the datasets."
   ]
  },
  {
   "cell_type": "code",
   "execution_count": 22,
   "id": "7ade5c8f",
   "metadata": {},
   "outputs": [],
   "source": [
    "# create a customized pipeline\n",
    "def std_eig_cca_fit_n_score(X_train, X_test, Y_train, Y_test, n_components):\n",
    "    X_dimension_num = X_train.shape[1]\n",
    "    \n",
    "    # standardization of two matrices\n",
    "    X_train_scaler = StandardScaler().fit(X_train)\n",
    "    X_train_standardized = X_train_scaler.transform(X_train)\n",
    "    X_test_standardized = X_train_scaler.transform(X_test)\n",
    "\n",
    "    Y_train_scaler = StandardScaler().fit(Y_train)\n",
    "    Y_train_standardized = Y_train_scaler.transform(Y_train)\n",
    "    Y_test_standardized = Y_train_scaler.transform(Y_test)\n",
    "    \n",
    "    # compute joint covariance matrix\n",
    "    C = np.cov(X_train_standardized.T, Y_train_standardized.T, ddof=0)\n",
    "\n",
    "    Cxx = C[0:X_dimension_num, 0:X_dimension_num]\n",
    "    Cxy = C[0:X_dimension_num, X_dimension_num:]\n",
    "    Cyy = C[X_dimension_num:, X_dimension_num:]\n",
    "\n",
    "    C_compute = np.linalg.multi_dot(\n",
    "        [np.linalg.inv(Cyy), Cxy.T, np.linalg.inv(Cxx), Cxy]\n",
    "    )\n",
    "    \n",
    "    # solve standard eigenvalue problem\n",
    "    [eig_val, eig_vec] = np.linalg.eig(C_compute)\n",
    "    \n",
    "    # canonical correlation values\n",
    "    cc_arr = np.sqrt(eig_val)\n",
    "\n",
    "    # matrices weights\n",
    "    wy = eig_vec\n",
    "    wx = np.linalg.multi_dot([np.linalg.inv(Cxx), Cxy, wy])/cc_arr\n",
    "    \n",
    "    # sort by canonical correlation\n",
    "    cc_argind = cc_arr.argsort()\n",
    "    cc_arr_sorted = cc_arr[cc_argind[::-1]]\n",
    "    wx_sorted = wx[:, cc_argind[::-1]]\n",
    "    wy_sorted = wy[:, cc_argind[::-1]]\n",
    "    \n",
    "    # transform matrices\n",
    "    Xc_train = X_train_standardized.dot(wx_sorted)[:, :n_components]\n",
    "    Xc_test = X_test_standardized.dot(wx_sorted)[:, :n_components]\n",
    "    Yc_train = Y_train_standardized.dot(wy_sorted)[:, :n_components]\n",
    "    Yc_test = Y_test_standardized.dot(wy_sorted)[:, :n_components]\n",
    "    \n",
    "    # train with linear regression and get a score\n",
    "    return LinearRegression().fit(Xc_train, Yc_train).score(Xc_test, Yc_test)"
   ]
  },
  {
   "cell_type": "code",
   "execution_count": 23,
   "id": "bcfe0aa1",
   "metadata": {},
   "outputs": [],
   "source": [
    "rkf_std_eig = RepeatedKFold(n_splits=5, n_repeats=5, random_state=rs_num)"
   ]
  },
  {
   "cell_type": "code",
   "execution_count": 24,
   "id": "de64a711",
   "metadata": {},
   "outputs": [],
   "source": [
    "# cross-validate\n",
    "cv_scores_std_eig = custom_cv(\n",
    "    rkf_std_eig, X_train, Y_train, \n",
    "    std_eig_cca_fit_n_score, \n",
    "    n_components\n",
    ")\n",
    "\n",
    "# also evaluate them manually\n",
    "eval_score_std_eig = std_eig_cca_fit_n_score(\n",
    "    X_train, X_test, Y_train, Y_test, \n",
    "    n_components\n",
    ")"
   ]
  },
  {
   "cell_type": "code",
   "execution_count": 34,
   "id": "6db12ec0",
   "metadata": {},
   "outputs": [
    {
     "data": {
      "image/png": "[encoded data removed]",
      "text/plain": [
       "<Figure size 432x288 with 1 Axes>"
      ]
     },
     "metadata": {
      "needs_background": "light"
     },
     "output_type": "display_data"
    }
   ],
   "source": [
    "# visualize model evaluation\n",
    "viz_labels = ['baseline', 'sklearn', 'std eig']\n",
    "\n",
    "fig, ax = plt.subplots()\n",
    "\n",
    "ax.boxplot(\n",
    "    [\n",
    "        cv_scores_baseline, \n",
    "        cv_scores_sklearn, \n",
    "        cv_scores_std_eig\n",
    "    ], \n",
    "    labels=viz_labels\n",
    ")\n",
    "ax.scatter(\n",
    "    [1, 2, 3], \n",
    "    [\n",
    "        pipeline_baseline.score(X_test, Y_test), \n",
    "        eval_score_sklearn, \n",
    "        eval_score_std_eig\n",
    "    ], \n",
    "    fc='none',\n",
    "    ec='blue', \n",
    "    marker='^', \n",
    "    label='scores on test dataset'\n",
    ")\n",
    "\n",
    "ax.set(ylabel='Scores', title='RepeatedKFold CV')\n",
    "ax.set_xticklabels(viz_labels, rotation=45)\n",
    "ax.legend(\n",
    "    loc='upper center',\n",
    "    bbox_to_anchor=(0.5, -0.22),\n",
    "    fancybox=True,\n",
    "    shadow=True,\n",
    "    ncol=2,\n",
    "    fontsize='small'\n",
    ")\n",
    "\n",
    "plt.tight_layout()"
   ]
  },
  {
   "cell_type": "code",
   "execution_count": null,
   "id": "b5463f2c",
   "metadata": {},
   "outputs": [],
   "source": []
  }
 ],
 "metadata": {
  "kernelspec": {
   "display_name": "Python 3 (ipykernel)",
   "language": "python",
   "name": "python3"
  },
  "language_info": {
   "codemirror_mode": {
    "name": "ipython",
    "version": 3
   },
   "file_extension": ".py",
   "mimetype": "text/x-python",
   "name": "python",
   "nbconvert_exporter": "python",
   "pygments_lexer": "ipython3",
   "version": "3.8.13"
  }
 },
 "nbformat": 4,
 "nbformat_minor": 5
}
