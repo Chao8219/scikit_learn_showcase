{
 "cells": [
  {
   "cell_type": "code",
   "execution_count": 1,
   "id": "7a3570a6",
   "metadata": {},
   "outputs": [],
   "source": [
    "import numpy as np\n",
    "from matplotlib import pyplot as plt\n",
    "import seaborn as sns\n",
    "import pandas as pd\n",
    "import scipy\n",
    "import warnings\n",
    "\n",
    "import sklearn\n",
    "from sklearn.pipeline import Pipeline\n",
    "from sklearn.preprocessing import StandardScaler\n",
    "from sklearn.decomposition import PCA\n",
    "from sklearn.model_selection import train_test_split, cross_validate\n",
    "from sklearn.model_selection import RepeatedKFold, GridSearchCV\n",
    "from sklearn.linear_model import LinearRegression\n",
    "from sklearn.cross_decomposition import CCA, PLSCanonical\n",
    "from sklearn.utils import Bunch\n",
    "\n",
    "rs_num = 14\n",
    "rng = np.random.default_rng(rs_num)\n",
    "\n",
    "sklearn.set_config(display=\"diagram\")"
   ]
  },
  {
   "cell_type": "markdown",
   "id": "b745bf73",
   "metadata": {},
   "source": [
    "# 1. Dataset Construction"
   ]
  },
  {
   "cell_type": "code",
   "execution_count": 2,
   "id": "5d7c46df",
   "metadata": {},
   "outputs": [],
   "source": [
    "sample_num = 300\n",
    "X_dimension_num = 4\n",
    "Y_dimension_num = 3\n",
    "\n",
    "# construct X\n",
    "x1 = rng.normal(loc=0.0, scale=1.0, size=(sample_num, 1))\n",
    "x2 = rng.normal(loc=0.0, scale=1.0, size=(sample_num, 1))\n",
    "x3 = rng.normal(loc=0.0, scale=1.0, size=(sample_num, 1))\n",
    "x4 = rng.normal(loc=0.0, scale=1.0, size=(sample_num, 1))\n",
    "\n",
    "X = np.zeros((sample_num, X_dimension_num))\n",
    "X[:, 0] = x1.reshape(-1, )\n",
    "X[:, 1] = x2.reshape(-1, )\n",
    "X[:, 2] = x3.reshape(-1, )\n",
    "X[:, 3] = x4.reshape(-1, )\n",
    "\n",
    "# noise\n",
    "xi_1 = rng.normal(loc=0, scale=np.sqrt(0.2), size=x3.shape)\n",
    "xi_2 = rng.normal(loc=0, scale=np.sqrt(0.4), size=x1.shape)\n",
    "xi_3 = rng.normal(loc=0, scale=np.sqrt(0.3), size=x4.shape)\n",
    "\n",
    "# contruct Y\n",
    "y1 = x3 + xi_1\n",
    "y2 = x1 + xi_2\n",
    "y3 = -x4 + xi_3\n",
    "\n",
    "Y = np.zeros((sample_num, Y_dimension_num))\n",
    "Y[:, 0] = y1.reshape(-1, )\n",
    "Y[:, 1] = y2.reshape(-1, )\n",
    "Y[:, 2] = y3.reshape(-1, )"
   ]
  },
  {
   "cell_type": "markdown",
   "id": "45fab229",
   "metadata": {},
   "source": [
    "We can also check out the correlation between X and Y:"
   ]
  },
  {
   "cell_type": "code",
   "execution_count": 3,
   "id": "c21bff48",
   "metadata": {},
   "outputs": [],
   "source": [
    "# customized\n",
    "def custom_abs_corr_viz(ax, corr_coef):\n",
    "    im = ax.imshow(np.abs(corr_coef))\n",
    "    cbar = ax.figure.colorbar(im, ax=ax)\n",
    "    for i in range(corr_coef.shape[0]):\n",
    "        for j in range(corr_coef.shape[1]):\n",
    "            text = ax.text(\n",
    "                j, i, format(np.abs(corr_coef)[i, j], '.2f'), \n",
    "                ha=\"center\", va=\"center\", color=\"w\"\n",
    "            )"
   ]
  },
  {
   "cell_type": "code",
   "execution_count": 4,
   "id": "d093d2d5",
   "metadata": {},
   "outputs": [
    {
     "data": {
      "image/png": "[encoded data removed]",
      "text/plain": [
       "<Figure size 432x288 with 2 Axes>"
      ]
     },
     "metadata": {
      "needs_background": "light"
     },
     "output_type": "display_data"
    }
   ],
   "source": [
    "corr_coef = np.corrcoef(X.T, Y.T)\n",
    "corr_labels = (\n",
    "    ['x'+str(i+1) for i in range(X_dimension_num)] + \n",
    "    ['y'+str(i+1) for i in range(Y_dimension_num)]\n",
    ")\n",
    "\n",
    "fig, ax = plt.subplots(figsize=(6, 4))\n",
    "\n",
    "custom_abs_corr_viz(ax, corr_coef)\n",
    "\n",
    "ax.set_xticks(np.arange(len(corr_labels)), labels=corr_labels)\n",
    "ax.set_yticks(np.arange(len(corr_labels)), labels=corr_labels)\n",
    "ax.set_title('ABS of Correlation Coefficients')\n",
    "\n",
    "plt.tight_layout()"
   ]
  },
  {
   "cell_type": "markdown",
   "id": "27ca4aec",
   "metadata": {},
   "source": [
    "Split the dataset into training and testing datasets:"
   ]
  },
  {
   "cell_type": "code",
   "execution_count": 5,
   "id": "a9fd5426",
   "metadata": {},
   "outputs": [],
   "source": [
    "[X_train, X_test, Y_train, Y_test] = train_test_split(X, Y, test_size=0.20, random_state=rs_num)"
   ]
  },
  {
   "cell_type": "markdown",
   "id": "9174498b",
   "metadata": {},
   "source": [
    "Standardize two matrices:"
   ]
  },
  {
   "cell_type": "code",
   "execution_count": 6,
   "id": "84dc4f05",
   "metadata": {},
   "outputs": [],
   "source": [
    "# standardization of two matrices\n",
    "X_train_scaler = StandardScaler().fit(X_train)\n",
    "X_train_standardized = X_train_scaler.transform(X_train)\n",
    "X_test_standardized = X_train_scaler.transform(X_test)\n",
    "\n",
    "Y_train_scaler = StandardScaler().fit(Y_train)\n",
    "Y_train_standardized = Y_train_scaler.transform(Y_train)\n",
    "Y_test_standardized = Y_train_scaler.transform(Y_test)"
   ]
  },
  {
   "cell_type": "code",
   "execution_count": null,
   "id": "0b1b85ef",
   "metadata": {},
   "outputs": [],
   "source": []
  },
  {
   "cell_type": "markdown",
   "id": "37b46a12",
   "metadata": {},
   "source": [
    "We can also get a baseline model evaluation through linear regression."
   ]
  },
  {
   "cell_type": "code",
   "execution_count": 7,
   "id": "5be76d96",
   "metadata": {},
   "outputs": [],
   "source": [
    "baseline_bunch = Bunch()\n",
    "baseline_bunch.name = 'baseline'\n",
    "\n",
    "baseline_bunch.pipeline = Pipeline(\n",
    "    [\n",
    "        ('scaler', StandardScaler()), \n",
    "        ('lr', LinearRegression())\n",
    "    ]\n",
    ")\n",
    "\n",
    "baseline_bunch.cv_scores = cross_validate(\n",
    "    baseline_bunch.pipeline, X_train, Y_train, \n",
    "    cv=RepeatedKFold(n_splits=5, n_repeats=5, random_state=rs_num)\n",
    ")['test_score']\n",
    "\n",
    "# also train on the whole training dataset, and see the score on the test dataset\n",
    "baseline_bunch.pipeline.fit(X_train, Y_train)\n",
    "\n",
    "# modal evaluation on the test dataset\n",
    "baseline_bunch.eval_score = baseline_bunch.pipeline.score(X_test, Y_test)"
   ]
  },
  {
   "cell_type": "code",
   "execution_count": 8,
   "id": "ac9b8072",
   "metadata": {},
   "outputs": [
    {
     "data": {
      "image/png": "[encoded data removed]",
      "text/plain": [
       "<Figure size 432x288 with 1 Axes>"
      ]
     },
     "metadata": {
      "needs_background": "light"
     },
     "output_type": "display_data"
    }
   ],
   "source": [
    "# put everything in one list\n",
    "bunch_list = [baseline_bunch]\n",
    "\n",
    "# visualize model evaluation\n",
    "viz_labels = []\n",
    "viz_boxplots = []\n",
    "viz_eval_scores = []\n",
    "viz_eval_scores_pos = []\n",
    "\n",
    "for i, bunch in enumerate(bunch_list):\n",
    "    viz_labels.append(bunch.name)\n",
    "    viz_boxplots.append(bunch.cv_scores)\n",
    "    viz_eval_scores.append(bunch.eval_score)\n",
    "    viz_eval_scores_pos.append(i+1)\n",
    "\n",
    "# visualization\n",
    "fig, ax = plt.subplots()\n",
    "\n",
    "ax.boxplot(\n",
    "    viz_boxplots, labels=viz_labels\n",
    ")\n",
    "ax.scatter(\n",
    "    viz_eval_scores_pos, \n",
    "    viz_eval_scores, \n",
    "    fc='none',\n",
    "    ec='blue', \n",
    "    marker='^', \n",
    "    label='scores on test dataset'\n",
    ")\n",
    "\n",
    "ax.set(ylabel='Scores', title='RepeatedKFold CV')\n",
    "ax.set_xticklabels(viz_labels, rotation=45)\n",
    "ax.legend(\n",
    "    loc='upper center',\n",
    "    bbox_to_anchor=(0.5, -0.22),\n",
    "    fancybox=True,\n",
    "    shadow=True,\n",
    "    ncol=2,\n",
    "    fontsize='small'\n",
    ")\n",
    "\n",
    "plt.tight_layout()"
   ]
  },
  {
   "cell_type": "markdown",
   "id": "5edd5aac",
   "metadata": {},
   "source": [
    "# 2. CCA via sklearn CCA"
   ]
  },
  {
   "cell_type": "code",
   "execution_count": 9,
   "id": "f3a7ed1c",
   "metadata": {},
   "outputs": [],
   "source": [
    "# create a customized cross-validation method\n",
    "def custom_cv(validator, X, Y, fit_n_score_func, *args):\n",
    "    # note: normally X and Y are already training datasets\n",
    "    \n",
    "    # construct score array\n",
    "    score_arr = np.zeros((validator.get_n_splits(), ))\n",
    "    \n",
    "    # fit and validate\n",
    "    ii = 0\n",
    "    for train_ind, test_ind in validator.split(X):\n",
    "        # slicing arrays\n",
    "        X_train, X_test = X[train_ind], X[test_ind]\n",
    "        Y_train, Y_test = Y[train_ind], Y[test_ind]\n",
    "        \n",
    "        # train the model and get the score\n",
    "        score_arr[ii] = fit_n_score_func(X_train, X_test, Y_train, Y_test, *args)\n",
    "        ii += 1\n",
    "    \n",
    "    return score_arr"
   ]
  },
  {
   "cell_type": "code",
   "execution_count": 10,
   "id": "8cbf4013",
   "metadata": {},
   "outputs": [],
   "source": [
    "# create a customized pipeline\n",
    "def sklearn_cca_fit_n_score(X_train, X_test, Y_train, Y_test, n_components, max_iter, tol):\n",
    "    # fitting the model\n",
    "    cca = CCA(n_components=n_components, max_iter=max_iter, tol=tol).fit(X_train, Y_train)\n",
    "    \n",
    "    # transform the model\n",
    "    Xc_train, Yc_train = cca.transform(X_train, Y_train)\n",
    "    Xc_test, Yc_test = cca.transform(X_test, Y_test)\n",
    "    \n",
    "    # train with linear regression and get a score\n",
    "    return LinearRegression().fit(Xc_train, Yc_train).score(Xc_test, Yc_test)"
   ]
  },
  {
   "cell_type": "code",
   "execution_count": 11,
   "id": "64ae71e3",
   "metadata": {},
   "outputs": [],
   "source": [
    "sklearn_bunch = Bunch()\n",
    "sklearn_bunch.name = 'sklearn'"
   ]
  },
  {
   "cell_type": "code",
   "execution_count": 12,
   "id": "e8ed56d4",
   "metadata": {},
   "outputs": [],
   "source": [
    "sklearn_bunch.rkf = RepeatedKFold(n_splits=5, n_repeats=5, random_state=rs_num)\n",
    "sklearn_bunch.n_components = np.min([X_dimension_num, Y_dimension_num])\n",
    "sklearn_bunch.max_iter = int(1e12)\n",
    "sklearn_bunch.tol = 1e-12"
   ]
  },
  {
   "cell_type": "code",
   "execution_count": 13,
   "id": "2ced68c1",
   "metadata": {},
   "outputs": [
    {
     "name": "stdout",
     "output_type": "stream",
     "text": [
      "Pre-standardization makes 8.20e-14 total difference on X\n",
      "Pre-standardization makes 8.18e-14 total difference on Y\n"
     ]
    }
   ],
   "source": [
    "# manuallly chain them together\n",
    "sklearn_bunch.cca = CCA(\n",
    "    n_components=sklearn_bunch.n_components, \n",
    "    max_iter=sklearn_bunch.max_iter, \n",
    "    tol=sklearn_bunch.tol\n",
    ").fit(X_train, Y_train)\n",
    "\n",
    "# note: X and Y will be standardized\n",
    "[sklearn_bunch.Xc_train, \n",
    " sklearn_bunch.Yc_train] = sklearn_bunch.cca.transform(X_train, Y_train)\n",
    "[sklearn_bunch.Xc_test, \n",
    " sklearn_bunch.Yc_test] = sklearn_bunch.cca.transform(X_test, Y_test)\n",
    "\n",
    "# calculate canonical correlation\n",
    "sklearn_bunch.cc = np.corrcoef(\n",
    "    sklearn_bunch.Xc_train.T, sklearn_bunch.Yc_train.T\n",
    ").diagonal(offset=sklearn_bunch.n_components)\n",
    "\n",
    "# also compare if pre-standardization would make a difference\n",
    "[sklearn_bunch.check_Xc_train, \n",
    " sklearn_bunch.check_Yc_train] = CCA(\n",
    "    n_components=sklearn_bunch.n_components, \n",
    "    max_iter=sklearn_bunch.max_iter, \n",
    "    tol=sklearn_bunch.tol\n",
    ").fit_transform(X_train_standardized, Y_train_standardized)\n",
    "\n",
    "print(\n",
    "    'Pre-standardization makes {:.2e} total difference on X'.format(\n",
    "        np.linalg.norm(\n",
    "            sklearn_bunch.check_Xc_train - sklearn_bunch.Xc_train\n",
    "        )\n",
    "    )\n",
    ")\n",
    "print(\n",
    "    'Pre-standardization makes {:.2e} total difference on Y'.format(\n",
    "        np.linalg.norm(\n",
    "            sklearn_bunch.check_Yc_train - sklearn_bunch.Yc_train\n",
    "        )\n",
    "    )\n",
    ")"
   ]
  },
  {
   "cell_type": "markdown",
   "id": "8eefb6f4",
   "metadata": {},
   "source": [
    "We can also see how the correlation in the transformed matrices:"
   ]
  },
  {
   "cell_type": "code",
   "execution_count": 14,
   "id": "6ded9784",
   "metadata": {},
   "outputs": [
    {
     "data": {
      "image/png": "[encoded data removed]",
      "text/plain": [
       "<Figure size 432x288 with 2 Axes>"
      ]
     },
     "metadata": {
      "needs_background": "light"
     },
     "output_type": "display_data"
    }
   ],
   "source": [
    "corr_coef = np.corrcoef(sklearn_bunch.Xc_train.T, sklearn_bunch.Yc_train.T)\n",
    "corr_labels = (\n",
    "    ['xc'+str(i+1) for i in range(sklearn_bunch.Xc_train.shape[1])] + \n",
    "    ['yc'+str(i+1) for i in range(sklearn_bunch.Yc_train.shape[1])]\n",
    ")\n",
    "\n",
    "fig, ax = plt.subplots(figsize=(6, 4))\n",
    "\n",
    "custom_abs_corr_viz(ax, corr_coef)\n",
    "\n",
    "ax.set_xticks(np.arange(len(corr_labels)), labels=corr_labels)\n",
    "ax.set_yticks(np.arange(len(corr_labels)), labels=corr_labels)\n",
    "ax.set_title('ABS of Correlation Coefficients\\nafter CCA Transformation')\n",
    "\n",
    "plt.tight_layout()"
   ]
  },
  {
   "cell_type": "markdown",
   "id": "1c569edb",
   "metadata": {},
   "source": [
    "Now we can similarly apply the same Linear Regression on the transformed datasets."
   ]
  },
  {
   "cell_type": "code",
   "execution_count": 15,
   "id": "91453560",
   "metadata": {},
   "outputs": [],
   "source": [
    "sklearn_bunch.cv_scores = custom_cv(\n",
    "    sklearn_bunch.rkf, X_train, Y_train, \n",
    "    sklearn_cca_fit_n_score, \n",
    "    sklearn_bunch.n_components, \n",
    "    sklearn_bunch.max_iter, \n",
    "    sklearn_bunch.tol\n",
    ")\n",
    "\n",
    "# also evaluate them manually\n",
    "sklearn_bunch.eval_score = sklearn_cca_fit_n_score(\n",
    "    X_train, X_test, Y_train, Y_test, \n",
    "    sklearn_bunch.n_components, sklearn_bunch.max_iter, sklearn_bunch.tol\n",
    ")"
   ]
  },
  {
   "cell_type": "code",
   "execution_count": 16,
   "id": "55735b29",
   "metadata": {},
   "outputs": [
    {
     "data": {
      "image/png": "[encoded data removed]",
      "text/plain": [
       "<Figure size 432x288 with 1 Axes>"
      ]
     },
     "metadata": {
      "needs_background": "light"
     },
     "output_type": "display_data"
    }
   ],
   "source": [
    "# put everything in one list\n",
    "bunch_list = [baseline_bunch, sklearn_bunch]\n",
    "\n",
    "# visualize model evaluation\n",
    "viz_labels = []\n",
    "viz_boxplots = []\n",
    "viz_eval_scores = []\n",
    "viz_eval_scores_pos = []\n",
    "\n",
    "for i, bunch in enumerate(bunch_list):\n",
    "    viz_labels.append(bunch.name)\n",
    "    viz_boxplots.append(bunch.cv_scores)\n",
    "    viz_eval_scores.append(bunch.eval_score)\n",
    "    viz_eval_scores_pos.append(i+1)\n",
    "\n",
    "# visualization\n",
    "fig, ax = plt.subplots()\n",
    "\n",
    "ax.boxplot(\n",
    "    viz_boxplots, \n",
    "    labels=viz_labels\n",
    ")\n",
    "ax.scatter(\n",
    "    viz_eval_scores_pos, \n",
    "    viz_eval_scores,  \n",
    "    fc='none',\n",
    "    ec='blue', \n",
    "    marker='^', \n",
    "    label='scores on test dataset'\n",
    ")\n",
    "\n",
    "ax.set(ylabel='Scores', title='RepeatedKFold CV')\n",
    "ax.set_xticklabels(viz_labels, rotation=45)\n",
    "ax.legend(\n",
    "    loc='upper center',\n",
    "    bbox_to_anchor=(0.5, -0.22),\n",
    "    fancybox=True,\n",
    "    shadow=True,\n",
    "    ncol=2,\n",
    "    fontsize='small'\n",
    ")\n",
    "\n",
    "plt.tight_layout()"
   ]
  },
  {
   "cell_type": "code",
   "execution_count": null,
   "id": "ca7c023b",
   "metadata": {},
   "outputs": [],
   "source": []
  },
  {
   "cell_type": "markdown",
   "id": "f6bc8b56",
   "metadata": {},
   "source": [
    "# 3. CCA via Standard Eigenvalue Problem"
   ]
  },
  {
   "cell_type": "code",
   "execution_count": 17,
   "id": "7a4076f1",
   "metadata": {},
   "outputs": [],
   "source": [
    "# compute joint covariance matrix\n",
    "C = np.cov(X_train_standardized.T, Y_train_standardized.T, ddof=0)\n",
    "\n",
    "Cxx = C[0:X_dimension_num, 0:X_dimension_num]\n",
    "Cxy = C[0:X_dimension_num, X_dimension_num:]\n",
    "Cyy = C[X_dimension_num:, X_dimension_num:]\n",
    "\n",
    "C_compute = np.linalg.multi_dot(\n",
    "    [np.linalg.inv(Cyy), Cxy.T, np.linalg.inv(Cxx), Cxy]\n",
    ")"
   ]
  },
  {
   "cell_type": "code",
   "execution_count": 18,
   "id": "1e45f10e",
   "metadata": {},
   "outputs": [
    {
     "name": "stdout",
     "output_type": "stream",
     "text": [
      "The canonical correlation is:\n",
      "[0.91048651 0.80452823 0.86642529]\n"
     ]
    }
   ],
   "source": [
    "# standard eigenvalue problem\n",
    "std_eig_bunch = Bunch()\n",
    "std_eig_bunch.name = 'std eig'\n",
    "\n",
    "# solve eig\n",
    "[std_eig_bunch.eig_val, \n",
    " std_eig_bunch.eig_vec] = np.linalg.eig(C_compute)\n",
    "\n",
    "# Y matrix weights\n",
    "std_eig_bunch.wy = std_eig_bunch.eig_vec\n",
    "\n",
    "std_eig_bunch.cc_arr = np.sqrt(std_eig_bunch.eig_val)\n",
    "print('The canonical correlation is:')\n",
    "print(std_eig_bunch.cc_arr)\n",
    "\n",
    "# X matrix weights\n",
    "std_eig_bunch.wx = np.linalg.multi_dot(\n",
    "    [np.linalg.inv(Cxx), Cxy, std_eig_bunch.wy]\n",
    ")/std_eig_bunch.cc_arr"
   ]
  },
  {
   "cell_type": "code",
   "execution_count": 19,
   "id": "e71ff589",
   "metadata": {},
   "outputs": [],
   "source": [
    "# sort by canonical correlation\n",
    "sort_ind = std_eig_bunch.cc_arr.argsort()\n",
    "std_eig_bunch.cc_arr_sorted = std_eig_bunch.cc_arr[sort_ind[::-1]]\n",
    "std_eig_bunch.wx_sorted = std_eig_bunch.wx[:, sort_ind[::-1]]\n",
    "std_eig_bunch.wy_sorted = std_eig_bunch.wy[:, sort_ind[::-1]]\n",
    "\n",
    "del sort_ind"
   ]
  },
  {
   "cell_type": "code",
   "execution_count": 20,
   "id": "4afaeef3",
   "metadata": {},
   "outputs": [
    {
     "name": "stdout",
     "output_type": "stream",
     "text": [
      "Canonical Correlation calculated by Standard Eigenvalue Problem:\n",
      "[0.91048651 0.86642529 0.80452823]\n",
      "\n",
      "Canonical Correlation calculated by sklearn CCA:\n",
      "[0.91048651 0.86642529 0.80452823]\n"
     ]
    }
   ],
   "source": [
    "print('Canonical Correlation calculated by Standard Eigenvalue Problem:')\n",
    "print(std_eig_bunch.cc_arr_sorted)\n",
    "print('')\n",
    "print('Canonical Correlation calculated by sklearn CCA:')\n",
    "print(sklearn_bunch.cc)"
   ]
  },
  {
   "cell_type": "code",
   "execution_count": 21,
   "id": "4947f844",
   "metadata": {},
   "outputs": [
    {
     "name": "stdout",
     "output_type": "stream",
     "text": [
      "Weight vector w_x calculated by Standard Eigenvalue Problem:\n",
      "[[-0.10185969 -0.23970984  0.93366329]\n",
      " [ 0.04420503  0.01218802 -0.07242301]\n",
      " [-0.99097395  0.18065651 -0.14774114]\n",
      " [-0.09693603 -0.93487307 -0.3524133 ]]\n",
      "\n",
      "Weight vector w_x calculated by sklearn CCA:\n",
      "[[ 0.10166669  0.2512014   0.95903829]\n",
      " [-0.04412212 -0.01529023 -0.07699841]\n",
      " [ 0.98911949 -0.12042806 -0.07641433]\n",
      " [ 0.09674585  0.96029222 -0.26168234]]\n"
     ]
    }
   ],
   "source": [
    "print('Weight vector w_x calculated by Standard Eigenvalue Problem:')\n",
    "print(std_eig_bunch.wx_sorted)\n",
    "print('')\n",
    "print('Weight vector w_x calculated by sklearn CCA:')\n",
    "print(sklearn_bunch.cca.x_weights_)"
   ]
  },
  {
   "cell_type": "code",
   "execution_count": 22,
   "id": "31de8b8f",
   "metadata": {},
   "outputs": [
    {
     "name": "stdout",
     "output_type": "stream",
     "text": [
      "Weight vector w_y calculated by Standard Eigenvalue Problem:\n",
      "[[-0.98695911  0.1985678  -0.18571926]\n",
      " [-0.11429969 -0.26796202  0.93281165]\n",
      " [ 0.11334591  0.9427445   0.3088216 ]]\n",
      "\n",
      "Weight vector w_y calculated by sklearn CCA:\n",
      "[[ 0.98696035 -0.14106983 -0.077515  ]\n",
      " [ 0.11429728  0.27512491  0.95459018]\n",
      " [-0.11333757 -0.95100241  0.28766127]]\n"
     ]
    }
   ],
   "source": [
    "print('Weight vector w_y calculated by Standard Eigenvalue Problem:')\n",
    "print(std_eig_bunch.wy_sorted)\n",
    "print('')\n",
    "print('Weight vector w_y calculated by sklearn CCA:')\n",
    "print(sklearn_bunch.cca.y_weights_)"
   ]
  },
  {
   "cell_type": "markdown",
   "id": "6106e3ac",
   "metadata": {},
   "source": [
    "Now we can see how well this method handles the datasets."
   ]
  },
  {
   "cell_type": "code",
   "execution_count": 23,
   "id": "7ade5c8f",
   "metadata": {},
   "outputs": [],
   "source": [
    "# create a customized pipeline\n",
    "def std_eig_cca_fit_n_score(X_train, X_test, Y_train, Y_test, n_components):\n",
    "    X_dimension_num = X_train.shape[1]\n",
    "    \n",
    "    # standardization of two matrices\n",
    "    X_train_scaler = StandardScaler().fit(X_train)\n",
    "    X_train_standardized = X_train_scaler.transform(X_train)\n",
    "    X_test_standardized = X_train_scaler.transform(X_test)\n",
    "\n",
    "    Y_train_scaler = StandardScaler().fit(Y_train)\n",
    "    Y_train_standardized = Y_train_scaler.transform(Y_train)\n",
    "    Y_test_standardized = Y_train_scaler.transform(Y_test)\n",
    "    \n",
    "    # compute joint covariance matrix\n",
    "    C = np.cov(X_train_standardized.T, Y_train_standardized.T, ddof=0)\n",
    "\n",
    "    Cxx = C[0:X_dimension_num, 0:X_dimension_num]\n",
    "    Cxy = C[0:X_dimension_num, X_dimension_num:]\n",
    "    Cyy = C[X_dimension_num:, X_dimension_num:]\n",
    "\n",
    "    C_compute = np.linalg.multi_dot(\n",
    "        [np.linalg.inv(Cyy), Cxy.T, np.linalg.inv(Cxx), Cxy]\n",
    "    )\n",
    "    \n",
    "    # solve standard eigenvalue problem\n",
    "    [eig_val, eig_vec] = np.linalg.eig(C_compute)\n",
    "    \n",
    "    # canonical correlation values\n",
    "    cc_arr = np.sqrt(eig_val)\n",
    "\n",
    "    # matrices weights\n",
    "    wy = eig_vec\n",
    "    wx = np.linalg.multi_dot([np.linalg.inv(Cxx), Cxy, wy])/cc_arr\n",
    "    \n",
    "    # sort by canonical correlation\n",
    "    cc_argind = cc_arr.argsort()\n",
    "    cc_arr_sorted = cc_arr[cc_argind[::-1]]\n",
    "    wx_sorted = wx[:, cc_argind[::-1]]\n",
    "    wy_sorted = wy[:, cc_argind[::-1]]\n",
    "    \n",
    "    # transform matrices\n",
    "    Xc_train = X_train_standardized.dot(wx_sorted)[:, :n_components]\n",
    "    Xc_test = X_test_standardized.dot(wx_sorted)[:, :n_components]\n",
    "    Yc_train = Y_train_standardized.dot(wy_sorted)[:, :n_components]\n",
    "    Yc_test = Y_test_standardized.dot(wy_sorted)[:, :n_components]\n",
    "    \n",
    "    # train with linear regression and get a score\n",
    "    return LinearRegression().fit(Xc_train, Yc_train).score(Xc_test, Yc_test)"
   ]
  },
  {
   "cell_type": "code",
   "execution_count": 24,
   "id": "bcfe0aa1",
   "metadata": {},
   "outputs": [],
   "source": [
    "std_eig_bunch.rkf = RepeatedKFold(n_splits=5, n_repeats=5, random_state=rs_num)\n",
    "std_eig_bunch.n_components = sklearn_bunch.n_components"
   ]
  },
  {
   "cell_type": "code",
   "execution_count": 25,
   "id": "de64a711",
   "metadata": {},
   "outputs": [],
   "source": [
    "# cross-validate\n",
    "std_eig_bunch.cv_scores = custom_cv(\n",
    "    std_eig_bunch.rkf, X_train, Y_train, \n",
    "    std_eig_cca_fit_n_score, \n",
    "    std_eig_bunch.n_components\n",
    ")\n",
    "\n",
    "# also evaluate them manually\n",
    "std_eig_bunch.eval_score = std_eig_cca_fit_n_score(\n",
    "    X_train, X_test, Y_train, Y_test, \n",
    "    std_eig_bunch.n_components\n",
    ")"
   ]
  },
  {
   "cell_type": "code",
   "execution_count": 26,
   "id": "6db12ec0",
   "metadata": {},
   "outputs": [
    {
     "data": {
      "image/png": "[encoded data removed]",
      "text/plain": [
       "<Figure size 432x288 with 1 Axes>"
      ]
     },
     "metadata": {
      "needs_background": "light"
     },
     "output_type": "display_data"
    }
   ],
   "source": [
    "# put everything in one list\n",
    "bunch_list = [\n",
    "    baseline_bunch, \n",
    "    sklearn_bunch, \n",
    "    std_eig_bunch\n",
    "]\n",
    "\n",
    "# visualize model evaluation\n",
    "viz_labels = []\n",
    "viz_boxplots = []\n",
    "viz_eval_scores = []\n",
    "viz_eval_scores_pos = []\n",
    "\n",
    "for i, bunch in enumerate(bunch_list):\n",
    "    viz_labels.append(bunch.name)\n",
    "    viz_boxplots.append(bunch.cv_scores)\n",
    "    viz_eval_scores.append(bunch.eval_score)\n",
    "    viz_eval_scores_pos.append(i+1)\n",
    "\n",
    "# visualization\n",
    "fig, ax = plt.subplots()\n",
    "\n",
    "ax.boxplot(\n",
    "    viz_boxplots, \n",
    "    labels=viz_labels\n",
    ")\n",
    "ax.scatter(\n",
    "    viz_eval_scores_pos, \n",
    "    viz_eval_scores, \n",
    "    fc='none',\n",
    "    ec='blue', \n",
    "    marker='^', \n",
    "    label='scores on test dataset'\n",
    ")\n",
    "\n",
    "ax.set(ylabel='Scores', title='RepeatedKFold CV')\n",
    "ax.set_xticklabels(viz_labels, rotation=45)\n",
    "ax.legend(\n",
    "    loc='upper center',\n",
    "    bbox_to_anchor=(0.5, -0.22),\n",
    "    fancybox=True,\n",
    "    shadow=True,\n",
    "    ncol=2,\n",
    "    fontsize='small'\n",
    ")\n",
    "\n",
    "plt.tight_layout()"
   ]
  },
  {
   "cell_type": "code",
   "execution_count": null,
   "id": "b5463f2c",
   "metadata": {},
   "outputs": [],
   "source": []
  },
  {
   "cell_type": "markdown",
   "id": "0ebd5835",
   "metadata": {},
   "source": [
    "# 4. CCA via Generalized Eigenvalue Problem"
   ]
  },
  {
   "cell_type": "code",
   "execution_count": 27,
   "id": "41b75100",
   "metadata": {},
   "outputs": [],
   "source": [
    "gen_eig_bunch = Bunch()\n",
    "gen_eig_bunch.name = 'gen eig'"
   ]
  },
  {
   "cell_type": "code",
   "execution_count": 28,
   "id": "40ff77b4",
   "metadata": {},
   "outputs": [],
   "source": [
    "# construct general matrices\n",
    "gen_eig_bunch.A = np.zeros(\n",
    "    (\n",
    "        X_dimension_num+Y_dimension_num, \n",
    "        X_dimension_num+Y_dimension_num\n",
    "    )\n",
    ")\n",
    "gen_eig_bunch.A[:X_dimension_num, X_dimension_num:] = Cxy\n",
    "gen_eig_bunch.A[X_dimension_num:, :X_dimension_num] = Cxy.T\n",
    "\n",
    "gen_eig_bunch.B = np.zeros_like(gen_eig_bunch.A)\n",
    "gen_eig_bunch.B[:X_dimension_num, :X_dimension_num] = Cxx\n",
    "gen_eig_bunch.B[X_dimension_num:, X_dimension_num:] = Cyy\n",
    "\n",
    "# solve generalized eigenvalue problem\n",
    "[gen_eig_bunch.eig_val, \n",
    " gen_eig_bunch.eig_vec] = scipy.linalg.eigh(gen_eig_bunch.A, gen_eig_bunch.B)\n",
    "\n",
    "# retrive canonical correlation and weight vectors\n",
    "gen_eig_bunch.cc_arr = gen_eig_bunch.eig_val[gen_eig_bunch.eig_val>=1e-6]\n",
    "gen_eig_bunch.eig_vec_positive = gen_eig_bunch.eig_vec[:, gen_eig_bunch.eig_val>=1e-6]\n",
    "\n",
    "# sort out w.r.t. cc values\n",
    "sort_ind = gen_eig_bunch.cc_arr.argsort()\n",
    "gen_eig_bunch.cc_arr_sorted = gen_eig_bunch.cc_arr[sort_ind[::-1]]\n",
    "gen_eig_bunch.eig_vec_positive_sorted = gen_eig_bunch.eig_vec_positive[:, sort_ind[::-1]]\n",
    "gen_eig_bunch.wx_sorted = gen_eig_bunch.eig_vec_positive_sorted[:X_dimension_num, :]\n",
    "gen_eig_bunch.wy_sorted = gen_eig_bunch.eig_vec_positive_sorted[X_dimension_num:, :]\n",
    "\n",
    "del sort_ind"
   ]
  },
  {
   "cell_type": "markdown",
   "id": "adf68a14",
   "metadata": {},
   "source": [
    "Check out results v.s. other methods"
   ]
  },
  {
   "cell_type": "code",
   "execution_count": 29,
   "id": "9ed2c9d1",
   "metadata": {},
   "outputs": [
    {
     "name": "stdout",
     "output_type": "stream",
     "text": [
      "Canonical Correlation calculated by Generalized Eigenvalue Problem:\n",
      "[0.91048651 0.86642529 0.80452823]\n",
      "\n",
      "Canonical Correlation calculated by Standard Eigenvalue Problem:\n",
      "[0.91048651 0.86642529 0.80452823]\n",
      "\n",
      "Canonical Correlation calculated by sklearn CCA:\n",
      "[0.91048651 0.86642529 0.80452823]\n"
     ]
    }
   ],
   "source": [
    "print('Canonical Correlation calculated by Generalized Eigenvalue Problem:')\n",
    "print(gen_eig_bunch.cc_arr_sorted)\n",
    "print('')\n",
    "print('Canonical Correlation calculated by Standard Eigenvalue Problem:')\n",
    "print(std_eig_bunch.cc_arr_sorted)\n",
    "print('')\n",
    "print('Canonical Correlation calculated by sklearn CCA:')\n",
    "print(sklearn_bunch.cc)"
   ]
  },
  {
   "cell_type": "code",
   "execution_count": 30,
   "id": "3263fbbb",
   "metadata": {},
   "outputs": [
    {
     "name": "stdout",
     "output_type": "stream",
     "text": [
      "Weight vector w_x calculated by Generalized Eigenvalue Problem:\n",
      "[[-0.07078271 -0.16939328  0.68419364]\n",
      " [ 0.03071825  0.00861278 -0.05307199]\n",
      " [-0.68863183  0.12766267 -0.10826553]\n",
      " [-0.06736124 -0.6606371  -0.25825042]]\n",
      "\n",
      "Weight vector w_x calculated by Standard Eigenvalue Problem:\n",
      "[[-0.10185969 -0.23970984  0.93366329]\n",
      " [ 0.04420503  0.01218802 -0.07242301]\n",
      " [-0.99097395  0.18065651 -0.14774114]\n",
      " [-0.09693603 -0.93487307 -0.3524133 ]]\n",
      "\n",
      "Weight vector w_x calculated by sklearn CCA:\n",
      "[[ 0.10166669  0.2512014   0.95903829]\n",
      " [-0.04412212 -0.01529023 -0.07699841]\n",
      " [ 0.98911949 -0.12042806 -0.07641433]\n",
      " [ 0.09674585  0.96029222 -0.26168234]]\n"
     ]
    }
   ],
   "source": [
    "print('Weight vector w_x calculated by Generalized Eigenvalue Problem:')\n",
    "print(gen_eig_bunch.wx_sorted)\n",
    "print('')\n",
    "print('Weight vector w_x calculated by Standard Eigenvalue Problem:')\n",
    "print(std_eig_bunch.wx_sorted)\n",
    "print('')\n",
    "print('Weight vector w_x calculated by sklearn CCA:')\n",
    "print(sklearn_bunch.cca.x_weights_)"
   ]
  },
  {
   "cell_type": "code",
   "execution_count": 31,
   "id": "5db36b9c",
   "metadata": {},
   "outputs": [
    {
     "name": "stdout",
     "output_type": "stream",
     "text": [
      "Weight vector w_y calculated by Generalized Eigenvalue Problem:\n",
      "[[-0.6858419   0.14031986 -0.1360961 ]\n",
      " [-0.07942732 -0.18935795  0.68356954]\n",
      " [ 0.07876453  0.66619952  0.22630618]]\n",
      "\n",
      "Weight vector w_y calculated by Standard Eigenvalue Problem:\n",
      "[[-0.98695911  0.1985678  -0.18571926]\n",
      " [-0.11429969 -0.26796202  0.93281165]\n",
      " [ 0.11334591  0.9427445   0.3088216 ]]\n",
      "\n",
      "Weight vector w_y calculated by sklearn CCA:\n",
      "[[ 0.98696035 -0.14106983 -0.077515  ]\n",
      " [ 0.11429728  0.27512491  0.95459018]\n",
      " [-0.11333757 -0.95100241  0.28766127]]\n"
     ]
    }
   ],
   "source": [
    "print('Weight vector w_y calculated by Generalized Eigenvalue Problem:')\n",
    "print(gen_eig_bunch.wy_sorted)\n",
    "print('')\n",
    "print('Weight vector w_y calculated by Standard Eigenvalue Problem:')\n",
    "print(std_eig_bunch.wy_sorted)\n",
    "print('')\n",
    "print('Weight vector w_y calculated by sklearn CCA:')\n",
    "print(sklearn_bunch.cca.y_weights_)"
   ]
  },
  {
   "cell_type": "markdown",
   "id": "e83eac1a",
   "metadata": {},
   "source": [
    "The differences over eigenvectors are caused by the numerical ways of solving the generalized eigenvalue problem."
   ]
  },
  {
   "cell_type": "markdown",
   "id": "80419502",
   "metadata": {},
   "source": [
    "Now we can evaluate the model."
   ]
  },
  {
   "cell_type": "code",
   "execution_count": 32,
   "id": "be8c2935",
   "metadata": {},
   "outputs": [],
   "source": [
    "def gen_eig_cca_fit_n_score(X_train, X_test, Y_train, Y_test, n_components):\n",
    "    X_dimension_num = X_train.shape[1]\n",
    "    Y_dimension_num = Y_train.shape[1]\n",
    "    \n",
    "    # standardization of two matrices\n",
    "    X_train_scaler = StandardScaler().fit(X_train)\n",
    "    X_train_standardized = X_train_scaler.transform(X_train)\n",
    "    X_test_standardized = X_train_scaler.transform(X_test)\n",
    "\n",
    "    Y_train_scaler = StandardScaler().fit(Y_train)\n",
    "    Y_train_standardized = Y_train_scaler.transform(Y_train)\n",
    "    Y_test_standardized = Y_train_scaler.transform(Y_test)\n",
    "    \n",
    "    # compute joint covariance matrix\n",
    "    C = np.cov(X_train_standardized.T, Y_train_standardized.T, ddof=0)\n",
    "\n",
    "    Cxx = C[0:X_dimension_num, 0:X_dimension_num]\n",
    "    Cxy = C[0:X_dimension_num, X_dimension_num:]\n",
    "    Cyy = C[X_dimension_num:, X_dimension_num:]\n",
    "    \n",
    "    # construct general matrices\n",
    "    A = np.zeros(\n",
    "        (\n",
    "            X_dimension_num+Y_dimension_num, \n",
    "            X_dimension_num+Y_dimension_num\n",
    "        )\n",
    "    )\n",
    "    A[:X_dimension_num, X_dimension_num:] = Cxy\n",
    "    A[X_dimension_num:, :X_dimension_num] = Cxy.T\n",
    "\n",
    "    B = np.zeros_like(A)\n",
    "    B[:X_dimension_num, :X_dimension_num] = Cxx\n",
    "    B[X_dimension_num:, X_dimension_num:] = Cyy\n",
    "    \n",
    "    # solve generalized eigenvalue problem\n",
    "    [eig_val, eig_vec] = scipy.linalg.eigh(A, B)\n",
    "\n",
    "    # retrive canonical correlation and weight vectors\n",
    "    cc_arr = eig_val[eig_val>=1e-6]\n",
    "    eig_vec_positive = eig_vec[:, eig_val>=1e-6]\n",
    "    \n",
    "    # sort out w.r.t. cc values\n",
    "    sort_ind = cc_arr.argsort()\n",
    "    cc_arr_sorted = cc_arr[sort_ind[::-1]]\n",
    "    eig_vec_positive_sorted = eig_vec_positive[:, sort_ind[::-1]]\n",
    "    wx_sorted = eig_vec_positive_sorted[:X_dimension_num, :]\n",
    "    wy_sorted = eig_vec_positive_sorted[X_dimension_num:, :]\n",
    "    \n",
    "    # transform matrices\n",
    "    Xc_train = X_train_standardized.dot(wx_sorted)[:, :n_components]\n",
    "    Xc_test = X_test_standardized.dot(wx_sorted)[:, :n_components]\n",
    "    Yc_train = Y_train_standardized.dot(wy_sorted)[:, :n_components]\n",
    "    Yc_test = Y_test_standardized.dot(wy_sorted)[:, :n_components]\n",
    "    \n",
    "    # train with linear regression and get a score\n",
    "    return LinearRegression().fit(Xc_train, Yc_train).score(Xc_test, Yc_test)"
   ]
  },
  {
   "cell_type": "code",
   "execution_count": 33,
   "id": "3185abe0",
   "metadata": {},
   "outputs": [],
   "source": [
    "gen_eig_bunch.rkf = RepeatedKFold(n_splits=5, n_repeats=5, random_state=rs_num)\n",
    "gen_eig_bunch.n_components = sklearn_bunch.n_components"
   ]
  },
  {
   "cell_type": "code",
   "execution_count": 34,
   "id": "5e13b5fa",
   "metadata": {},
   "outputs": [],
   "source": [
    "# cross-validate\n",
    "gen_eig_bunch.cv_scores = custom_cv(\n",
    "    gen_eig_bunch.rkf, X_train, Y_train, \n",
    "    gen_eig_cca_fit_n_score, \n",
    "    gen_eig_bunch.n_components\n",
    ")\n",
    "\n",
    "# also evaluate them manually\n",
    "gen_eig_bunch.eval_score = gen_eig_cca_fit_n_score(\n",
    "    X_train, X_test, Y_train, Y_test, \n",
    "    gen_eig_bunch.n_components\n",
    ")"
   ]
  },
  {
   "cell_type": "code",
   "execution_count": 35,
   "id": "e6aa8074",
   "metadata": {},
   "outputs": [
    {
     "data": {
      "image/png": "[encoded data removed]",
      "text/plain": [
       "<Figure size 432x288 with 1 Axes>"
      ]
     },
     "metadata": {
      "needs_background": "light"
     },
     "output_type": "display_data"
    }
   ],
   "source": [
    "# put everything in one list\n",
    "bunch_list = [\n",
    "    baseline_bunch, \n",
    "    sklearn_bunch, \n",
    "    std_eig_bunch, \n",
    "    gen_eig_bunch\n",
    "]\n",
    "\n",
    "# visualize model evaluation\n",
    "viz_labels = []\n",
    "viz_boxplots = []\n",
    "viz_eval_scores = []\n",
    "viz_eval_scores_pos = []\n",
    "\n",
    "for i, bunch in enumerate(bunch_list):\n",
    "    viz_labels.append(bunch.name)\n",
    "    viz_boxplots.append(bunch.cv_scores)\n",
    "    viz_eval_scores.append(bunch.eval_score)\n",
    "    viz_eval_scores_pos.append(i+1)\n",
    "\n",
    "# visualization\n",
    "fig, ax = plt.subplots()\n",
    "\n",
    "ax.boxplot(\n",
    "    viz_boxplots, \n",
    "    labels=viz_labels\n",
    ")\n",
    "ax.scatter(\n",
    "    viz_eval_scores_pos, \n",
    "    viz_eval_scores, \n",
    "    fc='none',\n",
    "    ec='blue', \n",
    "    marker='^', \n",
    "    label='scores on test dataset'\n",
    ")\n",
    "\n",
    "ax.set(ylabel='Scores', title='RepeatedKFold CV')\n",
    "ax.set_xticklabels(viz_labels, rotation=45)\n",
    "ax.legend(\n",
    "    loc='upper center',\n",
    "    bbox_to_anchor=(0.5, -0.22),\n",
    "    fancybox=True,\n",
    "    shadow=True,\n",
    "    ncol=2,\n",
    "    fontsize='small'\n",
    ")\n",
    "\n",
    "plt.tight_layout()"
   ]
  },
  {
   "cell_type": "code",
   "execution_count": null,
   "id": "c3aaa050",
   "metadata": {},
   "outputs": [],
   "source": []
  },
  {
   "cell_type": "markdown",
   "id": "92c658b3",
   "metadata": {},
   "source": [
    "# 5. CCA via SVD"
   ]
  },
  {
   "cell_type": "code",
   "execution_count": 36,
   "id": "bb75aaae",
   "metadata": {},
   "outputs": [],
   "source": [
    "svd_bunch = Bunch()\n",
    "svd_bunch.name = 'svd'"
   ]
  },
  {
   "cell_type": "code",
   "execution_count": 37,
   "id": "6c639880",
   "metadata": {},
   "outputs": [],
   "source": [
    "svd_bunch.Cxx_sqrt_inv = scipy.linalg.inv(\n",
    "    scipy.linalg.cholesky(Cxx, lower=True)\n",
    ") # lower Cholesky decomposition\n",
    "svd_bunch.Cyy_sqrt_inv = scipy.linalg.inv(\n",
    "    scipy.linalg.cholesky(Cyy, lower=True)\n",
    ")\n",
    "svd_bunch.mat_to_svd = np.linalg.multi_dot(\n",
    "    [svd_bunch.Cxx_sqrt_inv, Cxy, svd_bunch.Cyy_sqrt_inv]\n",
    ") # matrix to SVD\n",
    "\n",
    "# SVD decomposition\n",
    "[svd_bunch.U, \n",
    " svd_bunch.cc_arr_sorted, \n",
    " svd_bunch.Vh] = scipy.linalg.svd(\n",
    "    svd_bunch.mat_to_svd, full_matrices=False\n",
    ")\n",
    "\n",
    "# compute weights vectors\n",
    "svd_bunch.wx_sorted = np.matmul(svd_bunch.Cxx_sqrt_inv, svd_bunch.U)\n",
    "svd_bunch.wy_sorted = np.matmul(svd_bunch.Cyy_sqrt_inv, svd_bunch.Vh.T)"
   ]
  },
  {
   "cell_type": "markdown",
   "id": "392264fa",
   "metadata": {},
   "source": [
    "We can compare the Canonical Correlation and Weights with other methods."
   ]
  },
  {
   "cell_type": "code",
   "execution_count": 38,
   "id": "9431e90a",
   "metadata": {
    "scrolled": true
   },
   "outputs": [
    {
     "name": "stdout",
     "output_type": "stream",
     "text": [
      "Canonical Correlation calculated by SVD:\n",
      "[0.9035447  0.86807943 0.80916449]\n",
      "\n",
      "Canonical Correlation calculated by Generalized Eigenvalue Problem:\n",
      "[0.91048651 0.86642529 0.80452823]\n",
      "\n",
      "Canonical Correlation calculated by Standard Eigenvalue Problem:\n",
      "[0.91048651 0.86642529 0.80452823]\n",
      "\n",
      "Canonical Correlation calculated by sklearn CCA:\n",
      "[0.91048651 0.86642529 0.80452823]\n"
     ]
    }
   ],
   "source": [
    "print('Canonical Correlation calculated by SVD:')\n",
    "print(svd_bunch.cc_arr_sorted)\n",
    "print('')\n",
    "print('Canonical Correlation calculated by Generalized Eigenvalue Problem:')\n",
    "print(gen_eig_bunch.cc_arr_sorted)\n",
    "print('')\n",
    "print('Canonical Correlation calculated by Standard Eigenvalue Problem:')\n",
    "print(std_eig_bunch.cc_arr_sorted)\n",
    "print('')\n",
    "print('Canonical Correlation calculated by sklearn CCA:')\n",
    "print(sklearn_bunch.cc)"
   ]
  },
  {
   "cell_type": "code",
   "execution_count": 39,
   "id": "dace4de8",
   "metadata": {},
   "outputs": [
    {
     "name": "stdout",
     "output_type": "stream",
     "text": [
      "Weight vector w_x calculated by SVD:\n",
      "[[ 0.24042349  0.35517808 -0.89966837]\n",
      " [-0.07237315  0.03315146 -0.00493191]\n",
      " [ 0.93665464 -0.25040306  0.25543699]\n",
      " [ 0.08981333  0.8770094   0.50251745]]\n",
      "\n",
      "Weight vector w_x calculated by Generalized Eigenvalue Problem:\n",
      "[[-0.07078271 -0.16939328  0.68419364]\n",
      " [ 0.03071825  0.00861278 -0.05307199]\n",
      " [-0.68863183  0.12766267 -0.10826553]\n",
      " [-0.06736124 -0.6606371  -0.25825042]]\n",
      "\n",
      "Weight vector w_x calculated by Standard Eigenvalue Problem:\n",
      "[[-0.10185969 -0.23970984  0.93366329]\n",
      " [ 0.04420503  0.01218802 -0.07242301]\n",
      " [-0.99097395  0.18065651 -0.14774114]\n",
      " [-0.09693603 -0.93487307 -0.3524133 ]]\n",
      "\n",
      "Weight vector w_x calculated by sklearn CCA:\n",
      "[[ 0.10166669  0.2512014   0.95903829]\n",
      " [-0.04412212 -0.01529023 -0.07699841]\n",
      " [ 0.98911949 -0.12042806 -0.07641433]\n",
      " [ 0.09674585  0.96029222 -0.26168234]]\n"
     ]
    }
   ],
   "source": [
    "print('Weight vector w_x calculated by SVD:')\n",
    "print(svd_bunch.wx_sorted)\n",
    "print('')\n",
    "print('Weight vector w_x calculated by Generalized Eigenvalue Problem:')\n",
    "print(gen_eig_bunch.wx_sorted)\n",
    "print('')\n",
    "print('Weight vector w_x calculated by Standard Eigenvalue Problem:')\n",
    "print(std_eig_bunch.wx_sorted)\n",
    "print('')\n",
    "print('Weight vector w_x calculated by sklearn CCA:')\n",
    "print(sklearn_bunch.cca.x_weights_)"
   ]
  },
  {
   "cell_type": "code",
   "execution_count": 40,
   "id": "d21d5f36",
   "metadata": {},
   "outputs": [
    {
     "name": "stdout",
     "output_type": "stream",
     "text": [
      "Weight vector w_y calculated by SVD:\n",
      "[[ 0.94407807 -0.25728229  0.20620966]\n",
      " [ 0.15241502  0.29376259 -0.96137308]\n",
      " [-0.15696027 -0.925324   -0.35199577]]\n",
      "\n",
      "Weight vector w_y calculated by Generalized Eigenvalue Problem:\n",
      "[[-0.6858419   0.14031986 -0.1360961 ]\n",
      " [-0.07942732 -0.18935795  0.68356954]\n",
      " [ 0.07876453  0.66619952  0.22630618]]\n",
      "\n",
      "Weight vector w_y calculated by Standard Eigenvalue Problem:\n",
      "[[-0.98695911  0.1985678  -0.18571926]\n",
      " [-0.11429969 -0.26796202  0.93281165]\n",
      " [ 0.11334591  0.9427445   0.3088216 ]]\n",
      "\n",
      "Weight vector w_y calculated by sklearn CCA:\n",
      "[[ 0.98696035 -0.14106983 -0.077515  ]\n",
      " [ 0.11429728  0.27512491  0.95459018]\n",
      " [-0.11333757 -0.95100241  0.28766127]]\n"
     ]
    }
   ],
   "source": [
    "print('Weight vector w_y calculated by SVD:')\n",
    "print(svd_bunch.wy_sorted)\n",
    "print('')\n",
    "print('Weight vector w_y calculated by Generalized Eigenvalue Problem:')\n",
    "print(gen_eig_bunch.wy_sorted)\n",
    "print('')\n",
    "print('Weight vector w_y calculated by Standard Eigenvalue Problem:')\n",
    "print(std_eig_bunch.wy_sorted)\n",
    "print('')\n",
    "print('Weight vector w_y calculated by sklearn CCA:')\n",
    "print(sklearn_bunch.cca.y_weights_)"
   ]
  },
  {
   "cell_type": "markdown",
   "id": "0ff041e8",
   "metadata": {},
   "source": [
    "The differences are pretty significant. But we can also check out how the model performs."
   ]
  },
  {
   "cell_type": "code",
   "execution_count": 41,
   "id": "dc0e561a",
   "metadata": {},
   "outputs": [],
   "source": [
    "def svd_cca_fit_n_score(X_train, X_test, Y_train, Y_test, n_components):\n",
    "    X_dimension_num = X_train.shape[1]\n",
    "    Y_dimension_num = Y_train.shape[1]\n",
    "    \n",
    "    # standardization of two matrices\n",
    "    X_train_scaler = StandardScaler().fit(X_train)\n",
    "    X_train_standardized = X_train_scaler.transform(X_train)\n",
    "    X_test_standardized = X_train_scaler.transform(X_test)\n",
    "\n",
    "    Y_train_scaler = StandardScaler().fit(Y_train)\n",
    "    Y_train_standardized = Y_train_scaler.transform(Y_train)\n",
    "    Y_test_standardized = Y_train_scaler.transform(Y_test)\n",
    "    \n",
    "    # compute joint covariance matrix\n",
    "    C = np.cov(X_train_standardized.T, Y_train_standardized.T, ddof=0)\n",
    "\n",
    "    Cxx = C[0:X_dimension_num, 0:X_dimension_num]\n",
    "    Cxy = C[0:X_dimension_num, X_dimension_num:]\n",
    "    Cyy = C[X_dimension_num:, X_dimension_num:]\n",
    "    \n",
    "    \n",
    "    Cxx_sqrt_inv = scipy.linalg.inv(\n",
    "        scipy.linalg.cholesky(Cxx, lower=True)\n",
    "    ) # lower Cholesky decomposition\n",
    "    Cyy_sqrt_inv = scipy.linalg.inv(\n",
    "        scipy.linalg.cholesky(Cyy, lower=True)\n",
    "    )\n",
    "    mat_to_svd = np.linalg.multi_dot(\n",
    "        [Cxx_sqrt_inv, Cxy, Cyy_sqrt_inv]\n",
    "    ) # matrix to SVD\n",
    "\n",
    "    # SVD decomposition\n",
    "    [U, cc_arr_sorted, Vh] = scipy.linalg.svd(\n",
    "        mat_to_svd, full_matrices=False\n",
    "    )\n",
    "\n",
    "    # compute weights vectors\n",
    "    wx_sorted = np.matmul(Cxx_sqrt_inv, U)\n",
    "    wy_sorted = np.matmul(Cyy_sqrt_inv, Vh.T)\n",
    "    \n",
    "    # transform matrices\n",
    "    Xc_train = X_train_standardized.dot(wx_sorted)[:, :n_components]\n",
    "    Xc_test = X_test_standardized.dot(wx_sorted)[:, :n_components]\n",
    "    Yc_train = Y_train_standardized.dot(wy_sorted)[:, :n_components]\n",
    "    Yc_test = Y_test_standardized.dot(wy_sorted)[:, :n_components]\n",
    "    \n",
    "    # train with linear regression and get a score\n",
    "    return LinearRegression().fit(Xc_train, Yc_train).score(Xc_test, Yc_test)"
   ]
  },
  {
   "cell_type": "code",
   "execution_count": 42,
   "id": "40705a9d",
   "metadata": {},
   "outputs": [],
   "source": [
    "svd_bunch.rkf = RepeatedKFold(n_splits=5, n_repeats=5, random_state=rs_num)\n",
    "svd_bunch.n_components = sklearn_bunch.n_components"
   ]
  },
  {
   "cell_type": "code",
   "execution_count": 43,
   "id": "1786b62c",
   "metadata": {},
   "outputs": [],
   "source": [
    "# cross-validate\n",
    "svd_bunch.cv_scores = custom_cv(\n",
    "    svd_bunch.rkf, X_train, Y_train, \n",
    "    svd_cca_fit_n_score, \n",
    "    svd_bunch.n_components\n",
    ")\n",
    "\n",
    "# also evaluate them manually\n",
    "svd_bunch.eval_score = svd_cca_fit_n_score(\n",
    "    X_train, X_test, Y_train, Y_test, \n",
    "    svd_bunch.n_components\n",
    ")"
   ]
  },
  {
   "cell_type": "code",
   "execution_count": 44,
   "id": "b201fa61",
   "metadata": {},
   "outputs": [
    {
     "data": {
      "image/png": "[encoded data removed]",
      "text/plain": [
       "<Figure size 432x288 with 1 Axes>"
      ]
     },
     "metadata": {
      "needs_background": "light"
     },
     "output_type": "display_data"
    }
   ],
   "source": [
    "# put everything in one list\n",
    "bunch_list = [\n",
    "    baseline_bunch, \n",
    "    sklearn_bunch, \n",
    "    std_eig_bunch, \n",
    "    gen_eig_bunch, \n",
    "    svd_bunch\n",
    "]\n",
    "\n",
    "# visualize model evaluation\n",
    "viz_labels = []\n",
    "viz_boxplots = []\n",
    "viz_eval_scores = []\n",
    "viz_eval_scores_pos = []\n",
    "\n",
    "for i, bunch in enumerate(bunch_list):\n",
    "    viz_labels.append(bunch.name)\n",
    "    viz_boxplots.append(bunch.cv_scores)\n",
    "    viz_eval_scores.append(bunch.eval_score)\n",
    "    viz_eval_scores_pos.append(i+1)\n",
    "\n",
    "# visualization\n",
    "fig, ax = plt.subplots()\n",
    "\n",
    "ax.boxplot(\n",
    "    viz_boxplots, \n",
    "    labels=viz_labels\n",
    ")\n",
    "ax.scatter(\n",
    "    viz_eval_scores_pos, \n",
    "    viz_eval_scores, \n",
    "    fc='none',\n",
    "    ec='blue', \n",
    "    marker='^', \n",
    "    label='scores on test dataset'\n",
    ")\n",
    "\n",
    "ax.set(ylabel='Scores', title='RepeatedKFold CV')\n",
    "ax.set_xticklabels(viz_labels, rotation=45)\n",
    "ax.legend(\n",
    "    loc='upper center',\n",
    "    bbox_to_anchor=(0.5, -0.22),\n",
    "    fancybox=True,\n",
    "    shadow=True,\n",
    "    ncol=2,\n",
    "    fontsize='small'\n",
    ")\n",
    "\n",
    "plt.tight_layout()"
   ]
  },
  {
   "cell_type": "markdown",
   "id": "50137cf1",
   "metadata": {},
   "source": [
    "Although the CC and Weights are different, SVD method still provides similar performance."
   ]
  },
  {
   "cell_type": "code",
   "execution_count": null,
   "id": "7e116c4f",
   "metadata": {},
   "outputs": [],
   "source": []
  }
 ],
 "metadata": {
  "kernelspec": {
   "display_name": "Python 3 (ipykernel)",
   "language": "python",
   "name": "python3"
  },
  "language_info": {
   "codemirror_mode": {
    "name": "ipython",
    "version": 3
   },
   "file_extension": ".py",
   "mimetype": "text/x-python",
   "name": "python",
   "nbconvert_exporter": "python",
   "pygments_lexer": "ipython3",
   "version": "3.8.13"
  }
 },
 "nbformat": 4,
 "nbformat_minor": 5
}
