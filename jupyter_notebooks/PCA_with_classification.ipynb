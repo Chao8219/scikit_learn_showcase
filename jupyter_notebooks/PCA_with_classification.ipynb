{
 "cells": [
  {
   "cell_type": "markdown",
   "id": "06f7ffad",
   "metadata": {},
   "source": [
    "# 0. About\n",
    "\n",
    "This notebook is to try PCA with classification algorithms.\n",
    "The dataset is from [Kaggle Heart Attack Analysis Prediction](https://www.kaggle.com/datasets/rashikrahmanpritom/heart-attack-analysis-prediction-dataset)."
   ]
  },
  {
   "cell_type": "code",
   "execution_count": 34,
   "id": "53e83e2f",
   "metadata": {},
   "outputs": [],
   "source": [
    "import numpy as np\n",
    "import pandas as pd\n",
    "import os\n",
    "from matplotlib import pyplot as plt\n",
    "from sklearn.preprocessing import StandardScaler\n",
    "from sklearn.decomposition import PCA\n",
    "from sklearn.model_selection import train_test_split, cross_validate\n",
    "from sklearn.model_selection import RepeatedKFold\n",
    "from sklearn.model_selection import GridSearchCV\n",
    "from sklearn.pipeline import Pipeline\n",
    "from sklearn.svm import SVC\n",
    "from sklearn.tree import DecisionTreeClassifier\n",
    "\n",
    "rs_num = 14"
   ]
  },
  {
   "cell_type": "markdown",
   "id": "c0018c8f",
   "metadata": {},
   "source": [
    "# 1. Loading Data\n",
    "\n",
    "For the features: \n",
    "\n",
    "- Age : Age of the patient\n",
    "- Sex : Sex of the patient\n",
    "- exang: exercise induced angina (1 = yes; 0 = no)\n",
    "- ca: number of major vessels (0-3)\n",
    "- cp : Chest Pain type chest pain type\n",
    "    - Value 1: typical angina\n",
    "    - Value 2: atypical angina\n",
    "    - Value 3: non-anginal pain\n",
    "    - Value 4: asymptomatic\n",
    "- trtbps : resting blood pressure (in mm Hg)\n",
    "- chol : cholestoral in mg/dl fetched via BMI sensor\n",
    "- fbs : (fasting blood sugar > 120 mg/dl) (1 = true; 0 = false)\n",
    "- rest_ecg : resting electrocardiographic results\n",
    "    - Value 0: normal\n",
    "    - Value 1: having ST-T wave abnormality (T wave inversions and/or ST elevation or depression of > 0.05 mV)\n",
    "    - Value 2: showing probable or definite left ventricular hypertrophy by Estes' criteria\n",
    "- thalach : maximum heart rate achieved\n",
    "- target : \n",
    "    - 0: less chance of heart attack\n",
    "    - 1: more chance of heart attack"
   ]
  },
  {
   "cell_type": "code",
   "execution_count": 2,
   "id": "71b175ac",
   "metadata": {},
   "outputs": [],
   "source": [
    "# find where the data is stored\n",
    "repo_path = os.path.dirname(os.getcwd())\n",
    "data_path = repo_path + '\\\\data\\\\'"
   ]
  },
  {
   "cell_type": "code",
   "execution_count": 3,
   "id": "f91ee2fa",
   "metadata": {},
   "outputs": [],
   "source": [
    "df = pd.read_csv(\n",
    "    data_path+'Heart_Attack_Analysis_Prediction_Dataset_heart.csv'\n",
    ")"
   ]
  },
  {
   "cell_type": "code",
   "execution_count": 4,
   "id": "a2ee0c35",
   "metadata": {},
   "outputs": [
    {
     "name": "stdout",
     "output_type": "stream",
     "text": [
      "<class 'pandas.core.frame.DataFrame'>\n",
      "RangeIndex: 303 entries, 0 to 302\n",
      "Data columns (total 14 columns):\n",
      " #   Column    Non-Null Count  Dtype  \n",
      "---  ------    --------------  -----  \n",
      " 0   age       303 non-null    int64  \n",
      " 1   sex       303 non-null    int64  \n",
      " 2   cp        303 non-null    int64  \n",
      " 3   trtbps    303 non-null    int64  \n",
      " 4   chol      303 non-null    int64  \n",
      " 5   fbs       303 non-null    int64  \n",
      " 6   restecg   303 non-null    int64  \n",
      " 7   thalachh  303 non-null    int64  \n",
      " 8   exng      303 non-null    int64  \n",
      " 9   oldpeak   303 non-null    float64\n",
      " 10  slp       303 non-null    int64  \n",
      " 11  caa       303 non-null    int64  \n",
      " 12  thall     303 non-null    int64  \n",
      " 13  output    303 non-null    int64  \n",
      "dtypes: float64(1), int64(13)\n",
      "memory usage: 33.3 KB\n",
      "None\n"
     ]
    }
   ],
   "source": [
    "# check out the general info\n",
    "print(df.info())"
   ]
  },
  {
   "cell_type": "code",
   "execution_count": 5,
   "id": "a5e731bb",
   "metadata": {},
   "outputs": [
    {
     "name": "stdout",
     "output_type": "stream",
     "text": [
      "   age  sex  cp  trtbps  chol  fbs  restecg  thalachh  exng  oldpeak  slp  \\\n",
      "0   63    1   3     145   233    1        0       150     0      2.3    0   \n",
      "1   37    1   2     130   250    0        1       187     0      3.5    0   \n",
      "2   41    0   1     130   204    0        0       172     0      1.4    2   \n",
      "3   56    1   1     120   236    0        1       178     0      0.8    2   \n",
      "4   57    0   0     120   354    0        1       163     1      0.6    2   \n",
      "\n",
      "   caa  thall  output  \n",
      "0    0      1       1  \n",
      "1    0      2       1  \n",
      "2    0      2       1  \n",
      "3    0      2       1  \n",
      "4    0      2       1  \n"
     ]
    }
   ],
   "source": [
    "# check out the head\n",
    "print(df.head())"
   ]
  },
  {
   "cell_type": "markdown",
   "id": "7e85df95",
   "metadata": {},
   "source": [
    "Every feature looks like numerically, but we can check out the data later with the EDA."
   ]
  },
  {
   "cell_type": "markdown",
   "id": "500fffb9",
   "metadata": {},
   "source": [
    "# 2. Exploratory Data Analysis"
   ]
  },
  {
   "cell_type": "markdown",
   "id": "08153bbb",
   "metadata": {},
   "source": [
    "## 2.1. Check out NA and Null"
   ]
  },
  {
   "cell_type": "code",
   "execution_count": 6,
   "id": "cfb84530",
   "metadata": {},
   "outputs": [
    {
     "name": "stdout",
     "output_type": "stream",
     "text": [
      "age         0\n",
      "sex         0\n",
      "cp          0\n",
      "trtbps      0\n",
      "chol        0\n",
      "fbs         0\n",
      "restecg     0\n",
      "thalachh    0\n",
      "exng        0\n",
      "oldpeak     0\n",
      "slp         0\n",
      "caa         0\n",
      "thall       0\n",
      "output      0\n",
      "dtype: int64\n"
     ]
    }
   ],
   "source": [
    "# check out NA\n",
    "print(df.isna().sum())"
   ]
  },
  {
   "cell_type": "code",
   "execution_count": 7,
   "id": "10843b30",
   "metadata": {},
   "outputs": [
    {
     "name": "stdout",
     "output_type": "stream",
     "text": [
      "age         0\n",
      "sex         0\n",
      "cp          0\n",
      "trtbps      0\n",
      "chol        0\n",
      "fbs         0\n",
      "restecg     0\n",
      "thalachh    0\n",
      "exng        0\n",
      "oldpeak     0\n",
      "slp         0\n",
      "caa         0\n",
      "thall       0\n",
      "output      0\n",
      "dtype: int64\n"
     ]
    }
   ],
   "source": [
    "# check out Null\n",
    "print(df.isnull().sum())"
   ]
  },
  {
   "cell_type": "markdown",
   "id": "63c1dc14",
   "metadata": {},
   "source": [
    "Everything looks good!"
   ]
  },
  {
   "cell_type": "markdown",
   "id": "bebb2933",
   "metadata": {},
   "source": [
    "## 2.2. Visualize Data Distribution"
   ]
  },
  {
   "cell_type": "code",
   "execution_count": 8,
   "id": "788cd2d3",
   "metadata": {},
   "outputs": [
    {
     "data": {
      "image/png": "[encoded data removed]",
      "text/plain": [
       "<Figure size 864x1296 with 15 Axes>"
      ]
     },
     "metadata": {
      "needs_background": "light"
     },
     "output_type": "display_data"
    }
   ],
   "source": [
    "df.hist(layout=(5, 3), figsize=(12, 18))\n",
    "\n",
    "plt.tight_layout()"
   ]
  },
  {
   "cell_type": "markdown",
   "id": "62a18fae",
   "metadata": {},
   "source": [
    "Again, everything looks good!"
   ]
  },
  {
   "cell_type": "markdown",
   "id": "1be0f827",
   "metadata": {},
   "source": [
    "# 2.3. Correlation Chart\n",
    "\n",
    "Now we can check out the Pearson Correlation Coefficient to see how every feature is correlated with the output."
   ]
  },
  {
   "cell_type": "code",
   "execution_count": 9,
   "id": "afacfc91",
   "metadata": {},
   "outputs": [
    {
     "data": {
      "image/png": "[encoded data removed]",
      "text/plain": [
       "<Figure size 432x288 with 1 Axes>"
      ]
     },
     "metadata": {
      "needs_background": "light"
     },
     "output_type": "display_data"
    }
   ],
   "source": [
    "ax = df.corr()['output'][:-1].abs().plot.bar()\n",
    "ax.set_title('Pearson Corr')\n",
    "plt.tight_layout()"
   ]
  },
  {
   "cell_type": "markdown",
   "id": "8631921c",
   "metadata": {},
   "source": [
    "It seems the features in the middle have relatively low correlation with the output (target)."
   ]
  },
  {
   "cell_type": "markdown",
   "id": "06fe5f66",
   "metadata": {},
   "source": [
    "# 3. Data Transformation and PCA\n",
    "\n",
    "Now we can try PCA. \n",
    "But before applying PCA, we should standardize the dataset since the features have large differences in magnitude."
   ]
  },
  {
   "cell_type": "code",
   "execution_count": 10,
   "id": "5ea7f6a5",
   "metadata": {},
   "outputs": [],
   "source": [
    "X = df.iloc[:, :-1].to_numpy().copy()\n",
    "y = df.iloc[:, -1].to_numpy().copy()\n",
    "X_train, X_test, y_train, y_test = train_test_split(\n",
    "    X, y, test_size=0.20, random_state=rs_num\n",
    ")"
   ]
  },
  {
   "cell_type": "code",
   "execution_count": 11,
   "id": "75348068",
   "metadata": {},
   "outputs": [],
   "source": [
    "scaler = StandardScaler().fit(X_train)\n",
    "X_train_scaled = scaler.transform(X_train)"
   ]
  },
  {
   "cell_type": "code",
   "execution_count": 12,
   "id": "a0bf70fe",
   "metadata": {},
   "outputs": [
    {
     "data": {
      "image/png": "[encoded data removed]",
      "text/plain": [
       "<Figure size 936x360 with 2 Axes>"
      ]
     },
     "metadata": {
      "needs_background": "light"
     },
     "output_type": "display_data"
    }
   ],
   "source": [
    "# check out full pca\n",
    "full_pca = PCA(random_state=rs_num).fit(X_train_scaled)\n",
    "\n",
    "cu_evr = np.zeros_like(full_pca.explained_variance_ratio_)\n",
    "for i in range(full_pca.n_components_):\n",
    "    cu_evr[i] = full_pca.explained_variance_ratio_[:i+1].sum()\n",
    "\n",
    "fig, axes = plt.subplots(1, 2, figsize=(13, 5))\n",
    "\n",
    "axes[0].plot(\n",
    "    np.arange(1, full_pca.n_components_+1, 1), \n",
    "    full_pca.explained_variance_, '-o'\n",
    ")\n",
    "axes[0].set_xlabel('component number')\n",
    "axes[0].set_ylabel('explained variance')\n",
    "axes[0].set_title('Explained Variance for All Components')\n",
    "\n",
    "axes[1].plot(\n",
    "    np.arange(1, full_pca.n_components_+1, 1), \n",
    "    cu_evr, '-o', label='scree curve'\n",
    ")\n",
    "axes[1].axhline(y=0.99, color='red', ls='--', label='99%')\n",
    "axes[1].axhline(y=0.95, color='green', ls='--', label='95%')\n",
    "axes[1].axhline(y=0.90, color='blue', ls='-.', label='95%')\n",
    "axes[1].axhline(y=0.80, color='black', ls='-.', label='80%')\n",
    "axes[1].set_xlabel('component number')\n",
    "axes[1].set_ylabel('cumulative explained variance ratio')\n",
    "axes[1].set_title('Cumulative Explained Variance Ratio for All Components')\n",
    "axes[1].legend();"
   ]
  },
  {
   "cell_type": "markdown",
   "id": "643fc627",
   "metadata": {},
   "source": [
    "The scree plots are interesting, and we can try different threshold levels to see if the PCA dimension reduction would affect the prediction results."
   ]
  },
  {
   "cell_type": "code",
   "execution_count": 13,
   "id": "8709b38f",
   "metadata": {},
   "outputs": [
    {
     "name": "stdout",
     "output_type": "stream",
     "text": [
      "[12, 11, 10, 8]\n"
     ]
    }
   ],
   "source": [
    "# make an list for the possible component number we may try\n",
    "component_num_list = []\n",
    "component_num_list.append(cu_evr[cu_evr<=0.99].shape[0])\n",
    "component_num_list.append(cu_evr[cu_evr<=0.95].shape[0])\n",
    "component_num_list.append(cu_evr[cu_evr<=0.90].shape[0])\n",
    "component_num_list.append(cu_evr[cu_evr<=0.80].shape[0])\n",
    "\n",
    "print(component_num_list)"
   ]
  },
  {
   "cell_type": "markdown",
   "id": "a43027e0",
   "metadata": {},
   "source": [
    "# 4. Training with Algorithms\n",
    "\n",
    "This section is to try out different algorithms.\n",
    "\n",
    "Also in this section, we can use `Grid Search` to find the optimal parameters for one pipeline.\n",
    "\n",
    "Reference:\n",
    "https://scikit-learn.org/stable/auto_examples/model_selection/plot_grid_search_digits.html#sphx-glr-auto-examples-model-selection-plot-grid-search-digits-py"
   ]
  },
  {
   "cell_type": "markdown",
   "id": "7dc45dee",
   "metadata": {},
   "source": [
    "## 4.1. SVM with PCA"
   ]
  },
  {
   "cell_type": "code",
   "execution_count": 14,
   "id": "9cf6f41a",
   "metadata": {},
   "outputs": [
    {
     "name": "stdout",
     "output_type": "stream",
     "text": [
      "Done!\n"
     ]
    }
   ],
   "source": [
    "# first pipeline for the linear SVM and RBF SVM, with PCA\n",
    "svm_w_PCA_pipeline = Pipeline(\n",
    "    [\n",
    "        ('scaler', StandardScaler()), \n",
    "        ('pca', PCA(random_state=rs_num)), \n",
    "        ('classifier', SVC(random_state=rs_num))\n",
    "    ]\n",
    ")\n",
    "\n",
    "# define grid space\n",
    "svm_w_PCA_pipeline_param_grid = [\n",
    "    {\n",
    "        'pca__n_components': component_num_list, \n",
    "        'classifier__kernel': ['linear'], \n",
    "        'classifier__C': [0.01, 0.1, 1.0, 10, 100, 1000]\n",
    "        \n",
    "    }, \n",
    "    {\n",
    "        'pca__n_components': component_num_list, \n",
    "        'classifier__kernel': ['rbf'], \n",
    "        'classifier__C': [0.01, 0.1, 1.0, 10, 100, 1000], \n",
    "        'classifier__gamma': [0.0001, 0.001, 0.01, 0.1]\n",
    "    }\n",
    "]\n",
    "\n",
    "# construct the grid-search-cv object\n",
    "svm_w_PCA_pipeline_gscv = GridSearchCV(\n",
    "    svm_w_PCA_pipeline, param_grid=svm_w_PCA_pipeline_param_grid, \n",
    "    cv=RepeatedKFold(n_splits=5, n_repeats=5, random_state=rs_num)\n",
    ")\n",
    "\n",
    "# training and finding\n",
    "svm_w_PCA_pipeline_gscv.fit(X_train, y_train)\n",
    "\n",
    "print('Done!')"
   ]
  },
  {
   "cell_type": "code",
   "execution_count": 15,
   "id": "689028fc",
   "metadata": {},
   "outputs": [
    {
     "name": "stdout",
     "output_type": "stream",
     "text": [
      "Best parameter combination found:\n",
      "{'classifier__C': 100, 'classifier__kernel': 'linear', 'pca__n_components': 10}\n",
      "With scoring:\n",
      "0.8628401360544217\n"
     ]
    }
   ],
   "source": [
    "# print the best results\n",
    "print(\"Best parameter combination found:\")\n",
    "print(svm_w_PCA_pipeline_gscv.best_params_)\n",
    "print(\"With scoring:\")\n",
    "print(svm_w_PCA_pipeline_gscv.best_score_)"
   ]
  },
  {
   "cell_type": "markdown",
   "id": "6587c681",
   "metadata": {},
   "source": [
    "Now we can use the optimal parameters to get the actual model."
   ]
  },
  {
   "cell_type": "code",
   "execution_count": 16,
   "id": "2b973397",
   "metadata": {},
   "outputs": [],
   "source": [
    "# instantiate a new pipeline\n",
    "svm_w_PCA_pipeline_good = Pipeline(\n",
    "    [\n",
    "        ('scaler', StandardScaler()), \n",
    "        ('pca', PCA(random_state=rs_num)), \n",
    "        ('classifier', SVC(random_state=rs_num))\n",
    "    ]\n",
    ")\n",
    "\n",
    "# set the parameters using the grid-search results\n",
    "# ref: https://stackoverflow.com/questions/32965188/scikit-set-params\n",
    "for k, v in svm_w_PCA_pipeline_gscv.best_params_.items():\n",
    "    svm_w_PCA_pipeline_good.set_params(**{k: v})\n",
    "    \n",
    "# repeated 5-fold cross-validation on the training dataset\n",
    "svm_w_PCA_pipeline_good_scores = cross_validate(\n",
    "    svm_w_PCA_pipeline_good, X_train, y_train, \n",
    "    cv=RepeatedKFold(n_splits=5, n_repeats=5, random_state=rs_num)\n",
    ")"
   ]
  },
  {
   "cell_type": "code",
   "execution_count": null,
   "id": "e4821cb6",
   "metadata": {},
   "outputs": [],
   "source": []
  },
  {
   "cell_type": "markdown",
   "id": "ad865e4b",
   "metadata": {},
   "source": [
    "## 4.2. SVM without PCA\n",
    "\n",
    "Apply standardization only for the data transformation."
   ]
  },
  {
   "cell_type": "code",
   "execution_count": 17,
   "id": "8f5307c5",
   "metadata": {},
   "outputs": [
    {
     "name": "stdout",
     "output_type": "stream",
     "text": [
      "Best parameter combination found:\n",
      "{'classifier__C': 1000, 'classifier__gamma': 0.0001, 'classifier__kernel': 'rbf'}\n",
      "With scoring:\n",
      "0.8520918367346938\n"
     ]
    }
   ],
   "source": [
    "# build up the pipeline\n",
    "svm_pipeline = Pipeline(\n",
    "    [\n",
    "        ('scaler', StandardScaler()), \n",
    "        ('classifier', SVC(random_state=rs_num))\n",
    "    ]\n",
    ")\n",
    "\n",
    "# define grid space\n",
    "svm_pipeline_param_grid = [\n",
    "    {\n",
    "        'classifier__kernel': ['linear'], \n",
    "        'classifier__C': [0.01, 0.1, 1.0, 10, 100, 1000]\n",
    "        \n",
    "    }, \n",
    "    {\n",
    "        'classifier__kernel': ['rbf'], \n",
    "        'classifier__C': [0.01, 0.1, 1.0, 10, 100, 1000], \n",
    "        'classifier__gamma': [0.0001, 0.001, 0.01, 0.1]\n",
    "    }\n",
    "]\n",
    "\n",
    "# construct the grid-search-cv object\n",
    "svm_pipeline_gscv = GridSearchCV(\n",
    "    svm_pipeline, param_grid=svm_pipeline_param_grid, \n",
    "    cv=RepeatedKFold(n_splits=5, n_repeats=5, random_state=rs_num)\n",
    ")\n",
    "\n",
    "# training and finding\n",
    "svm_pipeline_gscv.fit(X_train, y_train)\n",
    "\n",
    "# print the best results\n",
    "print(\"Best parameter combination found:\")\n",
    "print(svm_pipeline_gscv.best_params_)\n",
    "print(\"With scoring:\")\n",
    "print(svm_pipeline_gscv.best_score_)"
   ]
  },
  {
   "cell_type": "markdown",
   "id": "62669885",
   "metadata": {},
   "source": [
    "Now apply the best parameters with new instantiation."
   ]
  },
  {
   "cell_type": "code",
   "execution_count": 18,
   "id": "83171864",
   "metadata": {},
   "outputs": [],
   "source": [
    "# instantiate a new pipeline\n",
    "svm_pipeline_good = Pipeline(\n",
    "    [\n",
    "        ('scaler', StandardScaler()), \n",
    "        ('classifier', SVC(random_state=rs_num))\n",
    "    ]\n",
    ")\n",
    "\n",
    "# set the parameters using the grid-search results\n",
    "# ref: https://stackoverflow.com/questions/32965188/scikit-set-params\n",
    "for k, v in svm_pipeline_gscv.best_params_.items():\n",
    "    svm_pipeline_good.set_params(**{k: v})\n",
    "    \n",
    "# repeated 5-fold cross-validation on the training dataset\n",
    "svm_pipeline_good_scores = cross_validate(\n",
    "    svm_pipeline_good, X_train, y_train, \n",
    "    cv=RepeatedKFold(n_splits=5, n_repeats=5, random_state=rs_num)\n",
    ")"
   ]
  },
  {
   "cell_type": "code",
   "execution_count": null,
   "id": "63680827",
   "metadata": {},
   "outputs": [],
   "source": []
  },
  {
   "cell_type": "markdown",
   "id": "a2dc4792",
   "metadata": {},
   "source": [
    "## 4.3. Decision Tree with PCA"
   ]
  },
  {
   "cell_type": "code",
   "execution_count": 19,
   "id": "1e653a23",
   "metadata": {},
   "outputs": [
    {
     "name": "stdout",
     "output_type": "stream",
     "text": [
      "Best parameter combination found:\n",
      "{'classifier__criterion': 'entropy', 'classifier__splitter': 'random', 'pca__n_components': 11}\n",
      "With scoring:\n",
      "0.7686054421768708\n"
     ]
    }
   ],
   "source": [
    "# build up the pipeline\n",
    "dtc_w_PCA_pipeline = Pipeline(\n",
    "    [\n",
    "        ('scaler', StandardScaler()), \n",
    "        ('pca', PCA(random_state=rs_num)), \n",
    "        ('classifier', DecisionTreeClassifier(random_state=rs_num))\n",
    "    ]\n",
    ")\n",
    "\n",
    "# define grid space\n",
    "dtc_w_PCA_pipeline_param_grid = [\n",
    "    {\n",
    "        'pca__n_components': component_num_list, \n",
    "        'classifier__criterion': ['gini', 'entropy'],\n",
    "        'classifier__splitter': ['best', 'random']\n",
    "        \n",
    "    }\n",
    "]\n",
    "\n",
    "# construct the grid-search-cv object\n",
    "dtc_w_PCA_pipeline_gscv = GridSearchCV(\n",
    "    dtc_w_PCA_pipeline, param_grid=dtc_w_PCA_pipeline_param_grid, \n",
    "    cv=RepeatedKFold(n_splits=5, n_repeats=5, random_state=rs_num)\n",
    ")\n",
    "\n",
    "# training and finding\n",
    "dtc_w_PCA_pipeline_gscv.fit(X_train, y_train)\n",
    "\n",
    "# print the best results\n",
    "print(\"Best parameter combination found:\")\n",
    "print(dtc_w_PCA_pipeline_gscv.best_params_)\n",
    "print(\"With scoring:\")\n",
    "print(dtc_w_PCA_pipeline_gscv.best_score_)"
   ]
  },
  {
   "cell_type": "code",
   "execution_count": 20,
   "id": "ba015b04",
   "metadata": {},
   "outputs": [],
   "source": [
    "# instantiate a new pipeline\n",
    "dtc_w_PCA_pipeline_good = Pipeline(\n",
    "    [\n",
    "        ('scaler', StandardScaler()), \n",
    "        ('pca', PCA(random_state=rs_num)), \n",
    "        ('classifier', DecisionTreeClassifier(random_state=rs_num))\n",
    "    ]\n",
    ")\n",
    "\n",
    "# set the parameters using the grid-search results\n",
    "# ref: https://stackoverflow.com/questions/32965188/scikit-set-params\n",
    "for k, v in dtc_w_PCA_pipeline_gscv.best_params_.items():\n",
    "    dtc_w_PCA_pipeline_good.set_params(**{k: v})\n",
    "    \n",
    "# repeated 5-fold cross-validation on the training dataset\n",
    "dtc_w_PCA_pipeline_good_scores = cross_validate(\n",
    "    dtc_w_PCA_pipeline_good, X_train, y_train, \n",
    "    cv=RepeatedKFold(n_splits=5, n_repeats=5, random_state=rs_num)\n",
    ")"
   ]
  },
  {
   "cell_type": "code",
   "execution_count": null,
   "id": "d205835b",
   "metadata": {},
   "outputs": [],
   "source": []
  },
  {
   "cell_type": "markdown",
   "id": "c123d90e",
   "metadata": {},
   "source": [
    "## 4.4. Decision Tree without PCA"
   ]
  },
  {
   "cell_type": "code",
   "execution_count": 21,
   "id": "dafcc996",
   "metadata": {},
   "outputs": [
    {
     "name": "stdout",
     "output_type": "stream",
     "text": [
      "Best parameter combination found:\n",
      "{'classifier__criterion': 'entropy', 'classifier__splitter': 'random'}\n",
      "With scoring:\n",
      "0.7768367346938774\n"
     ]
    }
   ],
   "source": [
    "# build up the pipeline\n",
    "dtc_pipeline = Pipeline(\n",
    "    [\n",
    "        ('scaler', StandardScaler()), \n",
    "        ('classifier', DecisionTreeClassifier(random_state=rs_num))\n",
    "    ]\n",
    ")\n",
    "\n",
    "# define grid space\n",
    "dtc_pipeline_param_grid = [\n",
    "    {\n",
    "        'classifier__criterion': ['gini', 'entropy'],\n",
    "        'classifier__splitter': ['best', 'random']\n",
    "    }\n",
    "]\n",
    "\n",
    "# construct the grid-search-cv object\n",
    "dtc_pipeline_gscv = GridSearchCV(\n",
    "    dtc_pipeline, param_grid=dtc_pipeline_param_grid, \n",
    "    cv=RepeatedKFold(n_splits=5, n_repeats=5, random_state=rs_num)\n",
    ")\n",
    "\n",
    "# training and finding\n",
    "dtc_pipeline_gscv.fit(X_train, y_train)\n",
    "\n",
    "# print the best results\n",
    "print(\"Best parameter combination found:\")\n",
    "print(dtc_pipeline_gscv.best_params_)\n",
    "print(\"With scoring:\")\n",
    "print(dtc_pipeline_gscv.best_score_)"
   ]
  },
  {
   "cell_type": "code",
   "execution_count": 22,
   "id": "ce859812",
   "metadata": {},
   "outputs": [],
   "source": [
    "# instantiate a new pipeline\n",
    "dtc_pipeline_good = Pipeline(\n",
    "    [\n",
    "        ('scaler', StandardScaler()), \n",
    "        ('classifier', DecisionTreeClassifier(random_state=rs_num))\n",
    "    ]\n",
    ")\n",
    "\n",
    "# set the parameters using the grid-search results\n",
    "# ref: https://stackoverflow.com/questions/32965188/scikit-set-params\n",
    "for k, v in dtc_pipeline_gscv.best_params_.items():\n",
    "    dtc_pipeline_good.set_params(**{k: v})\n",
    "    \n",
    "# repeated 5-fold cross-validation on the training dataset\n",
    "dtc_pipeline_good_scores = cross_validate(\n",
    "    dtc_pipeline_good, X_train, y_train, \n",
    "    cv=RepeatedKFold(n_splits=5, n_repeats=5, random_state=rs_num)\n",
    ")"
   ]
  },
  {
   "cell_type": "code",
   "execution_count": null,
   "id": "7cfb3e17",
   "metadata": {},
   "outputs": [],
   "source": []
  },
  {
   "cell_type": "markdown",
   "id": "af65dabb",
   "metadata": {},
   "source": [
    "# 5. Compare Models"
   ]
  },
  {
   "cell_type": "code",
   "execution_count": 30,
   "id": "0f480755",
   "metadata": {},
   "outputs": [
    {
     "data": {
      "image/png": "[encoded data removed]",
      "text/plain": [
       "<Figure size 576x432 with 1 Axes>"
      ]
     },
     "metadata": {
      "needs_background": "light"
     },
     "output_type": "display_data"
    }
   ],
   "source": [
    "fig, ax = plt.subplots(figsize=(8, 6))\n",
    "\n",
    "ax.boxplot(\n",
    "    [\n",
    "        svm_w_PCA_pipeline_good_scores['test_score'],\n",
    "        svm_pipeline_good_scores['test_score'], \n",
    "        dtc_w_PCA_pipeline_good_scores['test_score'], \n",
    "        dtc_pipeline_good_scores['test_score']\n",
    "    ], \n",
    "    labels=[\n",
    "        'SVM w/ PCA', \n",
    "        'SVM w/o PCA', \n",
    "        'Decision Tree w/ PCA', \n",
    "        'Decision Tree w/o PCA'\n",
    "    ]\n",
    ")\n",
    "ax.set_ylabel('Scores')\n",
    "ax.set_title('Comparison of 5-Fold CV Scores')\n",
    "\n",
    "plt.xticks(rotation=60)\n",
    "plt.tight_layout()"
   ]
  },
  {
   "cell_type": "markdown",
   "id": "63797fce",
   "metadata": {},
   "source": [
    "It looks SVM with PCA performs better than other models.\n",
    "Let's see their performance on the test dataset."
   ]
  },
  {
   "cell_type": "code",
   "execution_count": 37,
   "id": "0a6a243c",
   "metadata": {},
   "outputs": [],
   "source": [
    "# svm with pca\n",
    "svm_w_PCA_eval = cross_validate(\n",
    "    svm_w_PCA_pipeline_good, X_test, y_test, \n",
    "    cv=RepeatedKFold(n_splits=5, n_repeats=5, random_state=rs_num)\n",
    ")['test_score']\n",
    "\n",
    "# svm without pca\n",
    "svm_eval = cross_validate(\n",
    "    svm_pipeline_good, X_test, y_test, \n",
    "    cv=RepeatedKFold(n_splits=5, n_repeats=5, random_state=rs_num)\n",
    ")['test_score']\n",
    "\n",
    "# decision tree with pca\n",
    "dtc_w_PCA_eval = cross_validate(\n",
    "    dtc_w_PCA_pipeline_good, X_test, y_test, \n",
    "    cv=RepeatedKFold(n_splits=5, n_repeats=5, random_state=rs_num)\n",
    ")['test_score']\n",
    "\n",
    "# decision tree without pca\n",
    "dtc_eval = cross_validate(\n",
    "    dtc_pipeline_good, X_test, y_test, \n",
    "    cv=RepeatedKFold(n_splits=5, n_repeats=5, random_state=rs_num)\n",
    ")['test_score']"
   ]
  },
  {
   "cell_type": "code",
   "execution_count": 38,
   "id": "80dd087a",
   "metadata": {},
   "outputs": [
    {
     "data": {
      "image/png": "[encoded data removed]",
      "text/plain": [
       "<Figure size 576x432 with 1 Axes>"
      ]
     },
     "metadata": {
      "needs_background": "light"
     },
     "output_type": "display_data"
    }
   ],
   "source": [
    "fig, ax = plt.subplots(figsize=(8, 6))\n",
    "\n",
    "ax.boxplot(\n",
    "    [\n",
    "        svm_w_PCA_eval, svm_eval, \n",
    "        dtc_w_PCA_eval, dtc_eval\n",
    "    ], \n",
    "    labels=[\n",
    "        'SVM w/ PCA', \n",
    "        'SVM w/o PCA', \n",
    "        'Decision Tree w/ PCA', \n",
    "        'Decision Tree w/o PCA'\n",
    "    ]\n",
    ")\n",
    "ax.set_ylabel('Scores')\n",
    "ax.set_title('Comparison of 5-Fold Evaluation Scores')\n",
    "\n",
    "plt.xticks(rotation=60)\n",
    "plt.tight_layout()"
   ]
  },
  {
   "cell_type": "markdown",
   "id": "a0236673",
   "metadata": {},
   "source": [
    "It looks like with or without PCA, the SVM models perform well on the test dataset."
   ]
  },
  {
   "cell_type": "code",
   "execution_count": null,
   "id": "80702d12",
   "metadata": {},
   "outputs": [],
   "source": []
  }
 ],
 "metadata": {
  "kernelspec": {
   "display_name": "Python 3 (ipykernel)",
   "language": "python",
   "name": "python3"
  },
  "language_info": {
   "codemirror_mode": {
    "name": "ipython",
    "version": 3
   },
   "file_extension": ".py",
   "mimetype": "text/x-python",
   "name": "python",
   "nbconvert_exporter": "python",
   "pygments_lexer": "ipython3",
   "version": "3.8.12"
  }
 },
 "nbformat": 4,
 "nbformat_minor": 5
}
