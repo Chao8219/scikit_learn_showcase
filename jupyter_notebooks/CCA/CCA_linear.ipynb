{
 "cells": [
  {
   "cell_type": "markdown",
   "id": "d8fad542",
   "metadata": {},
   "source": [
    "# 0. About\n",
    "\n",
    "This notebook is to test out the linear CCA with various packages."
   ]
  },
  {
   "cell_type": "code",
   "execution_count": 1,
   "id": "7a3570a6",
   "metadata": {},
   "outputs": [],
   "source": [
    "import numpy as np\n",
    "from matplotlib import pyplot as plt\n",
    "import seaborn as sns\n",
    "import pandas as pd\n",
    "import scipy\n",
    "import warnings\n",
    "\n",
    "import sklearn\n",
    "from sklearn.pipeline import Pipeline\n",
    "from sklearn.preprocessing import StandardScaler\n",
    "from sklearn.decomposition import PCA\n",
    "from sklearn.model_selection import train_test_split, cross_validate\n",
    "from sklearn.model_selection import RepeatedKFold, GridSearchCV\n",
    "from sklearn.linear_model import LinearRegression\n",
    "from sklearn.cross_decomposition import CCA, PLSCanonical\n",
    "from sklearn.utils import Bunch\n",
    "\n",
    "from cca_zoo.models import CCA as cz_CCA\n",
    "from cca_zoo.models import rCCA as cz_rCCA\n",
    "from cca_zoo.model_selection import GridSearchCV as cz_GridSearchCV\n",
    "\n",
    "rs_num = 14\n",
    "rng = np.random.default_rng(rs_num)\n",
    "\n",
    "n_splits = 5\n",
    "n_repeats = 50\n",
    "\n",
    "sklearn.set_config(display=\"diagram\")\n",
    "\n",
    "%matplotlib inline"
   ]
  },
  {
   "cell_type": "markdown",
   "id": "b745bf73",
   "metadata": {},
   "source": [
    "# 1. Dataset Construction"
   ]
  },
  {
   "cell_type": "code",
   "execution_count": 2,
   "id": "c28b0ee2",
   "metadata": {},
   "outputs": [],
   "source": [
    "def linear_sample_generate(rng, sample_num, X_dim, Y_dim):\n",
    "    # construct X\n",
    "    X = np.zeros((sample_num, X_dim))\n",
    "    for x_i in range(X_dim):\n",
    "        X[:, x_i] = rng.normal(loc=0.0, scale=1.0, size=(sample_num, ))\n",
    "    \n",
    "    # construct noise\n",
    "    xi_1 = rng.normal(loc=0, scale=0.2, size=(sample_num, ))\n",
    "    xi_2 = rng.normal(loc=0, scale=0.4, size=(sample_num, ))\n",
    "    xi_3 = rng.normal(loc=0, scale=0.3, size=(sample_num, ))\n",
    "    \n",
    "    # construct Y\n",
    "    Y = np.zeros((sample_num, Y_dim))\n",
    "    Y[:, 0] = X[:, 2] + xi_1\n",
    "    Y[:, 1] = X[:, 0] + xi_2\n",
    "    Y[:, 2] = -X[:, 3] + xi_3\n",
    "    for y_i in range(3, Y_dim):\n",
    "        Y[:, y_i] = rng.normal(loc=0.0, scale=1.0, size=(sample_num, ))\n",
    "        \n",
    "    return [X, Y]"
   ]
  },
  {
   "cell_type": "code",
   "execution_count": 3,
   "id": "5d7c46df",
   "metadata": {},
   "outputs": [],
   "source": [
    "sample_num = 76\n",
    "X_dimension_num = 4\n",
    "Y_dimension_num = 3\n",
    "\n",
    "[X, Y] = linear_sample_generate(\n",
    "    rng, sample_num, X_dimension_num, Y_dimension_num\n",
    ")"
   ]
  },
  {
   "cell_type": "markdown",
   "id": "45fab229",
   "metadata": {},
   "source": [
    "We can also check out the correlation between X and Y:"
   ]
  },
  {
   "cell_type": "code",
   "execution_count": 4,
   "id": "396a4581",
   "metadata": {},
   "outputs": [
    {
     "data": {
      "text/html": [
       "<style type=\"text/css\">\n",
       "#T_f4547_row0_col0, #T_f4547_row1_col1, #T_f4547_row2_col2, #T_f4547_row3_col3, #T_f4547_row4_col4, #T_f4547_row5_col5, #T_f4547_row6_col6 {\n",
       "  background-color: #a9373b;\n",
       "  color: #f1f1f1;\n",
       "}\n",
       "#T_f4547_row0_col1 {\n",
       "  background-color: #5380bc;\n",
       "  color: #f1f1f1;\n",
       "}\n",
       "#T_f4547_row0_col2 {\n",
       "  background-color: #7e9ac2;\n",
       "  color: #f1f1f1;\n",
       "}\n",
       "#T_f4547_row0_col3 {\n",
       "  background-color: #f7eae8;\n",
       "  color: #000000;\n",
       "}\n",
       "#T_f4547_row0_col4 {\n",
       "  background-color: #859ec4;\n",
       "  color: #f1f1f1;\n",
       "}\n",
       "#T_f4547_row0_col5 {\n",
       "  background-color: #b75756;\n",
       "  color: #f1f1f1;\n",
       "}\n",
       "#T_f4547_row0_col6 {\n",
       "  background-color: #eeedf0;\n",
       "  color: #000000;\n",
       "}\n",
       "#T_f4547_row1_col0 {\n",
       "  background-color: #5b84bd;\n",
       "  color: #f1f1f1;\n",
       "}\n",
       "#T_f4547_row1_col2 {\n",
       "  background-color: #87a0c4;\n",
       "  color: #f1f1f1;\n",
       "}\n",
       "#T_f4547_row1_col3 {\n",
       "  background-color: #f2f0f2;\n",
       "  color: #000000;\n",
       "}\n",
       "#T_f4547_row1_col4 {\n",
       "  background-color: #8da4c6;\n",
       "  color: #f1f1f1;\n",
       "}\n",
       "#T_f4547_row1_col5, #T_f4547_row3_col1, #T_f4547_row3_col2, #T_f4547_row3_col4, #T_f4547_row3_col5, #T_f4547_row3_col6, #T_f4547_row6_col0, #T_f4547_row6_col3 {\n",
       "  background-color: #2369bd;\n",
       "  color: #f1f1f1;\n",
       "}\n",
       "#T_f4547_row1_col6 {\n",
       "  background-color: #faf2f1;\n",
       "  color: #000000;\n",
       "}\n",
       "#T_f4547_row2_col0, #T_f4547_row2_col1 {\n",
       "  background-color: #6288bd;\n",
       "  color: #f1f1f1;\n",
       "}\n",
       "#T_f4547_row2_col3 {\n",
       "  background-color: #dadde5;\n",
       "  color: #000000;\n",
       "}\n",
       "#T_f4547_row2_col4, #T_f4547_row4_col2 {\n",
       "  background-color: #ab3c3f;\n",
       "  color: #f1f1f1;\n",
       "}\n",
       "#T_f4547_row2_col5 {\n",
       "  background-color: #4a7bbc;\n",
       "  color: #f1f1f1;\n",
       "}\n",
       "#T_f4547_row2_col6 {\n",
       "  background-color: #faf4f3;\n",
       "  color: #000000;\n",
       "}\n",
       "#T_f4547_row3_col0 {\n",
       "  background-color: #7896c1;\n",
       "  color: #f1f1f1;\n",
       "}\n",
       "#T_f4547_row4_col0 {\n",
       "  background-color: #6c8ebf;\n",
       "  color: #f1f1f1;\n",
       "}\n",
       "#T_f4547_row4_col1 {\n",
       "  background-color: #6e90bf;\n",
       "  color: #f1f1f1;\n",
       "}\n",
       "#T_f4547_row4_col3 {\n",
       "  background-color: #dde0e7;\n",
       "  color: #000000;\n",
       "}\n",
       "#T_f4547_row4_col5 {\n",
       "  background-color: #517fbc;\n",
       "  color: #f1f1f1;\n",
       "}\n",
       "#T_f4547_row4_col6, #T_f4547_row5_col6 {\n",
       "  background-color: #faf5f4;\n",
       "  color: #000000;\n",
       "}\n",
       "#T_f4547_row5_col0 {\n",
       "  background-color: #b65453;\n",
       "  color: #f1f1f1;\n",
       "}\n",
       "#T_f4547_row5_col1 {\n",
       "  background-color: #3d74bc;\n",
       "  color: #f1f1f1;\n",
       "}\n",
       "#T_f4547_row5_col2 {\n",
       "  background-color: #809bc3;\n",
       "  color: #f1f1f1;\n",
       "}\n",
       "#T_f4547_row5_col3 {\n",
       "  background-color: #f8f4f5;\n",
       "  color: #000000;\n",
       "}\n",
       "#T_f4547_row5_col4 {\n",
       "  background-color: #829cc3;\n",
       "  color: #f1f1f1;\n",
       "}\n",
       "#T_f4547_row6_col1 {\n",
       "  background-color: #5e86bd;\n",
       "  color: #f1f1f1;\n",
       "}\n",
       "#T_f4547_row6_col2 {\n",
       "  background-color: #7b98c2;\n",
       "  color: #f1f1f1;\n",
       "}\n",
       "#T_f4547_row6_col4 {\n",
       "  background-color: #7594c0;\n",
       "  color: #f1f1f1;\n",
       "}\n",
       "#T_f4547_row6_col5 {\n",
       "  background-color: #3f75bc;\n",
       "  color: #f1f1f1;\n",
       "}\n",
       "</style>\n",
       "<table id=\"T_f4547\">\n",
       "  <thead>\n",
       "    <tr>\n",
       "      <th class=\"blank level0\" >&nbsp;</th>\n",
       "      <th id=\"T_f4547_level0_col0\" class=\"col_heading level0 col0\" >x1</th>\n",
       "      <th id=\"T_f4547_level0_col1\" class=\"col_heading level0 col1\" >x2</th>\n",
       "      <th id=\"T_f4547_level0_col2\" class=\"col_heading level0 col2\" >x3</th>\n",
       "      <th id=\"T_f4547_level0_col3\" class=\"col_heading level0 col3\" >x4</th>\n",
       "      <th id=\"T_f4547_level0_col4\" class=\"col_heading level0 col4\" >y1</th>\n",
       "      <th id=\"T_f4547_level0_col5\" class=\"col_heading level0 col5\" >y2</th>\n",
       "      <th id=\"T_f4547_level0_col6\" class=\"col_heading level0 col6\" >y3</th>\n",
       "    </tr>\n",
       "  </thead>\n",
       "  <tbody>\n",
       "    <tr>\n",
       "      <th id=\"T_f4547_level0_row0\" class=\"row_heading level0 row0\" >x1</th>\n",
       "      <td id=\"T_f4547_row0_col0\" class=\"data row0 col0\" >1.00</td>\n",
       "      <td id=\"T_f4547_row0_col1\" class=\"data row0 col1\" >0.04</td>\n",
       "      <td id=\"T_f4547_row0_col2\" class=\"data row0 col2\" >0.06</td>\n",
       "      <td id=\"T_f4547_row0_col3\" class=\"data row0 col3\" >0.11</td>\n",
       "      <td id=\"T_f4547_row0_col4\" class=\"data row0 col4\" >0.08</td>\n",
       "      <td id=\"T_f4547_row0_col5\" class=\"data row0 col5\" >0.92</td>\n",
       "      <td id=\"T_f4547_row0_col6\" class=\"data row0 col6\" >-0.07</td>\n",
       "    </tr>\n",
       "    <tr>\n",
       "      <th id=\"T_f4547_level0_row1\" class=\"row_heading level0 row1\" >x2</th>\n",
       "      <td id=\"T_f4547_row1_col0\" class=\"data row1 col0\" >0.04</td>\n",
       "      <td id=\"T_f4547_row1_col1\" class=\"data row1 col1\" >1.00</td>\n",
       "      <td id=\"T_f4547_row1_col2\" class=\"data row1 col2\" >0.08</td>\n",
       "      <td id=\"T_f4547_row1_col3\" class=\"data row1 col3\" >-0.05</td>\n",
       "      <td id=\"T_f4547_row1_col4\" class=\"data row1 col4\" >0.10</td>\n",
       "      <td id=\"T_f4547_row1_col5\" class=\"data row1 col5\" >-0.00</td>\n",
       "      <td id=\"T_f4547_row1_col6\" class=\"data row1 col6\" >0.07</td>\n",
       "    </tr>\n",
       "    <tr>\n",
       "      <th id=\"T_f4547_level0_row2\" class=\"row_heading level0 row2\" >x3</th>\n",
       "      <td id=\"T_f4547_row2_col0\" class=\"data row2 col0\" >0.06</td>\n",
       "      <td id=\"T_f4547_row2_col1\" class=\"data row2 col1\" >0.08</td>\n",
       "      <td id=\"T_f4547_row2_col2\" class=\"data row2 col2\" >1.00</td>\n",
       "      <td id=\"T_f4547_row2_col3\" class=\"data row2 col3\" >-0.16</td>\n",
       "      <td id=\"T_f4547_row2_col4\" class=\"data row2 col4\" >0.99</td>\n",
       "      <td id=\"T_f4547_row2_col5\" class=\"data row2 col5\" >0.06</td>\n",
       "      <td id=\"T_f4547_row2_col6\" class=\"data row2 col6\" >0.05</td>\n",
       "    </tr>\n",
       "    <tr>\n",
       "      <th id=\"T_f4547_level0_row3\" class=\"row_heading level0 row3\" >x4</th>\n",
       "      <td id=\"T_f4547_row3_col0\" class=\"data row3 col0\" >0.11</td>\n",
       "      <td id=\"T_f4547_row3_col1\" class=\"data row3 col1\" >-0.05</td>\n",
       "      <td id=\"T_f4547_row3_col2\" class=\"data row3 col2\" >-0.16</td>\n",
       "      <td id=\"T_f4547_row3_col3\" class=\"data row3 col3\" >1.00</td>\n",
       "      <td id=\"T_f4547_row3_col4\" class=\"data row3 col4\" >-0.14</td>\n",
       "      <td id=\"T_f4547_row3_col5\" class=\"data row3 col5\" >-0.01</td>\n",
       "      <td id=\"T_f4547_row3_col6\" class=\"data row3 col6\" >-0.95</td>\n",
       "    </tr>\n",
       "    <tr>\n",
       "      <th id=\"T_f4547_level0_row4\" class=\"row_heading level0 row4\" >y1</th>\n",
       "      <td id=\"T_f4547_row4_col0\" class=\"data row4 col0\" >0.08</td>\n",
       "      <td id=\"T_f4547_row4_col1\" class=\"data row4 col1\" >0.10</td>\n",
       "      <td id=\"T_f4547_row4_col2\" class=\"data row4 col2\" >0.99</td>\n",
       "      <td id=\"T_f4547_row4_col3\" class=\"data row4 col3\" >-0.14</td>\n",
       "      <td id=\"T_f4547_row4_col4\" class=\"data row4 col4\" >1.00</td>\n",
       "      <td id=\"T_f4547_row4_col5\" class=\"data row4 col5\" >0.07</td>\n",
       "      <td id=\"T_f4547_row4_col6\" class=\"data row4 col6\" >0.04</td>\n",
       "    </tr>\n",
       "    <tr>\n",
       "      <th id=\"T_f4547_level0_row5\" class=\"row_heading level0 row5\" >y2</th>\n",
       "      <td id=\"T_f4547_row5_col0\" class=\"data row5 col0\" >0.92</td>\n",
       "      <td id=\"T_f4547_row5_col1\" class=\"data row5 col1\" >-0.00</td>\n",
       "      <td id=\"T_f4547_row5_col2\" class=\"data row5 col2\" >0.06</td>\n",
       "      <td id=\"T_f4547_row5_col3\" class=\"data row5 col3\" >-0.01</td>\n",
       "      <td id=\"T_f4547_row5_col4\" class=\"data row5 col4\" >0.07</td>\n",
       "      <td id=\"T_f4547_row5_col5\" class=\"data row5 col5\" >1.00</td>\n",
       "      <td id=\"T_f4547_row5_col6\" class=\"data row5 col6\" >0.04</td>\n",
       "    </tr>\n",
       "    <tr>\n",
       "      <th id=\"T_f4547_level0_row6\" class=\"row_heading level0 row6\" >y3</th>\n",
       "      <td id=\"T_f4547_row6_col0\" class=\"data row6 col0\" >-0.07</td>\n",
       "      <td id=\"T_f4547_row6_col1\" class=\"data row6 col1\" >0.07</td>\n",
       "      <td id=\"T_f4547_row6_col2\" class=\"data row6 col2\" >0.05</td>\n",
       "      <td id=\"T_f4547_row6_col3\" class=\"data row6 col3\" >-0.95</td>\n",
       "      <td id=\"T_f4547_row6_col4\" class=\"data row6 col4\" >0.04</td>\n",
       "      <td id=\"T_f4547_row6_col5\" class=\"data row6 col5\" >0.04</td>\n",
       "      <td id=\"T_f4547_row6_col6\" class=\"data row6 col6\" >1.00</td>\n",
       "    </tr>\n",
       "  </tbody>\n",
       "</table>\n"
      ],
      "text/plain": [
       "<pandas.io.formats.style.Styler at 0x28a560ea7f0>"
      ]
     },
     "metadata": {},
     "output_type": "display_data"
    }
   ],
   "source": [
    "data_df = pd.DataFrame(\n",
    "    data=np.concatenate([X, Y], axis=1), \n",
    "    columns=(\n",
    "        ['x{}'.format(i+1) for i in range(X_dimension_num)] + \n",
    "        ['y{}'.format(i+1) for i in range(Y_dimension_num)]\n",
    "    )\n",
    ")\n",
    "\n",
    "corr_cmap = sns.color_palette('vlag', as_cmap=True)\n",
    "\n",
    "display(\n",
    "    data_df.corr(\n",
    "        method='pearson'\n",
    "    ).style.background_gradient(cmap=corr_cmap).format(precision=2)\n",
    ")"
   ]
  },
  {
   "cell_type": "markdown",
   "id": "27ca4aec",
   "metadata": {},
   "source": [
    "Split the dataset into training and testing datasets:"
   ]
  },
  {
   "cell_type": "code",
   "execution_count": 5,
   "id": "a9fd5426",
   "metadata": {},
   "outputs": [],
   "source": [
    "[X_train, X_test, Y_train, Y_test] = train_test_split(\n",
    "    X, Y, test_size=0.20, random_state=rs_num\n",
    ")"
   ]
  },
  {
   "cell_type": "markdown",
   "id": "9174498b",
   "metadata": {},
   "source": [
    "Standardize two matrices:"
   ]
  },
  {
   "cell_type": "code",
   "execution_count": 6,
   "id": "84dc4f05",
   "metadata": {},
   "outputs": [],
   "source": [
    "# standardization of two matrices\n",
    "X_train_scaler = StandardScaler().fit(X_train)\n",
    "X_train_standardized = X_train_scaler.transform(X_train)\n",
    "X_test_standardized = X_train_scaler.transform(X_test)\n",
    "\n",
    "Y_train_scaler = StandardScaler().fit(Y_train)\n",
    "Y_train_standardized = Y_train_scaler.transform(Y_train)\n",
    "Y_test_standardized = Y_train_scaler.transform(Y_test)"
   ]
  },
  {
   "cell_type": "code",
   "execution_count": null,
   "id": "0b1b85ef",
   "metadata": {},
   "outputs": [],
   "source": []
  },
  {
   "cell_type": "markdown",
   "id": "37b46a12",
   "metadata": {},
   "source": [
    "We can also get a baseline model evaluation through linear regression."
   ]
  },
  {
   "cell_type": "code",
   "execution_count": 7,
   "id": "5be76d96",
   "metadata": {},
   "outputs": [],
   "source": [
    "baseline_bunch = Bunch()\n",
    "baseline_bunch.name = 'baseline'\n",
    "\n",
    "baseline_bunch.pipeline = Pipeline(\n",
    "    [\n",
    "        ('scaler', StandardScaler()), \n",
    "        ('lr', LinearRegression())\n",
    "    ]\n",
    ")\n",
    "\n",
    "baseline_bunch.cv_scores = cross_validate(\n",
    "    baseline_bunch.pipeline, X_train, Y_train, \n",
    "    cv=RepeatedKFold(n_splits=n_splits, n_repeats=n_repeats, random_state=rs_num)\n",
    ")['test_score']\n",
    "\n",
    "# also train on the whole training dataset, and see the score on the test dataset\n",
    "baseline_bunch.pipeline.fit(X_train, Y_train)\n",
    "\n",
    "# modal evaluation on the test dataset\n",
    "baseline_bunch.eval_score = baseline_bunch.pipeline.score(X_test, Y_test)"
   ]
  },
  {
   "cell_type": "markdown",
   "id": "5edd5aac",
   "metadata": {},
   "source": [
    "# 2. CCA via sklearn CCA"
   ]
  },
  {
   "cell_type": "code",
   "execution_count": 8,
   "id": "f3a7ed1c",
   "metadata": {},
   "outputs": [],
   "source": [
    "# create a customized cross-validation method\n",
    "def custom_cv(validator, X, Y, fit_n_score_func, *args):\n",
    "    # note: normally X and Y are already training datasets\n",
    "    \n",
    "    # construct score array\n",
    "    score_arr = np.zeros((validator.get_n_splits(), ))\n",
    "    \n",
    "    # fit and validate\n",
    "    ii = 0\n",
    "    for train_ind, test_ind in validator.split(X):\n",
    "        # slicing arrays\n",
    "        X_train, X_test = X[train_ind], X[test_ind]\n",
    "        Y_train, Y_test = Y[train_ind], Y[test_ind]\n",
    "        \n",
    "        # train the model and get the score\n",
    "        score_arr[ii] = fit_n_score_func(X_train, X_test, Y_train, Y_test, *args)\n",
    "        ii += 1\n",
    "    \n",
    "    return score_arr"
   ]
  },
  {
   "cell_type": "code",
   "execution_count": 9,
   "id": "8cbf4013",
   "metadata": {},
   "outputs": [],
   "source": [
    "# create a customized pipeline\n",
    "def sklearn_cca_fit_n_score(X_train, X_test, Y_train, Y_test, n_components, max_iter, tol):\n",
    "    # fitting the model\n",
    "    cca = CCA(n_components=n_components, max_iter=max_iter, tol=tol).fit(X_train, Y_train)\n",
    "    \n",
    "    # transform the model\n",
    "    Xc_train, Yc_train = cca.transform(X_train, Y_train)\n",
    "    Xc_test, Yc_test = cca.transform(X_test, Y_test)\n",
    "    \n",
    "    # train with linear regression and get a score\n",
    "    return LinearRegression().fit(Xc_train, Yc_train).score(Xc_test, Yc_test)"
   ]
  },
  {
   "cell_type": "code",
   "execution_count": 10,
   "id": "e8ed56d4",
   "metadata": {},
   "outputs": [],
   "source": [
    "sklearn_bunch = Bunch()\n",
    "sklearn_bunch.name = 'sklearn'\n",
    "\n",
    "sklearn_bunch.rkf = RepeatedKFold(n_splits=n_splits, n_repeats=n_repeats, random_state=rs_num)\n",
    "sklearn_bunch.n_components = np.min([X_dimension_num, Y_dimension_num])\n",
    "sklearn_bunch.max_iter = int(1e12)\n",
    "sklearn_bunch.tol = 1e-12"
   ]
  },
  {
   "cell_type": "code",
   "execution_count": 11,
   "id": "2ced68c1",
   "metadata": {},
   "outputs": [
    {
     "name": "stdout",
     "output_type": "stream",
     "text": [
      "Pre-standardization makes 1.49e-13 total difference on X\n",
      "Pre-standardization makes 1.55e-13 total difference on Y\n"
     ]
    }
   ],
   "source": [
    "# manuallly chain them together\n",
    "sklearn_bunch.cca = CCA(\n",
    "    n_components=sklearn_bunch.n_components, \n",
    "    max_iter=sklearn_bunch.max_iter, \n",
    "    tol=sklearn_bunch.tol\n",
    ").fit(X_train, Y_train)\n",
    "\n",
    "# note: X and Y will be standardized\n",
    "[sklearn_bunch.Xc_train, \n",
    " sklearn_bunch.Yc_train] = sklearn_bunch.cca.transform(X_train, Y_train)\n",
    "[sklearn_bunch.Xc_test, \n",
    " sklearn_bunch.Yc_test] = sklearn_bunch.cca.transform(X_test, Y_test)\n",
    "\n",
    "# calculate canonical correlation\n",
    "sklearn_bunch.cc = np.corrcoef(\n",
    "    sklearn_bunch.Xc_train.T, sklearn_bunch.Yc_train.T\n",
    ").diagonal(offset=sklearn_bunch.n_components)\n",
    "\n",
    "# also compare if pre-standardization would make a difference\n",
    "[sklearn_bunch.check_Xc_train, \n",
    " sklearn_bunch.check_Yc_train] = CCA(\n",
    "    n_components=sklearn_bunch.n_components, \n",
    "    max_iter=sklearn_bunch.max_iter, \n",
    "    tol=sklearn_bunch.tol\n",
    ").fit_transform(X_train_standardized, Y_train_standardized)\n",
    "\n",
    "print(\n",
    "    'Pre-standardization makes {:.2e} total difference on X'.format(\n",
    "        np.linalg.norm(\n",
    "            sklearn_bunch.check_Xc_train - sklearn_bunch.Xc_train\n",
    "        )\n",
    "    )\n",
    ")\n",
    "print(\n",
    "    'Pre-standardization makes {:.2e} total difference on Y'.format(\n",
    "        np.linalg.norm(\n",
    "            sklearn_bunch.check_Yc_train - sklearn_bunch.Yc_train\n",
    "        )\n",
    "    )\n",
    ")"
   ]
  },
  {
   "cell_type": "markdown",
   "id": "8eefb6f4",
   "metadata": {},
   "source": [
    "We can also see how the correlation in the transformed matrices:"
   ]
  },
  {
   "cell_type": "code",
   "execution_count": 12,
   "id": "cd9e6186",
   "metadata": {},
   "outputs": [
    {
     "data": {
      "text/html": [
       "<style type=\"text/css\">\n",
       "#T_944dd_row0_col0, #T_944dd_row1_col1, #T_944dd_row2_col2, #T_944dd_row3_col3, #T_944dd_row4_col4, #T_944dd_row5_col5 {\n",
       "  background-color: #a9373b;\n",
       "  color: #f1f1f1;\n",
       "}\n",
       "#T_944dd_row0_col1, #T_944dd_row0_col2, #T_944dd_row0_col4, #T_944dd_row0_col5, #T_944dd_row1_col0, #T_944dd_row1_col2, #T_944dd_row1_col3, #T_944dd_row1_col5, #T_944dd_row2_col0, #T_944dd_row2_col1, #T_944dd_row2_col3, #T_944dd_row2_col4, #T_944dd_row3_col1, #T_944dd_row3_col2, #T_944dd_row3_col4, #T_944dd_row3_col5, #T_944dd_row4_col0, #T_944dd_row4_col2, #T_944dd_row4_col3, #T_944dd_row4_col5, #T_944dd_row5_col0, #T_944dd_row5_col1, #T_944dd_row5_col3, #T_944dd_row5_col4 {\n",
       "  background-color: #2369bd;\n",
       "  color: #f1f1f1;\n",
       "}\n",
       "#T_944dd_row0_col3, #T_944dd_row3_col0 {\n",
       "  background-color: #ab3c3f;\n",
       "  color: #f1f1f1;\n",
       "}\n",
       "#T_944dd_row1_col4, #T_944dd_row4_col1 {\n",
       "  background-color: #b24c4c;\n",
       "  color: #f1f1f1;\n",
       "}\n",
       "#T_944dd_row2_col5, #T_944dd_row5_col2 {\n",
       "  background-color: #b34d4e;\n",
       "  color: #f1f1f1;\n",
       "}\n",
       "</style>\n",
       "<table id=\"T_944dd\">\n",
       "  <thead>\n",
       "    <tr>\n",
       "      <th class=\"blank level0\" >&nbsp;</th>\n",
       "      <th id=\"T_944dd_level0_col0\" class=\"col_heading level0 col0\" >xc1</th>\n",
       "      <th id=\"T_944dd_level0_col1\" class=\"col_heading level0 col1\" >xc2</th>\n",
       "      <th id=\"T_944dd_level0_col2\" class=\"col_heading level0 col2\" >xc3</th>\n",
       "      <th id=\"T_944dd_level0_col3\" class=\"col_heading level0 col3\" >yc1</th>\n",
       "      <th id=\"T_944dd_level0_col4\" class=\"col_heading level0 col4\" >yc2</th>\n",
       "      <th id=\"T_944dd_level0_col5\" class=\"col_heading level0 col5\" >yc3</th>\n",
       "    </tr>\n",
       "  </thead>\n",
       "  <tbody>\n",
       "    <tr>\n",
       "      <th id=\"T_944dd_level0_row0\" class=\"row_heading level0 row0\" >xc1</th>\n",
       "      <td id=\"T_944dd_row0_col0\" class=\"data row0 col0\" >1.00</td>\n",
       "      <td id=\"T_944dd_row0_col1\" class=\"data row0 col1\" >-0.00</td>\n",
       "      <td id=\"T_944dd_row0_col2\" class=\"data row0 col2\" >0.00</td>\n",
       "      <td id=\"T_944dd_row0_col3\" class=\"data row0 col3\" >0.99</td>\n",
       "      <td id=\"T_944dd_row0_col4\" class=\"data row0 col4\" >0.00</td>\n",
       "      <td id=\"T_944dd_row0_col5\" class=\"data row0 col5\" >-0.00</td>\n",
       "    </tr>\n",
       "    <tr>\n",
       "      <th id=\"T_944dd_level0_row1\" class=\"row_heading level0 row1\" >xc2</th>\n",
       "      <td id=\"T_944dd_row1_col0\" class=\"data row1 col0\" >-0.00</td>\n",
       "      <td id=\"T_944dd_row1_col1\" class=\"data row1 col1\" >1.00</td>\n",
       "      <td id=\"T_944dd_row1_col2\" class=\"data row1 col2\" >0.00</td>\n",
       "      <td id=\"T_944dd_row1_col3\" class=\"data row1 col3\" >-0.00</td>\n",
       "      <td id=\"T_944dd_row1_col4\" class=\"data row1 col4\" >0.95</td>\n",
       "      <td id=\"T_944dd_row1_col5\" class=\"data row1 col5\" >0.00</td>\n",
       "    </tr>\n",
       "    <tr>\n",
       "      <th id=\"T_944dd_level0_row2\" class=\"row_heading level0 row2\" >xc3</th>\n",
       "      <td id=\"T_944dd_row2_col0\" class=\"data row2 col0\" >0.00</td>\n",
       "      <td id=\"T_944dd_row2_col1\" class=\"data row2 col1\" >0.00</td>\n",
       "      <td id=\"T_944dd_row2_col2\" class=\"data row2 col2\" >1.00</td>\n",
       "      <td id=\"T_944dd_row2_col3\" class=\"data row2 col3\" >0.00</td>\n",
       "      <td id=\"T_944dd_row2_col4\" class=\"data row2 col4\" >0.00</td>\n",
       "      <td id=\"T_944dd_row2_col5\" class=\"data row2 col5\" >0.94</td>\n",
       "    </tr>\n",
       "    <tr>\n",
       "      <th id=\"T_944dd_level0_row3\" class=\"row_heading level0 row3\" >yc1</th>\n",
       "      <td id=\"T_944dd_row3_col0\" class=\"data row3 col0\" >0.99</td>\n",
       "      <td id=\"T_944dd_row3_col1\" class=\"data row3 col1\" >-0.00</td>\n",
       "      <td id=\"T_944dd_row3_col2\" class=\"data row3 col2\" >0.00</td>\n",
       "      <td id=\"T_944dd_row3_col3\" class=\"data row3 col3\" >1.00</td>\n",
       "      <td id=\"T_944dd_row3_col4\" class=\"data row3 col4\" >-0.00</td>\n",
       "      <td id=\"T_944dd_row3_col5\" class=\"data row3 col5\" >0.00</td>\n",
       "    </tr>\n",
       "    <tr>\n",
       "      <th id=\"T_944dd_level0_row4\" class=\"row_heading level0 row4\" >yc2</th>\n",
       "      <td id=\"T_944dd_row4_col0\" class=\"data row4 col0\" >0.00</td>\n",
       "      <td id=\"T_944dd_row4_col1\" class=\"data row4 col1\" >0.95</td>\n",
       "      <td id=\"T_944dd_row4_col2\" class=\"data row4 col2\" >0.00</td>\n",
       "      <td id=\"T_944dd_row4_col3\" class=\"data row4 col3\" >-0.00</td>\n",
       "      <td id=\"T_944dd_row4_col4\" class=\"data row4 col4\" >1.00</td>\n",
       "      <td id=\"T_944dd_row4_col5\" class=\"data row4 col5\" >-0.00</td>\n",
       "    </tr>\n",
       "    <tr>\n",
       "      <th id=\"T_944dd_level0_row5\" class=\"row_heading level0 row5\" >yc3</th>\n",
       "      <td id=\"T_944dd_row5_col0\" class=\"data row5 col0\" >-0.00</td>\n",
       "      <td id=\"T_944dd_row5_col1\" class=\"data row5 col1\" >0.00</td>\n",
       "      <td id=\"T_944dd_row5_col2\" class=\"data row5 col2\" >0.94</td>\n",
       "      <td id=\"T_944dd_row5_col3\" class=\"data row5 col3\" >0.00</td>\n",
       "      <td id=\"T_944dd_row5_col4\" class=\"data row5 col4\" >-0.00</td>\n",
       "      <td id=\"T_944dd_row5_col5\" class=\"data row5 col5\" >1.00</td>\n",
       "    </tr>\n",
       "  </tbody>\n",
       "</table>\n"
      ],
      "text/plain": [
       "<pandas.io.formats.style.Styler at 0x28a5b08fd60>"
      ]
     },
     "metadata": {},
     "output_type": "display_data"
    }
   ],
   "source": [
    "sklearn_bunch.data_df = pd.DataFrame(\n",
    "    data=np.concatenate(\n",
    "        [sklearn_bunch.Xc_train, sklearn_bunch.Yc_train], axis=1\n",
    "    ), \n",
    "    columns=(\n",
    "        ['xc{}'.format(i+1) for i in range(sklearn_bunch.Xc_train.shape[1])] + \n",
    "        ['yc{}'.format(i+1) for i in range(sklearn_bunch.Yc_train.shape[1])]\n",
    "    )\n",
    ")\n",
    "\n",
    "display(sklearn_bunch.data_df.corr(\n",
    "    method='pearson'\n",
    ").style.background_gradient(cmap=corr_cmap).format(precision=2))"
   ]
  },
  {
   "cell_type": "markdown",
   "id": "1c569edb",
   "metadata": {},
   "source": [
    "Now we can similarly apply the same Linear Regression on the transformed datasets."
   ]
  },
  {
   "cell_type": "code",
   "execution_count": 13,
   "id": "91453560",
   "metadata": {},
   "outputs": [],
   "source": [
    "sklearn_bunch.cv_scores = custom_cv(\n",
    "    sklearn_bunch.rkf, X_train, Y_train, \n",
    "    sklearn_cca_fit_n_score, \n",
    "    sklearn_bunch.n_components, \n",
    "    sklearn_bunch.max_iter, \n",
    "    sklearn_bunch.tol\n",
    ")\n",
    "\n",
    "# also evaluate them manually\n",
    "sklearn_bunch.eval_score = sklearn_cca_fit_n_score(\n",
    "    X_train, X_test, Y_train, Y_test, \n",
    "    sklearn_bunch.n_components, sklearn_bunch.max_iter, sklearn_bunch.tol\n",
    ")"
   ]
  },
  {
   "cell_type": "code",
   "execution_count": null,
   "id": "ca7c023b",
   "metadata": {},
   "outputs": [],
   "source": []
  },
  {
   "cell_type": "markdown",
   "id": "f6bc8b56",
   "metadata": {},
   "source": [
    "# 3. CCA via Standard Eigenvalue Problem"
   ]
  },
  {
   "cell_type": "code",
   "execution_count": 14,
   "id": "7a4076f1",
   "metadata": {},
   "outputs": [],
   "source": [
    "# compute joint covariance matrix\n",
    "C = np.cov(X_train_standardized.T, Y_train_standardized.T, ddof=0)\n",
    "\n",
    "Cxx = C[0:X_dimension_num, 0:X_dimension_num]\n",
    "Cxy = C[0:X_dimension_num, X_dimension_num:]\n",
    "Cyy = C[X_dimension_num:, X_dimension_num:]\n",
    "\n",
    "C_compute = np.linalg.multi_dot(\n",
    "    [np.linalg.inv(Cyy), Cxy.T, np.linalg.inv(Cxx), Cxy]\n",
    ")\n"
   ]
  },
  {
   "cell_type": "code",
   "execution_count": 15,
   "id": "1e45f10e",
   "metadata": {},
   "outputs": [
    {
     "name": "stdout",
     "output_type": "stream",
     "text": [
      "The canonical correlation is:\n",
      "[0.9871237  0.94172067 0.94754613]\n"
     ]
    }
   ],
   "source": [
    "# standard eigenvalue problem\n",
    "std_eig_bunch = Bunch()\n",
    "std_eig_bunch.name = 'std eig'\n",
    "\n",
    "# solve eig\n",
    "[std_eig_bunch.eig_val, \n",
    " std_eig_bunch.eig_vec] = np.linalg.eig(C_compute)\n",
    "\n",
    "# Y matrix weights\n",
    "std_eig_bunch.wy = std_eig_bunch.eig_vec\n",
    "\n",
    "std_eig_bunch.cc_arr = np.sqrt(std_eig_bunch.eig_val)\n",
    "print('The canonical correlation is:')\n",
    "print(std_eig_bunch.cc_arr)\n",
    "\n",
    "# X matrix weights\n",
    "std_eig_bunch.wx = np.linalg.multi_dot(\n",
    "    [np.linalg.inv(Cxx), Cxy, std_eig_bunch.wy]\n",
    ")/std_eig_bunch.cc_arr"
   ]
  },
  {
   "cell_type": "code",
   "execution_count": 16,
   "id": "e71ff589",
   "metadata": {},
   "outputs": [],
   "source": [
    "# sort by canonical correlation\n",
    "sort_ind = std_eig_bunch.cc_arr.argsort()\n",
    "std_eig_bunch.cc_arr_sorted = std_eig_bunch.cc_arr[sort_ind[::-1]]\n",
    "std_eig_bunch.wx_sorted = std_eig_bunch.wx[:, sort_ind[::-1]]\n",
    "std_eig_bunch.wy_sorted = std_eig_bunch.wy[:, sort_ind[::-1]]\n",
    "\n",
    "del sort_ind"
   ]
  },
  {
   "cell_type": "code",
   "execution_count": 17,
   "id": "4afaeef3",
   "metadata": {},
   "outputs": [
    {
     "name": "stdout",
     "output_type": "stream",
     "text": [
      "Canonical Correlation calculated by Standard Eigenvalue Problem:\n",
      "[0.9871237  0.94754613 0.94172067]\n",
      "\n",
      "Canonical Correlation calculated by sklearn CCA:\n",
      "[0.9871237  0.94754613 0.94172067]\n"
     ]
    }
   ],
   "source": [
    "print('Canonical Correlation calculated by Standard Eigenvalue Problem:')\n",
    "print(std_eig_bunch.cc_arr_sorted)\n",
    "print('')\n",
    "print('Canonical Correlation calculated by sklearn CCA:')\n",
    "print(sklearn_bunch.cc)"
   ]
  },
  {
   "cell_type": "code",
   "execution_count": 18,
   "id": "4947f844",
   "metadata": {},
   "outputs": [
    {
     "name": "stdout",
     "output_type": "stream",
     "text": [
      "Weight vector w_x calculated by Standard Eigenvalue Problem:\n",
      "[[ 0.17738047 -0.08125182 -0.95529448]\n",
      " [ 0.03694785 -0.01147978 -0.01088881]\n",
      " [ 0.97490875 -0.2274832   0.31498427]\n",
      " [-0.06362378 -1.00221576  0.16789861]]\n",
      "\n",
      "Weight vector w_x calculated by sklearn CCA:\n",
      "[[ 0.17850928  0.04931935  0.98243503]\n",
      " [ 0.0371842   0.00493002  0.01626477]\n",
      " [ 0.9811487   0.05591114 -0.18187017]\n",
      " [-0.06402339  0.99720471 -0.03847221]]\n"
     ]
    }
   ],
   "source": [
    "print('Weight vector w_x calculated by Standard Eigenvalue Problem:')\n",
    "print(std_eig_bunch.wx_sorted)\n",
    "print('')\n",
    "print('Weight vector w_x calculated by sklearn CCA:')\n",
    "print(sklearn_bunch.cca.x_weights_)"
   ]
  },
  {
   "cell_type": "code",
   "execution_count": 19,
   "id": "31de8b8f",
   "metadata": {},
   "outputs": [
    {
     "name": "stdout",
     "output_type": "stream",
     "text": [
      "Weight vector w_y calculated by Standard Eigenvalue Problem:\n",
      "[[ 0.98662565 -0.09112597  0.28551694]\n",
      " [ 0.15338246 -0.11535419 -0.9543848 ]\n",
      " [ 0.05516926  0.98913572 -0.08734837]]\n",
      "\n",
      "Weight vector w_y calculated by sklearn CCA:\n",
      "[[ 0.98662688  0.03886605 -0.15829351]\n",
      " [ 0.15337692  0.10729193  0.98232579]\n",
      " [ 0.05516274 -0.9934676   0.09989595]]\n"
     ]
    }
   ],
   "source": [
    "print('Weight vector w_y calculated by Standard Eigenvalue Problem:')\n",
    "print(std_eig_bunch.wy_sorted)\n",
    "print('')\n",
    "print('Weight vector w_y calculated by sklearn CCA:')\n",
    "print(sklearn_bunch.cca.y_weights_)"
   ]
  },
  {
   "cell_type": "markdown",
   "id": "6106e3ac",
   "metadata": {},
   "source": [
    "Now we can see how well this method handles the datasets."
   ]
  },
  {
   "cell_type": "code",
   "execution_count": 20,
   "id": "7ade5c8f",
   "metadata": {},
   "outputs": [],
   "source": [
    "# create a customized pipeline\n",
    "def std_eig_cca_fit_n_score(X_train, X_test, Y_train, Y_test, n_components):\n",
    "    X_dimension_num = X_train.shape[1]\n",
    "    \n",
    "    # standardization of two matrices\n",
    "    X_train_scaler = StandardScaler().fit(X_train)\n",
    "    X_train_standardized = X_train_scaler.transform(X_train)\n",
    "    X_test_standardized = X_train_scaler.transform(X_test)\n",
    "\n",
    "    Y_train_scaler = StandardScaler().fit(Y_train)\n",
    "    Y_train_standardized = Y_train_scaler.transform(Y_train)\n",
    "    Y_test_standardized = Y_train_scaler.transform(Y_test)\n",
    "    \n",
    "    # compute joint covariance matrix\n",
    "    C = np.cov(X_train_standardized.T, Y_train_standardized.T, ddof=0)\n",
    "\n",
    "    Cxx = C[0:X_dimension_num, 0:X_dimension_num]\n",
    "    Cxy = C[0:X_dimension_num, X_dimension_num:]\n",
    "    Cyy = C[X_dimension_num:, X_dimension_num:]\n",
    "\n",
    "    C_compute = np.linalg.multi_dot(\n",
    "        [np.linalg.inv(Cyy), Cxy.T, np.linalg.inv(Cxx), Cxy]\n",
    "    )\n",
    "    \n",
    "    # solve standard eigenvalue problem\n",
    "    [eig_val, eig_vec] = np.linalg.eig(C_compute)\n",
    "    \n",
    "    # canonical correlation values\n",
    "    cc_arr = np.sqrt(eig_val)\n",
    "\n",
    "    # matrices weights\n",
    "    wy = eig_vec\n",
    "    wx = np.linalg.multi_dot([np.linalg.inv(Cxx), Cxy, wy])/cc_arr\n",
    "    \n",
    "    # sort by canonical correlation\n",
    "    cc_argind = cc_arr.argsort()\n",
    "    cc_arr_sorted = cc_arr[cc_argind[::-1]]\n",
    "    wx_sorted = wx[:, cc_argind[::-1]]\n",
    "    wy_sorted = wy[:, cc_argind[::-1]]\n",
    "    \n",
    "    # transform matrices\n",
    "    Xc_train = X_train_standardized.dot(wx_sorted)[:, :n_components]\n",
    "    Xc_test = X_test_standardized.dot(wx_sorted)[:, :n_components]\n",
    "    Yc_train = Y_train_standardized.dot(wy_sorted)[:, :n_components]\n",
    "    Yc_test = Y_test_standardized.dot(wy_sorted)[:, :n_components]\n",
    "    \n",
    "    # train with linear regression and get a score\n",
    "    return LinearRegression().fit(Xc_train, Yc_train).score(Xc_test, Yc_test)"
   ]
  },
  {
   "cell_type": "code",
   "execution_count": 21,
   "id": "bcfe0aa1",
   "metadata": {},
   "outputs": [],
   "source": [
    "std_eig_bunch.rkf = RepeatedKFold(n_splits=n_splits, n_repeats=n_repeats, random_state=rs_num)\n",
    "std_eig_bunch.n_components = sklearn_bunch.n_components"
   ]
  },
  {
   "cell_type": "code",
   "execution_count": 22,
   "id": "de64a711",
   "metadata": {},
   "outputs": [],
   "source": [
    "# cross-validate\n",
    "std_eig_bunch.cv_scores = custom_cv(\n",
    "    std_eig_bunch.rkf, X_train, Y_train, \n",
    "    std_eig_cca_fit_n_score, \n",
    "    std_eig_bunch.n_components\n",
    ")\n",
    "\n",
    "# also evaluate them manually\n",
    "std_eig_bunch.eval_score = std_eig_cca_fit_n_score(\n",
    "    X_train, X_test, Y_train, Y_test, \n",
    "    std_eig_bunch.n_components\n",
    ")"
   ]
  },
  {
   "cell_type": "code",
   "execution_count": null,
   "id": "b5463f2c",
   "metadata": {},
   "outputs": [],
   "source": []
  },
  {
   "cell_type": "markdown",
   "id": "0ebd5835",
   "metadata": {},
   "source": [
    "# 4. CCA via Generalized Eigenvalue Problem"
   ]
  },
  {
   "cell_type": "code",
   "execution_count": 23,
   "id": "41b75100",
   "metadata": {},
   "outputs": [],
   "source": [
    "gen_eig_bunch = Bunch()\n",
    "gen_eig_bunch.name = 'gen eig'"
   ]
  },
  {
   "cell_type": "code",
   "execution_count": 24,
   "id": "40ff77b4",
   "metadata": {},
   "outputs": [],
   "source": [
    "# construct general matrices\n",
    "gen_eig_bunch.A = np.zeros(\n",
    "    (\n",
    "        X_dimension_num+Y_dimension_num, \n",
    "        X_dimension_num+Y_dimension_num\n",
    "    )\n",
    ")\n",
    "gen_eig_bunch.A[:X_dimension_num, X_dimension_num:] = Cxy\n",
    "gen_eig_bunch.A[X_dimension_num:, :X_dimension_num] = Cxy.T\n",
    "\n",
    "gen_eig_bunch.B = np.zeros_like(gen_eig_bunch.A)\n",
    "gen_eig_bunch.B[:X_dimension_num, :X_dimension_num] = Cxx\n",
    "gen_eig_bunch.B[X_dimension_num:, X_dimension_num:] = Cyy\n",
    "\n",
    "# solve generalized eigenvalue problem\n",
    "[gen_eig_bunch.eig_val, \n",
    " gen_eig_bunch.eig_vec] = scipy.linalg.eigh(gen_eig_bunch.A, gen_eig_bunch.B)\n",
    "\n",
    "# retrive canonical correlation and weight vectors\n",
    "gen_eig_bunch.cc_arr = gen_eig_bunch.eig_val[gen_eig_bunch.eig_val>=1e-6]\n",
    "gen_eig_bunch.eig_vec_positive = gen_eig_bunch.eig_vec[:, gen_eig_bunch.eig_val>=1e-6]\n",
    "\n",
    "# sort out w.r.t. cc values\n",
    "sort_ind = gen_eig_bunch.cc_arr.argsort()\n",
    "gen_eig_bunch.cc_arr_sorted = gen_eig_bunch.cc_arr[sort_ind[::-1]]\n",
    "gen_eig_bunch.eig_vec_positive_sorted = gen_eig_bunch.eig_vec_positive[:, sort_ind[::-1]]\n",
    "gen_eig_bunch.wx_sorted = gen_eig_bunch.eig_vec_positive_sorted[:X_dimension_num, :]\n",
    "gen_eig_bunch.wy_sorted = gen_eig_bunch.eig_vec_positive_sorted[X_dimension_num:, :]\n",
    "\n",
    "del sort_ind"
   ]
  },
  {
   "cell_type": "markdown",
   "id": "adf68a14",
   "metadata": {},
   "source": [
    "Check out results v.s. other methods"
   ]
  },
  {
   "cell_type": "code",
   "execution_count": 25,
   "id": "9ed2c9d1",
   "metadata": {},
   "outputs": [
    {
     "name": "stdout",
     "output_type": "stream",
     "text": [
      "Canonical Correlation calculated by Generalized Eigenvalue Problem:\n",
      "[0.9871237  0.94754613 0.94172067]\n",
      "\n",
      "Canonical Correlation calculated by Standard Eigenvalue Problem:\n",
      "[0.9871237  0.94754613 0.94172067]\n",
      "\n",
      "Canonical Correlation calculated by sklearn CCA:\n",
      "[0.9871237  0.94754613 0.94172067]\n"
     ]
    }
   ],
   "source": [
    "print('Canonical Correlation calculated by Generalized Eigenvalue Problem:')\n",
    "print(gen_eig_bunch.cc_arr_sorted)\n",
    "print('')\n",
    "print('Canonical Correlation calculated by Standard Eigenvalue Problem:')\n",
    "print(std_eig_bunch.cc_arr_sorted)\n",
    "print('')\n",
    "print('Canonical Correlation calculated by sklearn CCA:')\n",
    "print(sklearn_bunch.cc)"
   ]
  },
  {
   "cell_type": "code",
   "execution_count": 26,
   "id": "3263fbbb",
   "metadata": {},
   "outputs": [
    {
     "name": "stdout",
     "output_type": "stream",
     "text": [
      "Weight vector w_x calculated by Generalized Eigenvalue Problem:\n",
      "[[ 0.12242169  0.05790795 -0.70202132]\n",
      " [ 0.02550009  0.00818161 -0.00800191]\n",
      " [ 0.67284731  0.16212664  0.23147383]\n",
      " [-0.04391087  0.71427638  0.12338436]]\n",
      "\n",
      "Weight vector w_x calculated by Standard Eigenvalue Problem:\n",
      "[[ 0.17738047 -0.08125182 -0.95529448]\n",
      " [ 0.03694785 -0.01147978 -0.01088881]\n",
      " [ 0.97490875 -0.2274832   0.31498427]\n",
      " [-0.06362378 -1.00221576  0.16789861]]\n",
      "\n",
      "Weight vector w_x calculated by sklearn CCA:\n",
      "[[ 0.17850928  0.04931935  0.98243503]\n",
      " [ 0.0371842   0.00493002  0.01626477]\n",
      " [ 0.9811487   0.05591114 -0.18187017]\n",
      " [-0.06402339  0.99720471 -0.03847221]]\n"
     ]
    }
   ],
   "source": [
    "print('Weight vector w_x calculated by Generalized Eigenvalue Problem:')\n",
    "print(gen_eig_bunch.wx_sorted)\n",
    "print('')\n",
    "print('Weight vector w_x calculated by Standard Eigenvalue Problem:')\n",
    "print(std_eig_bunch.wx_sorted)\n",
    "print('')\n",
    "print('Weight vector w_x calculated by sklearn CCA:')\n",
    "print(sklearn_bunch.cca.x_weights_)"
   ]
  },
  {
   "cell_type": "code",
   "execution_count": 27,
   "id": "5db36b9c",
   "metadata": {},
   "outputs": [
    {
     "name": "stdout",
     "output_type": "stream",
     "text": [
      "Weight vector w_y calculated by Generalized Eigenvalue Problem:\n",
      "[[ 0.6809339   0.06494523  0.20981905]\n",
      " [ 0.10585911  0.08221261 -0.70135282]\n",
      " [ 0.03807586 -0.70495426 -0.06419007]]\n",
      "\n",
      "Weight vector w_y calculated by Standard Eigenvalue Problem:\n",
      "[[ 0.98662565 -0.09112597  0.28551694]\n",
      " [ 0.15338246 -0.11535419 -0.9543848 ]\n",
      " [ 0.05516926  0.98913572 -0.08734837]]\n",
      "\n",
      "Weight vector w_y calculated by sklearn CCA:\n",
      "[[ 0.98662688  0.03886605 -0.15829351]\n",
      " [ 0.15337692  0.10729193  0.98232579]\n",
      " [ 0.05516274 -0.9934676   0.09989595]]\n"
     ]
    }
   ],
   "source": [
    "print('Weight vector w_y calculated by Generalized Eigenvalue Problem:')\n",
    "print(gen_eig_bunch.wy_sorted)\n",
    "print('')\n",
    "print('Weight vector w_y calculated by Standard Eigenvalue Problem:')\n",
    "print(std_eig_bunch.wy_sorted)\n",
    "print('')\n",
    "print('Weight vector w_y calculated by sklearn CCA:')\n",
    "print(sklearn_bunch.cca.y_weights_)"
   ]
  },
  {
   "cell_type": "markdown",
   "id": "e83eac1a",
   "metadata": {},
   "source": [
    "The differences over eigenvectors are caused by the numerical ways of solving the generalized eigenvalue problem."
   ]
  },
  {
   "cell_type": "markdown",
   "id": "80419502",
   "metadata": {},
   "source": [
    "Now we can evaluate the model."
   ]
  },
  {
   "cell_type": "code",
   "execution_count": 28,
   "id": "be8c2935",
   "metadata": {},
   "outputs": [],
   "source": [
    "def gen_eig_cca_fit_n_score(X_train, X_test, Y_train, Y_test, n_components):\n",
    "    X_dimension_num = X_train.shape[1]\n",
    "    Y_dimension_num = Y_train.shape[1]\n",
    "    \n",
    "    # standardization of two matrices\n",
    "    X_train_scaler = StandardScaler().fit(X_train)\n",
    "    X_train_standardized = X_train_scaler.transform(X_train)\n",
    "    X_test_standardized = X_train_scaler.transform(X_test)\n",
    "\n",
    "    Y_train_scaler = StandardScaler().fit(Y_train)\n",
    "    Y_train_standardized = Y_train_scaler.transform(Y_train)\n",
    "    Y_test_standardized = Y_train_scaler.transform(Y_test)\n",
    "    \n",
    "    # compute joint covariance matrix\n",
    "    C = np.cov(X_train_standardized.T, Y_train_standardized.T, ddof=0)\n",
    "\n",
    "    Cxx = C[0:X_dimension_num, 0:X_dimension_num]\n",
    "    Cxy = C[0:X_dimension_num, X_dimension_num:]\n",
    "    Cyy = C[X_dimension_num:, X_dimension_num:]\n",
    "    \n",
    "    # construct general matrices\n",
    "    A = np.zeros(\n",
    "        (\n",
    "            X_dimension_num+Y_dimension_num, \n",
    "            X_dimension_num+Y_dimension_num\n",
    "        )\n",
    "    )\n",
    "    A[:X_dimension_num, X_dimension_num:] = Cxy\n",
    "    A[X_dimension_num:, :X_dimension_num] = Cxy.T\n",
    "\n",
    "    B = np.zeros_like(A)\n",
    "    B[:X_dimension_num, :X_dimension_num] = Cxx\n",
    "    B[X_dimension_num:, X_dimension_num:] = Cyy\n",
    "    \n",
    "    # solve generalized eigenvalue problem\n",
    "    [eig_val, eig_vec] = scipy.linalg.eigh(A, B)\n",
    "\n",
    "    # retrive canonical correlation and weight vectors\n",
    "    cc_arr = eig_val[eig_val>=1e-6]\n",
    "    eig_vec_positive = eig_vec[:, eig_val>=1e-6]\n",
    "    \n",
    "    # sort out w.r.t. cc values\n",
    "    sort_ind = cc_arr.argsort()\n",
    "    cc_arr_sorted = cc_arr[sort_ind[::-1]]\n",
    "    eig_vec_positive_sorted = eig_vec_positive[:, sort_ind[::-1]]\n",
    "    wx_sorted = eig_vec_positive_sorted[:X_dimension_num, :]\n",
    "    wy_sorted = eig_vec_positive_sorted[X_dimension_num:, :]\n",
    "    \n",
    "    # transform matrices\n",
    "    Xc_train = X_train_standardized.dot(wx_sorted)[:, :n_components]\n",
    "    Xc_test = X_test_standardized.dot(wx_sorted)[:, :n_components]\n",
    "    Yc_train = Y_train_standardized.dot(wy_sorted)[:, :n_components]\n",
    "    Yc_test = Y_test_standardized.dot(wy_sorted)[:, :n_components]\n",
    "    \n",
    "    # train with linear regression and get a score\n",
    "    return LinearRegression().fit(Xc_train, Yc_train).score(Xc_test, Yc_test)"
   ]
  },
  {
   "cell_type": "code",
   "execution_count": 29,
   "id": "3185abe0",
   "metadata": {},
   "outputs": [],
   "source": [
    "gen_eig_bunch.rkf = RepeatedKFold(n_splits=n_splits, n_repeats=n_repeats, random_state=rs_num)\n",
    "gen_eig_bunch.n_components = sklearn_bunch.n_components"
   ]
  },
  {
   "cell_type": "code",
   "execution_count": 30,
   "id": "5e13b5fa",
   "metadata": {},
   "outputs": [],
   "source": [
    "# cross-validate\n",
    "gen_eig_bunch.cv_scores = custom_cv(\n",
    "    gen_eig_bunch.rkf, X_train, Y_train, \n",
    "    gen_eig_cca_fit_n_score, \n",
    "    gen_eig_bunch.n_components\n",
    ")\n",
    "\n",
    "# also evaluate them manually\n",
    "gen_eig_bunch.eval_score = gen_eig_cca_fit_n_score(\n",
    "    X_train, X_test, Y_train, Y_test, \n",
    "    gen_eig_bunch.n_components\n",
    ")"
   ]
  },
  {
   "cell_type": "code",
   "execution_count": null,
   "id": "c3aaa050",
   "metadata": {},
   "outputs": [],
   "source": []
  },
  {
   "cell_type": "markdown",
   "id": "92c658b3",
   "metadata": {},
   "source": [
    "# 5. CCA via SVD"
   ]
  },
  {
   "cell_type": "code",
   "execution_count": 31,
   "id": "bb75aaae",
   "metadata": {},
   "outputs": [],
   "source": [
    "svd_bunch = Bunch()\n",
    "svd_bunch.name = 'svd'"
   ]
  },
  {
   "cell_type": "code",
   "execution_count": 32,
   "id": "6c639880",
   "metadata": {},
   "outputs": [],
   "source": [
    "svd_bunch.Cxx_sqrt_inv = scipy.linalg.inv(\n",
    "    scipy.linalg.cholesky(Cxx, lower=True)\n",
    ") # lower Cholesky decomposition\n",
    "svd_bunch.Cyy_sqrt_inv = scipy.linalg.inv(\n",
    "    scipy.linalg.cholesky(Cyy, lower=True)\n",
    ")\n",
    "svd_bunch.mat_to_svd = np.linalg.multi_dot(\n",
    "    [svd_bunch.Cxx_sqrt_inv, Cxy, svd_bunch.Cyy_sqrt_inv]\n",
    ") # matrix to SVD\n",
    "\n",
    "# SVD decomposition\n",
    "[svd_bunch.U, \n",
    " svd_bunch.cc_arr_sorted, \n",
    " svd_bunch.Vh] = scipy.linalg.svd(\n",
    "    svd_bunch.mat_to_svd, full_matrices=False\n",
    ")\n",
    "\n",
    "# compute weights vectors\n",
    "svd_bunch.wx_sorted = np.matmul(svd_bunch.Cxx_sqrt_inv, svd_bunch.U)\n",
    "svd_bunch.wy_sorted = np.matmul(svd_bunch.Cyy_sqrt_inv, svd_bunch.Vh.T)"
   ]
  },
  {
   "cell_type": "markdown",
   "id": "392264fa",
   "metadata": {},
   "source": [
    "We can compare the Canonical Correlation and Weights with other methods."
   ]
  },
  {
   "cell_type": "code",
   "execution_count": 33,
   "id": "9431e90a",
   "metadata": {
    "scrolled": true
   },
   "outputs": [
    {
     "name": "stdout",
     "output_type": "stream",
     "text": [
      "Canonical Correlation calculated by SVD:\n",
      "[0.97785906 0.95200167 0.94619374]\n",
      "\n",
      "Canonical Correlation calculated by Generalized Eigenvalue Problem:\n",
      "[0.9871237  0.94754613 0.94172067]\n",
      "\n",
      "Canonical Correlation calculated by Standard Eigenvalue Problem:\n",
      "[0.9871237  0.94754613 0.94172067]\n",
      "\n",
      "Canonical Correlation calculated by sklearn CCA:\n",
      "[0.9871237  0.94754613 0.94172067]\n"
     ]
    }
   ],
   "source": [
    "print('Canonical Correlation calculated by SVD:')\n",
    "print(svd_bunch.cc_arr_sorted)\n",
    "print('')\n",
    "print('Canonical Correlation calculated by Generalized Eigenvalue Problem:')\n",
    "print(gen_eig_bunch.cc_arr_sorted)\n",
    "print('')\n",
    "print('Canonical Correlation calculated by Standard Eigenvalue Problem:')\n",
    "print(std_eig_bunch.cc_arr_sorted)\n",
    "print('')\n",
    "print('Canonical Correlation calculated by sklearn CCA:')\n",
    "print(sklearn_bunch.cc)"
   ]
  },
  {
   "cell_type": "code",
   "execution_count": 34,
   "id": "dace4de8",
   "metadata": {},
   "outputs": [
    {
     "name": "stdout",
     "output_type": "stream",
     "text": [
      "Weight vector w_x calculated by SVD:\n",
      "[[-0.43663294  0.51052464  0.74040153]\n",
      " [-0.00673836  0.04438656 -0.03037805]\n",
      " [-0.83901834 -0.45972256 -0.33682883]\n",
      " [ 0.0182411  -0.91937641  0.51187678]]\n",
      "\n",
      "Weight vector w_x calculated by Generalized Eigenvalue Problem:\n",
      "[[ 0.12242169  0.05790795 -0.70202132]\n",
      " [ 0.02550009  0.00818161 -0.00800191]\n",
      " [ 0.67284731  0.16212664  0.23147383]\n",
      " [-0.04391087  0.71427638  0.12338436]]\n",
      "\n",
      "Weight vector w_x calculated by Standard Eigenvalue Problem:\n",
      "[[ 0.17738047 -0.08125182 -0.95529448]\n",
      " [ 0.03694785 -0.01147978 -0.01088881]\n",
      " [ 0.97490875 -0.2274832   0.31498427]\n",
      " [-0.06362378 -1.00221576  0.16789861]]\n",
      "\n",
      "Weight vector w_x calculated by sklearn CCA:\n",
      "[[ 0.17850928  0.04931935  0.98243503]\n",
      " [ 0.0371842   0.00493002  0.01626477]\n",
      " [ 0.9811487   0.05591114 -0.18187017]\n",
      " [-0.06402339  0.99720471 -0.03847221]]\n"
     ]
    }
   ],
   "source": [
    "print('Weight vector w_x calculated by SVD:')\n",
    "print(svd_bunch.wx_sorted)\n",
    "print('')\n",
    "print('Weight vector w_x calculated by Generalized Eigenvalue Problem:')\n",
    "print(gen_eig_bunch.wx_sorted)\n",
    "print('')\n",
    "print('Weight vector w_x calculated by Standard Eigenvalue Problem:')\n",
    "print(std_eig_bunch.wx_sorted)\n",
    "print('')\n",
    "print('Weight vector w_x calculated by sklearn CCA:')\n",
    "print(sklearn_bunch.cca.x_weights_)"
   ]
  },
  {
   "cell_type": "code",
   "execution_count": 35,
   "id": "d21d5f36",
   "metadata": {},
   "outputs": [
    {
     "name": "stdout",
     "output_type": "stream",
     "text": [
      "Weight vector w_y calculated by SVD:\n",
      "[[-0.8691312  -0.45673419 -0.18974941]\n",
      " [-0.32805454  0.6231717   0.73678309]\n",
      " [-0.1510426   0.71816662 -0.68645431]]\n",
      "\n",
      "Weight vector w_y calculated by Generalized Eigenvalue Problem:\n",
      "[[ 0.6809339   0.06494523  0.20981905]\n",
      " [ 0.10585911  0.08221261 -0.70135282]\n",
      " [ 0.03807586 -0.70495426 -0.06419007]]\n",
      "\n",
      "Weight vector w_y calculated by Standard Eigenvalue Problem:\n",
      "[[ 0.98662565 -0.09112597  0.28551694]\n",
      " [ 0.15338246 -0.11535419 -0.9543848 ]\n",
      " [ 0.05516926  0.98913572 -0.08734837]]\n",
      "\n",
      "Weight vector w_y calculated by sklearn CCA:\n",
      "[[ 0.98662688  0.03886605 -0.15829351]\n",
      " [ 0.15337692  0.10729193  0.98232579]\n",
      " [ 0.05516274 -0.9934676   0.09989595]]\n"
     ]
    }
   ],
   "source": [
    "print('Weight vector w_y calculated by SVD:')\n",
    "print(svd_bunch.wy_sorted)\n",
    "print('')\n",
    "print('Weight vector w_y calculated by Generalized Eigenvalue Problem:')\n",
    "print(gen_eig_bunch.wy_sorted)\n",
    "print('')\n",
    "print('Weight vector w_y calculated by Standard Eigenvalue Problem:')\n",
    "print(std_eig_bunch.wy_sorted)\n",
    "print('')\n",
    "print('Weight vector w_y calculated by sklearn CCA:')\n",
    "print(sklearn_bunch.cca.y_weights_)"
   ]
  },
  {
   "cell_type": "markdown",
   "id": "0ff041e8",
   "metadata": {},
   "source": [
    "The differences are pretty significant. But we can also check out how the model performs."
   ]
  },
  {
   "cell_type": "code",
   "execution_count": 36,
   "id": "dc0e561a",
   "metadata": {},
   "outputs": [],
   "source": [
    "def svd_cca_fit_n_score(X_train, X_test, Y_train, Y_test, n_components):\n",
    "    X_dimension_num = X_train.shape[1]\n",
    "    Y_dimension_num = Y_train.shape[1]\n",
    "    \n",
    "    # standardization of two matrices\n",
    "    X_train_scaler = StandardScaler().fit(X_train)\n",
    "    X_train_standardized = X_train_scaler.transform(X_train)\n",
    "    X_test_standardized = X_train_scaler.transform(X_test)\n",
    "\n",
    "    Y_train_scaler = StandardScaler().fit(Y_train)\n",
    "    Y_train_standardized = Y_train_scaler.transform(Y_train)\n",
    "    Y_test_standardized = Y_train_scaler.transform(Y_test)\n",
    "    \n",
    "    # compute joint covariance matrix\n",
    "    C = np.cov(X_train_standardized.T, Y_train_standardized.T, ddof=0)\n",
    "\n",
    "    Cxx = C[0:X_dimension_num, 0:X_dimension_num]\n",
    "    Cxy = C[0:X_dimension_num, X_dimension_num:]\n",
    "    Cyy = C[X_dimension_num:, X_dimension_num:]\n",
    "    \n",
    "    \n",
    "    Cxx_sqrt_inv = scipy.linalg.inv(\n",
    "        scipy.linalg.cholesky(Cxx, lower=True)\n",
    "    ) # lower Cholesky decomposition\n",
    "    Cyy_sqrt_inv = scipy.linalg.inv(\n",
    "        scipy.linalg.cholesky(Cyy, lower=True)\n",
    "    )\n",
    "    mat_to_svd = np.linalg.multi_dot(\n",
    "        [Cxx_sqrt_inv, Cxy, Cyy_sqrt_inv]\n",
    "    ) # matrix to SVD\n",
    "\n",
    "    # SVD decomposition\n",
    "    [U, cc_arr_sorted, Vh] = scipy.linalg.svd(\n",
    "        mat_to_svd, full_matrices=False\n",
    "    )\n",
    "\n",
    "    # compute weights vectors\n",
    "    wx_sorted = np.matmul(Cxx_sqrt_inv, U)\n",
    "    wy_sorted = np.matmul(Cyy_sqrt_inv, Vh.T)\n",
    "    \n",
    "    # transform matrices\n",
    "    Xc_train = X_train_standardized.dot(wx_sorted)[:, :n_components]\n",
    "    Xc_test = X_test_standardized.dot(wx_sorted)[:, :n_components]\n",
    "    Yc_train = Y_train_standardized.dot(wy_sorted)[:, :n_components]\n",
    "    Yc_test = Y_test_standardized.dot(wy_sorted)[:, :n_components]\n",
    "    \n",
    "    # train with linear regression and get a score\n",
    "    return LinearRegression().fit(Xc_train, Yc_train).score(Xc_test, Yc_test)"
   ]
  },
  {
   "cell_type": "code",
   "execution_count": 37,
   "id": "40705a9d",
   "metadata": {},
   "outputs": [],
   "source": [
    "svd_bunch.rkf = RepeatedKFold(n_splits=n_splits, n_repeats=n_repeats, random_state=rs_num)\n",
    "svd_bunch.n_components = sklearn_bunch.n_components"
   ]
  },
  {
   "cell_type": "code",
   "execution_count": 38,
   "id": "1786b62c",
   "metadata": {},
   "outputs": [],
   "source": [
    "# cross-validate\n",
    "svd_bunch.cv_scores = custom_cv(\n",
    "    svd_bunch.rkf, X_train, Y_train, \n",
    "    svd_cca_fit_n_score, \n",
    "    svd_bunch.n_components\n",
    ")\n",
    "\n",
    "# also evaluate them manually\n",
    "svd_bunch.eval_score = svd_cca_fit_n_score(\n",
    "    X_train, X_test, Y_train, Y_test, \n",
    "    svd_bunch.n_components\n",
    ")"
   ]
  },
  {
   "cell_type": "code",
   "execution_count": 39,
   "id": "955dcdce",
   "metadata": {},
   "outputs": [],
   "source": [
    "# visualization method\n",
    "def viz_bunch_list(ax, bunch_list):\n",
    "    # visualize model evaluation\n",
    "    viz_labels = []\n",
    "    viz_boxplots = []\n",
    "    viz_eval_scores = []\n",
    "    viz_eval_scores_pos = []\n",
    "\n",
    "    for i, bunch in enumerate(bunch_list):\n",
    "        viz_labels.append(bunch.name)\n",
    "        viz_boxplots.append(bunch.cv_scores)\n",
    "        viz_eval_scores.append(bunch.eval_score)\n",
    "        viz_eval_scores_pos.append(i+1)\n",
    "    \n",
    "    ax.boxplot(\n",
    "        viz_boxplots, \n",
    "        labels=viz_labels\n",
    "    )\n",
    "    ax.scatter(\n",
    "        viz_eval_scores_pos, \n",
    "        viz_eval_scores, \n",
    "        fc='none',\n",
    "        ec='blue', \n",
    "        marker='^', \n",
    "        label='scores on test dataset'\n",
    "    )\n",
    "    \n",
    "    ax.set_xticklabels(viz_labels, rotation=45)\n",
    "    ax.legend(\n",
    "        loc='upper center',\n",
    "        bbox_to_anchor=(0.5, -0.22),\n",
    "        fancybox=True,\n",
    "        shadow=True,\n",
    "        ncol=1,\n",
    "        fontsize='small'\n",
    "    )"
   ]
  },
  {
   "cell_type": "code",
   "execution_count": 40,
   "id": "b201fa61",
   "metadata": {},
   "outputs": [
    {
     "data": {
      "image/png": "[encoded data removed]",
      "text/plain": [
       "<Figure size 640x480 with 1 Axes>"
      ]
     },
     "metadata": {},
     "output_type": "display_data"
    }
   ],
   "source": [
    "# put everything in one list\n",
    "bunch_list = [\n",
    "    baseline_bunch, \n",
    "    sklearn_bunch, \n",
    "    std_eig_bunch, \n",
    "    gen_eig_bunch, \n",
    "    svd_bunch\n",
    "]\n",
    "\n",
    "# visualization\n",
    "fig, ax = plt.subplots()\n",
    "\n",
    "viz_bunch_list(ax, bunch_list)\n",
    "\n",
    "ax.set(\n",
    "    ylabel='Linear Regression $R^2$ Score', \n",
    "    title=(\n",
    "        'Linear Regression w/ CCA\\n' + \n",
    "        '{}-repeat {}-fold CV'.format(n_repeats, n_splits)\n",
    "    )\n",
    ")\n",
    "\n",
    "fig.tight_layout()"
   ]
  },
  {
   "cell_type": "markdown",
   "id": "50137cf1",
   "metadata": {},
   "source": [
    "Although the CC and Weights are different, SVD method still provides **similar** performance.\n",
    "The differenence is might caused by the different algorithm and computational methods."
   ]
  },
  {
   "cell_type": "code",
   "execution_count": null,
   "id": "7e116c4f",
   "metadata": {},
   "outputs": [],
   "source": []
  },
  {
   "cell_type": "markdown",
   "id": "f3448cb7",
   "metadata": {},
   "source": [
    "# 6. CCA via CCA Zoo"
   ]
  },
  {
   "cell_type": "code",
   "execution_count": 41,
   "id": "ece5f0b9",
   "metadata": {},
   "outputs": [],
   "source": [
    "# create a customized pipeline\n",
    "def cz_cca_fit_n_score(X_train, X_test, Y_train, Y_test, n_components, rs_num):\n",
    "    # fitting the model\n",
    "    cca = cz_CCA(latent_dims=n_components, random_state=rs_num).fit((X_train, Y_train))\n",
    "    \n",
    "    # transform the model\n",
    "    Xc_train, Yc_train = cca.transform((X_train, Y_train))\n",
    "    Xc_test, Yc_test = cca.transform((X_test, Y_test))\n",
    "    \n",
    "    # train with linear regression and get a score\n",
    "    return LinearRegression().fit(Xc_train, Yc_train).score(Xc_test, Yc_test)"
   ]
  },
  {
   "cell_type": "code",
   "execution_count": 42,
   "id": "30e6f86f",
   "metadata": {},
   "outputs": [],
   "source": [
    "cz_bunch = Bunch()\n",
    "cz_bunch.name = 'cca-zoo'\n",
    "cz_bunch.n_components = sklearn_bunch.n_components\n",
    "cz_bunch.rkf = RepeatedKFold(n_splits=n_splits, n_repeats=n_repeats, random_state=rs_num)"
   ]
  },
  {
   "cell_type": "code",
   "execution_count": 43,
   "id": "73006bfc",
   "metadata": {},
   "outputs": [],
   "source": [
    "# cross-validate\n",
    "cz_bunch.cv_scores = custom_cv(\n",
    "    cz_bunch.rkf, X_train, Y_train, \n",
    "    cz_cca_fit_n_score, \n",
    "    cz_bunch.n_components, rs_num\n",
    ")\n",
    "\n",
    "# also evaluate them manually\n",
    "cz_bunch.eval_score = cz_cca_fit_n_score(\n",
    "    X_train, X_test, Y_train, Y_test, \n",
    "    cz_bunch.n_components, rs_num\n",
    ")"
   ]
  },
  {
   "cell_type": "code",
   "execution_count": 44,
   "id": "9f9a33a5",
   "metadata": {},
   "outputs": [
    {
     "data": {
      "image/png": "[encoded data removed]",
      "text/plain": [
       "<Figure size 640x480 with 1 Axes>"
      ]
     },
     "metadata": {},
     "output_type": "display_data"
    }
   ],
   "source": [
    "# put everything in one list\n",
    "bunch_list = [\n",
    "    baseline_bunch, \n",
    "    sklearn_bunch, \n",
    "    std_eig_bunch, \n",
    "    gen_eig_bunch, \n",
    "    svd_bunch, \n",
    "    cz_bunch\n",
    "]\n",
    "\n",
    "# visualization\n",
    "fig, ax = plt.subplots()\n",
    "\n",
    "viz_bunch_list(ax, bunch_list)\n",
    "\n",
    "ax.set(\n",
    "    ylabel='Linear Regression $R^2$ Score', \n",
    "    title=(\n",
    "        'Linear Regression w/ CCA\\n' + \n",
    "        '{}-repeat {}-fold CV'.format(n_repeats, n_splits)\n",
    "    )\n",
    ")\n",
    "\n",
    "fig.tight_layout()"
   ]
  },
  {
   "cell_type": "code",
   "execution_count": null,
   "id": "f704a4b5",
   "metadata": {},
   "outputs": [],
   "source": []
  }
 ],
 "metadata": {
  "kernelspec": {
   "display_name": "Python 3 (ipykernel)",
   "language": "python",
   "name": "python3"
  },
  "language_info": {
   "codemirror_mode": {
    "name": "ipython",
    "version": 3
   },
   "file_extension": ".py",
   "mimetype": "text/x-python",
   "name": "python",
   "nbconvert_exporter": "python",
   "pygments_lexer": "ipython3",
   "version": "3.8.13"
  }
 },
 "nbformat": 4,
 "nbformat_minor": 5
}
