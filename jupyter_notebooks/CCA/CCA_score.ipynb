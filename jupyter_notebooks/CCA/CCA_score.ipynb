{
 "cells": [
  {
   "cell_type": "markdown",
   "id": "031344a9",
   "metadata": {},
   "source": [
    "# 0. About\n",
    "\n",
    "This notebook is explore how the `score` function works in CCA."
   ]
  },
  {
   "cell_type": "code",
   "execution_count": 1,
   "id": "a6191d14",
   "metadata": {},
   "outputs": [],
   "source": [
    "import numpy as np\n",
    "from matplotlib import pyplot as plt\n",
    "import seaborn as sns\n",
    "import pandas as pd\n",
    "import scipy\n",
    "import warnings\n",
    "\n",
    "import sklearn\n",
    "from sklearn.pipeline import Pipeline\n",
    "from sklearn.preprocessing import StandardScaler\n",
    "from sklearn.decomposition import PCA\n",
    "from sklearn.model_selection import train_test_split, cross_validate\n",
    "from sklearn.model_selection import RepeatedKFold, GridSearchCV\n",
    "from sklearn.linear_model import LinearRegression\n",
    "from sklearn.cross_decomposition import CCA, PLSCanonical\n",
    "from sklearn.utils import Bunch\n",
    "from sklearn.metrics.pairwise import cosine_similarity\n",
    "\n",
    "from cca_zoo.models import CCA as cz_CCA\n",
    "from cca_zoo.models import rCCA as cz_rCCA\n",
    "from cca_zoo.model_selection import GridSearchCV as cz_GridSearchCV\n",
    "\n",
    "rs_num = 55\n",
    "rng = np.random.default_rng(rs_num)\n",
    "\n",
    "sklearn.set_config(display=\"diagram\")\n",
    "\n",
    "%matplotlib inline"
   ]
  },
  {
   "cell_type": "markdown",
   "id": "4cb66daa",
   "metadata": {},
   "source": [
    "# 1. Dataset Construction"
   ]
  },
  {
   "cell_type": "code",
   "execution_count": 2,
   "id": "69d93171",
   "metadata": {},
   "outputs": [
    {
     "name": "stdout",
     "output_type": "stream",
     "text": [
      "(60, 4)\n"
     ]
    }
   ],
   "source": [
    "sample_num = 76\n",
    "X_dimension_num = 4\n",
    "Y_dimension_num = 3\n",
    "\n",
    "# construct X\n",
    "X = np.zeros((sample_num, X_dimension_num))\n",
    "X[:, 0] = rng.normal(loc=0.0, scale=1.0, size=(sample_num, ))\n",
    "X[:, 1] = rng.normal(loc=0.0, scale=1.0, size=(sample_num, ))\n",
    "X[:, 2] = rng.normal(loc=0.0, scale=1.0, size=(sample_num, ))\n",
    "X[:, 3] = rng.normal(loc=0.0, scale=1.0, size=(sample_num, ))\n",
    "\n",
    "# noise\n",
    "xi_1 = rng.normal(loc=0, scale=0.2, size=(sample_num, ))\n",
    "xi_2 = rng.normal(loc=0, scale=0.4, size=(sample_num, ))\n",
    "xi_3 = rng.normal(loc=0, scale=0.3, size=(sample_num, ))\n",
    "\n",
    "# contruct Y\n",
    "Y = np.zeros((sample_num, Y_dimension_num))\n",
    "Y[:, 0] = X[:, 2] + xi_1\n",
    "Y[:, 1] = X[:, 0] + xi_2\n",
    "Y[:, 2] = -X[:, 3] + xi_3\n",
    "\n",
    "# split into training and test dataset\n",
    "[X_train, X_test, Y_train, Y_test] = train_test_split(\n",
    "    X, Y, test_size=0.20, random_state=rs_num\n",
    ")\n",
    "\n",
    "print(X_train.shape)"
   ]
  },
  {
   "cell_type": "code",
   "execution_count": 3,
   "id": "d50fe0ae",
   "metadata": {},
   "outputs": [],
   "source": [
    "# standardization of two matrices\n",
    "X_train_scaler = StandardScaler().fit(X_train)\n",
    "X_train_standardized = X_train_scaler.transform(X_train)\n",
    "X_test_standardized = X_train_scaler.transform(X_test)\n",
    "\n",
    "Y_train_scaler = StandardScaler().fit(Y_train)\n",
    "Y_train_standardized = Y_train_scaler.transform(Y_train)\n",
    "Y_test_standardized = Y_train_scaler.transform(Y_test)"
   ]
  },
  {
   "cell_type": "markdown",
   "id": "faddcbd8",
   "metadata": {},
   "source": [
    "# 1. Apply CCA via sklearn"
   ]
  },
  {
   "cell_type": "code",
   "execution_count": 4,
   "id": "5af4f6d7",
   "metadata": {},
   "outputs": [
    {
     "name": "stdout",
     "output_type": "stream",
     "text": [
      "For sklearn CCA:\n",
      "  The canonical correlations over training dataset are:  [0.98957196 0.95929165 0.93723248]\n",
      "  Also CC computed in a different way [0.98957196 0.95929165 0.93723248]\n",
      "  The scores over training dataset are:  0.9270413524457232\n",
      "The score function in sklearn is to try to predict Y and compute R^2 from there.\n",
      "R^2 can be seen as a standardized version of MSE (Mean-Squared-Error).\n"
     ]
    }
   ],
   "source": [
    "print('For sklearn CCA:')\n",
    "\n",
    "sklearn_cca_bunch = Bunch()\n",
    "sklearn_cca_bunch.name = 'sklearn cca'\n",
    "\n",
    "sklearn_cca_bunch.n_components = np.min([X_dimension_num, Y_dimension_num])\n",
    "sklearn_cca_bunch.max_iter = int(1e15)\n",
    "sklearn_cca_bunch.tol = 1e-15\n",
    "\n",
    "# fit cca\n",
    "sklearn_cca_bunch.cca = CCA(\n",
    "    n_components=sklearn_cca_bunch.n_components, \n",
    "    max_iter=sklearn_cca_bunch.max_iter, \n",
    "    tol=sklearn_cca_bunch.tol\n",
    ").fit(X_train, Y_train)\n",
    "\n",
    "# transform data\n",
    "[sklearn_cca_bunch.Xc_train, \n",
    " sklearn_cca_bunch.Yc_train] = sklearn_cca_bunch.cca.transform(X_train, Y_train)\n",
    "\n",
    "# obtain canonical correlation manually\n",
    "sklearn_cca_bunch.cc = np.zeros((sklearn_cca_bunch.n_components, ))\n",
    "for component_i in range(sklearn_cca_bunch.n_components):\n",
    "    sklearn_cca_bunch.cc[component_i] = cosine_similarity(\n",
    "        sklearn_cca_bunch.Xc_train[:, component_i].reshape(1, -1), \n",
    "        sklearn_cca_bunch.Yc_train[:, component_i].reshape(1, -1)\n",
    "    )[0][0]\n",
    "print('  The canonical correlations over training dataset are: ', sklearn_cca_bunch.cc)\n",
    "\n",
    "# we can also compute the canonical correlations in a different way\n",
    "print(\n",
    "    '  Also CC computed in a different way', \n",
    "     np.corrcoef(\n",
    "        sklearn_cca_bunch.Xc_train.T, sklearn_cca_bunch.Yc_train.T\n",
    "    ).diagonal(offset=sklearn_cca_bunch.n_components)\n",
    ")\n",
    "\n",
    "# score the same dataset\n",
    "print('  The scores over training dataset are: ', sklearn_cca_bunch.cca.score(X_train, Y_train))\n",
    "\n",
    "print('The score function in sklearn is to try to predict Y and compute R^2 from there.')\n",
    "print('R^2 can be seen as a standardized version of MSE (Mean-Squared-Error).')"
   ]
  },
  {
   "cell_type": "markdown",
   "id": "592bb3e3",
   "metadata": {},
   "source": [
    "# 2. Apply CCA via CCA-Zoo"
   ]
  },
  {
   "cell_type": "code",
   "execution_count": 5,
   "id": "02b347cc",
   "metadata": {},
   "outputs": [
    {
     "name": "stdout",
     "output_type": "stream",
     "text": [
      "For CCA-Zoo CCA:\n",
      "  The canonical correlations over training dataset are:  [0.98957196 0.95929165 0.93723248]\n",
      "  The scores over training dataset are:  [0.98957196 0.95929165 0.93723248]\n"
     ]
    }
   ],
   "source": [
    "print('For CCA-Zoo CCA:')\n",
    "\n",
    "cz_cca_bunch = Bunch()\n",
    "cz_cca_bunch.name = 'cz cca'\n",
    "\n",
    "cz_cca_bunch.n_components = np.min([X_dimension_num, Y_dimension_num])\n",
    "\n",
    "# fit cca\n",
    "cz_cca_bunch.cca = cz_CCA(\n",
    "    latent_dims=cz_cca_bunch.n_components, \n",
    "    random_state=rs_num\n",
    ").fit((X_train, Y_train))\n",
    "\n",
    "# transform data\n",
    "[cz_cca_bunch.Xc_train, \n",
    " cz_cca_bunch.Yc_train] = cz_cca_bunch.cca.transform((X_train, Y_train))\n",
    "\n",
    "# obtain canonical correlation manually\n",
    "cz_cca_bunch.cc = np.zeros((cz_cca_bunch.n_components, ))\n",
    "for component_i in range(cz_cca_bunch.n_components):\n",
    "    cz_cca_bunch.cc[component_i] = cosine_similarity(\n",
    "        cz_cca_bunch.Xc_train[:, component_i].reshape(1, -1), \n",
    "        cz_cca_bunch.Yc_train[:, component_i].reshape(1, -1)\n",
    "    )[0][0]\n",
    "print('  The canonical correlations over training dataset are: ', cz_cca_bunch.cc)\n",
    "\n",
    "# score the same dataset\n",
    "print('  The scores over training dataset are: ', cz_cca_bunch.cca.score((X_train, Y_train)))"
   ]
  },
  {
   "cell_type": "markdown",
   "id": "3e22cf31",
   "metadata": {},
   "source": [
    "# 3. Side-to-side Comparison of Canonical Correlations"
   ]
  },
  {
   "cell_type": "code",
   "execution_count": 6,
   "id": "3d0ad295",
   "metadata": {},
   "outputs": [
    {
     "data": {
      "text/html": [
       "<div>\n",
       "<style scoped>\n",
       "    .dataframe tbody tr th:only-of-type {\n",
       "        vertical-align: middle;\n",
       "    }\n",
       "\n",
       "    .dataframe tbody tr th {\n",
       "        vertical-align: top;\n",
       "    }\n",
       "\n",
       "    .dataframe thead th {\n",
       "        text-align: right;\n",
       "    }\n",
       "</style>\n",
       "<table border=\"1\" class=\"dataframe\">\n",
       "  <thead>\n",
       "    <tr style=\"text-align: right;\">\n",
       "      <th></th>\n",
       "      <th>no.1</th>\n",
       "      <th>no.2</th>\n",
       "      <th>no.3</th>\n",
       "    </tr>\n",
       "  </thead>\n",
       "  <tbody>\n",
       "    <tr>\n",
       "      <th>sklearn</th>\n",
       "      <td>0.989572</td>\n",
       "      <td>0.959292</td>\n",
       "      <td>0.937232</td>\n",
       "    </tr>\n",
       "    <tr>\n",
       "      <th>cca-zoo</th>\n",
       "      <td>0.989572</td>\n",
       "      <td>0.959292</td>\n",
       "      <td>0.937232</td>\n",
       "    </tr>\n",
       "  </tbody>\n",
       "</table>\n",
       "</div>"
      ],
      "text/plain": [
       "             no.1      no.2      no.3\n",
       "sklearn  0.989572  0.959292  0.937232\n",
       "cca-zoo  0.989572  0.959292  0.937232"
      ]
     },
     "execution_count": 6,
     "metadata": {},
     "output_type": "execute_result"
    }
   ],
   "source": [
    "cc_all = np.zeros((np.min([X_dimension_num, Y_dimension_num]), 2))\n",
    "cc_all[:, 0] = sklearn_cca_bunch.cc\n",
    "cc_all[:, 1] = cz_cca_bunch.cc\n",
    "\n",
    "df = pd.DataFrame(\n",
    "    data=cc_all.T, \n",
    "    index=['sklearn', 'cca-zoo'], \n",
    "    columns=['no.1', 'no.2', 'no.3']\n",
    ")\n",
    "\n",
    "df"
   ]
  },
  {
   "cell_type": "code",
   "execution_count": null,
   "id": "cdf077c5",
   "metadata": {},
   "outputs": [],
   "source": []
  }
 ],
 "metadata": {
  "kernelspec": {
   "display_name": "Python 3 (ipykernel)",
   "language": "python",
   "name": "python3"
  },
  "language_info": {
   "codemirror_mode": {
    "name": "ipython",
    "version": 3
   },
   "file_extension": ".py",
   "mimetype": "text/x-python",
   "name": "python",
   "nbconvert_exporter": "python",
   "pygments_lexer": "ipython3",
   "version": "3.8.13"
  }
 },
 "nbformat": 4,
 "nbformat_minor": 5
}
