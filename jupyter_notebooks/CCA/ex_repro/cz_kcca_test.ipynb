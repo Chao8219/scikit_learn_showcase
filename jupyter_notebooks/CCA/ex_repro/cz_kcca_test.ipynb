{
 "cells": [
  {
   "cell_type": "markdown",
   "id": "38d50590",
   "metadata": {},
   "source": [
    "# About\n",
    "\n",
    "This notebook is to test out the CCA-Zoo `KCCA` module to see if the results match the results if we solve it manually."
   ]
  },
  {
   "cell_type": "code",
   "execution_count": 1,
   "id": "431842b1",
   "metadata": {},
   "outputs": [],
   "source": [
    "import numpy as np\n",
    "from matplotlib import pyplot as plt\n",
    "import seaborn as sns\n",
    "import pandas as pd\n",
    "import scipy\n",
    "import warnings\n",
    "import time\n",
    "from tqdm.notebook import tqdm\n",
    "\n",
    "import sklearn\n",
    "from sklearn.pipeline import Pipeline\n",
    "from sklearn.preprocessing import StandardScaler\n",
    "from sklearn.decomposition import PCA\n",
    "from sklearn.model_selection import train_test_split, cross_validate\n",
    "from sklearn.model_selection import RepeatedKFold, GridSearchCV\n",
    "from sklearn.linear_model import LinearRegression\n",
    "from sklearn.cross_decomposition import CCA, PLSCanonical\n",
    "from sklearn.utils import Bunch\n",
    "from sklearn.metrics.pairwise import cosine_similarity\n",
    "from sklearn.preprocessing import normalize\n",
    "from sklearn.metrics.pairwise import rbf_kernel, euclidean_distances\n",
    "from sklearn.metrics.pairwise import pairwise_kernels\n",
    "\n",
    "from cca_zoo.models import CCA as cz_CCA\n",
    "from cca_zoo.models import rCCA as cz_rCCA\n",
    "from cca_zoo.models import KCCA\n",
    "from cca_zoo.model_selection import GridSearchCV as cz_GridSearchCV\n",
    "from cca_zoo.plotting import pairplot_train_test\n",
    "\n",
    "rs_num = 42\n",
    "rng = np.random.default_rng(rs_num)\n",
    "\n",
    "sklearn.set_config(display=\"diagram\")\n",
    "\n",
    "n_splits = 5\n",
    "n_repeats = 20\n",
    "\n",
    "%matplotlib inline"
   ]
  },
  {
   "cell_type": "code",
   "execution_count": 2,
   "id": "b1bf289b",
   "metadata": {},
   "outputs": [],
   "source": [
    "# load data\n",
    "data_path = 'data//'\n",
    "X_train = np.genfromtxt(data_path+'example_3_2_X_a.csv', delimiter=',')\n",
    "Y_train = np.genfromtxt(data_path+'example_3_2_X_b.csv', delimiter=',')\n",
    "\n",
    "# extract dimensions\n",
    "X_dimension_num = X_train.shape[1]\n",
    "Y_dimension_num = Y_train.shape[1]"
   ]
  },
  {
   "cell_type": "code",
   "execution_count": 3,
   "id": "13c1843f",
   "metadata": {},
   "outputs": [],
   "source": [
    "sample_num = 5\n",
    "X_dimension_num = 3\n",
    "Y_dimension_num = 2\n",
    "\n",
    "X_train = np.zeros((sample_num, X_dimension_num))\n",
    "X_train[:, 0] = np.arange(1, sample_num+1)\n",
    "X_train[:, 1] = np.linspace(-0.25, 0.6, sample_num)\n",
    "X_train[:, 2] = np.logspace(1, 2, sample_num)\n",
    "\n",
    "Y_train = np.zeros((sample_num, Y_dimension_num))\n",
    "Y_train[:, 0] = np.exp(X_train[:, 1])*0.25\n",
    "Y_train[:, 1] = -X_train[:, 0]\n",
    "\n",
    "# standardization\n",
    "X_train = StandardScaler().fit_transform(X_train)\n",
    "Y_train = StandardScaler().fit_transform(Y_train)"
   ]
  },
  {
   "cell_type": "markdown",
   "id": "f29fbdf4",
   "metadata": {},
   "source": [
    "# Manual Computation"
   ]
  },
  {
   "cell_type": "code",
   "execution_count": 4,
   "id": "c6023c32",
   "metadata": {},
   "outputs": [],
   "source": [
    "# for this method, we do not center the matrices\n",
    "def rbf_kcca(X, Y, c1, c2, gamma1, gamma2, n_components):\n",
    "    # note: for X and Y, we assume they are standardized already\n",
    "    sample_num = X.shape[0]\n",
    "    \n",
    "    # compute for K matrices\n",
    "    Kx = rbf_kernel(X, X, gamma1)\n",
    "    Ky = rbf_kernel(Y, Y, gamma2)\n",
    "    \n",
    "    A = np.zeros((2*sample_num, 2*sample_num))\n",
    "    A[:sample_num, sample_num:] = Kx.dot(Ky)\n",
    "    A[sample_num:, :sample_num] = Ky.dot(Kx)\n",
    "    \n",
    "    B = np.zeros_like(A)\n",
    "    B[:sample_num, :sample_num] = np.linalg.matrix_power(\n",
    "        Kx + c1 * np.eye(sample_num), 2\n",
    "    )\n",
    "    B[sample_num:, sample_num:] = np.linalg.matrix_power(\n",
    "        Ky + c2 * np.eye(sample_num), 2\n",
    "    )\n",
    "    \n",
    "    # solve for generalized eigenvalue problem\n",
    "    [eig_val, eig_vec] = scipy.linalg.eigh(A, B)\n",
    "    \n",
    "    # take parts where eigenvalues are larger than 0.0\n",
    "    eig_val_positive = eig_val[eig_val>=0.0]\n",
    "    eig_vec_positive = eig_vec[:, eig_val>=0.0]\n",
    "    \n",
    "    # sort by eigenvalues, descending order\n",
    "    sort_ind_des = eig_val_positive.argsort()[::-1]\n",
    "    eig_val_positive_sorted = eig_val_positive[sort_ind_des]\n",
    "    eig_vec_positive_sorted = eig_vec_positive[:, sort_ind_des]\n",
    "    \n",
    "    # slicing components\n",
    "    eig_val_positive_sorted = eig_val_positive_sorted[:n_components]\n",
    "    alpha_sorted = eig_vec_positive_sorted[:sample_num, :n_components]\n",
    "    beta_sorted = eig_vec_positive_sorted[sample_num:, :n_components]\n",
    "    \n",
    "    # transform Kx & Ky\n",
    "    zx = Kx.dot(alpha_sorted)\n",
    "    zy = Ky.dot(beta_sorted)\n",
    "    \n",
    "    # compute canonical correlation\n",
    "    cc_arr =  np.diag(cosine_similarity(\n",
    "        zx.T, zy.T\n",
    "    ))\n",
    "    \n",
    "    return [\n",
    "        eig_val_positive_sorted, \n",
    "        alpha_sorted, beta_sorted, \n",
    "        Kx, Ky, zx, zy, cc_arr, \n",
    "        A, B\n",
    "    ]"
   ]
  },
  {
   "cell_type": "code",
   "execution_count": 5,
   "id": "06459cde",
   "metadata": {},
   "outputs": [],
   "source": [
    "# some parameters\n",
    "c1 = 0.2\n",
    "c2 = 0.2\n",
    "gamma1 = 0.03977\n",
    "gamma2 = 0.03966\n",
    "n_components = 2"
   ]
  },
  {
   "cell_type": "code",
   "execution_count": 6,
   "id": "3d36b555",
   "metadata": {},
   "outputs": [],
   "source": [
    "ma_kcca_bunch = Bunch()\n",
    "ma_kcca_bunch.name = 'Manual KCCA'"
   ]
  },
  {
   "cell_type": "code",
   "execution_count": 7,
   "id": "e724a09b",
   "metadata": {},
   "outputs": [
    {
     "name": "stdout",
     "output_type": "stream",
     "text": [
      "For manually computed KCCA:\n",
      "Canonical Correlation for 2 components:\n",
      "[0.99977359 0.99947471]\n"
     ]
    }
   ],
   "source": [
    "print('For manually computed KCCA:')\n",
    "\n",
    "# solve for kcca\n",
    "[ma_kcca_bunch.eig_val, \n",
    " ma_kcca_bunch.alpha, \n",
    " ma_kcca_bunch.beta, \n",
    " ma_kcca_bunch.Kx, \n",
    " ma_kcca_bunch.Ky, \n",
    " ma_kcca_bunch.zx, \n",
    " ma_kcca_bunch.zy, \n",
    " ma_kcca_bunch.cc_arr, \n",
    " ma_kcca_bunch.A, \n",
    " ma_kcca_bunch.B] = rbf_kcca(\n",
    "    X_train, Y_train, c1, c2, gamma1, gamma2, n_components\n",
    ")\n",
    "\n",
    "print('Canonical Correlation for {} components:'.format(n_components))\n",
    "print(ma_kcca_bunch.cc_arr)"
   ]
  },
  {
   "cell_type": "markdown",
   "id": "815a6a0a",
   "metadata": {},
   "source": [
    "# CCA-Zoo KCCA"
   ]
  },
  {
   "cell_type": "code",
   "execution_count": 8,
   "id": "3c9c61cb",
   "metadata": {},
   "outputs": [],
   "source": [
    "cz_kcca_bunch = Bunch()\n",
    "cz_kcca_bunch.name = 'CCA-Zoo KCCA'"
   ]
  },
  {
   "cell_type": "code",
   "execution_count": 9,
   "id": "df3103b1",
   "metadata": {},
   "outputs": [
    {
     "name": "stdout",
     "output_type": "stream",
     "text": [
      "For CCA-Zoo KCCA:\n",
      "Canonical Correlation for 2 components:\n",
      "[0.99831147 0.99947935]\n"
     ]
    }
   ],
   "source": [
    "print('For CCA-Zoo KCCA:')\n",
    "\n",
    "cz_kcca_bunch.kcca = KCCA(\n",
    "    latent_dims=n_components, \n",
    "    kernel=['rbf', 'rbf'], \n",
    "    gamma=[gamma1, gamma2], \n",
    "    c=[c1, c2], \n",
    "    eps=1e-9, \n",
    "    random_state=rs_num\n",
    ").fit([X_train, Y_train])\n",
    "\n",
    "cz_kcca_bunch.cc_arr = cz_kcca_bunch.kcca.score([X_train, Y_train])\n",
    "\n",
    "print('Canonical Correlation for {} components:'.format(n_components))\n",
    "print(cz_kcca_bunch.cc_arr)"
   ]
  },
  {
   "cell_type": "markdown",
   "id": "39bec324",
   "metadata": {},
   "source": [
    "We can see for CCA-Zoo module, the canonical correlations are not sorted, as it should be.\n",
    "\n",
    "With some debugging tests, there are several issues:\n",
    "1. For the CCA-Zoo, the standardization is performed with `ddof=1`, but in our cases, `StandardScaler()` will provide biased `ddof=0` computation.\n",
    "2. When solving for the generalized eigenvalue problem using `scipy.linalg.eigh(a, b)` function, the matrices `a` & `b` are not computed the same for the CCA-Zoo package."
   ]
  },
  {
   "cell_type": "code",
   "execution_count": null,
   "id": "986e4931",
   "metadata": {},
   "outputs": [],
   "source": []
  },
  {
   "cell_type": "code",
   "execution_count": null,
   "id": "9bf4c3cb",
   "metadata": {},
   "outputs": [],
   "source": []
  }
 ],
 "metadata": {
  "kernelspec": {
   "display_name": "Python 3 (ipykernel)",
   "language": "python",
   "name": "python3"
  },
  "language_info": {
   "codemirror_mode": {
    "name": "ipython",
    "version": 3
   },
   "file_extension": ".py",
   "mimetype": "text/x-python",
   "name": "python",
   "nbconvert_exporter": "python",
   "pygments_lexer": "ipython3",
   "version": "3.8.13"
  }
 },
 "nbformat": 4,
 "nbformat_minor": 5
}
