{
 "cells": [
  {
   "cell_type": "code",
   "execution_count": 1,
   "id": "8f1d19c4",
   "metadata": {},
   "outputs": [],
   "source": [
    "import numpy as np\n",
    "from matplotlib import pyplot as plt\n",
    "import seaborn as sns\n",
    "import pandas as pd\n",
    "import scipy\n",
    "import warnings\n",
    "import time\n",
    "\n",
    "import sklearn\n",
    "from sklearn.pipeline import Pipeline\n",
    "from sklearn.preprocessing import StandardScaler\n",
    "from sklearn.decomposition import PCA\n",
    "from sklearn.model_selection import train_test_split, cross_validate\n",
    "from sklearn.model_selection import RepeatedKFold, GridSearchCV\n",
    "from sklearn.linear_model import LinearRegression\n",
    "from sklearn.cross_decomposition import CCA, PLSCanonical\n",
    "from sklearn.utils import Bunch\n",
    "from sklearn.metrics.pairwise import cosine_similarity\n",
    "from sklearn.preprocessing import normalize\n",
    "\n",
    "from cca_zoo.models import CCA as cz_CCA\n",
    "from cca_zoo.models import rCCA as cz_rCCA\n",
    "from cca_zoo.model_selection import GridSearchCV as cz_GridSearchCV\n",
    "from cca_zoo.plotting import pairplot_train_test\n",
    "\n",
    "rs_num = 42\n",
    "rng = np.random.default_rng(rs_num)\n",
    "\n",
    "sklearn.set_config(display=\"diagram\")\n",
    "\n",
    "n_splits = 5\n",
    "n_repeats = 50\n",
    "\n",
    "%matplotlib inline"
   ]
  },
  {
   "cell_type": "markdown",
   "id": "8bd6a50e",
   "metadata": {},
   "source": [
    "# 1. Loading Data"
   ]
  },
  {
   "cell_type": "code",
   "execution_count": 2,
   "id": "51f42dd7",
   "metadata": {},
   "outputs": [],
   "source": [
    "# load data\n",
    "data_path = 'data//'\n",
    "X_train = np.genfromtxt(data_path+'example_2_X_a.csv', delimiter=',')\n",
    "Y_train = np.genfromtxt(data_path+'example_2_X_b.csv', delimiter=',')\n",
    "X_test = np.genfromtxt(data_path+'example_2_X_a_test.csv', delimiter=',')\n",
    "Y_test = np.genfromtxt(data_path+'example_2_X_b_test.csv', delimiter=',')\n",
    "\n",
    "# extract dimensions\n",
    "X_dimension_num = X_train.shape[1]\n",
    "Y_dimension_num = Y_train.shape[1]"
   ]
  },
  {
   "cell_type": "code",
   "execution_count": 3,
   "id": "a5f4e29d",
   "metadata": {},
   "outputs": [
    {
     "name": "stdout",
     "output_type": "stream",
     "text": [
      "For X_train, \n",
      "  mean: [ 1.45716772e-16 -1.29757316e-16  2.08166817e-17  1.97064587e-16]\n",
      "  std: [1. 1. 1. 1.]\n",
      "For Y_train, \n",
      "  mean: [ 3.27515792e-16 -6.66133815e-17 -4.80171458e-16]\n",
      "  std: [1. 1. 1.]\n"
     ]
    }
   ],
   "source": [
    "# check if data are standardized\n",
    "print('For X_train, ')\n",
    "print('  mean:', X_train.mean(axis=0))\n",
    "print('  std:', X_train.std(axis=0, ddof=1))\n",
    "\n",
    "print('For Y_train, ')\n",
    "print('  mean:', Y_train.mean(axis=0))\n",
    "print('  std:', Y_train.std(axis=0, ddof=1))"
   ]
  },
  {
   "cell_type": "markdown",
   "id": "60b1a5da",
   "metadata": {},
   "source": [
    "# 2. Example 2.1 - Solving Standard Eigenvalue Problem\n",
    "\n",
    "## 2.1. Covariance Matrix"
   ]
  },
  {
   "cell_type": "code",
   "execution_count": 4,
   "id": "c83f1396",
   "metadata": {},
   "outputs": [
    {
     "name": "stdout",
     "output_type": "stream",
     "text": [
      "For C:\n",
      "[[ 1.    0.34 -0.11  0.21 -0.1   0.92 -0.21]\n",
      " [ 0.34  1.   -0.08  0.03 -0.1   0.34  0.06]\n",
      " [-0.11 -0.08  1.   -0.3   0.98 -0.03  0.3 ]\n",
      " [ 0.21  0.03 -0.3   1.   -0.25  0.12 -0.94]\n",
      " [-0.1  -0.1   0.98 -0.25  1.   -0.03  0.25]\n",
      " [ 0.92  0.34 -0.03  0.12 -0.03  1.   -0.13]\n",
      " [-0.21  0.06  0.3  -0.94  0.25 -0.13  1.  ]]\n"
     ]
    }
   ],
   "source": [
    "C = np.cov(X_train.T, Y_train.T, ddof=1)\n",
    "print('For C:')\n",
    "print(np.array_str(C, precision=2))"
   ]
  },
  {
   "cell_type": "code",
   "execution_count": 5,
   "id": "7e3533ed",
   "metadata": {},
   "outputs": [],
   "source": [
    "Cxx = C[0:X_dimension_num, 0:X_dimension_num]\n",
    "Cxy = C[0:X_dimension_num, X_dimension_num:]\n",
    "Cyy = C[X_dimension_num:, X_dimension_num:]\n",
    "\n",
    "C_compute = np.linalg.multi_dot(\n",
    "    [np.linalg.inv(Cyy), Cxy.T, np.linalg.inv(Cxx), Cxy]\n",
    ")"
   ]
  },
  {
   "cell_type": "code",
   "execution_count": 6,
   "id": "9553b1b7",
   "metadata": {},
   "outputs": [
    {
     "name": "stdout",
     "output_type": "stream",
     "text": [
      "For Cxx:\n",
      "[[ 1.    0.34 -0.11  0.21]\n",
      " [ 0.34  1.   -0.08  0.03]\n",
      " [-0.11 -0.08  1.   -0.3 ]\n",
      " [ 0.21  0.03 -0.3   1.  ]]\n"
     ]
    }
   ],
   "source": [
    "print('For Cxx:')\n",
    "print(np.array_str(Cxx, precision=2))"
   ]
  },
  {
   "cell_type": "code",
   "execution_count": 7,
   "id": "6504ff2c",
   "metadata": {},
   "outputs": [
    {
     "name": "stdout",
     "output_type": "stream",
     "text": [
      "For Cxy:\n",
      "[[-0.1   0.92 -0.21]\n",
      " [-0.1   0.34  0.06]\n",
      " [ 0.98 -0.03  0.3 ]\n",
      " [-0.25  0.12 -0.94]]\n"
     ]
    }
   ],
   "source": [
    "print('For Cxy:')\n",
    "print(np.array_str(Cxy, precision=2))"
   ]
  },
  {
   "cell_type": "code",
   "execution_count": 8,
   "id": "a5027f85",
   "metadata": {},
   "outputs": [
    {
     "name": "stdout",
     "output_type": "stream",
     "text": [
      "For Cyy:\n",
      "[[ 1.   -0.03  0.25]\n",
      " [-0.03  1.   -0.13]\n",
      " [ 0.25 -0.13  1.  ]]\n"
     ]
    }
   ],
   "source": [
    "print('For Cyy:')\n",
    "print(np.array_str(Cyy, precision=2))"
   ]
  },
  {
   "cell_type": "markdown",
   "id": "b089d013",
   "metadata": {},
   "source": [
    "## 2.2. Compute Weights and Canonical Correlation"
   ]
  },
  {
   "cell_type": "code",
   "execution_count": 9,
   "id": "b9db5ef3",
   "metadata": {},
   "outputs": [],
   "source": [
    "# standard eigenvalue problem\n",
    "std_eig_bunch = Bunch()\n",
    "std_eig_bunch.name = 'std eig'\n",
    "\n",
    "# solve eig\n",
    "[std_eig_bunch.eig_val, \n",
    " std_eig_bunch.eig_vec] = np.linalg.eig(C_compute)\n",
    "\n",
    "# Y matrix weights\n",
    "std_eig_bunch.wy = std_eig_bunch.eig_vec\n",
    "\n",
    "# canonical correlation array\n",
    "std_eig_bunch.cc_arr = np.sqrt(std_eig_bunch.eig_val)\n",
    "\n",
    "# X matrix weights\n",
    "std_eig_bunch.wx = np.linalg.multi_dot(\n",
    "    [np.linalg.inv(Cxx), Cxy, std_eig_bunch.wy]\n",
    ")/std_eig_bunch.cc_arr\n",
    "\n",
    "# sort by canonical correlation\n",
    "sort_ind = std_eig_bunch.cc_arr.argsort() # ascending order; use [::-1] for descending order\n",
    "std_eig_bunch.cc_arr_sorted = std_eig_bunch.cc_arr[sort_ind[::-1]]\n",
    "std_eig_bunch.wx_sorted = std_eig_bunch.wx[:, sort_ind[::-1]]\n",
    "std_eig_bunch.wy_sorted = std_eig_bunch.wy[:, sort_ind[::-1]]\n",
    "\n",
    "del sort_ind"
   ]
  },
  {
   "cell_type": "code",
   "execution_count": 10,
   "id": "8531fb02",
   "metadata": {},
   "outputs": [
    {
     "name": "stdout",
     "output_type": "stream",
     "text": [
      "Weight vector w_x calculated by Standard Eigenvalue Problem:\n",
      "[[-0.04 -0.41 -0.84]\n",
      " [-0.    0.09 -0.1 ]\n",
      " [-0.99 -0.41  0.14]\n",
      " [ 0.18 -0.83  0.52]]\n"
     ]
    }
   ],
   "source": [
    "print('Weight vector w_x calculated by Standard Eigenvalue Problem:')\n",
    "print(np.array_str(std_eig_bunch.wx_sorted, precision=2, suppress_small=True))"
   ]
  },
  {
   "cell_type": "code",
   "execution_count": 11,
   "id": "9031a212",
   "metadata": {},
   "outputs": [
    {
     "name": "stdout",
     "output_type": "stream",
     "text": [
      "Weight vector w_y calculated by Standard Eigenvalue Problem:\n",
      "[[-0.97 -0.39  0.19]\n",
      " [-0.04 -0.37 -0.86]\n",
      " [-0.22  0.85 -0.46]]\n"
     ]
    }
   ],
   "source": [
    "print('Weight vector w_y calculated by Standard Eigenvalue Problem:')\n",
    "print(np.array_str(std_eig_bunch.wy_sorted, precision=2, suppress_small=True))"
   ]
  },
  {
   "cell_type": "code",
   "execution_count": 12,
   "id": "31f0846f",
   "metadata": {},
   "outputs": [
    {
     "name": "stdout",
     "output_type": "stream",
     "text": [
      "Canonical Correlation calculated by Standard Eigenvalue Problem:\n",
      "[0.985 0.939 0.922]\n"
     ]
    }
   ],
   "source": [
    "print('Canonical Correlation calculated by Standard Eigenvalue Problem:')\n",
    "print(np.array_str(std_eig_bunch.cc_arr_sorted, precision=3, suppress_small=True))"
   ]
  },
  {
   "cell_type": "markdown",
   "id": "d0c6e45a",
   "metadata": {},
   "source": [
    "# 3. Example 2.2. - Solving Generalized Eigenvalue Problem"
   ]
  },
  {
   "cell_type": "code",
   "execution_count": 13,
   "id": "1f161707",
   "metadata": {},
   "outputs": [],
   "source": [
    "gen_eig_bunch = Bunch()\n",
    "gen_eig_bunch.name = 'gen eig'\n",
    "\n",
    "# construct general matrices\n",
    "gen_eig_bunch.A = np.zeros(\n",
    "    (\n",
    "        X_dimension_num+Y_dimension_num, \n",
    "        X_dimension_num+Y_dimension_num\n",
    "    )\n",
    ")\n",
    "gen_eig_bunch.A[:X_dimension_num, X_dimension_num:] = Cxy\n",
    "gen_eig_bunch.A[X_dimension_num:, :X_dimension_num] = Cxy.T\n",
    "\n",
    "gen_eig_bunch.B = np.zeros_like(gen_eig_bunch.A)\n",
    "gen_eig_bunch.B[:X_dimension_num, :X_dimension_num] = Cxx\n",
    "gen_eig_bunch.B[X_dimension_num:, X_dimension_num:] = Cyy\n",
    "\n",
    "# solve generalized eigenvalue problem\n",
    "[gen_eig_bunch.eig_val, \n",
    " gen_eig_bunch.eig_vec] = scipy.linalg.eigh(gen_eig_bunch.A, gen_eig_bunch.B)\n",
    "\n",
    "# retrive canonical correlation and weight vectors\n",
    "gen_eig_bunch.cc_arr = gen_eig_bunch.eig_val[gen_eig_bunch.eig_val>=1e-6]\n",
    "gen_eig_bunch.wx = gen_eig_bunch.eig_vec[:X_dimension_num, gen_eig_bunch.eig_val>=1e-6]\n",
    "gen_eig_bunch.wy = gen_eig_bunch.eig_vec[X_dimension_num:, gen_eig_bunch.eig_val>=1e-6]\n",
    "\n",
    "# sort out w.r.t. cc values\n",
    "sort_ind = gen_eig_bunch.cc_arr.argsort()\n",
    "gen_eig_bunch.cc_arr_sorted = gen_eig_bunch.cc_arr[sort_ind[::-1]]\n",
    "gen_eig_bunch.wx_sorted = gen_eig_bunch.wx[:, sort_ind[::-1]]\n",
    "gen_eig_bunch.wy_sorted = gen_eig_bunch.wy[:, sort_ind[::-1]]\n",
    "\n",
    "del sort_ind"
   ]
  },
  {
   "cell_type": "code",
   "execution_count": 14,
   "id": "dbb605e8",
   "metadata": {},
   "outputs": [
    {
     "name": "stdout",
     "output_type": "stream",
     "text": [
      "The generalized eigenvalues:\n",
      "[-0.985  -0.9388 -0.9222  0.      0.9222  0.9388  0.985 ]\n"
     ]
    }
   ],
   "source": [
    "print('The generalized eigenvalues:')\n",
    "print(np.array_str(gen_eig_bunch.eig_val, precision=4, suppress_small=True))"
   ]
  },
  {
   "cell_type": "code",
   "execution_count": 15,
   "id": "153479eb",
   "metadata": {},
   "outputs": [
    {
     "name": "stdout",
     "output_type": "stream",
     "text": [
      "Weight vector w_x calculated by Generalized Eigenvalue Problem:\n",
      "[[-0.026  0.304 -0.64 ]\n",
      " [-0.    -0.069 -0.074]\n",
      " [-0.666  0.302  0.103]\n",
      " [ 0.119  0.616  0.395]]\n"
     ]
    }
   ],
   "source": [
    "print('Weight vector w_x calculated by Generalized Eigenvalue Problem:')\n",
    "print(np.array_str(gen_eig_bunch.wx_sorted, precision=3, suppress_small=True))"
   ]
  },
  {
   "cell_type": "markdown",
   "id": "7e187264",
   "metadata": {},
   "source": [
    "If you look above, the eigenvectors are not quite similar to the ones in the paper, probably because the eigenvectors are not unique.\n",
    "If we normalize them, they will be much similar to what we have in the paper."
   ]
  },
  {
   "cell_type": "code",
   "execution_count": 16,
   "id": "fec8103b",
   "metadata": {},
   "outputs": [
    {
     "name": "stdout",
     "output_type": "stream",
     "text": [
      "[[-0.038  0.403 -0.839]\n",
      " [-0.001 -0.092 -0.096]\n",
      " [-0.984  0.401  0.135]\n",
      " [ 0.176  0.817  0.518]]\n"
     ]
    }
   ],
   "source": [
    "print(\n",
    "    np.array_str(\n",
    "        normalize(gen_eig_bunch.wx_sorted, axis=0), \n",
    "        precision=3, suppress_small=True\n",
    "    )\n",
    ")"
   ]
  },
  {
   "cell_type": "code",
   "execution_count": 17,
   "id": "1e7f9359",
   "metadata": {},
   "outputs": [
    {
     "name": "stdout",
     "output_type": "stream",
     "text": [
      "Weight vector w_y calculated by Generalized Eigenvalue Problem:\n",
      "[[-0.655  0.286  0.147]\n",
      " [-0.025  0.271 -0.659]\n",
      " [-0.151 -0.628 -0.353]]\n"
     ]
    }
   ],
   "source": [
    "print('Weight vector w_y calculated by Generalized Eigenvalue Problem:')\n",
    "print(np.array_str(gen_eig_bunch.wy_sorted, precision=3, suppress_small=True))"
   ]
  },
  {
   "cell_type": "code",
   "execution_count": 18,
   "id": "5dee3186",
   "metadata": {},
   "outputs": [
    {
     "name": "stdout",
     "output_type": "stream",
     "text": [
      "Canonical Correlation calculated by Generalized Eigenvalue Problem:\n",
      "[0.985 0.939 0.922]\n"
     ]
    }
   ],
   "source": [
    "print('Canonical Correlation calculated by Generalized Eigenvalue Problem:')\n",
    "print(np.array_str(gen_eig_bunch.cc_arr_sorted, precision=3, suppress_small=True))"
   ]
  },
  {
   "cell_type": "markdown",
   "id": "e82e1e8b",
   "metadata": {},
   "source": [
    "# 4. Example 2.3 - Solving SVD"
   ]
  },
  {
   "cell_type": "code",
   "execution_count": 19,
   "id": "aab6414b",
   "metadata": {},
   "outputs": [],
   "source": [
    "svd_bunch = Bunch()\n",
    "svd_bunch.name = 'svd'\n",
    "\n",
    "svd_bunch.Cxx_sqrt_inv = scipy.linalg.inv(\n",
    "    scipy.linalg.sqrtm(Cxx)\n",
    ") # lower Cholesky decomposition\n",
    "svd_bunch.Cyy_sqrt_inv = scipy.linalg.inv(\n",
    "    scipy.linalg.sqrtm(Cyy)\n",
    ")\n",
    "\n",
    "svd_bunch.mat_to_svd = np.linalg.multi_dot(\n",
    "    [svd_bunch.Cxx_sqrt_inv, Cxy, svd_bunch.Cyy_sqrt_inv]\n",
    ") # matrix to SVD\n",
    "\n",
    "# SVD decomposition\n",
    "[svd_bunch.U, \n",
    " svd_bunch.cc_arr_sorted, \n",
    " svd_bunch.Vh] = scipy.linalg.svd(\n",
    "    svd_bunch.mat_to_svd, full_matrices=False\n",
    ")\n",
    "\n",
    "# compute weights vectors\n",
    "svd_bunch.wx_sorted = np.matmul(svd_bunch.Cxx_sqrt_inv, svd_bunch.U)\n",
    "svd_bunch.wy_sorted = np.matmul(svd_bunch.Cyy_sqrt_inv, svd_bunch.Vh.T)"
   ]
  },
  {
   "cell_type": "code",
   "execution_count": 20,
   "id": "af07df79",
   "metadata": {},
   "outputs": [
    {
     "name": "stdout",
     "output_type": "stream",
     "text": [
      "The matrix to be SVD:\n",
      "[[-0.02  0.9  -0.06]\n",
      " [-0.07  0.2   0.12]\n",
      " [ 0.98  0.04  0.04]\n",
      " [ 0.01 -0.02 -0.93]]\n"
     ]
    }
   ],
   "source": [
    "print('The matrix to be SVD:')\n",
    "print(np.array_str(svd_bunch.mat_to_svd, precision=2, suppress_small=True))"
   ]
  },
  {
   "cell_type": "code",
   "execution_count": 21,
   "id": "17e0ff6d",
   "metadata": {},
   "outputs": [
    {
     "name": "stdout",
     "output_type": "stream",
     "text": [
      "The U.T\n",
      "[[-0.03 -0.03  0.95 -0.3 ]\n",
      " [-0.47  0.03 -0.28 -0.84]\n",
      " [-0.85 -0.26  0.11  0.44]]\n"
     ]
    }
   ],
   "source": [
    "print('The U.T')\n",
    "print(np.array_str(svd_bunch.U.T, precision=2, suppress_small=True))"
   ]
  },
  {
   "cell_type": "code",
   "execution_count": 22,
   "id": "a03f86ce",
   "metadata": {},
   "outputs": [
    {
     "name": "stdout",
     "output_type": "stream",
     "text": [
      "The V\n",
      "[[ 0.95 -0.29  0.15]\n",
      " [ 0.01 -0.44 -0.9 ]\n",
      " [ 0.33  0.85 -0.41]]\n"
     ]
    }
   ],
   "source": [
    "print('The V')\n",
    "print(np.array_str(svd_bunch.Vh.T, precision=2, suppress_small=True))"
   ]
  },
  {
   "cell_type": "code",
   "execution_count": 23,
   "id": "9d6076a1",
   "metadata": {},
   "outputs": [
    {
     "name": "stdout",
     "output_type": "stream",
     "text": [
      "Weight vector w_x calculated by SVD:\n",
      "[[ 0.036 -0.43  -0.906]\n",
      " [ 0.001  0.098 -0.104]\n",
      " [ 0.942 -0.427  0.145]\n",
      " [-0.168 -0.871  0.559]]\n"
     ]
    }
   ],
   "source": [
    "print('Weight vector w_x calculated by SVD:')\n",
    "print(np.array_str(svd_bunch.wx_sorted, precision=3, suppress_small=True))"
   ]
  },
  {
   "cell_type": "code",
   "execution_count": 24,
   "id": "7ee17e6f",
   "metadata": {},
   "outputs": [
    {
     "name": "stdout",
     "output_type": "stream",
     "text": [
      "Weight vector w_y calculated by SVD:\n",
      "[[ 0.926 -0.405  0.208]\n",
      " [ 0.036 -0.384 -0.932]\n",
      " [ 0.214  0.888 -0.499]]\n"
     ]
    }
   ],
   "source": [
    "print('Weight vector w_y calculated by SVD:')\n",
    "print(np.array_str(svd_bunch.wy_sorted, precision=3, suppress_small=True))"
   ]
  },
  {
   "cell_type": "code",
   "execution_count": 25,
   "id": "bc24487d",
   "metadata": {},
   "outputs": [
    {
     "name": "stdout",
     "output_type": "stream",
     "text": [
      "Canonical Correlation calculated by SVD:\n",
      "[0.985 0.939 0.922]\n"
     ]
    }
   ],
   "source": [
    "print('Canonical Correlation calculated by SVD:')\n",
    "print(np.array_str(svd_bunch.cc_arr_sorted, precision=3, suppress_small=True))"
   ]
  },
  {
   "cell_type": "code",
   "execution_count": null,
   "id": "6981f614",
   "metadata": {},
   "outputs": [],
   "source": []
  }
 ],
 "metadata": {
  "kernelspec": {
   "display_name": "Python 3 (ipykernel)",
   "language": "python",
   "name": "python3"
  },
  "language_info": {
   "codemirror_mode": {
    "name": "ipython",
    "version": 3
   },
   "file_extension": ".py",
   "mimetype": "text/x-python",
   "name": "python",
   "nbconvert_exporter": "python",
   "pygments_lexer": "ipython3",
   "version": "3.8.13"
  }
 },
 "nbformat": 4,
 "nbformat_minor": 5
}
