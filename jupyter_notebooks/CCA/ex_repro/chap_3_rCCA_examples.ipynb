{
 "cells": [
  {
   "cell_type": "code",
   "execution_count": 1,
   "id": "188db7dd",
   "metadata": {},
   "outputs": [],
   "source": [
    "import numpy as np\n",
    "from matplotlib import pyplot as plt\n",
    "import seaborn as sns\n",
    "import pandas as pd\n",
    "import scipy\n",
    "import warnings\n",
    "import time\n",
    "\n",
    "import sklearn\n",
    "from sklearn.pipeline import Pipeline\n",
    "from sklearn.preprocessing import StandardScaler\n",
    "from sklearn.decomposition import PCA\n",
    "from sklearn.model_selection import train_test_split, cross_validate\n",
    "from sklearn.model_selection import RepeatedKFold, GridSearchCV\n",
    "from sklearn.linear_model import LinearRegression\n",
    "from sklearn.cross_decomposition import CCA, PLSCanonical\n",
    "from sklearn.utils import Bunch\n",
    "from sklearn.metrics.pairwise import cosine_similarity\n",
    "from sklearn.preprocessing import normalize\n",
    "\n",
    "from cca_zoo.models import CCA as cz_CCA\n",
    "from cca_zoo.models import rCCA as cz_rCCA\n",
    "from cca_zoo.model_selection import GridSearchCV as cz_GridSearchCV\n",
    "from cca_zoo.plotting import pairplot_train_test\n",
    "\n",
    "rs_num = 42\n",
    "rng = np.random.default_rng(rs_num)\n",
    "\n",
    "sklearn.set_config(display=\"diagram\")\n",
    "\n",
    "n_splits = 5\n",
    "n_repeats = 50\n",
    "\n",
    "%matplotlib inline"
   ]
  },
  {
   "cell_type": "markdown",
   "id": "489e9c57",
   "metadata": {},
   "source": [
    "# 1. Loading Data"
   ]
  },
  {
   "cell_type": "code",
   "execution_count": 2,
   "id": "9ed06320",
   "metadata": {},
   "outputs": [],
   "source": [
    "# load data\n",
    "data_path = 'data//'\n",
    "X_train = np.genfromtxt(data_path+'example_3_1_X_a.csv', delimiter=',')\n",
    "Y_train = np.genfromtxt(data_path+'example_3_1_X_b.csv', delimiter=',')\n",
    "\n",
    "# extract dimensions\n",
    "X_dimension_num = X_train.shape[1]\n",
    "Y_dimension_num = Y_train.shape[1]"
   ]
  },
  {
   "cell_type": "code",
   "execution_count": 3,
   "id": "f64d07eb",
   "metadata": {},
   "outputs": [
    {
     "name": "stdout",
     "output_type": "stream",
     "text": [
      "For X_train, \n",
      "  mean of all: -0.023319322821717826\n",
      "  mean of std: 1.0060086636414813\n",
      "For Y_train, \n",
      "  mean of all: -0.030191546619153665\n",
      "  mean of std: 0.9720735605801929\n"
     ]
    }
   ],
   "source": [
    "# check if data are standardized\n",
    "print('For X_train, ')\n",
    "print('  mean of all:', X_train.mean())\n",
    "print('  mean of std:', X_train.std(axis=0, ddof=1).mean())\n",
    "\n",
    "print('For Y_train, ')\n",
    "print('  mean of all:', Y_train.mean())\n",
    "print('  mean of std:', Y_train.std(axis=0, ddof=1).mean())"
   ]
  },
  {
   "cell_type": "markdown",
   "id": "df0216d2",
   "metadata": {},
   "source": [
    "# 2. Example 3.1 - Manually Solving Standard Eigenvalue Problem"
   ]
  },
  {
   "cell_type": "code",
   "execution_count": 4,
   "id": "93e7a868",
   "metadata": {},
   "outputs": [],
   "source": [
    "def solve_std_eig_for_rcc(X_train, Y_train, c1, c2):\n",
    "    X_dimension_num = X_train.shape[1]\n",
    "    \n",
    "    C = np.cov(X_train.T, Y_train.T, ddof=1)\n",
    "    Cxx = C[0:X_dimension_num, 0:X_dimension_num]\n",
    "    Cxy = C[0:X_dimension_num, X_dimension_num:]\n",
    "    Cyy = C[X_dimension_num:, X_dimension_num:]\n",
    "    \n",
    "    Cyy_inv_r = np.linalg.inv(Cyy + c2 * np.eye(Cyy.shape[0]))\n",
    "    Cxx_inv_r = np.linalg.inv(Cxx + c1 * np.eye(Cxx.shape[0]))\n",
    "    \n",
    "    C_compute = np.linalg.multi_dot(\n",
    "        [Cyy_inv_r, Cxy.T, Cxx_inv_r, Cxy]\n",
    "    )\n",
    "    \n",
    "    # solve standard eigenvalue problem\n",
    "    [eig_val, eig_vec] = np.linalg.eig(C_compute)\n",
    "    \n",
    "    # Y matrix weights\n",
    "    wy = eig_vec\n",
    "\n",
    "    # canonical correlation array\n",
    "    cc_arr = np.sqrt(eig_val)\n",
    "    \n",
    "    # X matrix weights\n",
    "    wx = np.linalg.multi_dot([Cxx_inv_r, Cxy, wy])/cc_arr\n",
    "    \n",
    "    # sort by canonical correlation\n",
    "    sort_ind = cc_arr.argsort() # ascending order; use [::-1] for descending order\n",
    "    cc_arr_sorted = cc_arr[sort_ind[::-1]]\n",
    "    wx_sorted = wx[:, sort_ind[::-1]]\n",
    "    wy_sorted = wy[:, sort_ind[::-1]]\n",
    "    \n",
    "    Xc_train = X_train.dot(wx_sorted)\n",
    "    Yc_train = Y_train.dot(wy_sorted)\n",
    "    \n",
    "    for component_i in range(wx_sorted.shape[1]):\n",
    "        cc_arr_sorted[component_i] = cosine_similarity(\n",
    "            Xc_train[:, component_i].reshape(1, -1), \n",
    "            Yc_train[:, component_i].reshape(1, -1)\n",
    "        )[0][0]\n",
    "    \n",
    "    return [cc_arr_sorted, wx_sorted, wy_sorted]"
   ]
  },
  {
   "cell_type": "code",
   "execution_count": 5,
   "id": "384d9c51",
   "metadata": {},
   "outputs": [],
   "source": [
    "def manual_rcca_fit_n_score(X_train, X_test, Y_train, Y_test, c1, c2):\n",
    "    # standardization\n",
    "    X_train = StandardScaler().fit_transform(X_train)\n",
    "    Y_train = StandardScaler().fit_transform(Y_train)\n",
    "    X_test = StandardScaler().fit_transform(X_test)\n",
    "    Y_test = StandardScaler().fit_transform(Y_test)\n",
    "    \n",
    "    # solve CCA\n",
    "    [cca_arr, wx, wy] = solve_std_eig_for_rcc(X_train, Y_train, c1, c2)\n",
    "    \n",
    "    # use only the first weight\n",
    "    Xc_test = X_test.dot(wx[:, 0])\n",
    "    Yc_test = Y_test.dot(wy[:, 0])\n",
    "    \n",
    "    score = cosine_similarity(\n",
    "        Xc_test.reshape(1, -1), \n",
    "        Yc_test.reshape(1, -1)\n",
    "    )[0][0]\n",
    "    \n",
    "    return score"
   ]
  },
  {
   "cell_type": "code",
   "execution_count": 6,
   "id": "8cc4266c",
   "metadata": {},
   "outputs": [],
   "source": [
    "def custom_cv(validator, X, Y, fit_n_score_func, *args):\n",
    "    # note: normally X and Y are already training datasets\n",
    "    \n",
    "    # construct score array\n",
    "    score_arr = np.zeros((validator.get_n_splits(), ))\n",
    "    \n",
    "    # fit and validate\n",
    "    ii = 0\n",
    "    \n",
    "    for train_ind, test_ind in validator.split(X):\n",
    "        # slicing arrays\n",
    "        X_train, X_test = X[train_ind], X[test_ind]\n",
    "        Y_train, Y_test = Y[train_ind], Y[test_ind]\n",
    "        \n",
    "        # train the model and get the score\n",
    "        score_arr[ii] = fit_n_score_func(X_train, X_test, Y_train, Y_test, *args)\n",
    "        ii += 1\n",
    "    \n",
    "    return score_arr"
   ]
  },
  {
   "cell_type": "code",
   "execution_count": 7,
   "id": "2578800d",
   "metadata": {},
   "outputs": [],
   "source": [
    "c1_arr = np.arange(0.01, 1.01, 0.01)\n",
    "c2 = 0.0\n",
    "\n",
    "cv_scores = np.zeros_like(c1_arr)\n",
    "\n",
    "for c1_i, c1 in enumerate(c1_arr):\n",
    "    cv_scores[c1_i] = custom_cv(\n",
    "        RepeatedKFold(\n",
    "            n_splits=n_splits, \n",
    "            n_repeats=n_repeats, \n",
    "            random_state=rs_num\n",
    "        ), \n",
    "        X_train, Y_train, \n",
    "        manual_rcca_fit_n_score, \n",
    "        c1, c2\n",
    "    ).mean()"
   ]
  },
  {
   "cell_type": "code",
   "execution_count": 8,
   "id": "bede490b",
   "metadata": {},
   "outputs": [],
   "source": [
    "c1_opt_ind = cv_scores.argmax()\n",
    "c1_opt = c1_arr[c1_opt_ind]"
   ]
  },
  {
   "cell_type": "code",
   "execution_count": 9,
   "id": "bb8e076a",
   "metadata": {
    "scrolled": false
   },
   "outputs": [
    {
     "data": {
      "image/png": "[encoded data removed]",
      "text/plain": [
       "<Figure size 640x480 with 1 Axes>"
      ]
     },
     "metadata": {},
     "output_type": "display_data"
    }
   ],
   "source": [
    "fig, ax = plt.subplots()\n",
    "\n",
    "ax.plot(\n",
    "    c1_arr, \n",
    "    cv_scores, \n",
    "    label='cv scores'\n",
    ")\n",
    "ax.scatter(\n",
    "    c1_opt, cv_scores[c1_opt_ind], \n",
    "    fc='none', ec='blue', label='optimal $c_1$'\n",
    ")\n",
    "\n",
    "ax.set(\n",
    "    xlabel='$c_1$', \n",
    "    ylabel='cv scores', \n",
    "    title='{}-repeat {}-fold CV'.format(n_repeats, n_splits)\n",
    ")\n",
    "ax.legend()\n",
    "\n",
    "fig.tight_layout()"
   ]
  },
  {
   "cell_type": "code",
   "execution_count": 10,
   "id": "0364f1ed",
   "metadata": {},
   "outputs": [],
   "source": [
    "X_train = StandardScaler().fit_transform(X_train)\n",
    "Y_train = StandardScaler().fit_transform(Y_train)\n",
    "\n",
    "[cc, wx, wy] = solve_std_eig_for_rcc(X_train, Y_train, c1_opt, c2)"
   ]
  },
  {
   "cell_type": "markdown",
   "id": "f74f0eb6",
   "metadata": {},
   "source": [
    "If we do a comparison for the first five canonical correlation down below, we can see that they are close:"
   ]
  },
  {
   "cell_type": "code",
   "execution_count": 11,
   "id": "29df2660",
   "metadata": {},
   "outputs": [
    {
     "name": "stdout",
     "output_type": "stream",
     "text": [
      "CC original:\n",
      "[0.99996542 0.99992206 0.99987192 0.99971324 0.99937075]\n",
      "CC manually computed:\n",
      "[0.99996645 0.99992437 0.99987576 0.99972213 0.99938939]\n"
     ]
    }
   ],
   "source": [
    "print('CC original:')\n",
    "print(np.array([\n",
    "    0.999965422013286, 0.999922061899971, \n",
    "    0.999871922750539, 0.999713240154330, \n",
    "    0.999370754240536\n",
    "]))\n",
    "print('CC manually computed:')\n",
    "print(cc[:5])"
   ]
  },
  {
   "cell_type": "markdown",
   "id": "0ac35f9a",
   "metadata": {},
   "source": [
    "# 3. Example 3.1. - Using CCA-Zoo"
   ]
  },
  {
   "cell_type": "code",
   "execution_count": 12,
   "id": "904f3961",
   "metadata": {},
   "outputs": [],
   "source": [
    "# take only the first scoring\n",
    "def scoring_func(estimator, views):\n",
    "    return estimator.score(views)[0]"
   ]
  },
  {
   "cell_type": "code",
   "execution_count": 13,
   "id": "270c3993",
   "metadata": {},
   "outputs": [],
   "source": [
    "cz_bunch = Bunch()\n",
    "cz_bunch.name = 'cz rcca'\n",
    "\n",
    "# set up grids\n",
    "cz_bunch.c1_list = c1_arr.tolist() # regularization parameter\n",
    "cz_bunch.c2_list = [0.0] # regularization parameter\n",
    "\n",
    "cz_bunch.param_grid = {\n",
    "    'c': [cz_bunch.c1_list, cz_bunch.c2_list]\n",
    "}\n",
    "cz_bunch.X_train = StandardScaler().fit_transform(X_train)\n",
    "cz_bunch.Y_train = StandardScaler().fit_transform(Y_train)\n",
    "\n",
    "# ignore warnings for some bad searching\n",
    "warnings.filterwarnings('ignore')\n",
    "\n",
    "# searching for best parameters\n",
    "cz_bunch.gscv = cz_GridSearchCV(\n",
    "    cz_rCCA(\n",
    "        latent_dims=np.min([X_dimension_num, Y_dimension_num]), \n",
    "        random_state=rs_num\n",
    "    ), \n",
    "    param_grid=cz_bunch.param_grid, \n",
    "    scoring=scoring_func, \n",
    "    cv=RepeatedKFold(\n",
    "        n_splits=n_splits, \n",
    "        n_repeats=n_repeats, \n",
    "        random_state=rs_num\n",
    "    )\n",
    ").fit([cz_bunch.X_train, cz_bunch.Y_train])\n",
    "\n",
    "# reset warnings\n",
    "warnings.resetwarnings()"
   ]
  },
  {
   "cell_type": "code",
   "execution_count": 14,
   "id": "5df46df2",
   "metadata": {},
   "outputs": [
    {
     "data": {
      "image/png": "[encoded data removed]",
      "text/plain": [
       "<Figure size 640x480 with 1 Axes>"
      ]
     },
     "metadata": {},
     "output_type": "display_data"
    }
   ],
   "source": [
    "fig, ax = plt.subplots()\n",
    "\n",
    "ax.plot(\n",
    "    cz_bunch.c1_list, \n",
    "    cz_bunch.gscv.cv_results_['mean_test_score']\n",
    ")\n",
    "ax.scatter(\n",
    "    cz_bunch.gscv.best_params_['c'][0], \n",
    "    cz_bunch.gscv.cv_results_['mean_test_score'][cz_bunch.gscv.best_index_], \n",
    "    marker='o', \n",
    "    ec='royalblue', \n",
    "    fc='none', \n",
    "    label='optimal'\n",
    ")\n",
    "ax.set(\n",
    "    xlabel='$c_1$', \n",
    "    ylabel='Mean Test Score (Canonical Correlation)', \n",
    "    title=(\n",
    "        'CCA-Zoo Grid Search with {}-repeat {}-fold CV\\n'.format(n_splits, n_repeats) + \n",
    "        'for Optimal Regularization Parameter $c_1$'\n",
    "    )\n",
    ")\n",
    "\n",
    "ax.legend(\n",
    "    loc='upper center',\n",
    "    bbox_to_anchor=(0.5, -0.15),\n",
    "    fancybox=True,\n",
    "    shadow=True,\n",
    "    ncol=1,\n",
    "    fontsize='small'\n",
    ")\n",
    "\n",
    "fig.tight_layout()"
   ]
  },
  {
   "cell_type": "code",
   "execution_count": 15,
   "id": "8b43e268",
   "metadata": {},
   "outputs": [],
   "source": [
    "cz_bunch.rcca = cz_bunch.gscv.best_estimator_.fit(\n",
    "    [cz_bunch.X_train, cz_bunch.Y_train]\n",
    ")"
   ]
  },
  {
   "cell_type": "code",
   "execution_count": 16,
   "id": "458ec4d7",
   "metadata": {},
   "outputs": [
    {
     "name": "stdout",
     "output_type": "stream",
     "text": [
      "CC original:\n",
      "[0.99996542 0.99992206 0.99987192 0.99971324 0.99937075]\n",
      "CC manually computed:\n",
      "[0.99996645 0.99992437 0.99987576 0.99972213 0.99938939]\n",
      "CC from CCA-Zoo:\n",
      "[0.99996372 0.99991823 0.99986555 0.99969846 0.99933986]\n"
     ]
    }
   ],
   "source": [
    "print('CC original:')\n",
    "print(np.array([\n",
    "    0.999965422013286, 0.999922061899971, \n",
    "    0.999871922750539, 0.999713240154330, \n",
    "    0.999370754240536\n",
    "]))\n",
    "print('CC manually computed:')\n",
    "print(cc[:5])\n",
    "print('CC from CCA-Zoo:')\n",
    "print(cz_bunch.rcca.score([X_train, Y_train])[:5])"
   ]
  },
  {
   "cell_type": "markdown",
   "id": "cb37ae18",
   "metadata": {},
   "source": [
    "The results are close to each other, and the differences are probably caused by various algorithms and numerical methods."
   ]
  },
  {
   "cell_type": "code",
   "execution_count": null,
   "id": "c1eff7d3",
   "metadata": {},
   "outputs": [],
   "source": []
  }
 ],
 "metadata": {
  "kernelspec": {
   "display_name": "Python 3 (ipykernel)",
   "language": "python",
   "name": "python3"
  },
  "language_info": {
   "codemirror_mode": {
    "name": "ipython",
    "version": 3
   },
   "file_extension": ".py",
   "mimetype": "text/x-python",
   "name": "python",
   "nbconvert_exporter": "python",
   "pygments_lexer": "ipython3",
   "version": "3.8.13"
  }
 },
 "nbformat": 4,
 "nbformat_minor": 5
}
