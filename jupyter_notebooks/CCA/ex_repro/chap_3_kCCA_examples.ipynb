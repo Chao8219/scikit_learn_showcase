{
 "cells": [
  {
   "cell_type": "markdown",
   "id": "30804eab",
   "metadata": {},
   "source": [
    "# About \n",
    "\n",
    "This is about the kernel CCA."
   ]
  },
  {
   "cell_type": "code",
   "execution_count": 1,
   "id": "6ce39858",
   "metadata": {},
   "outputs": [],
   "source": [
    "import numpy as np\n",
    "from matplotlib import pyplot as plt\n",
    "import seaborn as sns\n",
    "import pandas as pd\n",
    "import scipy\n",
    "import warnings\n",
    "import time\n",
    "from tqdm.notebook import tqdm\n",
    "\n",
    "import sklearn\n",
    "from sklearn.pipeline import Pipeline\n",
    "from sklearn.preprocessing import StandardScaler\n",
    "from sklearn.decomposition import PCA\n",
    "from sklearn.model_selection import train_test_split, cross_validate\n",
    "from sklearn.model_selection import RepeatedKFold, GridSearchCV\n",
    "from sklearn.linear_model import LinearRegression\n",
    "from sklearn.cross_decomposition import CCA, PLSCanonical\n",
    "from sklearn.utils import Bunch\n",
    "from sklearn.metrics.pairwise import cosine_similarity\n",
    "from sklearn.preprocessing import normalize\n",
    "from sklearn.metrics.pairwise import rbf_kernel, euclidean_distances\n",
    "\n",
    "from cca_zoo.models import CCA as cz_CCA\n",
    "from cca_zoo.models import rCCA as cz_rCCA\n",
    "from cca_zoo.model_selection import GridSearchCV as cz_GridSearchCV\n",
    "from cca_zoo.plotting import pairplot_train_test\n",
    "\n",
    "rs_num = 42\n",
    "rng = np.random.default_rng(rs_num)\n",
    "\n",
    "sklearn.set_config(display=\"diagram\")\n",
    "\n",
    "n_splits = 5\n",
    "n_repeats = 20\n",
    "\n",
    "%matplotlib inline"
   ]
  },
  {
   "cell_type": "markdown",
   "id": "72de30e9",
   "metadata": {},
   "source": [
    "# 1. Loading Data"
   ]
  },
  {
   "cell_type": "code",
   "execution_count": 2,
   "id": "4cd37bc2",
   "metadata": {},
   "outputs": [],
   "source": [
    "# load data\n",
    "data_path = 'data//'\n",
    "X_train = np.genfromtxt(data_path+'example_3_2_X_a.csv', delimiter=',')\n",
    "Y_train = np.genfromtxt(data_path+'example_3_2_X_b.csv', delimiter=',')\n",
    "\n",
    "# extract dimensions\n",
    "X_dimension_num = X_train.shape[1]\n",
    "Y_dimension_num = Y_train.shape[1]"
   ]
  },
  {
   "cell_type": "code",
   "execution_count": 3,
   "id": "b52f89a3",
   "metadata": {},
   "outputs": [
    {
     "name": "stdout",
     "output_type": "stream",
     "text": [
      "For X_train, \n",
      "  mean of all: -6.936250515753359e-17\n",
      "  mean of std: 0.9999999999999999\n",
      "For Y_train, \n",
      "  mean of all: -1.924386576016938e-17\n",
      "  mean of std: 1.0\n"
     ]
    }
   ],
   "source": [
    "# check if data are standardized\n",
    "print('For X_train, ')\n",
    "print('  mean of all:', X_train.mean())\n",
    "print('  mean of std:', X_train.std(axis=0, ddof=1).mean())\n",
    "\n",
    "print('For Y_train, ')\n",
    "print('  mean of all:', Y_train.mean())\n",
    "print('  mean of std:', Y_train.std(axis=0, ddof=1).mean())"
   ]
  },
  {
   "cell_type": "markdown",
   "id": "d978210a",
   "metadata": {},
   "source": [
    "# 2. Example 3.2 - Kernel CCA through manual computation"
   ]
  },
  {
   "cell_type": "markdown",
   "id": "342b3cf0",
   "metadata": {},
   "source": [
    "Note: for `sklearn.metrics.pairwise.rbf_kernel`, the calculation is completed with:\n",
    "\n",
    "$$\n",
    "K(x, y) = e^{-gamma ||x-y||^2}\n",
    "$$\n",
    "\n",
    "For some notations, the Gaussian kernel would also be expressed as:\n",
    "\n",
    "$$\n",
    "K(x, y) = e^{-\\frac{||x-y||^2}{2\\sigma^2}}\n",
    "$$\n",
    "\n",
    "Hence in the following implementation, we may use both notations, where:\n",
    "\n",
    "$$\n",
    "gamma = \\frac{1}{2\\sigma^2}\n",
    "$$\n",
    "\n",
    "or \n",
    "\n",
    "$$\n",
    "\\sigma = \\sqrt{\\frac{1}{2~gamma}}\n",
    "$$"
   ]
  },
  {
   "cell_type": "code",
   "execution_count": 4,
   "id": "11a02bb9",
   "metadata": {},
   "outputs": [],
   "source": [
    "def sigma_to_gamma(sigma):\n",
    "    return 1.0/(2.0*sigma**2)\n",
    "\n",
    "def gamma_to_sigma(gamma):\n",
    "    return np.sqrt(1.0/(2.0*gamma))"
   ]
  },
  {
   "cell_type": "code",
   "execution_count": 5,
   "id": "0f9a32ec",
   "metadata": {},
   "outputs": [],
   "source": [
    "def find_sigma_n_gamma(M):\n",
    "    # matrix M should be in the shape of (sample_num, feature_num)\n",
    "    # note: the `scipy.spatial.distance.pdist` will provide different results, \n",
    "    # compared to the `sklearn.metrics.pairwise.euclidean_distances`\n",
    "    \n",
    "#     sigma = np.median(scipy.spatial.distance.pdist(M, metric='euclidean'))\n",
    "    sigma = np.median(euclidean_distances(M).flatten())\n",
    "    gamma = sigma_to_gamma(sigma)\n",
    "    \n",
    "    return [sigma, gamma]"
   ]
  },
  {
   "cell_type": "code",
   "execution_count": 6,
   "id": "a77ebeeb",
   "metadata": {},
   "outputs": [
    {
     "name": "stdout",
     "output_type": "stream",
     "text": [
      "For X, the sigma value computed by sklearn is 3.545755\n",
      "   where the MATLAB provides: 3.545755\n",
      "For Y, the sigma value computed by sklearn is 3.550722\n",
      "   where the MATLAB provides: 3.550722\n"
     ]
    }
   ],
   "source": [
    "[sigma_X, gamma_X] = find_sigma_n_gamma(X_train)\n",
    "[sigma_Y, gamma_Y] = find_sigma_n_gamma(Y_train)\n",
    "\n",
    "print('For X, the sigma value computed by sklearn is {:.6f}'.format(sigma_X))\n",
    "print('   where the MATLAB provides: {:.6f}'.format(3.545755088636984))\n",
    "print('For Y, the sigma value computed by sklearn is {:.6f}'.format(sigma_Y))\n",
    "print('   where the MATLAB provides: {:.6f}'.format(3.550722209573881))"
   ]
  },
  {
   "cell_type": "code",
   "execution_count": 7,
   "id": "19725bdd",
   "metadata": {},
   "outputs": [],
   "source": [
    "def K_centering(K):\n",
    "    n = K.shape[0]\n",
    "    D = K.sum(axis=0)/n\n",
    "    E = D.sum() / n\n",
    "    J = np.ones((n, 1))*D\n",
    "    return (K - J - J.T + E*np.ones((n, n)))"
   ]
  },
  {
   "cell_type": "code",
   "execution_count": 8,
   "id": "a10ef518",
   "metadata": {},
   "outputs": [],
   "source": [
    "def gaussian_cca(X, Y, c1, c2, gamma1, gamma2, n_components, fixed_gamma=True):\n",
    "    # note: for X and Y, we assume they are standardized already\n",
    "    sample_num = X.shape[0]\n",
    "    \n",
    "    # to see if we need to re-select new gamma values\n",
    "    if fixed_gamma:\n",
    "        sigma1 = gamma_to_sigma(gamma1)\n",
    "        sigma2 = gamma_to_sigma(gamma2)\n",
    "    else:\n",
    "        [sigma1, gamma1] = find_sigma_n_gamma(X)\n",
    "        [sigma2, gamma2] = find_sigma_n_gamma(Y)\n",
    "    \n",
    "    # compute for K matrices\n",
    "    Kx = rbf_kernel(X, X, gamma1)\n",
    "    Ky = rbf_kernel(Y, Y, gamma2)\n",
    "    \n",
    "    # center K matrices\n",
    "    Kx_centered = K_centering(Kx)\n",
    "    Ky_centered = K_centering(Ky)\n",
    "    \n",
    "    A = np.zeros((2*sample_num, 2*sample_num))\n",
    "    A[:sample_num, sample_num:] = Kx_centered.dot(Ky_centered)\n",
    "    A[sample_num:, :sample_num] = Ky_centered.dot(Kx_centered)\n",
    "    \n",
    "    B = np.zeros_like(A)\n",
    "    B[:sample_num, :sample_num] = np.linalg.matrix_power(\n",
    "        Kx_centered + c1 * np.eye(sample_num), 2\n",
    "    )\n",
    "    B[sample_num:, sample_num:] = np.linalg.matrix_power(\n",
    "        Ky_centered + c2 * np.eye(sample_num), 2\n",
    "    )\n",
    "    \n",
    "    # solve for generalized eigenvalue problem\n",
    "    [eig_val, eig_vec] = scipy.linalg.eigh(A, B)\n",
    "    \n",
    "    eig_val_positive = eig_val[eig_val>=0.0]\n",
    "    eig_vec_positive = eig_vec[:, eig_val>=0.0]\n",
    "    \n",
    "    sort_ind = eig_val_positive.argsort() # ascending order; use [::-1] for descending order\n",
    "    eig_val_positive_sorted = eig_val_positive[sort_ind[::-1]]\n",
    "    eig_vec_positive_sorted = eig_vec_positive[:, sort_ind[::-1]]\n",
    "    \n",
    "    # slicing components\n",
    "    eig_val_positive_sorted = eig_val_positive_sorted[:n_components]\n",
    "    alpha_sorted = eig_vec_positive_sorted[:sample_num, :n_components]\n",
    "    beta_sorted = eig_vec_positive_sorted[sample_num:, :n_components]\n",
    "    \n",
    "    return [eig_val_positive_sorted, alpha_sorted, beta_sorted, gamma1, gamma2, sigma1, sigma2]"
   ]
  },
  {
   "cell_type": "code",
   "execution_count": 9,
   "id": "ba0802ee",
   "metadata": {},
   "outputs": [],
   "source": [
    "def custom_cv(validator, X, Y, fit_n_score_func, *args):\n",
    "    # note: normally X and Y are already training datasets\n",
    "    \n",
    "    # construct score array\n",
    "    score_arr = np.zeros((validator.get_n_splits(), ))\n",
    "    \n",
    "    # fit and validate\n",
    "    ii = 0\n",
    "    \n",
    "    for train_ind, test_ind in validator.split(X):\n",
    "        # slicing arrays\n",
    "        X_train, X_test = X[train_ind], X[test_ind]\n",
    "        Y_train, Y_test = Y[train_ind], Y[test_ind]\n",
    "        \n",
    "        # train the model and get the score\n",
    "        score_arr[ii] = fit_n_score_func(X_train, X_test, Y_train, Y_test, *args)\n",
    "        ii += 1\n",
    "    \n",
    "    return score_arr"
   ]
  },
  {
   "cell_type": "code",
   "execution_count": 10,
   "id": "c311ed48",
   "metadata": {},
   "outputs": [],
   "source": [
    "def manual_gaussian_kcca_fit_n_score(\n",
    "    X_train, X_test, Y_train, Y_test, c1, c2, gamma1, gamma2, \n",
    "    n_components, fixed_gamma=True\n",
    "):\n",
    "    # standardize matrices \n",
    "    # note: in most cases, the test datasets should be standardized \n",
    "    # with the training dataset means and stds\n",
    "    X_train_standardized = StandardScaler().fit_transform(X_train)\n",
    "    Y_train_standardized = StandardScaler().fit_transform(Y_train)\n",
    "    X_test_standardized = StandardScaler().fit_transform(X_test)\n",
    "    Y_test_standardized = StandardScaler().fit_transform(Y_test)\n",
    "    \n",
    "    # fit the model\n",
    "    [_, alpha, beta, gamma1, gamma2, sigma1, sigma2] = gaussian_cca(\n",
    "        X_train_standardized, Y_train_standardized, \n",
    "        c1, c2, gamma1, gamma2, n_components, fixed_gamma\n",
    "    )\n",
    "    \n",
    "    # map the test datasets\n",
    "#     Kx_test = rbf_kernel(X_test_standardized, X_train_standardized, gamma1)\n",
    "#     Ky_test = rbf_kernel(Y_test_standardized, Y_train_standardized, gamma2)\n",
    "    \n",
    "    # Note: these use `sigma`, not `gamma`\n",
    "    Kx_test = rbf_kernel(X_test_standardized, X_train_standardized, sigma1)\n",
    "    Ky_test = rbf_kernel(Y_test_standardized, Y_train_standardized, sigma2)\n",
    "    \n",
    "    # score on the test datasets\n",
    "    # note: over here, we only take the first component\n",
    "    Xc_test = Kx_test.dot(alpha[:, 0])\n",
    "    Yc_test = Ky_test.dot(beta[:, 0])\n",
    "    score = cosine_similarity(\n",
    "        Xc_test.reshape(1, -1), \n",
    "        Yc_test.reshape(1, -1)\n",
    "    )[0][0]\n",
    "    \n",
    "    return score"
   ]
  },
  {
   "cell_type": "markdown",
   "id": "97568552",
   "metadata": {},
   "source": [
    "## 2.1. Find the Optimal $c_1$ and $c_2$"
   ]
  },
  {
   "cell_type": "code",
   "execution_count": 11,
   "id": "07457994",
   "metadata": {
    "scrolled": true
   },
   "outputs": [],
   "source": [
    "# parameter grid\n",
    "c1_arr = np.arange(0.2, 1.5+0.1, 0.1)\n",
    "c2_arr = np.arange(0.2, 1.5+0.1, 0.1)"
   ]
  },
  {
   "cell_type": "code",
   "execution_count": 12,
   "id": "9dc53d30",
   "metadata": {},
   "outputs": [
    {
     "data": {
      "application/vnd.jupyter.widget-view+json": {
       "model_id": "843d944cebbf492abe9a4829a2ce938f",
       "version_major": 2,
       "version_minor": 0
      },
      "text/plain": [
       "  0%|          | 0/14 [00:00<?, ?it/s]"
      ]
     },
     "metadata": {},
     "output_type": "display_data"
    }
   ],
   "source": [
    "gamma1_ref = gamma_X\n",
    "gamma2_ref = gamma_Y\n",
    "n_components = 10\n",
    "fixed_gamma = False\n",
    "\n",
    "# try to find only c1 and c2\n",
    "score_arr = np.zeros((c1_arr.size, c2_arr.size))\n",
    "rkf = RepeatedKFold(\n",
    "    n_splits=n_splits, \n",
    "    n_repeats=n_repeats, \n",
    "    random_state=rs_num\n",
    ")\n",
    "\n",
    "score_arr_all = np.zeros((c1_arr.size, c2_arr.size, n_repeats*n_splits))\n",
    "\n",
    "for c1_i, c1 in enumerate(tqdm(c1_arr)):\n",
    "    for c2_i, c2 in enumerate(c2_arr):\n",
    "        scores_this_iter = custom_cv(\n",
    "            rkf, \n",
    "            X_train, Y_train, \n",
    "            manual_gaussian_kcca_fit_n_score, \n",
    "            c1, c2, gamma1_ref, gamma2_ref, \n",
    "            n_components, fixed_gamma\n",
    "        )\n",
    "        score_arr_all[c1_i, c2_i, :] = scores_this_iter.copy()\n",
    "\n",
    "score_arr = np.nanmean(score_arr_all, 2)"
   ]
  },
  {
   "cell_type": "code",
   "execution_count": 13,
   "id": "f3fd74db",
   "metadata": {},
   "outputs": [
    {
     "data": {
      "image/png": "[encoded data removed]",
      "text/plain": [
       "<Figure size 640x480 with 2 Axes>"
      ]
     },
     "metadata": {},
     "output_type": "display_data"
    }
   ],
   "source": [
    "c1_arr_viz, c2_arr_viz = np.meshgrid(c1_arr, c2_arr)\n",
    "argmax_ind = np.unravel_index(score_arr.argmax(), np.array(score_arr).shape)\n",
    "c1_opt = c1_arr[argmax_ind[0]]\n",
    "c2_opt = c2_arr[argmax_ind[1]]\n",
    "\n",
    "fig, ax = plt.subplots()\n",
    "\n",
    "sc = ax.scatter(\n",
    "    c1_arr_viz, c2_arr_viz, c=score_arr, s=5\n",
    ")\n",
    "cbar = plt.colorbar(sc)\n",
    "cbar.set_label('Mean Test Score (Canonical Correlation)')\n",
    "ax.scatter(\n",
    "    c1_opt, \n",
    "    c2_opt, \n",
    "    marker='o',\n",
    "    ec='royalblue', \n",
    "    fc='none', \n",
    "    label='best'\n",
    ")\n",
    "\n",
    "ax.set(\n",
    "    xlabel='$c_1$', \n",
    "    ylabel='$c_2$', \n",
    "    title=(\n",
    "        'Grid Search with {}-repeat {}-fold CV'.format(n_repeats, n_splits) + \n",
    "        '\\nfor Optimal Regularization Parameters'\n",
    "    )\n",
    ")\n",
    "ax.legend(\n",
    "    loc='upper center',\n",
    "    bbox_to_anchor=(0.5, -0.15),\n",
    "    fancybox=True,\n",
    "    shadow=True,\n",
    "    ncol=1,\n",
    "    fontsize='small'\n",
    ")\n",
    "\n",
    "\n",
    "fig.tight_layout()"
   ]
  },
  {
   "cell_type": "code",
   "execution_count": 14,
   "id": "3d747998",
   "metadata": {},
   "outputs": [
    {
     "name": "stdout",
     "output_type": "stream",
     "text": [
      "The c1 optimal is 1.50 and the c2 optimal is 1.00\n"
     ]
    }
   ],
   "source": [
    "print('The c1 optimal is {:.2f} and the c2 optimal is {:.2f}'.format(c1_opt, c2_opt))"
   ]
  },
  {
   "attachments": {},
   "cell_type": "markdown",
   "id": "17c5c0f5",
   "metadata": {},
   "source": [
    "However, if we take a look at the example code, the optimal values found by that script are actually `c1=1.5` and `c2=0.8`.\n",
    "If we examine the same average values for all candidates:\n",
    "\n",
    "<img src=\"figs/chap_3_kcca_c1c2_candidates.jpg\" alt=\"c1c2candidates\" width=\"500\"/>\n",
    "\n",
    "They have the same trending, but the maximum and minimum are not quite the same.\n",
    "This can be caused by the randomness from the training and test spliting during the cross-validation progress."
   ]
  },
  {
   "cell_type": "markdown",
   "id": "57086ab7",
   "metadata": {},
   "source": [
    "Also to test out if different canonical correlation computing methods would make a difference, we can try the following scripts."
   ]
  },
  {
   "cell_type": "code",
   "execution_count": 15,
   "id": "6d2fd9d7",
   "metadata": {},
   "outputs": [],
   "source": [
    "def test_cc_computing_methods(X, Y):\n",
    "    # some constants\n",
    "    n_train = 120\n",
    "    gamma1 = 0.0397697\n",
    "    gamma2 = 0.0396585\n",
    "    n_components = 10\n",
    "    c1 = 1.50\n",
    "    c2 = 1.00\n",
    "    fixed_gamma = True\n",
    "    \n",
    "    \n",
    "    X_train = X[:n_train, :]\n",
    "    Y_train = Y[:n_train, :]\n",
    "    X_test = X[n_train:, :]\n",
    "    Y_test = Y[n_train:, :]\n",
    "    \n",
    "    X_train_standardized = StandardScaler().fit_transform(X_train)\n",
    "    Y_train_standardized = StandardScaler().fit_transform(Y_train)\n",
    "    X_test_standardized = StandardScaler().fit_transform(X_test)\n",
    "    Y_test_standardized = StandardScaler().fit_transform(Y_test)\n",
    "    \n",
    "    [_, alpha, beta, gamma1, gamma2, sigma1, sigma2] = gaussian_cca(\n",
    "        X_train_standardized, Y_train_standardized, \n",
    "        c1, c2, gamma1, gamma2, n_components, fixed_gamma\n",
    "    )\n",
    "    \n",
    "    Kx_test = rbf_kernel(X_test_standardized, X_train_standardized, sigma1)\n",
    "    Ky_test = rbf_kernel(Y_test_standardized, Y_train_standardized, sigma2)\n",
    "    \n",
    "    Xc_test = Kx_test.dot(alpha[:, 0])\n",
    "    Yc_test = Ky_test.dot(beta[:, 0])\n",
    "    \n",
    "    Xc_test_normalized = normalize(Xc_test.reshape(1, -1)).flatten()\n",
    "    Yc_test_normalized = normalize(Yc_test.reshape(1, -1)).flatten()\n",
    "    \n",
    "    print('For cosine similarities before normalization:')\n",
    "    score = cosine_similarity(\n",
    "        Xc_test.reshape(1, -1), \n",
    "        Yc_test.reshape(1, -1)\n",
    "    )[0][0]\n",
    "    print(score)\n",
    "    print()\n",
    "    \n",
    "    print('For cosine similarities after normalization:')\n",
    "    score = cosine_similarity(\n",
    "        Xc_test_normalized.reshape(1, -1), \n",
    "        Yc_test_normalized.reshape(1, -1)\n",
    "    )[0][0]\n",
    "    print(score)\n",
    "    print()\n",
    "    \n",
    "    print('For dot product of images:')\n",
    "    score = Xc_test_normalized.dot(Yc_test_normalized)\n",
    "    print(score)"
   ]
  },
  {
   "cell_type": "code",
   "execution_count": 16,
   "id": "f1869165",
   "metadata": {},
   "outputs": [
    {
     "name": "stdout",
     "output_type": "stream",
     "text": [
      "For cosine similarities before normalization:\n",
      "0.23880355601923878\n",
      "\n",
      "For cosine similarities after normalization:\n",
      "0.2388035560192388\n",
      "\n",
      "For dot product of images:\n",
      "0.23880355601923878\n"
     ]
    }
   ],
   "source": [
    "test_cc_computing_methods(X_train, Y_train)"
   ]
  },
  {
   "cell_type": "markdown",
   "id": "73ec2358",
   "metadata": {},
   "source": [
    "It looks the difference is minimum."
   ]
  },
  {
   "cell_type": "markdown",
   "id": "a75b1e75",
   "metadata": {},
   "source": [
    "## 2.2. Solve CCA with Optimal Parameters"
   ]
  },
  {
   "cell_type": "code",
   "execution_count": 17,
   "id": "7ab29cfd",
   "metadata": {},
   "outputs": [],
   "source": [
    "def compute_cc_arr(\n",
    "    X_train, Y_train, c1, c2, \n",
    "    gamma_X, gamma_Y, n_components, fixed_gamma\n",
    "):\n",
    "    [_, alpha, beta, _, _, _, _] = gaussian_cca(\n",
    "        X_train, Y_train, c1, c2, \n",
    "        gamma_X, gamma_Y, n_components, fixed_gamma\n",
    "    )\n",
    "    \n",
    "    # compute for K matrices\n",
    "    Kx = rbf_kernel(X_train, X_train, gamma_X)\n",
    "    Ky = rbf_kernel(Y_train, Y_train, gamma_Y)\n",
    "\n",
    "    # center K matrices\n",
    "    Kx_centered = K_centering(Kx)\n",
    "    Ky_centered = K_centering(Ky)\n",
    "    \n",
    "    # calculate canonical correlation\n",
    "    Xc = Kx_centered.dot(alpha)\n",
    "    Yc = Ky_centered.dot(beta)\n",
    "    cc_arr = np.diag(cosine_similarity(\n",
    "        Xc.T, Yc.T\n",
    "    ))\n",
    "    \n",
    "    return [cc_arr, alpha, beta, Xc, Yc]"
   ]
  },
  {
   "cell_type": "code",
   "execution_count": 18,
   "id": "a812ace0",
   "metadata": {},
   "outputs": [],
   "source": [
    "fixed_gamma = True\n",
    "n_components = 3\n",
    "c1_preset = 1.5 # use preset value\n",
    "c2_preset = 0.8 # use preset value\n",
    "\n",
    "[cc_arr, alpha, beta, Xc, Yc] = compute_cc_arr(\n",
    "    X_train, Y_train, c1_preset, c2_preset, \n",
    "    gamma_X, gamma_Y, n_components, fixed_gamma\n",
    ")"
   ]
  },
  {
   "cell_type": "code",
   "execution_count": 19,
   "id": "3278a86f",
   "metadata": {},
   "outputs": [
    {
     "name": "stdout",
     "output_type": "stream",
     "text": [
      "The cc array computed with this notebook is:\n",
      "[0.9515  0.88578 0.82154]\n",
      "  where the cc array computed by the example MATLAB codes:\n",
      "[0.9515  0.88578 0.82154]\n"
     ]
    }
   ],
   "source": [
    "print('The cc array computed with this notebook is:')\n",
    "print(np.array_str(cc_arr, precision=5))\n",
    "print('  where the cc array computed by the example MATLAB codes:')\n",
    "print(np.array_str(\n",
    "    np.array([0.9515039399, 0.8857752621, 0.8215406102]), \n",
    "    precision=5\n",
    "))"
   ]
  },
  {
   "cell_type": "markdown",
   "id": "9e8bbb85",
   "metadata": {},
   "source": [
    "It looks good!\n",
    "Also we can check out if the transformed data can reflect the latent correlation in the data, i.e.,\n",
    "\n",
    "- $y_1 = e^{x_3}$\n",
    "- $y_2 = x_1^3$\n",
    "- $y_3 = -x_4$"
   ]
  },
  {
   "cell_type": "code",
   "execution_count": 20,
   "id": "7ddfb582",
   "metadata": {},
   "outputs": [
    {
     "name": "stdout",
     "output_type": "stream",
     "text": [
      "For the 1st pair:\n"
     ]
    },
    {
     "data": {
      "text/html": [
       "<style type=\"text/css\">\n",
       "#T_e42fc_row0_col0, #T_e42fc_row0_col2, #T_e42fc_row0_col3, #T_e42fc_row1_col1, #T_e42fc_row1_col4, #T_e42fc_row1_col5 {\n",
       "  background-color: #2369bd;\n",
       "  color: #f1f1f1;\n",
       "}\n",
       "#T_e42fc_row0_col1, #T_e42fc_row0_col4, #T_e42fc_row0_col5, #T_e42fc_row1_col0, #T_e42fc_row1_col2, #T_e42fc_row1_col3 {\n",
       "  background-color: #a9373b;\n",
       "  color: #f1f1f1;\n",
       "}\n",
       "</style>\n",
       "<table id=\"T_e42fc\">\n",
       "  <thead>\n",
       "    <tr>\n",
       "      <th class=\"blank level0\" >&nbsp;</th>\n",
       "      <th id=\"T_e42fc_level0_col0\" class=\"col_heading level0 col0\" >exp(x_3)</th>\n",
       "      <th id=\"T_e42fc_level0_col1\" class=\"col_heading level0 col1\" >x_1^3</th>\n",
       "      <th id=\"T_e42fc_level0_col2\" class=\"col_heading level0 col2\" >-x_4</th>\n",
       "      <th id=\"T_e42fc_level0_col3\" class=\"col_heading level0 col3\" >y_1</th>\n",
       "      <th id=\"T_e42fc_level0_col4\" class=\"col_heading level0 col4\" >y_2</th>\n",
       "      <th id=\"T_e42fc_level0_col5\" class=\"col_heading level0 col5\" >y_3</th>\n",
       "    </tr>\n",
       "  </thead>\n",
       "  <tbody>\n",
       "    <tr>\n",
       "      <th id=\"T_e42fc_level0_row0\" class=\"row_heading level0 row0\" >zx_1</th>\n",
       "      <td id=\"T_e42fc_row0_col0\" class=\"data row0 col0\" >-0.01</td>\n",
       "      <td id=\"T_e42fc_row0_col1\" class=\"data row0 col1\" >-0.10</td>\n",
       "      <td id=\"T_e42fc_row0_col2\" class=\"data row0 col2\" >-0.98</td>\n",
       "      <td id=\"T_e42fc_row0_col3\" class=\"data row0 col3\" >-0.01</td>\n",
       "      <td id=\"T_e42fc_row0_col4\" class=\"data row0 col4\" >-0.10</td>\n",
       "      <td id=\"T_e42fc_row0_col5\" class=\"data row0 col5\" >-0.95</td>\n",
       "    </tr>\n",
       "    <tr>\n",
       "      <th id=\"T_e42fc_level0_row1\" class=\"row_heading level0 row1\" >zy_1</th>\n",
       "      <td id=\"T_e42fc_row1_col0\" class=\"data row1 col0\" >0.01</td>\n",
       "      <td id=\"T_e42fc_row1_col1\" class=\"data row1 col1\" >-0.11</td>\n",
       "      <td id=\"T_e42fc_row1_col2\" class=\"data row1 col2\" >-0.94</td>\n",
       "      <td id=\"T_e42fc_row1_col3\" class=\"data row1 col3\" >0.00</td>\n",
       "      <td id=\"T_e42fc_row1_col4\" class=\"data row1 col4\" >-0.11</td>\n",
       "      <td id=\"T_e42fc_row1_col5\" class=\"data row1 col5\" >-0.99</td>\n",
       "    </tr>\n",
       "  </tbody>\n",
       "</table>\n"
      ],
      "text/plain": [
       "<pandas.io.formats.style.Styler at 0x2117fe04dc0>"
      ]
     },
     "metadata": {},
     "output_type": "display_data"
    },
    {
     "name": "stdout",
     "output_type": "stream",
     "text": [
      "This pair reveals the correlation y_3=-x_4\n"
     ]
    }
   ],
   "source": [
    "corr_cmap = sns.color_palette('vlag', as_cmap=True)\n",
    "\n",
    "print('For the 1st pair:')\n",
    "data_df_corr = pd.DataFrame(\n",
    "    data={\n",
    "        'zx_1': Xc[:, 0], \n",
    "        'zy_1': Yc[:, 0], \n",
    "        'exp(x_3)': np.exp(X_train[:, 2]), \n",
    "        'x_1^3': np.power(X_train[:, 0], 3), \n",
    "        '-x_4': -X_train[:, 3], \n",
    "        'y_1': Y_train[:, 0], \n",
    "        'y_2': Y_train[:, 1], \n",
    "        'y_3': Y_train[:, 2]\n",
    "    }\n",
    ").corr()\n",
    "\n",
    "display(\n",
    "    data_df_corr.iloc[:2, 2:].style.background_gradient(cmap=corr_cmap).format(precision=2)\n",
    ")\n",
    "\n",
    "print('This pair reveals the correlation y_3=-x_4')"
   ]
  },
  {
   "cell_type": "code",
   "execution_count": 21,
   "id": "ed2352e7",
   "metadata": {},
   "outputs": [
    {
     "name": "stdout",
     "output_type": "stream",
     "text": [
      "For the 2nd pair:\n"
     ]
    },
    {
     "data": {
      "text/html": [
       "<style type=\"text/css\">\n",
       "#T_efd7d_row0_col0, #T_efd7d_row0_col1, #T_efd7d_row0_col2, #T_efd7d_row0_col3, #T_efd7d_row0_col4, #T_efd7d_row0_col5 {\n",
       "  background-color: #a9373b;\n",
       "  color: #f1f1f1;\n",
       "}\n",
       "#T_efd7d_row1_col0, #T_efd7d_row1_col1, #T_efd7d_row1_col2, #T_efd7d_row1_col3, #T_efd7d_row1_col4, #T_efd7d_row1_col5 {\n",
       "  background-color: #2369bd;\n",
       "  color: #f1f1f1;\n",
       "}\n",
       "</style>\n",
       "<table id=\"T_efd7d\">\n",
       "  <thead>\n",
       "    <tr>\n",
       "      <th class=\"blank level0\" >&nbsp;</th>\n",
       "      <th id=\"T_efd7d_level0_col0\" class=\"col_heading level0 col0\" >exp(x_3)</th>\n",
       "      <th id=\"T_efd7d_level0_col1\" class=\"col_heading level0 col1\" >x_1^3</th>\n",
       "      <th id=\"T_efd7d_level0_col2\" class=\"col_heading level0 col2\" >-x_4</th>\n",
       "      <th id=\"T_efd7d_level0_col3\" class=\"col_heading level0 col3\" >y_1</th>\n",
       "      <th id=\"T_efd7d_level0_col4\" class=\"col_heading level0 col4\" >y_2</th>\n",
       "      <th id=\"T_efd7d_level0_col5\" class=\"col_heading level0 col5\" >y_3</th>\n",
       "    </tr>\n",
       "  </thead>\n",
       "  <tbody>\n",
       "    <tr>\n",
       "      <th id=\"T_efd7d_level0_row0\" class=\"row_heading level0 row0\" >zx_2</th>\n",
       "      <td id=\"T_efd7d_row0_col0\" class=\"data row0 col0\" >0.16</td>\n",
       "      <td id=\"T_efd7d_row0_col1\" class=\"data row0 col1\" >-0.78</td>\n",
       "      <td id=\"T_efd7d_row0_col2\" class=\"data row0 col2\" >0.11</td>\n",
       "      <td id=\"T_efd7d_row0_col3\" class=\"data row0 col3\" >0.14</td>\n",
       "      <td id=\"T_efd7d_row0_col4\" class=\"data row0 col4\" >-0.79</td>\n",
       "      <td id=\"T_efd7d_row0_col5\" class=\"data row0 col5\" >0.04</td>\n",
       "    </tr>\n",
       "    <tr>\n",
       "      <th id=\"T_efd7d_level0_row1\" class=\"row_heading level0 row1\" >zy_2</th>\n",
       "      <td id=\"T_efd7d_row1_col0\" class=\"data row1 col0\" >0.12</td>\n",
       "      <td id=\"T_efd7d_row1_col1\" class=\"data row1 col1\" >-0.92</td>\n",
       "      <td id=\"T_efd7d_row1_col2\" class=\"data row1 col2\" >0.09</td>\n",
       "      <td id=\"T_efd7d_row1_col3\" class=\"data row1 col3\" >0.12</td>\n",
       "      <td id=\"T_efd7d_row1_col4\" class=\"data row1 col4\" >-0.94</td>\n",
       "      <td id=\"T_efd7d_row1_col5\" class=\"data row1 col5\" >0.03</td>\n",
       "    </tr>\n",
       "  </tbody>\n",
       "</table>\n"
      ],
      "text/plain": [
       "<pandas.io.formats.style.Styler at 0x2117fad9460>"
      ]
     },
     "metadata": {},
     "output_type": "display_data"
    },
    {
     "name": "stdout",
     "output_type": "stream",
     "text": [
      "This pair reveals the correlation y_2=x_1^3\n"
     ]
    }
   ],
   "source": [
    "print('For the 2nd pair:')\n",
    "data_df_corr = pd.DataFrame(\n",
    "    data={\n",
    "        'zx_2': Xc[:, 1], \n",
    "        'zy_2': Yc[:, 1], \n",
    "        'exp(x_3)': np.exp(X_train[:, 2]), \n",
    "        'x_1^3': np.power(X_train[:, 0], 3), \n",
    "        '-x_4': -X_train[:, 3], \n",
    "        'y_1': Y_train[:, 0], \n",
    "        'y_2': Y_train[:, 1], \n",
    "        'y_3': Y_train[:, 2]\n",
    "    }\n",
    ").corr()\n",
    "\n",
    "display(\n",
    "    data_df_corr.iloc[:2, 2:].style.background_gradient(cmap=corr_cmap).format(precision=2)\n",
    ")\n",
    "\n",
    "print('This pair reveals the correlation y_2=x_1^3')"
   ]
  },
  {
   "cell_type": "code",
   "execution_count": 22,
   "id": "09f92b11",
   "metadata": {},
   "outputs": [
    {
     "name": "stdout",
     "output_type": "stream",
     "text": [
      "For the 3rd pair:\n"
     ]
    },
    {
     "data": {
      "text/html": [
       "<style type=\"text/css\">\n",
       "#T_fad9c_row0_col0, #T_fad9c_row0_col1, #T_fad9c_row0_col3, #T_fad9c_row0_col4, #T_fad9c_row1_col2, #T_fad9c_row1_col5 {\n",
       "  background-color: #a9373b;\n",
       "  color: #f1f1f1;\n",
       "}\n",
       "#T_fad9c_row0_col2, #T_fad9c_row0_col5, #T_fad9c_row1_col0, #T_fad9c_row1_col1, #T_fad9c_row1_col3, #T_fad9c_row1_col4 {\n",
       "  background-color: #2369bd;\n",
       "  color: #f1f1f1;\n",
       "}\n",
       "</style>\n",
       "<table id=\"T_fad9c\">\n",
       "  <thead>\n",
       "    <tr>\n",
       "      <th class=\"blank level0\" >&nbsp;</th>\n",
       "      <th id=\"T_fad9c_level0_col0\" class=\"col_heading level0 col0\" >exp(x_3)</th>\n",
       "      <th id=\"T_fad9c_level0_col1\" class=\"col_heading level0 col1\" >x_1^3</th>\n",
       "      <th id=\"T_fad9c_level0_col2\" class=\"col_heading level0 col2\" >-x_4</th>\n",
       "      <th id=\"T_fad9c_level0_col3\" class=\"col_heading level0 col3\" >y_1</th>\n",
       "      <th id=\"T_fad9c_level0_col4\" class=\"col_heading level0 col4\" >y_2</th>\n",
       "      <th id=\"T_fad9c_level0_col5\" class=\"col_heading level0 col5\" >y_3</th>\n",
       "    </tr>\n",
       "  </thead>\n",
       "  <tbody>\n",
       "    <tr>\n",
       "      <th id=\"T_fad9c_level0_row0\" class=\"row_heading level0 row0\" >zx_3</th>\n",
       "      <td id=\"T_fad9c_row0_col0\" class=\"data row0 col0\" >-0.67</td>\n",
       "      <td id=\"T_fad9c_row0_col1\" class=\"data row0 col1\" >-0.12</td>\n",
       "      <td id=\"T_fad9c_row0_col2\" class=\"data row0 col2\" >-0.07</td>\n",
       "      <td id=\"T_fad9c_row0_col3\" class=\"data row0 col3\" >-0.64</td>\n",
       "      <td id=\"T_fad9c_row0_col4\" class=\"data row0 col4\" >-0.10</td>\n",
       "      <td id=\"T_fad9c_row0_col5\" class=\"data row0 col5\" >-0.04</td>\n",
       "    </tr>\n",
       "    <tr>\n",
       "      <th id=\"T_fad9c_level0_row1\" class=\"row_heading level0 row1\" >zy_3</th>\n",
       "      <td id=\"T_fad9c_row1_col0\" class=\"data row1 col0\" >-0.75</td>\n",
       "      <td id=\"T_fad9c_row1_col1\" class=\"data row1 col1\" >-0.21</td>\n",
       "      <td id=\"T_fad9c_row1_col2\" class=\"data row1 col2\" >-0.06</td>\n",
       "      <td id=\"T_fad9c_row1_col3\" class=\"data row1 col3\" >-0.75</td>\n",
       "      <td id=\"T_fad9c_row1_col4\" class=\"data row1 col4\" >-0.19</td>\n",
       "      <td id=\"T_fad9c_row1_col5\" class=\"data row1 col5\" >-0.03</td>\n",
       "    </tr>\n",
       "  </tbody>\n",
       "</table>\n"
      ],
      "text/plain": [
       "<pandas.io.formats.style.Styler at 0x2117f90be80>"
      ]
     },
     "metadata": {},
     "output_type": "display_data"
    },
    {
     "name": "stdout",
     "output_type": "stream",
     "text": [
      "This pair reveals the correlation y_1=exp(x_3)\n"
     ]
    }
   ],
   "source": [
    "print('For the 3rd pair:')\n",
    "data_df_corr = pd.DataFrame(\n",
    "    data={\n",
    "        'zx_3': Xc[:, 2], \n",
    "        'zy_3': Yc[:, 2], \n",
    "        'exp(x_3)': np.exp(X_train[:, 2]), \n",
    "        'x_1^3': np.power(X_train[:, 0], 3), \n",
    "        '-x_4': -X_train[:, 3], \n",
    "        'y_1': Y_train[:, 0], \n",
    "        'y_2': Y_train[:, 1], \n",
    "        'y_3': Y_train[:, 2]\n",
    "    }\n",
    ").corr()\n",
    "\n",
    "display(\n",
    "    data_df_corr.iloc[:2, 2:].style.background_gradient(cmap=corr_cmap).format(precision=2)\n",
    ")\n",
    "\n",
    "print('This pair reveals the correlation y_1=exp(x_3)')"
   ]
  },
  {
   "cell_type": "markdown",
   "id": "3d6f985a",
   "metadata": {},
   "source": [
    "## 2.3. Solve CCA with Minor Improvements\n",
    "\n",
    "For this sub-section, we can make some minor improvements to the scripts to see if we can obtain better correlation."
   ]
  },
  {
   "cell_type": "code",
   "execution_count": null,
   "id": "27c75aac",
   "metadata": {},
   "outputs": [],
   "source": []
  },
  {
   "cell_type": "code",
   "execution_count": null,
   "id": "49fb8a75",
   "metadata": {},
   "outputs": [],
   "source": []
  },
  {
   "cell_type": "code",
   "execution_count": null,
   "id": "17e2433c",
   "metadata": {},
   "outputs": [],
   "source": []
  },
  {
   "cell_type": "code",
   "execution_count": null,
   "id": "070abb24",
   "metadata": {},
   "outputs": [],
   "source": []
  },
  {
   "cell_type": "code",
   "execution_count": null,
   "id": "335d8d17",
   "metadata": {},
   "outputs": [],
   "source": []
  }
 ],
 "metadata": {
  "kernelspec": {
   "display_name": "Python 3 (ipykernel)",
   "language": "python",
   "name": "python3"
  },
  "language_info": {
   "codemirror_mode": {
    "name": "ipython",
    "version": 3
   },
   "file_extension": ".py",
   "mimetype": "text/x-python",
   "name": "python",
   "nbconvert_exporter": "python",
   "pygments_lexer": "ipython3",
   "version": "3.8.13"
  }
 },
 "nbformat": 4,
 "nbformat_minor": 5
}
