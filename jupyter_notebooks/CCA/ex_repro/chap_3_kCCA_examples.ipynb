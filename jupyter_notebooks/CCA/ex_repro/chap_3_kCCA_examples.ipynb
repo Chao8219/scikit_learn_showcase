{
 "cells": [
  {
   "cell_type": "markdown",
   "id": "30804eab",
   "metadata": {},
   "source": [
    "# About \n",
    "\n",
    "This is about the kernel CCA."
   ]
  },
  {
   "cell_type": "code",
   "execution_count": 1,
   "id": "6ce39858",
   "metadata": {},
   "outputs": [],
   "source": [
    "import numpy as np\n",
    "from matplotlib import pyplot as plt\n",
    "import seaborn as sns\n",
    "import pandas as pd\n",
    "import scipy\n",
    "import warnings\n",
    "import time\n",
    "from tqdm.notebook import tqdm\n",
    "\n",
    "import sklearn\n",
    "from sklearn.pipeline import Pipeline\n",
    "from sklearn.preprocessing import StandardScaler\n",
    "from sklearn.decomposition import PCA\n",
    "from sklearn.model_selection import train_test_split, cross_validate\n",
    "from sklearn.model_selection import RepeatedKFold, GridSearchCV\n",
    "from sklearn.linear_model import LinearRegression\n",
    "from sklearn.cross_decomposition import CCA, PLSCanonical\n",
    "from sklearn.utils import Bunch\n",
    "from sklearn.metrics.pairwise import cosine_similarity\n",
    "from sklearn.preprocessing import normalize\n",
    "from sklearn.metrics.pairwise import rbf_kernel, euclidean_distances\n",
    "\n",
    "from cca_zoo.models import CCA as cz_CCA\n",
    "from cca_zoo.models import rCCA as cz_rCCA\n",
    "from cca_zoo.model_selection import GridSearchCV as cz_GridSearchCV\n",
    "from cca_zoo.plotting import pairplot_train_test\n",
    "\n",
    "rs_num = 42\n",
    "rng = np.random.default_rng(rs_num)\n",
    "\n",
    "sklearn.set_config(display=\"diagram\")\n",
    "\n",
    "n_splits = 5\n",
    "n_repeats = 20\n",
    "\n",
    "%matplotlib inline"
   ]
  },
  {
   "cell_type": "markdown",
   "id": "72de30e9",
   "metadata": {},
   "source": [
    "# 1. Loading Data"
   ]
  },
  {
   "cell_type": "code",
   "execution_count": 2,
   "id": "4cd37bc2",
   "metadata": {},
   "outputs": [],
   "source": [
    "# load data\n",
    "data_path = 'data//'\n",
    "X_train = np.genfromtxt(data_path+'example_3_2_X_a.csv', delimiter=',')\n",
    "Y_train = np.genfromtxt(data_path+'example_3_2_X_b.csv', delimiter=',')\n",
    "\n",
    "# extract dimensions\n",
    "X_dimension_num = X_train.shape[1]\n",
    "Y_dimension_num = Y_train.shape[1]"
   ]
  },
  {
   "cell_type": "code",
   "execution_count": 3,
   "id": "b52f89a3",
   "metadata": {},
   "outputs": [
    {
     "name": "stdout",
     "output_type": "stream",
     "text": [
      "For X_train, \n",
      "  mean of all: -6.936250515753359e-17\n",
      "  mean of std: 0.9999999999999999\n",
      "For Y_train, \n",
      "  mean of all: -1.924386576016938e-17\n",
      "  mean of std: 1.0\n"
     ]
    }
   ],
   "source": [
    "# check if data are standardized\n",
    "print('For X_train, ')\n",
    "print('  mean of all:', X_train.mean())\n",
    "print('  mean of std:', X_train.std(axis=0, ddof=1).mean())\n",
    "\n",
    "print('For Y_train, ')\n",
    "print('  mean of all:', Y_train.mean())\n",
    "print('  mean of std:', Y_train.std(axis=0, ddof=1).mean())"
   ]
  },
  {
   "cell_type": "markdown",
   "id": "d978210a",
   "metadata": {},
   "source": [
    "# 2. Example 3.2 - Kernel CCA through manual computation"
   ]
  },
  {
   "cell_type": "markdown",
   "id": "342b3cf0",
   "metadata": {},
   "source": [
    "Note: for `sklearn.metrics.pairwise.rbf_kernel`, the calculation is completed with:\n",
    "\n",
    "$$\n",
    "K(x, y) = e^{-gamma ||x-y||^2}\n",
    "$$\n",
    "\n",
    "For some notations, the Gaussian kernel would also be expressed as:\n",
    "\n",
    "$$\n",
    "K(x, y) = e^{-\\frac{||x-y||^2}{2\\sigma^2}}\n",
    "$$\n",
    "\n",
    "Hence in the following implementation, we may use both notations, where:\n",
    "\n",
    "$$\n",
    "gamma = \\frac{1}{2\\sigma^2}\n",
    "$$\n",
    "\n",
    "or \n",
    "\n",
    "$$\n",
    "\\sigma = \\sqrt{\\frac{1}{2~gamma}}\n",
    "$$"
   ]
  },
  {
   "cell_type": "code",
   "execution_count": 4,
   "id": "11a02bb9",
   "metadata": {},
   "outputs": [],
   "source": [
    "def sigma_to_gamma(sigma):\n",
    "    return 1.0/(2.0*sigma**2)\n",
    "\n",
    "def gamma_to_sigma(gamma):\n",
    "    return np.sqrt(1.0/(2.0*gamma))"
   ]
  },
  {
   "cell_type": "code",
   "execution_count": 5,
   "id": "0f9a32ec",
   "metadata": {},
   "outputs": [],
   "source": [
    "def find_sigma_n_gamma(M):\n",
    "    # matrix M should be in the shape of (sample_num, feature_num)\n",
    "    # note: the `scipy.spatial.distance.pdist` will provide different results, \n",
    "    # compared to the `sklearn.metrics.pairwise.euclidean_distances`\n",
    "    \n",
    "#     sigma = np.median(scipy.spatial.distance.pdist(M, metric='euclidean'))\n",
    "    sigma = np.median(euclidean_distances(M).flatten())\n",
    "    gamma = sigma_to_gamma(sigma)\n",
    "    \n",
    "    return [sigma, gamma]"
   ]
  },
  {
   "cell_type": "code",
   "execution_count": 6,
   "id": "a77ebeeb",
   "metadata": {},
   "outputs": [
    {
     "name": "stdout",
     "output_type": "stream",
     "text": [
      "For X, the sigma value computed by sklearn is 3.545755\n",
      "   where the MATLAB provides: 3.545755\n",
      "For Y, the sigma value computed by sklearn is 3.550722\n",
      "   where the MATLAB provides: 3.550722\n"
     ]
    }
   ],
   "source": [
    "[sigma_X, gamma_X] = find_sigma_n_gamma(X_train)\n",
    "[sigma_Y, gamma_Y] = find_sigma_n_gamma(Y_train)\n",
    "\n",
    "print('For X, the sigma value computed by sklearn is {:.6f}'.format(sigma_X))\n",
    "print('   where the MATLAB provides: {:.6f}'.format(3.545755088636984))\n",
    "print('For Y, the sigma value computed by sklearn is {:.6f}'.format(sigma_Y))\n",
    "print('   where the MATLAB provides: {:.6f}'.format(3.550722209573881))"
   ]
  },
  {
   "cell_type": "code",
   "execution_count": 7,
   "id": "19725bdd",
   "metadata": {},
   "outputs": [],
   "source": [
    "def K_centering(K):\n",
    "    n = K.shape[0]\n",
    "    D = K.sum(axis=0)/n\n",
    "    E = D.sum() / n\n",
    "    J = np.ones((n, 1))*D\n",
    "    return (K - J - J.T + E*np.ones((n, n)))"
   ]
  },
  {
   "cell_type": "code",
   "execution_count": 8,
   "id": "a10ef518",
   "metadata": {},
   "outputs": [],
   "source": [
    "def gaussian_cca(X, Y, c1, c2, gamma1, gamma2, n_components, fixed_gamma=True):\n",
    "    # note: for X and Y, we assume they are standardized already\n",
    "    sample_num = X.shape[0]\n",
    "    \n",
    "    # to see if we need to re-select new gamma values\n",
    "    if fixed_gamma:\n",
    "        sigma1 = gamma_to_sigma(gamma1)\n",
    "        sigma2 = gamma_to_sigma(gamma2)\n",
    "    else:\n",
    "        [sigma1, gamma1] = find_sigma_n_gamma(X)\n",
    "        [sigma2, gamma2] = find_sigma_n_gamma(Y)\n",
    "    \n",
    "    # compute for K matrices\n",
    "    Kx = rbf_kernel(X, X, gamma1)\n",
    "    Ky = rbf_kernel(Y, Y, gamma2)\n",
    "    \n",
    "    # center K matrices\n",
    "    Kx_centered = K_centering(Kx)\n",
    "    Ky_centered = K_centering(Ky)\n",
    "    \n",
    "    A = np.zeros((2*sample_num, 2*sample_num))\n",
    "    A[:sample_num, sample_num:] = Kx_centered.dot(Ky_centered)\n",
    "    A[sample_num:, :sample_num] = Ky_centered.dot(Kx_centered)\n",
    "    \n",
    "    B = np.zeros_like(A)\n",
    "    B[:sample_num, :sample_num] = np.linalg.matrix_power(\n",
    "        Kx_centered + c1 * np.eye(sample_num), 2\n",
    "    )\n",
    "    B[sample_num:, sample_num:] = np.linalg.matrix_power(\n",
    "        Ky_centered + c2 * np.eye(sample_num), 2\n",
    "    )\n",
    "    \n",
    "    # solve for generalized eigenvalue problem\n",
    "    [eig_val, eig_vec] = scipy.linalg.eigh(A, B)\n",
    "    \n",
    "    eig_val_positive = eig_val[eig_val>=0.0]\n",
    "    eig_vec_positive = eig_vec[:, eig_val>=0.0]\n",
    "    \n",
    "    sort_ind = eig_val_positive.argsort() # ascending order; use [::-1] for descending order\n",
    "    eig_val_positive_sorted = eig_val_positive[sort_ind[::-1]]\n",
    "    eig_vec_positive_sorted = eig_vec_positive[:, sort_ind[::-1]]\n",
    "    \n",
    "    # slicing components\n",
    "    eig_val_positive_sorted = eig_val_positive_sorted[:n_components]\n",
    "    alpha_sorted = eig_vec_positive_sorted[:sample_num, :n_components]\n",
    "    beta_sorted = eig_vec_positive_sorted[sample_num:, :n_components]\n",
    "    \n",
    "    return [eig_val_positive_sorted, alpha_sorted, beta_sorted, gamma1, gamma2, sigma1, sigma2]"
   ]
  },
  {
   "cell_type": "code",
   "execution_count": 9,
   "id": "ba0802ee",
   "metadata": {},
   "outputs": [],
   "source": [
    "def custom_cv(validator, X, Y, fit_n_score_func, *args):\n",
    "    # note: normally X and Y are already training datasets\n",
    "    \n",
    "    # construct score array\n",
    "    score_arr = np.zeros((validator.get_n_splits(), ))\n",
    "    \n",
    "    # fit and validate\n",
    "    ii = 0\n",
    "    \n",
    "    for train_ind, test_ind in validator.split(X):\n",
    "        # slicing arrays\n",
    "        X_train, X_test = X[train_ind], X[test_ind]\n",
    "        Y_train, Y_test = Y[train_ind], Y[test_ind]\n",
    "        \n",
    "        # train the model and get the score\n",
    "        score_arr[ii] = fit_n_score_func(X_train, X_test, Y_train, Y_test, *args)\n",
    "        ii += 1\n",
    "    \n",
    "    return score_arr"
   ]
  },
  {
   "cell_type": "code",
   "execution_count": 10,
   "id": "c311ed48",
   "metadata": {},
   "outputs": [],
   "source": [
    "def manual_gaussian_kcca_fit_n_score(\n",
    "    X_train, X_test, Y_train, Y_test, c1, c2, gamma1, gamma2, \n",
    "    n_components, fixed_gamma=True\n",
    "):\n",
    "    # standardize matrices \n",
    "    # note: in most cases, the test datasets should be standardized \n",
    "    # with the training dataset means and stds\n",
    "    X_train_standardized = StandardScaler().fit_transform(X_train)\n",
    "    Y_train_standardized = StandardScaler().fit_transform(Y_train)\n",
    "    X_test_standardized = StandardScaler().fit_transform(X_test)\n",
    "    Y_test_standardized = StandardScaler().fit_transform(Y_test)\n",
    "    \n",
    "    # fit the model\n",
    "    [_, alpha, beta, gamma1, gamma2, sigma1, sigma2] = gaussian_cca(\n",
    "        X_train_standardized, Y_train_standardized, \n",
    "        c1, c2, gamma1, gamma2, n_components, fixed_gamma\n",
    "    )\n",
    "    \n",
    "    # map the test datasets\n",
    "#     Kx_test = rbf_kernel(X_test_standardized, X_train_standardized, gamma1)\n",
    "#     Ky_test = rbf_kernel(Y_test_standardized, Y_train_standardized, gamma2)\n",
    "    \n",
    "    # Note: these use `sigma`, not `gamma`\n",
    "    Kx_test = rbf_kernel(X_test_standardized, X_train_standardized, sigma1)\n",
    "    Ky_test = rbf_kernel(Y_test_standardized, Y_train_standardized, sigma2)\n",
    "    \n",
    "    # score on the test datasets\n",
    "    # note: over here, we only take the first component\n",
    "    Xc_test = Kx_test.dot(alpha[:, 0])\n",
    "    Yc_test = Ky_test.dot(beta[:, 0])\n",
    "    score = cosine_similarity(\n",
    "        Xc_test.reshape(1, -1), \n",
    "        Yc_test.reshape(1, -1)\n",
    "    )[0][0]\n",
    "    \n",
    "    return score"
   ]
  },
  {
   "cell_type": "markdown",
   "id": "97568552",
   "metadata": {},
   "source": [
    "## 2.1. Find the Optimal $c_1$ and $c_2$"
   ]
  },
  {
   "cell_type": "code",
   "execution_count": 11,
   "id": "07457994",
   "metadata": {
    "scrolled": true
   },
   "outputs": [],
   "source": [
    "# create Bunch\n",
    "manual_kcca_bunch = Bunch()\n",
    "manual_kcca_bunch.name = 'manual kcca'"
   ]
  },
  {
   "cell_type": "code",
   "execution_count": 12,
   "id": "9dc53d30",
   "metadata": {},
   "outputs": [
    {
     "data": {
      "application/vnd.jupyter.widget-view+json": {
       "model_id": "4d507201c89845e5b9ff64025accb3a9",
       "version_major": 2,
       "version_minor": 0
      },
      "text/plain": [
       "  0%|          | 0/14 [00:00<?, ?it/s]"
      ]
     },
     "metadata": {},
     "output_type": "display_data"
    }
   ],
   "source": [
    "# parameter grid\n",
    "manual_kcca_bunch.c1_arr = np.arange(0.2, 1.5+0.1, 0.1)\n",
    "manual_kcca_bunch.c2_arr = np.arange(0.2, 1.5+0.1, 0.1)\n",
    "manual_kcca_bunch.gamma1 = gamma_X\n",
    "manual_kcca_bunch.gamma2 = gamma_Y\n",
    "manual_kcca_bunch.n_components = 10\n",
    "manual_kcca_bunch.fixed_gamma = False\n",
    "\n",
    "# try to find only c1 and c2\n",
    "manual_kcca_bunch.score_arr_all = np.zeros((\n",
    "    manual_kcca_bunch.c1_arr.size, \n",
    "    manual_kcca_bunch.c2_arr.size, \n",
    "    n_repeats*n_splits\n",
    "))\n",
    "\n",
    "for c1_i, c1 in enumerate(tqdm(manual_kcca_bunch.c1_arr)):\n",
    "    for c2_i, c2 in enumerate(manual_kcca_bunch.c2_arr):\n",
    "        manual_kcca_bunch.score_arr_all[c1_i, c2_i, :] = custom_cv(\n",
    "            RepeatedKFold(\n",
    "                n_splits=n_splits, \n",
    "                n_repeats=n_repeats, \n",
    "                random_state=rs_num\n",
    "            ), \n",
    "            X_train, Y_train, \n",
    "            manual_gaussian_kcca_fit_n_score, \n",
    "            c1, c2, \n",
    "            manual_kcca_bunch.gamma1, manual_kcca_bunch.gamma2, \n",
    "            manual_kcca_bunch.n_components, manual_kcca_bunch.fixed_gamma\n",
    "        ).copy()\n",
    "\n",
    "manual_kcca_bunch.score_arr = np.nanmean(manual_kcca_bunch.score_arr_all, 2)"
   ]
  },
  {
   "cell_type": "code",
   "execution_count": 13,
   "id": "f00afbe6",
   "metadata": {},
   "outputs": [],
   "source": [
    "# find optimal c1 & c2\n",
    "argmax_ind = np.unravel_index(\n",
    "    manual_kcca_bunch.score_arr.argmax(), \n",
    "    np.array(manual_kcca_bunch.score_arr).shape\n",
    ")\n",
    "manual_kcca_bunch.c1_opt = manual_kcca_bunch.c1_arr[argmax_ind[0]]\n",
    "manual_kcca_bunch.c2_opt = manual_kcca_bunch.c2_arr[argmax_ind[1]]"
   ]
  },
  {
   "cell_type": "code",
   "execution_count": 14,
   "id": "1fa58e06",
   "metadata": {},
   "outputs": [],
   "source": [
    "# visualization of c1, c2 cc values\n",
    "def viz_c1c2_cc_values(ax, c1_arr, c2_arr, score_arr, n_repeats, n_splits):\n",
    "    c1_arr_viz, c2_arr_viz = np.meshgrid(c1_arr, c2_arr)\n",
    "    argmax_ind = np.unravel_index(score_arr.argmax(), np.array(score_arr).shape)\n",
    "    c1_opt = c1_arr[argmax_ind[0]]\n",
    "    c2_opt = c2_arr[argmax_ind[1]]\n",
    "    \n",
    "    sc = ax.scatter(\n",
    "        c1_arr_viz, c2_arr_viz, c=score_arr, s=5\n",
    "    )\n",
    "    cbar = plt.colorbar(sc)\n",
    "    cbar.set_label('Mean Test Score (Canonical Correlation)')\n",
    "    ax.scatter(\n",
    "        c1_opt, \n",
    "        c2_opt, \n",
    "        marker='o',\n",
    "        ec='royalblue', \n",
    "        fc='none', \n",
    "        label='optimal'\n",
    "    )\n",
    "\n",
    "    ax.set(\n",
    "        xlabel='$c_1$', \n",
    "        ylabel='$c_2$', \n",
    "        title=(\n",
    "            'Grid Search with {}-repeat {}-fold CV'.format(n_repeats, n_splits) + \n",
    "            '\\nfor Optimal Regularization Parameters'\n",
    "        )\n",
    "    )\n",
    "    ax.legend(\n",
    "        loc='upper center',\n",
    "        bbox_to_anchor=(0.5, -0.15),\n",
    "        fancybox=True,\n",
    "        shadow=True,\n",
    "        ncol=1,\n",
    "        fontsize='small'\n",
    "    )"
   ]
  },
  {
   "cell_type": "code",
   "execution_count": 15,
   "id": "f3fd74db",
   "metadata": {},
   "outputs": [
    {
     "data": {
      "image/png": "[encoded data removed]",
      "text/plain": [
       "<Figure size 500x400 with 2 Axes>"
      ]
     },
     "metadata": {},
     "output_type": "display_data"
    }
   ],
   "source": [
    "fig, ax = plt.subplots(figsize=(5, 4))\n",
    "\n",
    "viz_c1c2_cc_values(\n",
    "    ax, manual_kcca_bunch.c1_arr, manual_kcca_bunch.c2_arr, \n",
    "    manual_kcca_bunch.score_arr, n_repeats, n_splits\n",
    ")\n",
    "\n",
    "fig.tight_layout()"
   ]
  },
  {
   "cell_type": "code",
   "execution_count": 16,
   "id": "3d747998",
   "metadata": {},
   "outputs": [
    {
     "name": "stdout",
     "output_type": "stream",
     "text": [
      "The c1 optimal is 1.50 and the c2 optimal is 1.00\n"
     ]
    }
   ],
   "source": [
    "print('The c1 optimal is {:.2f} and the c2 optimal is {:.2f}'.format(\n",
    "    manual_kcca_bunch.c1_opt, manual_kcca_bunch.c2_opt\n",
    "))"
   ]
  },
  {
   "attachments": {},
   "cell_type": "markdown",
   "id": "17c5c0f5",
   "metadata": {},
   "source": [
    "However, if we take a look at the example code, the optimal values found by that script are actually `c1=1.5` and `c2=0.8`.\n",
    "If we examine the same average values for all candidates:\n",
    "\n",
    "<img src=\"figs/chap_3_kcca_c1c2_candidates.jpg\" alt=\"c1c2candidates\" width=\"500\"/>\n",
    "\n",
    "They have the same trending, but the maximum and minimum are not quite the same.\n",
    "This can be caused by the randomness from the training and test spliting during the cross-validation progress."
   ]
  },
  {
   "cell_type": "markdown",
   "id": "477f5fdf",
   "metadata": {},
   "source": [
    "Also to test out if different canonical correlation computing methods would make a difference, we can try the following scripts."
   ]
  },
  {
   "cell_type": "code",
   "execution_count": 17,
   "id": "450bbc4c",
   "metadata": {},
   "outputs": [],
   "source": [
    "def test_cc_computing_methods(X, Y):\n",
    "    # some constants\n",
    "    n_train = 120\n",
    "    gamma1 = 0.0397697\n",
    "    gamma2 = 0.0396585\n",
    "    n_components = 10\n",
    "    c1 = 1.50\n",
    "    c2 = 1.00\n",
    "    fixed_gamma = True\n",
    "    \n",
    "    \n",
    "    X_train = X[:n_train, :]\n",
    "    Y_train = Y[:n_train, :]\n",
    "    X_test = X[n_train:, :]\n",
    "    Y_test = Y[n_train:, :]\n",
    "    \n",
    "    X_train_standardized = StandardScaler().fit_transform(X_train)\n",
    "    Y_train_standardized = StandardScaler().fit_transform(Y_train)\n",
    "    X_test_standardized = StandardScaler().fit_transform(X_test)\n",
    "    Y_test_standardized = StandardScaler().fit_transform(Y_test)\n",
    "    \n",
    "    [_, alpha, beta, gamma1, gamma2, sigma1, sigma2] = gaussian_cca(\n",
    "        X_train_standardized, Y_train_standardized, \n",
    "        c1, c2, gamma1, gamma2, n_components, fixed_gamma\n",
    "    )\n",
    "    \n",
    "    Kx_test = rbf_kernel(X_test_standardized, X_train_standardized, sigma1)\n",
    "    Ky_test = rbf_kernel(Y_test_standardized, Y_train_standardized, sigma2)\n",
    "    \n",
    "    Xc_test = Kx_test.dot(alpha[:, 0])\n",
    "    Yc_test = Ky_test.dot(beta[:, 0])\n",
    "    \n",
    "    Xc_test_normalized = normalize(Xc_test.reshape(1, -1)).flatten()\n",
    "    Yc_test_normalized = normalize(Yc_test.reshape(1, -1)).flatten()\n",
    "    \n",
    "    print('For cosine similarities before normalization:')\n",
    "    score = cosine_similarity(\n",
    "        Xc_test.reshape(1, -1), \n",
    "        Yc_test.reshape(1, -1)\n",
    "    )[0][0]\n",
    "    print(score)\n",
    "    print()\n",
    "    \n",
    "    print('For cosine similarities after normalization:')\n",
    "    score = cosine_similarity(\n",
    "        Xc_test_normalized.reshape(1, -1), \n",
    "        Yc_test_normalized.reshape(1, -1)\n",
    "    )[0][0]\n",
    "    print(score)\n",
    "    print()\n",
    "    \n",
    "    print('For dot product of images:')\n",
    "    score = Xc_test_normalized.dot(Yc_test_normalized)\n",
    "    print(score)"
   ]
  },
  {
   "cell_type": "code",
   "execution_count": 18,
   "id": "927c5156",
   "metadata": {},
   "outputs": [
    {
     "name": "stdout",
     "output_type": "stream",
     "text": [
      "For cosine similarities before normalization:\n",
      "0.23880355601923878\n",
      "\n",
      "For cosine similarities after normalization:\n",
      "0.2388035560192388\n",
      "\n",
      "For dot product of images:\n",
      "0.23880355601923878\n"
     ]
    }
   ],
   "source": [
    "test_cc_computing_methods(X_train, Y_train)"
   ]
  },
  {
   "cell_type": "markdown",
   "id": "8e483577",
   "metadata": {},
   "source": [
    "It looks the difference is minimum."
   ]
  },
  {
   "cell_type": "markdown",
   "id": "46a7ed9d",
   "metadata": {},
   "source": [
    "## 2.2. Solve CCA with Optimal Parameters"
   ]
  },
  {
   "cell_type": "code",
   "execution_count": 19,
   "id": "a82e5abc",
   "metadata": {},
   "outputs": [],
   "source": [
    "def compute_cc_arr(\n",
    "    X_train, Y_train, c1, c2, \n",
    "    gamma_X, gamma_Y, n_components, fixed_gamma\n",
    "):\n",
    "    [_, alpha, beta, _, _, _, _] = gaussian_cca(\n",
    "        X_train, Y_train, c1, c2, \n",
    "        gamma_X, gamma_Y, n_components, fixed_gamma\n",
    "    )\n",
    "    \n",
    "    # compute for K matrices\n",
    "    Kx = rbf_kernel(X_train, X_train, gamma_X)\n",
    "    Ky = rbf_kernel(Y_train, Y_train, gamma_Y)\n",
    "\n",
    "    # center K matrices\n",
    "    Kx_centered = K_centering(Kx)\n",
    "    Ky_centered = K_centering(Ky)\n",
    "    \n",
    "    # calculate canonical correlation\n",
    "    Xc = Kx_centered.dot(alpha)\n",
    "    Yc = Ky_centered.dot(beta)\n",
    "    cc_arr = np.diag(cosine_similarity(\n",
    "        Xc.T, Yc.T\n",
    "    ))\n",
    "    \n",
    "    return [cc_arr, alpha, beta, Xc, Yc]"
   ]
  },
  {
   "cell_type": "code",
   "execution_count": 20,
   "id": "a812ace0",
   "metadata": {},
   "outputs": [],
   "source": [
    "manual_kcca_bunch.fixed_gamma = True\n",
    "manual_kcca_bunch.n_components = 3\n",
    "manual_kcca_bunch.c1_preset = 1.5 # use preset value\n",
    "manual_kcca_bunch.c2_preset = 0.8 # use preset value\n",
    "\n",
    "[manual_kcca_bunch.cc_arr, \n",
    " manual_kcca_bunch.alpha, \n",
    " manual_kcca_bunch.beta, \n",
    " manual_kcca_bunch.Xc, \n",
    " manual_kcca_bunch.Yc] = compute_cc_arr(\n",
    "    X_train, Y_train, \n",
    "    manual_kcca_bunch.c1_preset, manual_kcca_bunch.c2_preset, \n",
    "    gamma_X, gamma_Y, \n",
    "    manual_kcca_bunch.n_components, manual_kcca_bunch.fixed_gamma\n",
    ")"
   ]
  },
  {
   "cell_type": "code",
   "execution_count": 21,
   "id": "ac0ed65d",
   "metadata": {},
   "outputs": [
    {
     "name": "stdout",
     "output_type": "stream",
     "text": [
      "The cc array computed with this notebook is:\n",
      "[0.9515  0.88578 0.82154]\n",
      "  where the cc array computed by the example MATLAB codes:\n",
      "[0.9515  0.88578 0.82154]\n"
     ]
    }
   ],
   "source": [
    "print('The cc array computed with this notebook is:')\n",
    "print(np.array_str(manual_kcca_bunch.cc_arr, precision=5))\n",
    "print('  where the cc array computed by the example MATLAB codes:')\n",
    "print(np.array_str(\n",
    "    np.array([0.9515039399, 0.8857752621, 0.8215406102]), \n",
    "    precision=5\n",
    "))"
   ]
  },
  {
   "cell_type": "markdown",
   "id": "a55dbe0b",
   "metadata": {},
   "source": [
    "It looks good!\n",
    "Also we can check out if the transformed data can reflect the latent correlation in the data, i.e.,\n",
    "\n",
    "- $y_1 = e^{x_3}$\n",
    "- $y_2 = x_1^3$\n",
    "- $y_3 = -x_4$"
   ]
  },
  {
   "cell_type": "code",
   "execution_count": 22,
   "id": "cfa21a9c",
   "metadata": {},
   "outputs": [
    {
     "name": "stdout",
     "output_type": "stream",
     "text": [
      "For the 1st pair:\n"
     ]
    },
    {
     "data": {
      "text/html": [
       "<style type=\"text/css\">\n",
       "#T_a2107_row0_col0, #T_a2107_row0_col2, #T_a2107_row0_col3, #T_a2107_row1_col1, #T_a2107_row1_col4, #T_a2107_row1_col5 {\n",
       "  background-color: #2369bd;\n",
       "  color: #f1f1f1;\n",
       "}\n",
       "#T_a2107_row0_col1, #T_a2107_row0_col4, #T_a2107_row0_col5, #T_a2107_row1_col0, #T_a2107_row1_col2, #T_a2107_row1_col3 {\n",
       "  background-color: #a9373b;\n",
       "  color: #f1f1f1;\n",
       "}\n",
       "</style>\n",
       "<table id=\"T_a2107\">\n",
       "  <thead>\n",
       "    <tr>\n",
       "      <th class=\"blank level0\" >&nbsp;</th>\n",
       "      <th id=\"T_a2107_level0_col0\" class=\"col_heading level0 col0\" >exp(x_3)</th>\n",
       "      <th id=\"T_a2107_level0_col1\" class=\"col_heading level0 col1\" >x_1^3</th>\n",
       "      <th id=\"T_a2107_level0_col2\" class=\"col_heading level0 col2\" >-x_4</th>\n",
       "      <th id=\"T_a2107_level0_col3\" class=\"col_heading level0 col3\" >y_1</th>\n",
       "      <th id=\"T_a2107_level0_col4\" class=\"col_heading level0 col4\" >y_2</th>\n",
       "      <th id=\"T_a2107_level0_col5\" class=\"col_heading level0 col5\" >y_3</th>\n",
       "    </tr>\n",
       "  </thead>\n",
       "  <tbody>\n",
       "    <tr>\n",
       "      <th id=\"T_a2107_level0_row0\" class=\"row_heading level0 row0\" >zx_1</th>\n",
       "      <td id=\"T_a2107_row0_col0\" class=\"data row0 col0\" >-0.01</td>\n",
       "      <td id=\"T_a2107_row0_col1\" class=\"data row0 col1\" >-0.10</td>\n",
       "      <td id=\"T_a2107_row0_col2\" class=\"data row0 col2\" >-0.98</td>\n",
       "      <td id=\"T_a2107_row0_col3\" class=\"data row0 col3\" >-0.01</td>\n",
       "      <td id=\"T_a2107_row0_col4\" class=\"data row0 col4\" >-0.10</td>\n",
       "      <td id=\"T_a2107_row0_col5\" class=\"data row0 col5\" >-0.95</td>\n",
       "    </tr>\n",
       "    <tr>\n",
       "      <th id=\"T_a2107_level0_row1\" class=\"row_heading level0 row1\" >zy_1</th>\n",
       "      <td id=\"T_a2107_row1_col0\" class=\"data row1 col0\" >0.01</td>\n",
       "      <td id=\"T_a2107_row1_col1\" class=\"data row1 col1\" >-0.11</td>\n",
       "      <td id=\"T_a2107_row1_col2\" class=\"data row1 col2\" >-0.94</td>\n",
       "      <td id=\"T_a2107_row1_col3\" class=\"data row1 col3\" >0.00</td>\n",
       "      <td id=\"T_a2107_row1_col4\" class=\"data row1 col4\" >-0.11</td>\n",
       "      <td id=\"T_a2107_row1_col5\" class=\"data row1 col5\" >-0.99</td>\n",
       "    </tr>\n",
       "  </tbody>\n",
       "</table>\n"
      ],
      "text/plain": [
       "<pandas.io.formats.style.Styler at 0x1b9a5046f70>"
      ]
     },
     "metadata": {},
     "output_type": "display_data"
    },
    {
     "name": "stdout",
     "output_type": "stream",
     "text": [
      "This pair reveals the correlation y_3=-x_4\n"
     ]
    }
   ],
   "source": [
    "corr_cmap = sns.color_palette('vlag', as_cmap=True)\n",
    "\n",
    "print('For the 1st pair:')\n",
    "data_df_corr = pd.DataFrame(\n",
    "    data={\n",
    "        'zx_1': manual_kcca_bunch.Xc[:, 0], \n",
    "        'zy_1': manual_kcca_bunch.Yc[:, 0], \n",
    "        'exp(x_3)': np.exp(X_train[:, 2]), \n",
    "        'x_1^3': np.power(X_train[:, 0], 3), \n",
    "        '-x_4': -X_train[:, 3], \n",
    "        'y_1': Y_train[:, 0], \n",
    "        'y_2': Y_train[:, 1], \n",
    "        'y_3': Y_train[:, 2]\n",
    "    }\n",
    ").corr()\n",
    "\n",
    "display(\n",
    "    data_df_corr.iloc[:2, 2:].style.background_gradient(cmap=corr_cmap).format(precision=2)\n",
    ")\n",
    "\n",
    "print('This pair reveals the correlation y_3=-x_4')"
   ]
  },
  {
   "cell_type": "code",
   "execution_count": 23,
   "id": "a8ce62b6",
   "metadata": {},
   "outputs": [
    {
     "name": "stdout",
     "output_type": "stream",
     "text": [
      "For the 2nd pair:\n"
     ]
    },
    {
     "data": {
      "text/html": [
       "<style type=\"text/css\">\n",
       "#T_af69e_row0_col0, #T_af69e_row0_col1, #T_af69e_row0_col2, #T_af69e_row0_col3, #T_af69e_row0_col4, #T_af69e_row0_col5 {\n",
       "  background-color: #a9373b;\n",
       "  color: #f1f1f1;\n",
       "}\n",
       "#T_af69e_row1_col0, #T_af69e_row1_col1, #T_af69e_row1_col2, #T_af69e_row1_col3, #T_af69e_row1_col4, #T_af69e_row1_col5 {\n",
       "  background-color: #2369bd;\n",
       "  color: #f1f1f1;\n",
       "}\n",
       "</style>\n",
       "<table id=\"T_af69e\">\n",
       "  <thead>\n",
       "    <tr>\n",
       "      <th class=\"blank level0\" >&nbsp;</th>\n",
       "      <th id=\"T_af69e_level0_col0\" class=\"col_heading level0 col0\" >exp(x_3)</th>\n",
       "      <th id=\"T_af69e_level0_col1\" class=\"col_heading level0 col1\" >x_1^3</th>\n",
       "      <th id=\"T_af69e_level0_col2\" class=\"col_heading level0 col2\" >-x_4</th>\n",
       "      <th id=\"T_af69e_level0_col3\" class=\"col_heading level0 col3\" >y_1</th>\n",
       "      <th id=\"T_af69e_level0_col4\" class=\"col_heading level0 col4\" >y_2</th>\n",
       "      <th id=\"T_af69e_level0_col5\" class=\"col_heading level0 col5\" >y_3</th>\n",
       "    </tr>\n",
       "  </thead>\n",
       "  <tbody>\n",
       "    <tr>\n",
       "      <th id=\"T_af69e_level0_row0\" class=\"row_heading level0 row0\" >zx_2</th>\n",
       "      <td id=\"T_af69e_row0_col0\" class=\"data row0 col0\" >0.16</td>\n",
       "      <td id=\"T_af69e_row0_col1\" class=\"data row0 col1\" >-0.78</td>\n",
       "      <td id=\"T_af69e_row0_col2\" class=\"data row0 col2\" >0.11</td>\n",
       "      <td id=\"T_af69e_row0_col3\" class=\"data row0 col3\" >0.14</td>\n",
       "      <td id=\"T_af69e_row0_col4\" class=\"data row0 col4\" >-0.79</td>\n",
       "      <td id=\"T_af69e_row0_col5\" class=\"data row0 col5\" >0.04</td>\n",
       "    </tr>\n",
       "    <tr>\n",
       "      <th id=\"T_af69e_level0_row1\" class=\"row_heading level0 row1\" >zy_2</th>\n",
       "      <td id=\"T_af69e_row1_col0\" class=\"data row1 col0\" >0.12</td>\n",
       "      <td id=\"T_af69e_row1_col1\" class=\"data row1 col1\" >-0.92</td>\n",
       "      <td id=\"T_af69e_row1_col2\" class=\"data row1 col2\" >0.09</td>\n",
       "      <td id=\"T_af69e_row1_col3\" class=\"data row1 col3\" >0.12</td>\n",
       "      <td id=\"T_af69e_row1_col4\" class=\"data row1 col4\" >-0.94</td>\n",
       "      <td id=\"T_af69e_row1_col5\" class=\"data row1 col5\" >0.03</td>\n",
       "    </tr>\n",
       "  </tbody>\n",
       "</table>\n"
      ],
      "text/plain": [
       "<pandas.io.formats.style.Styler at 0x1b9a504c5e0>"
      ]
     },
     "metadata": {},
     "output_type": "display_data"
    },
    {
     "name": "stdout",
     "output_type": "stream",
     "text": [
      "This pair reveals the correlation y_2=x_1^3\n"
     ]
    }
   ],
   "source": [
    "print('For the 2nd pair:')\n",
    "data_df_corr = pd.DataFrame(\n",
    "    data={\n",
    "        'zx_2': manual_kcca_bunch.Xc[:, 1], \n",
    "        'zy_2': manual_kcca_bunch.Yc[:, 1], \n",
    "        'exp(x_3)': np.exp(X_train[:, 2]), \n",
    "        'x_1^3': np.power(X_train[:, 0], 3), \n",
    "        '-x_4': -X_train[:, 3], \n",
    "        'y_1': Y_train[:, 0], \n",
    "        'y_2': Y_train[:, 1], \n",
    "        'y_3': Y_train[:, 2]\n",
    "    }\n",
    ").corr()\n",
    "\n",
    "display(\n",
    "    data_df_corr.iloc[:2, 2:].style.background_gradient(cmap=corr_cmap).format(precision=2)\n",
    ")\n",
    "\n",
    "print('This pair reveals the correlation y_2=x_1^3')"
   ]
  },
  {
   "cell_type": "code",
   "execution_count": 24,
   "id": "c44a018a",
   "metadata": {},
   "outputs": [
    {
     "name": "stdout",
     "output_type": "stream",
     "text": [
      "For the 3rd pair:\n"
     ]
    },
    {
     "data": {
      "text/html": [
       "<style type=\"text/css\">\n",
       "#T_9ab67_row0_col0, #T_9ab67_row0_col1, #T_9ab67_row0_col3, #T_9ab67_row0_col4, #T_9ab67_row1_col2, #T_9ab67_row1_col5 {\n",
       "  background-color: #a9373b;\n",
       "  color: #f1f1f1;\n",
       "}\n",
       "#T_9ab67_row0_col2, #T_9ab67_row0_col5, #T_9ab67_row1_col0, #T_9ab67_row1_col1, #T_9ab67_row1_col3, #T_9ab67_row1_col4 {\n",
       "  background-color: #2369bd;\n",
       "  color: #f1f1f1;\n",
       "}\n",
       "</style>\n",
       "<table id=\"T_9ab67\">\n",
       "  <thead>\n",
       "    <tr>\n",
       "      <th class=\"blank level0\" >&nbsp;</th>\n",
       "      <th id=\"T_9ab67_level0_col0\" class=\"col_heading level0 col0\" >exp(x_3)</th>\n",
       "      <th id=\"T_9ab67_level0_col1\" class=\"col_heading level0 col1\" >x_1^3</th>\n",
       "      <th id=\"T_9ab67_level0_col2\" class=\"col_heading level0 col2\" >-x_4</th>\n",
       "      <th id=\"T_9ab67_level0_col3\" class=\"col_heading level0 col3\" >y_1</th>\n",
       "      <th id=\"T_9ab67_level0_col4\" class=\"col_heading level0 col4\" >y_2</th>\n",
       "      <th id=\"T_9ab67_level0_col5\" class=\"col_heading level0 col5\" >y_3</th>\n",
       "    </tr>\n",
       "  </thead>\n",
       "  <tbody>\n",
       "    <tr>\n",
       "      <th id=\"T_9ab67_level0_row0\" class=\"row_heading level0 row0\" >zx_3</th>\n",
       "      <td id=\"T_9ab67_row0_col0\" class=\"data row0 col0\" >-0.67</td>\n",
       "      <td id=\"T_9ab67_row0_col1\" class=\"data row0 col1\" >-0.12</td>\n",
       "      <td id=\"T_9ab67_row0_col2\" class=\"data row0 col2\" >-0.07</td>\n",
       "      <td id=\"T_9ab67_row0_col3\" class=\"data row0 col3\" >-0.64</td>\n",
       "      <td id=\"T_9ab67_row0_col4\" class=\"data row0 col4\" >-0.10</td>\n",
       "      <td id=\"T_9ab67_row0_col5\" class=\"data row0 col5\" >-0.04</td>\n",
       "    </tr>\n",
       "    <tr>\n",
       "      <th id=\"T_9ab67_level0_row1\" class=\"row_heading level0 row1\" >zy_3</th>\n",
       "      <td id=\"T_9ab67_row1_col0\" class=\"data row1 col0\" >-0.75</td>\n",
       "      <td id=\"T_9ab67_row1_col1\" class=\"data row1 col1\" >-0.21</td>\n",
       "      <td id=\"T_9ab67_row1_col2\" class=\"data row1 col2\" >-0.06</td>\n",
       "      <td id=\"T_9ab67_row1_col3\" class=\"data row1 col3\" >-0.75</td>\n",
       "      <td id=\"T_9ab67_row1_col4\" class=\"data row1 col4\" >-0.19</td>\n",
       "      <td id=\"T_9ab67_row1_col5\" class=\"data row1 col5\" >-0.03</td>\n",
       "    </tr>\n",
       "  </tbody>\n",
       "</table>\n"
      ],
      "text/plain": [
       "<pandas.io.formats.style.Styler at 0x1b9a51d64c0>"
      ]
     },
     "metadata": {},
     "output_type": "display_data"
    },
    {
     "name": "stdout",
     "output_type": "stream",
     "text": [
      "This pair reveals the correlation y_1=exp(x_3)\n"
     ]
    }
   ],
   "source": [
    "print('For the 3rd pair:')\n",
    "data_df_corr = pd.DataFrame(\n",
    "    data={\n",
    "        'zx_3': manual_kcca_bunch.Xc[:, 2], \n",
    "        'zy_3': manual_kcca_bunch.Yc[:, 2], \n",
    "        'exp(x_3)': np.exp(X_train[:, 2]), \n",
    "        'x_1^3': np.power(X_train[:, 0], 3), \n",
    "        '-x_4': -X_train[:, 3], \n",
    "        'y_1': Y_train[:, 0], \n",
    "        'y_2': Y_train[:, 1], \n",
    "        'y_3': Y_train[:, 2]\n",
    "    }\n",
    ").corr()\n",
    "\n",
    "display(\n",
    "    data_df_corr.iloc[:2, 2:].style.background_gradient(cmap=corr_cmap).format(precision=2)\n",
    ")\n",
    "\n",
    "print('This pair reveals the correlation y_1=exp(x_3)')"
   ]
  },
  {
   "cell_type": "markdown",
   "id": "c1a8d870",
   "metadata": {},
   "source": [
    "## 2.3. Solve CCA with Minor Improvements\n",
    "\n",
    "For this sub-section, we can make some minor improvements to the scripts to see if we can obtain better correlation."
   ]
  },
  {
   "cell_type": "code",
   "execution_count": 25,
   "id": "27c75aac",
   "metadata": {},
   "outputs": [],
   "source": [
    "def manual_gaussian_kcca_fit_n_score_improved(\n",
    "    X_train, X_test, Y_train, Y_test, c1, c2, gamma1, gamma2, \n",
    "    n_components, fixed_gamma=True\n",
    "):\n",
    "    # standardize matrices \n",
    "    X_train_scaler = StandardScaler().fit(X_train)\n",
    "    Y_train_scaler = StandardScaler().fit(Y_train)\n",
    "    \n",
    "    X_train_standardized = X_train_scaler.transform(X_train)\n",
    "    Y_train_standardized = Y_train_scaler.transform(Y_train)\n",
    "    X_test_standardized = X_train_scaler.transform(X_test)\n",
    "    Y_test_standardized = Y_train_scaler.transform(Y_test)\n",
    "    \n",
    "    # fit the model\n",
    "    [_, alpha, beta, gamma1, gamma2, _, _] = gaussian_cca(\n",
    "        X_train_standardized, Y_train_standardized, \n",
    "        c1, c2, gamma1, gamma2, n_components, fixed_gamma\n",
    "    )\n",
    "    \n",
    "    # map the test datasets\n",
    "    Kx_test = rbf_kernel(X_test_standardized, X_train_standardized, gamma1)\n",
    "    Ky_test = rbf_kernel(Y_test_standardized, Y_train_standardized, gamma2)\n",
    "        \n",
    "    # score on the test datasets\n",
    "    # note: over here, we only take the first component\n",
    "    Xc_test = Kx_test.dot(alpha[:, 0])\n",
    "    Yc_test = Ky_test.dot(beta[:, 0])\n",
    "    score = cosine_similarity(\n",
    "        Xc_test.reshape(1, -1), \n",
    "        Yc_test.reshape(1, -1)\n",
    "    )[0][0]\n",
    "    \n",
    "    return score"
   ]
  },
  {
   "cell_type": "code",
   "execution_count": 26,
   "id": "7e325931",
   "metadata": {},
   "outputs": [],
   "source": [
    "# create Bunch\n",
    "manual_kcca_improved_bunch = Bunch()\n",
    "manual_kcca_improved_bunch.name = 'manual kcca improved'"
   ]
  },
  {
   "cell_type": "code",
   "execution_count": 27,
   "id": "17e2433c",
   "metadata": {},
   "outputs": [
    {
     "data": {
      "application/vnd.jupyter.widget-view+json": {
       "model_id": "96068ce5f9104c68ad032dcb02e8ba43",
       "version_major": 2,
       "version_minor": 0
      },
      "text/plain": [
       "  0%|          | 0/14 [00:00<?, ?it/s]"
      ]
     },
     "metadata": {},
     "output_type": "display_data"
    }
   ],
   "source": [
    "# parameter grid\n",
    "manual_kcca_improved_bunch.c1_arr = np.arange(0.2, 1.5+0.1, 0.1)\n",
    "manual_kcca_improved_bunch.c2_arr = np.arange(0.2, 1.5+0.1, 0.1)\n",
    "manual_kcca_improved_bunch.gamma1 = gamma_X\n",
    "manual_kcca_improved_bunch.gamma2 = gamma_Y\n",
    "manual_kcca_improved_bunch.n_components = 10\n",
    "manual_kcca_improved_bunch.fixed_gamma = False\n",
    "\n",
    "# try to find only c1 and c2\n",
    "manual_kcca_improved_bunch.score_arr_all = np.zeros((\n",
    "    manual_kcca_improved_bunch.c1_arr.size, \n",
    "    manual_kcca_improved_bunch.c2_arr.size, \n",
    "    n_repeats*n_splits\n",
    "))\n",
    "\n",
    "for c1_i, c1 in enumerate(tqdm(manual_kcca_improved_bunch.c1_arr)):\n",
    "    for c2_i, c2 in enumerate(manual_kcca_improved_bunch.c2_arr):\n",
    "        manual_kcca_improved_bunch.score_arr_all[c1_i, c2_i, :] = custom_cv(\n",
    "            RepeatedKFold(\n",
    "                n_splits=n_splits, \n",
    "                n_repeats=n_repeats, \n",
    "                random_state=rs_num\n",
    "            ), \n",
    "            X_train, Y_train, \n",
    "            manual_gaussian_kcca_fit_n_score_improved, \n",
    "            c1, c2, \n",
    "            manual_kcca_improved_bunch.gamma1, \n",
    "            manual_kcca_improved_bunch.gamma2, \n",
    "            manual_kcca_improved_bunch.n_components, \n",
    "            manual_kcca_improved_bunch.fixed_gamma\n",
    "        ).copy()\n",
    "\n",
    "manual_kcca_improved_bunch.score_arr = np.nanmean(manual_kcca_improved_bunch.score_arr_all, 2)"
   ]
  },
  {
   "cell_type": "code",
   "execution_count": 28,
   "id": "070abb24",
   "metadata": {},
   "outputs": [
    {
     "data": {
      "image/png": "[encoded data removed]",
      "text/plain": [
       "<Figure size 500x400 with 2 Axes>"
      ]
     },
     "metadata": {},
     "output_type": "display_data"
    }
   ],
   "source": [
    "fig, ax = plt.subplots(figsize=(5, 4))\n",
    "\n",
    "viz_c1c2_cc_values(\n",
    "    ax, manual_kcca_improved_bunch.c1_arr, manual_kcca_improved_bunch.c2_arr, \n",
    "    manual_kcca_improved_bunch.score_arr, n_repeats, n_splits\n",
    ")\n",
    "\n",
    "fig.tight_layout()"
   ]
  },
  {
   "cell_type": "code",
   "execution_count": 30,
   "id": "335d8d17",
   "metadata": {},
   "outputs": [
    {
     "name": "stdout",
     "output_type": "stream",
     "text": [
      "The c1 optimal is 0.40 and the c2 optimal is 0.40\n"
     ]
    }
   ],
   "source": [
    "# find optimal c1 & c2\n",
    "argmax_ind = np.unravel_index(\n",
    "    manual_kcca_improved_bunch.score_arr.argmax(), \n",
    "    np.array(manual_kcca_improved_bunch.score_arr).shape\n",
    ")\n",
    "manual_kcca_improved_bunch.c1_opt = manual_kcca_improved_bunch.c1_arr[argmax_ind[0]]\n",
    "manual_kcca_improved_bunch.c2_opt = manual_kcca_improved_bunch.c2_arr[argmax_ind[1]]\n",
    "\n",
    "print('The c1 optimal is {:.2f} and the c2 optimal is {:.2f}'.format(\n",
    "    manual_kcca_improved_bunch.c1_opt, manual_kcca_improved_bunch.c2_opt\n",
    "))"
   ]
  },
  {
   "cell_type": "code",
   "execution_count": 31,
   "id": "7d8c2c60",
   "metadata": {},
   "outputs": [],
   "source": [
    "manual_kcca_improved_bunch.fixed_gamma = True\n",
    "manual_kcca_improved_bunch.n_components = 3\n",
    "\n",
    "[manual_kcca_improved_bunch.cc_arr, \n",
    " manual_kcca_improved_bunch.alpha, \n",
    " manual_kcca_improved_bunch.beta, \n",
    " manual_kcca_improved_bunch.Xc, \n",
    " manual_kcca_improved_bunch.Yc] = compute_cc_arr(\n",
    "    X_train, Y_train, \n",
    "    manual_kcca_improved_bunch.c1_opt, \n",
    "    manual_kcca_improved_bunch.c2_opt, \n",
    "    gamma_X, gamma_Y, \n",
    "    manual_kcca_improved_bunch.n_components, \n",
    "    manual_kcca_improved_bunch.fixed_gamma\n",
    ")"
   ]
  },
  {
   "cell_type": "code",
   "execution_count": 32,
   "id": "1d801383",
   "metadata": {},
   "outputs": [
    {
     "name": "stdout",
     "output_type": "stream",
     "text": [
      "The cc array computed with some minor improvements is:\n",
      "[0.95858 0.90634 0.89176]\n",
      "  where the cc array computed by the example MATLAB codes:\n",
      "[0.9515  0.88578 0.82154]\n"
     ]
    }
   ],
   "source": [
    "print('The cc array computed with some minor improvements is:')\n",
    "print(np.array_str(manual_kcca_improved_bunch.cc_arr, precision=5))\n",
    "print('  where the cc array computed by the example MATLAB codes:')\n",
    "print(np.array_str(\n",
    "    np.array([0.9515039399, 0.8857752621, 0.8215406102]), \n",
    "    precision=5\n",
    "))"
   ]
  },
  {
   "cell_type": "markdown",
   "id": "c83e85ab",
   "metadata": {},
   "source": [
    "Looks better!"
   ]
  },
  {
   "cell_type": "code",
   "execution_count": null,
   "id": "d1e39d05",
   "metadata": {},
   "outputs": [],
   "source": []
  }
 ],
 "metadata": {
  "kernelspec": {
   "display_name": "Python 3 (ipykernel)",
   "language": "python",
   "name": "python3"
  },
  "language_info": {
   "codemirror_mode": {
    "name": "ipython",
    "version": 3
   },
   "file_extension": ".py",
   "mimetype": "text/x-python",
   "name": "python",
   "nbconvert_exporter": "python",
   "pygments_lexer": "ipython3",
   "version": "3.8.13"
  }
 },
 "nbformat": 4,
 "nbformat_minor": 5
}
