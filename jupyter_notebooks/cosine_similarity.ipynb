{
 "cells": [
  {
   "cell_type": "markdown",
   "id": "35d7d641",
   "metadata": {},
   "source": [
    "# 0. About\n",
    "\n",
    "This notebook is to explore the `cosine_similarity` in sklearn."
   ]
  },
  {
   "cell_type": "code",
   "execution_count": 1,
   "id": "72546659",
   "metadata": {},
   "outputs": [],
   "source": [
    "import numpy as np\n",
    "from matplotlib import pyplot as plt\n",
    "\n",
    "from sklearn.metrics.pairwise import cosine_similarity\n",
    "\n",
    "rs_num = 10\n",
    "rng = np.random.default_rng(rs_num)"
   ]
  },
  {
   "cell_type": "markdown",
   "id": "f1b0761d",
   "metadata": {},
   "source": [
    "# 1. Dataset Construction"
   ]
  },
  {
   "cell_type": "code",
   "execution_count": 2,
   "id": "38804f9f",
   "metadata": {},
   "outputs": [],
   "source": [
    "# the dimensionality for both matrices\n",
    "dim_num = 3 \n",
    "\n",
    "# sample numbers\n",
    "A_sample_num = 2\n",
    "B_sample_num = 3\n",
    "\n",
    "# construct matrices\n",
    "A = rng.normal(0.0, 1.0, (A_sample_num, dim_num))\n",
    "B = rng.normal(0.0, 1.0, (B_sample_num, dim_num))"
   ]
  },
  {
   "cell_type": "markdown",
   "id": "8733bfcc",
   "metadata": {},
   "source": [
    "# 2. Compute Cosine Similarity\n",
    "\n",
    "For both inputs, the shape should be `(n_samples, n_features)`, where the output kernel matrix would have shape `(n_samples_A, n_samples_B)`"
   ]
  },
  {
   "cell_type": "code",
   "execution_count": 3,
   "id": "516ff1f5",
   "metadata": {},
   "outputs": [
    {
     "name": "stdout",
     "output_type": "stream",
     "text": [
      "A shape: (2, 3)\n",
      "B shape: (3, 3)\n"
     ]
    }
   ],
   "source": [
    "print('A shape:', A.shape)\n",
    "print('B shape:', B.shape)"
   ]
  },
  {
   "cell_type": "code",
   "execution_count": 4,
   "id": "210e8b2d",
   "metadata": {},
   "outputs": [
    {
     "name": "stdout",
     "output_type": "stream",
     "text": [
      "cosine_similarity: \n",
      "[[-0.9694305   0.91431303  0.74275982]\n",
      " [ 0.14401097 -0.07722639 -0.50670406]]\n"
     ]
    }
   ],
   "source": [
    "print('cosine_similarity: ')\n",
    "print(cosine_similarity(A, B))"
   ]
  },
  {
   "cell_type": "code",
   "execution_count": 5,
   "id": "2e0b669d",
   "metadata": {},
   "outputs": [
    {
     "name": "stdout",
     "output_type": "stream",
     "text": [
      "For No.1 sample from A and No.1 sample from B, the cosine similarity is:\n",
      "   -0.9694304974733258\n",
      "For No.1 sample from A and No.2 sample from B, the cosine similarity is:\n",
      "   0.9143130302775656\n",
      "For No.1 sample from A and No.3 sample from B, the cosine similarity is:\n",
      "   0.7427598240016121\n",
      "For No.2 sample from A and No.1 sample from B, the cosine similarity is:\n",
      "   0.14401097449553169\n",
      "For No.2 sample from A and No.2 sample from B, the cosine similarity is:\n",
      "   -0.077226387303547\n",
      "For No.2 sample from A and No.3 sample from B, the cosine similarity is:\n",
      "   -0.5067040646651788\n"
     ]
    }
   ],
   "source": [
    "for A_sample_i in range(A_sample_num):\n",
    "    for B_sample_i in range(B_sample_num):\n",
    "        print(\n",
    "            'For No.{} sample from A and No.{} sample from B, the cosine similarity is:'.format(\n",
    "                A_sample_i+1, B_sample_i+1\n",
    "            )\n",
    "        )\n",
    "        print(\n",
    "            '  ', \n",
    "            cosine_similarity(\n",
    "                A[A_sample_i, :].reshape(1, -1), \n",
    "                B[B_sample_i, :].reshape(1, -1)\n",
    "            )[0][0]\n",
    "        )"
   ]
  },
  {
   "cell_type": "code",
   "execution_count": null,
   "id": "1b69d4e9",
   "metadata": {},
   "outputs": [],
   "source": []
  }
 ],
 "metadata": {
  "kernelspec": {
   "display_name": "Python 3 (ipykernel)",
   "language": "python",
   "name": "python3"
  },
  "language_info": {
   "codemirror_mode": {
    "name": "ipython",
    "version": 3
   },
   "file_extension": ".py",
   "mimetype": "text/x-python",
   "name": "python",
   "nbconvert_exporter": "python",
   "pygments_lexer": "ipython3",
   "version": "3.8.13"
  }
 },
 "nbformat": 4,
 "nbformat_minor": 5
}
