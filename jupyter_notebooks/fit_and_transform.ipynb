{
 "cells": [
  {
   "cell_type": "markdown",
   "id": "877c9911",
   "metadata": {},
   "source": [
    "# 0. About\n",
    "\n",
    "This notebook is to explore the `fit()` and `transform()` methods of the transformer from the data preprocessing.\n",
    "One of the refs can be found here:\n",
    "https://www.analyticsvidhya.com/blog/2021/04/difference-between-fit-transform-fit_transform-methods-in-scikit-learn-with-python-code/"
   ]
  },
  {
   "cell_type": "code",
   "execution_count": 1,
   "id": "b8b4b79b",
   "metadata": {},
   "outputs": [],
   "source": [
    "import numpy as np\n",
    "from matplotlib import pyplot as plt\n",
    "from sklearn import preprocessing\n",
    "\n",
    "import os\n",
    "import time"
   ]
  },
  {
   "cell_type": "markdown",
   "id": "645af742",
   "metadata": {},
   "source": [
    "# 1. Loading Data"
   ]
  },
  {
   "cell_type": "code",
   "execution_count": 5,
   "id": "64c16753",
   "metadata": {},
   "outputs": [],
   "source": [
    "# find where the data is stored\n",
    "repo_path = os.path.dirname(os.getcwd())\n",
    "data_path = repo_path + '\\\\data\\\\GP_regression\\\\' # borrowed from GP regression"
   ]
  },
  {
   "cell_type": "code",
   "execution_count": 9,
   "id": "532a72bf",
   "metadata": {},
   "outputs": [],
   "source": [
    "# import data\n",
    "one_feature_data_arr = np.genfromtxt(data_path+\"generated_one_feature_data.csv\", delimiter=',')\n",
    "one_feature_data = {\n",
    "    \"data_num\": one_feature_data_arr.shape[0], \n",
    "    \"x_train\": one_feature_data_arr[:, 0].reshape(-1, 1), \n",
    "    \"y_train\": one_feature_data_arr[:, 1].reshape(-1, 1), \n",
    "    \"std_y_train\": one_feature_data_arr[:, 2].flatten()\n",
    "}\n",
    "\n",
    "del one_feature_data_arr"
   ]
  },
  {
   "cell_type": "markdown",
   "id": "223a210e",
   "metadata": {},
   "source": [
    "# 2. Fit and Transform"
   ]
  },
  {
   "cell_type": "markdown",
   "id": "cbdde3af",
   "metadata": {},
   "source": [
    "Instantiating the standardization class first."
   ]
  },
  {
   "cell_type": "code",
   "execution_count": 16,
   "id": "c268447f",
   "metadata": {},
   "outputs": [
    {
     "ename": "AttributeError",
     "evalue": "'StandardScaler' object has no attribute 'scale_'",
     "output_type": "error",
     "traceback": [
      "\u001b[1;31m---------------------------------------------------------------------------\u001b[0m",
      "\u001b[1;31mAttributeError\u001b[0m                            Traceback (most recent call last)",
      "Input \u001b[1;32mIn [16]\u001b[0m, in \u001b[0;36m<cell line: 2>\u001b[1;34m()\u001b[0m\n\u001b[0;32m      1\u001b[0m scaler \u001b[38;5;241m=\u001b[39m preprocessing\u001b[38;5;241m.\u001b[39mStandardScaler()\n\u001b[1;32m----> 2\u001b[0m \u001b[38;5;28mprint\u001b[39m(\u001b[43mscaler\u001b[49m\u001b[38;5;241;43m.\u001b[39;49m\u001b[43mscale_\u001b[49m)\n",
      "\u001b[1;31mAttributeError\u001b[0m: 'StandardScaler' object has no attribute 'scale_'"
     ]
    }
   ],
   "source": [
    "scaler = preprocessing.StandardScaler()\n",
    "print(scaler.scale_)"
   ]
  },
  {
   "cell_type": "markdown",
   "id": "7732dc06",
   "metadata": {},
   "source": [
    "As one may see, the object has no attribute of the `scale_`, i.e. standard deviation of the training data.\n",
    "\n",
    "Now we can compute it, by providing dataset to the object."
   ]
  },
  {
   "cell_type": "code",
   "execution_count": 18,
   "id": "24754a7f",
   "metadata": {
    "scrolled": true
   },
   "outputs": [
    {
     "name": "stdout",
     "output_type": "stream",
     "text": [
      "std is:\n",
      "[1.51712447]\n",
      "mean is:\n",
      "[2.6]\n"
     ]
    }
   ],
   "source": [
    "scaler.fit(one_feature_data['x_train'])\n",
    "print('std is:')\n",
    "print(scaler.scale_)\n",
    "print('mean is:')\n",
    "print(scaler.mean_)"
   ]
  },
  {
   "cell_type": "markdown",
   "id": "5311fbec",
   "metadata": {},
   "source": [
    "After the `fit()` method, we can apply the `transform()` method, as we wish to standardize the dataset."
   ]
  },
  {
   "cell_type": "code",
   "execution_count": 19,
   "id": "61a60e6a",
   "metadata": {},
   "outputs": [],
   "source": [
    "x_new = scaler.transform(one_feature_data['x_train'])"
   ]
  },
  {
   "cell_type": "code",
   "execution_count": 28,
   "id": "c65fc215",
   "metadata": {},
   "outputs": [
    {
     "data": {
      "image/png": "[encoded data removed]",
      "text/plain": [
       "<Figure size 432x288 with 1 Axes>"
      ]
     },
     "metadata": {
      "needs_background": "light"
     },
     "output_type": "display_data"
    }
   ],
   "source": [
    "# visualization of both datasets\n",
    "x_both = np.zeros((one_feature_data['data_num'], 2))\n",
    "x_both[:, 0] = one_feature_data['x_train'].flatten()\n",
    "x_both[:, 1] = x_new.flatten()\n",
    "\n",
    "plt.boxplot(x_both)\n",
    "plt.xticks([1, 2], ['original data', 'transformed data']);"
   ]
  },
  {
   "cell_type": "markdown",
   "id": "e317807e",
   "metadata": {},
   "source": [
    "Also, the method `fit_transform()` can do both operation"
   ]
  },
  {
   "cell_type": "code",
   "execution_count": 31,
   "id": "7fa61520",
   "metadata": {},
   "outputs": [
    {
     "name": "stdout",
     "output_type": "stream",
     "text": [
      "The difference between two new datasets is:\n",
      "0.0\n"
     ]
    }
   ],
   "source": [
    "x_new_new = preprocessing.StandardScaler().fit_transform(one_feature_data['x_train'])\n",
    "print('The difference between two new datasets is:')\n",
    "print(np.linalg.norm(x_new_new-x_new))"
   ]
  },
  {
   "cell_type": "code",
   "execution_count": null,
   "id": "2b4fc267",
   "metadata": {},
   "outputs": [],
   "source": []
  }
 ],
 "metadata": {
  "kernelspec": {
   "display_name": "Python 3 (ipykernel)",
   "language": "python",
   "name": "python3"
  },
  "language_info": {
   "codemirror_mode": {
    "name": "ipython",
    "version": 3
   },
   "file_extension": ".py",
   "mimetype": "text/x-python",
   "name": "python",
   "nbconvert_exporter": "python",
   "pygments_lexer": "ipython3",
   "version": "3.8.12"
  }
 },
 "nbformat": 4,
 "nbformat_minor": 5
}
