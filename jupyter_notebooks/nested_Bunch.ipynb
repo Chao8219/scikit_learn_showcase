{
 "cells": [
  {
   "cell_type": "markdown",
   "id": "c2d0bf4a",
   "metadata": {},
   "source": [
    "# About\n",
    "\n",
    "If we can create one sklearn Bunch object, can we create nested Bunch object, and save them with numpy?"
   ]
  },
  {
   "cell_type": "code",
   "execution_count": 1,
   "id": "8ebdc16c",
   "metadata": {},
   "outputs": [],
   "source": [
    "from sklearn.utils import Bunch\n",
    "import numpy as np"
   ]
  },
  {
   "cell_type": "markdown",
   "id": "ecbb40ab",
   "metadata": {},
   "source": [
    "# Instantiate Class"
   ]
  },
  {
   "cell_type": "code",
   "execution_count": 2,
   "id": "968a194e",
   "metadata": {},
   "outputs": [],
   "source": [
    "bunch_obj = Bunch()\n",
    "bunch_obj.bunch_obj = Bunch()\n",
    "bunch_obj.bunch_obj.bunch_obj = Bunch()\n",
    "bunch_obj.bunch_obj.bunch_obj.bunch_obj = Bunch()\n",
    "bunch_obj.bunch_obj.bunch_obj.bunch_obj.some_arr = np.array(([1, 2], [3, 1]))"
   ]
  },
  {
   "cell_type": "code",
   "execution_count": 3,
   "id": "782d5e99",
   "metadata": {},
   "outputs": [
    {
     "name": "stdout",
     "output_type": "stream",
     "text": [
      "{'bunch_obj': {'bunch_obj': {'bunch_obj': {'some_arr': array([[1, 2],\n",
      "       [3, 1]])}}}}\n"
     ]
    }
   ],
   "source": [
    "print(bunch_obj)"
   ]
  },
  {
   "cell_type": "markdown",
   "id": "8a9cc343",
   "metadata": {},
   "source": [
    "# Save & Load"
   ]
  },
  {
   "cell_type": "code",
   "execution_count": 4,
   "id": "21b55f75",
   "metadata": {},
   "outputs": [],
   "source": [
    "file_name = 'nested_Bunch.npz'\n",
    "np.savez(file_name, bunch_obj=bunch_obj)"
   ]
  },
  {
   "cell_type": "code",
   "execution_count": 5,
   "id": "b7a7863b",
   "metadata": {},
   "outputs": [
    {
     "name": "stdout",
     "output_type": "stream",
     "text": [
      "{'bunch_obj': {'bunch_obj': {'bunch_obj': {'some_arr': array([[1, 2],\n",
      "       [3, 1]])}}}}\n"
     ]
    }
   ],
   "source": [
    "with np.load(file_name, allow_pickle=True) as npz_file:\n",
    "    loaded_bunch_obj = npz_file['bunch_obj'][()]\n",
    "\n",
    "print(loaded_bunch_obj)"
   ]
  },
  {
   "cell_type": "code",
   "execution_count": null,
   "id": "c8c722bc",
   "metadata": {},
   "outputs": [],
   "source": []
  }
 ],
 "metadata": {
  "kernelspec": {
   "display_name": "Python 3 (ipykernel)",
   "language": "python",
   "name": "python3"
  },
  "language_info": {
   "codemirror_mode": {
    "name": "ipython",
    "version": 3
   },
   "file_extension": ".py",
   "mimetype": "text/x-python",
   "name": "python",
   "nbconvert_exporter": "python",
   "pygments_lexer": "ipython3",
   "version": "3.8.13"
  }
 },
 "nbformat": 4,
 "nbformat_minor": 5
}
