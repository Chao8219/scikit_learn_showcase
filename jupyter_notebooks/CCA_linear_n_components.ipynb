{
 "cells": [
  {
   "cell_type": "markdown",
   "id": "92a9c3b7",
   "metadata": {},
   "source": [
    "# 0. About\n",
    "\n",
    "This notebook is to see how the components number, i.e. `n_components`, would affect the linear regression performance."
   ]
  },
  {
   "cell_type": "code",
   "execution_count": 1,
   "id": "b7490c0c",
   "metadata": {},
   "outputs": [],
   "source": [
    "import numpy as np\n",
    "from matplotlib import pyplot as plt\n",
    "import seaborn as sns\n",
    "import pandas as pd\n",
    "import scipy\n",
    "import warnings\n",
    "\n",
    "import sklearn\n",
    "from sklearn.pipeline import Pipeline\n",
    "from sklearn.preprocessing import StandardScaler\n",
    "from sklearn.decomposition import PCA\n",
    "from sklearn.model_selection import train_test_split, cross_validate\n",
    "from sklearn.model_selection import RepeatedKFold, GridSearchCV\n",
    "from sklearn.linear_model import LinearRegression\n",
    "from sklearn.cross_decomposition import CCA, PLSCanonical\n",
    "from sklearn.utils import Bunch\n",
    "\n",
    "rs_num = 14\n",
    "rng = np.random.default_rng(rs_num)\n",
    "\n",
    "sklearn.set_config(display=\"diagram\")\n",
    "\n",
    "%matplotlib inline"
   ]
  },
  {
   "cell_type": "markdown",
   "id": "f97d2c11",
   "metadata": {},
   "source": [
    "# 1. Dataset Construction"
   ]
  },
  {
   "cell_type": "code",
   "execution_count": 2,
   "id": "153a2b45",
   "metadata": {},
   "outputs": [],
   "source": [
    "sample_num = 350\n",
    "X_dimension_num = 5\n",
    "Y_dimension_num = 4\n",
    "\n",
    "# construct X\n",
    "X = rng.normal(loc=0.0, scale=1.0, size=(sample_num, X_dimension_num))\n",
    "\n",
    "# construct noise\n",
    "xi_1 = rng.normal(loc=0, scale=np.sqrt(0.2), size=(sample_num, ))\n",
    "xi_2 = rng.normal(loc=0, scale=np.sqrt(0.4), size=(sample_num, ))\n",
    "xi_3 = rng.normal(loc=0, scale=np.sqrt(0.3), size=(sample_num, ))\n",
    "xi_4 = rng.normal(loc=0, scale=np.sqrt(0.1), size=(sample_num, ))\n",
    "\n",
    "# construct Y\n",
    "Y = np.zeros((sample_num, Y_dimension_num))\n",
    "Y[:, 0] = X[:, 2] + xi_1\n",
    "Y[:, 1] = X[:, 0] + xi_2\n",
    "Y[:, 2] = -X[:, 3] + xi_3\n",
    "Y[:, 3] = -X[:, 1] - xi_4"
   ]
  },
  {
   "cell_type": "code",
   "execution_count": 3,
   "id": "adcbb0e9",
   "metadata": {},
   "outputs": [],
   "source": [
    "# some numbers for validation\n",
    "n_splits = 5\n",
    "n_repeats = 5"
   ]
  },
  {
   "cell_type": "code",
   "execution_count": 4,
   "id": "4b4741b0",
   "metadata": {},
   "outputs": [],
   "source": [
    "# split dataset into training and testing\n",
    "[X_train, X_test, Y_train, Y_test] = train_test_split(\n",
    "    X, Y, test_size=0.20, random_state=rs_num\n",
    ")"
   ]
  },
  {
   "cell_type": "markdown",
   "id": "181979e8",
   "metadata": {},
   "source": [
    "# 2. Baseline\n",
    "\n",
    "For this one, we just apply standardization, and trian with the linear regression."
   ]
  },
  {
   "cell_type": "code",
   "execution_count": 5,
   "id": "f71405d4",
   "metadata": {},
   "outputs": [],
   "source": [
    "baseline_bunch = Bunch()\n",
    "baseline_bunch.name = 'baseline'\n",
    "\n",
    "baseline_bunch.pipeline = Pipeline(\n",
    "    [\n",
    "        ('scaler', StandardScaler()), \n",
    "        ('lr', LinearRegression())\n",
    "    ]\n",
    ")\n",
    "\n",
    "baseline_bunch.cv_scores = cross_validate(\n",
    "    baseline_bunch.pipeline, X_train, Y_train, \n",
    "    cv=RepeatedKFold(n_splits=5, n_repeats=5, random_state=rs_num)\n",
    ")['test_score']\n",
    "\n",
    "# also train on the whole training dataset, and see the score on the test dataset\n",
    "baseline_bunch.pipeline.fit(X_train, Y_train)\n",
    "\n",
    "# modal evaluation on the test dataset\n",
    "baseline_bunch.eval_score = baseline_bunch.pipeline.score(X_test, Y_test)"
   ]
  },
  {
   "cell_type": "markdown",
   "id": "4aeefd79",
   "metadata": {},
   "source": [
    "# 3. CCA with different `n_components`"
   ]
  },
  {
   "cell_type": "code",
   "execution_count": 6,
   "id": "06dadb27",
   "metadata": {},
   "outputs": [],
   "source": [
    "# create a customized cross-validation method\n",
    "def custom_cv(validator, X, Y, fit_n_score_func, *args):\n",
    "    # note: normally X and Y are already training datasets\n",
    "    \n",
    "    # construct score array\n",
    "    score_arr = np.zeros((validator.get_n_splits(), ))\n",
    "    \n",
    "    # fit and validate\n",
    "    ii = 0\n",
    "    for train_ind, test_ind in validator.split(X):\n",
    "        # slicing arrays\n",
    "        X_train, X_test = X[train_ind], X[test_ind]\n",
    "        Y_train, Y_test = Y[train_ind], Y[test_ind]\n",
    "        \n",
    "        # train the model and get the score\n",
    "        score_arr[ii] = fit_n_score_func(X_train, X_test, Y_train, Y_test, *args)\n",
    "        ii += 1\n",
    "    \n",
    "    return score_arr"
   ]
  },
  {
   "cell_type": "code",
   "execution_count": 7,
   "id": "f2b40661",
   "metadata": {},
   "outputs": [],
   "source": [
    "# create a customized pipeline\n",
    "def sklearn_cca_fit_n_score(X_train, X_test, Y_train, Y_test, n_components, max_iter, tol):\n",
    "    # fitting the model\n",
    "    cca = CCA(n_components=n_components, max_iter=max_iter, tol=tol).fit(X_train, Y_train)\n",
    "    \n",
    "    # transform the model\n",
    "    Xc_train, Yc_train = cca.transform(X_train, Y_train)\n",
    "    Xc_test, Yc_test = cca.transform(X_test, Y_test)\n",
    "    \n",
    "    # train with linear regression and get a score\n",
    "    return LinearRegression().fit(Xc_train, Yc_train).score(Xc_test, Yc_test)"
   ]
  },
  {
   "cell_type": "code",
   "execution_count": 8,
   "id": "9efe019a",
   "metadata": {},
   "outputs": [],
   "source": [
    "# some constants for cca\n",
    "max_iter = int(1e12)\n",
    "tol = 1e-12\n",
    "\n",
    "n_components_arr = np.arange(1, np.min([X_dimension_num, Y_dimension_num])+1)\n",
    "cca_bunch_list = [None] * n_components_arr.size\n",
    "\n",
    "for i, n_components in enumerate(n_components_arr):\n",
    "    cca_bunch_list[i] = Bunch()\n",
    "    cca_bunch_list[i].name = 'n={}'.format(n_components)\n",
    "    \n",
    "    rkf = RepeatedKFold(\n",
    "        n_splits=n_splits, n_repeats=n_repeats, random_state=rs_num\n",
    "    )\n",
    "    \n",
    "    # cross-validation\n",
    "    cca_bunch_list[i].cv_scores = custom_cv(\n",
    "        rkf, X_train, Y_train, \n",
    "        sklearn_cca_fit_n_score, \n",
    "        n_components, max_iter, tol\n",
    "    )\n",
    "    \n",
    "    # evaluate on test datasets\n",
    "    cca_bunch_list[i].eval_score = sklearn_cca_fit_n_score(\n",
    "        X_train, X_test, Y_train, Y_test, \n",
    "        n_components, max_iter, tol\n",
    "    )"
   ]
  },
  {
   "cell_type": "code",
   "execution_count": 9,
   "id": "462eaddd",
   "metadata": {},
   "outputs": [
    {
     "data": {
      "image/png": "[encoded data removed]",
      "text/plain": [
       "<Figure size 640x480 with 1 Axes>"
      ]
     },
     "metadata": {},
     "output_type": "display_data"
    }
   ],
   "source": [
    "# put everything in one list\n",
    "bunch_list_all = [baseline_bunch] + cca_bunch_list\n",
    "\n",
    "# visualize model evaluation\n",
    "viz_labels = []\n",
    "viz_boxplots = []\n",
    "viz_eval_scores = []\n",
    "viz_eval_scores_pos = []\n",
    "\n",
    "for i, bunch in enumerate(bunch_list_all):\n",
    "    viz_labels.append(bunch.name)\n",
    "    viz_boxplots.append(bunch.cv_scores)\n",
    "    viz_eval_scores.append(bunch.eval_score)\n",
    "    viz_eval_scores_pos.append(i+1)\n",
    "\n",
    "# visualization\n",
    "fig, ax = plt.subplots()\n",
    "\n",
    "ax.boxplot(\n",
    "    viz_boxplots, \n",
    "    labels=viz_labels\n",
    ")\n",
    "ax.scatter(\n",
    "    viz_eval_scores_pos, \n",
    "    viz_eval_scores,  \n",
    "    fc='none',\n",
    "    ec='blue', \n",
    "    marker='^', \n",
    "    label='scores on test dataset'\n",
    ")\n",
    "\n",
    "ax.set(\n",
    "    xlabel='Component Number n', ylabel='Scores', \n",
    "    title='RepeatedKFold CV\\n'+'X_dim: {}, Y_dim: {}'.format(\n",
    "        X_dimension_num, Y_dimension_num\n",
    "    )\n",
    ")\n",
    "ax.set_xticklabels(viz_labels, rotation=0)\n",
    "ax.legend(\n",
    "    loc='upper center',\n",
    "    bbox_to_anchor=(0.5, -0.15),\n",
    "    fancybox=True,\n",
    "    shadow=True,\n",
    "    ncol=2,\n",
    "    fontsize='small'\n",
    ")\n",
    "\n",
    "plt.tight_layout()"
   ]
  },
  {
   "cell_type": "code",
   "execution_count": null,
   "id": "5577748d",
   "metadata": {},
   "outputs": [],
   "source": []
  }
 ],
 "metadata": {
  "kernelspec": {
   "display_name": "Python 3 (ipykernel)",
   "language": "python",
   "name": "python3"
  },
  "language_info": {
   "codemirror_mode": {
    "name": "ipython",
    "version": 3
   },
   "file_extension": ".py",
   "mimetype": "text/x-python",
   "name": "python",
   "nbconvert_exporter": "python",
   "pygments_lexer": "ipython3",
   "version": "3.8.13"
  }
 },
 "nbformat": 4,
 "nbformat_minor": 5
}
